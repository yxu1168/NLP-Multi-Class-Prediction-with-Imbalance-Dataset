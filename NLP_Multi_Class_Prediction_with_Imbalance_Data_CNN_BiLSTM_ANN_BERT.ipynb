{
  "nbformat": 4,
  "nbformat_minor": 0,
  "metadata": {
    "colab": {
      "name": "NLP Multi-Class Prediction with Imbalance Data_CNN/BiLSTM_ANN_BERT.ipynb",
      "provenance": [],
      "collapsed_sections": []
    },
    "kernelspec": {
      "name": "python3",
      "display_name": "Python 3"
    },
    "language_info": {
      "name": "python"
    },
    "accelerator": "GPU"
  },
  "cells": [
    {
      "cell_type": "markdown",
      "source": [
        "## This Notebook build three neural networks to solve NLP multi-Class prediction problem with imbalance data.\n",
        "### 1. CNN + Bidirectional LSTM neural network. \n",
        "### 2. ANN with 3 dense layers.\n",
        "### 3. Bert. Pre-trained model from tensorflow hub: small_bert/bert_en_uncased_L-2_H-512_A-8/1.\n",
        "\n",
        "## Data is downloaded from this public GitHub repo:\n",
        "\n",
        "https://github.com/MarletteFunding/marlette-ds-challenge2"
      ],
      "metadata": {
        "id": "0OuTF4KbPXI-"
      }
    },
    {
      "cell_type": "markdown",
      "source": [
        "# **1. Build CNN/BiLSTM Neural Network**\n",
        "## Evaluation by Document_ID"
      ],
      "metadata": {
        "id": "FBF59T1MF2bl"
      }
    },
    {
      "cell_type": "code",
      "metadata": {
        "id": "eO1KVscn5KiC",
        "colab": {
          "base_uri": "https://localhost:8080/"
        },
        "outputId": "e7699668-c724-47d6-95e0-1b1493ffea2b"
      },
      "source": [
        "from google.colab import drive\n",
        "drive.mount('/content/drive')"
      ],
      "execution_count": 1,
      "outputs": [
        {
          "output_type": "stream",
          "name": "stdout",
          "text": [
            "Mounted at /content/drive\n"
          ]
        }
      ]
    },
    {
      "cell_type": "markdown",
      "source": [
        "## Upload data from Google Drive"
      ],
      "metadata": {
        "id": "7xyhuL5xu4hs"
      }
    },
    {
      "cell_type": "code",
      "metadata": {
        "id": "Mkn8XVG5loeW"
      },
      "source": [
        "import pandas as pd # data processing, CSV file I/O (e.g. pd.read_csv)\n",
        "path='/content/drive/My Drive/Data_Sets/'\n",
        "df_train = pd.read_csv(path+'NLP_task_train.csv.zip',header=0,index_col=0,compression='infer')\n",
        "df_validate = pd.read_csv(path+'NLP_task_validate.csv.zip',header=0,index_col=0,compression='infer')"
      ],
      "execution_count": null,
      "outputs": []
    },
    {
      "cell_type": "markdown",
      "source": [
        "## Explore the data, Visulization target (Scores), handle missing data"
      ],
      "metadata": {
        "id": "cGfc8-9q1AOm"
      }
    },
    {
      "cell_type": "code",
      "source": [
        "df_train.head()"
      ],
      "metadata": {
        "colab": {
          "base_uri": "https://localhost:8080/",
          "height": 206
        },
        "id": "lipZTFMy3ocF",
        "outputId": "cf08f5cf-ba2f-48a9-dcc2-16e88ac00763"
      },
      "execution_count": 55,
      "outputs": [
        {
          "output_type": "execute_result",
          "data": {
            "text/html": [
              "\n",
              "  <div id=\"df-0d0d736c-a9d8-4253-9bb4-5c0ca0ee8f3f\">\n",
              "    <div class=\"colab-df-container\">\n",
              "      <div>\n",
              "<style scoped>\n",
              "    .dataframe tbody tr th:only-of-type {\n",
              "        vertical-align: middle;\n",
              "    }\n",
              "\n",
              "    .dataframe tbody tr th {\n",
              "        vertical-align: top;\n",
              "    }\n",
              "\n",
              "    .dataframe thead th {\n",
              "        text-align: right;\n",
              "    }\n",
              "</style>\n",
              "<table border=\"1\" class=\"dataframe\">\n",
              "  <thead>\n",
              "    <tr style=\"text-align: right;\">\n",
              "      <th></th>\n",
              "      <th>DOCUMENT_ID</th>\n",
              "      <th>SENTENCE_ID</th>\n",
              "      <th>SENTENCE</th>\n",
              "      <th>SENTENCE_START_POS</th>\n",
              "      <th>SENTENCE_END_POS</th>\n",
              "      <th>SCORE</th>\n",
              "    </tr>\n",
              "  </thead>\n",
              "  <tbody>\n",
              "    <tr>\n",
              "      <th>0</th>\n",
              "      <td>583306034</td>\n",
              "      <td>1888104</td>\n",
              "      <td>The whole process went smooth and I am thankfu...</td>\n",
              "      <td>109</td>\n",
              "      <td>165</td>\n",
              "      <td>10.0</td>\n",
              "    </tr>\n",
              "    <tr>\n",
              "      <th>1</th>\n",
              "      <td>583306034</td>\n",
              "      <td>1888102</td>\n",
              "      <td>It was quick and easy to apply and got the app...</td>\n",
              "      <td>0</td>\n",
              "      <td>60</td>\n",
              "      <td>10.0</td>\n",
              "    </tr>\n",
              "    <tr>\n",
              "      <th>2</th>\n",
              "      <td>584193040</td>\n",
              "      <td>1909902</td>\n",
              "      <td>service</td>\n",
              "      <td>0</td>\n",
              "      <td>7</td>\n",
              "      <td>10.0</td>\n",
              "    </tr>\n",
              "    <tr>\n",
              "      <th>3</th>\n",
              "      <td>584203035</td>\n",
              "      <td>1910310</td>\n",
              "      <td>Thanks!</td>\n",
              "      <td>198</td>\n",
              "      <td>205</td>\n",
              "      <td>10.0</td>\n",
              "    </tr>\n",
              "    <tr>\n",
              "      <th>4</th>\n",
              "      <td>584200037</td>\n",
              "      <td>1910006</td>\n",
              "      <td>Thank you!</td>\n",
              "      <td>58</td>\n",
              "      <td>68</td>\n",
              "      <td>10.0</td>\n",
              "    </tr>\n",
              "  </tbody>\n",
              "</table>\n",
              "</div>\n",
              "      <button class=\"colab-df-convert\" onclick=\"convertToInteractive('df-0d0d736c-a9d8-4253-9bb4-5c0ca0ee8f3f')\"\n",
              "              title=\"Convert this dataframe to an interactive table.\"\n",
              "              style=\"display:none;\">\n",
              "        \n",
              "  <svg xmlns=\"http://www.w3.org/2000/svg\" height=\"24px\"viewBox=\"0 0 24 24\"\n",
              "       width=\"24px\">\n",
              "    <path d=\"M0 0h24v24H0V0z\" fill=\"none\"/>\n",
              "    <path d=\"M18.56 5.44l.94 2.06.94-2.06 2.06-.94-2.06-.94-.94-2.06-.94 2.06-2.06.94zm-11 1L8.5 8.5l.94-2.06 2.06-.94-2.06-.94L8.5 2.5l-.94 2.06-2.06.94zm10 10l.94 2.06.94-2.06 2.06-.94-2.06-.94-.94-2.06-.94 2.06-2.06.94z\"/><path d=\"M17.41 7.96l-1.37-1.37c-.4-.4-.92-.59-1.43-.59-.52 0-1.04.2-1.43.59L10.3 9.45l-7.72 7.72c-.78.78-.78 2.05 0 2.83L4 21.41c.39.39.9.59 1.41.59.51 0 1.02-.2 1.41-.59l7.78-7.78 2.81-2.81c.8-.78.8-2.07 0-2.86zM5.41 20L4 18.59l7.72-7.72 1.47 1.35L5.41 20z\"/>\n",
              "  </svg>\n",
              "      </button>\n",
              "      \n",
              "  <style>\n",
              "    .colab-df-container {\n",
              "      display:flex;\n",
              "      flex-wrap:wrap;\n",
              "      gap: 12px;\n",
              "    }\n",
              "\n",
              "    .colab-df-convert {\n",
              "      background-color: #E8F0FE;\n",
              "      border: none;\n",
              "      border-radius: 50%;\n",
              "      cursor: pointer;\n",
              "      display: none;\n",
              "      fill: #1967D2;\n",
              "      height: 32px;\n",
              "      padding: 0 0 0 0;\n",
              "      width: 32px;\n",
              "    }\n",
              "\n",
              "    .colab-df-convert:hover {\n",
              "      background-color: #E2EBFA;\n",
              "      box-shadow: 0px 1px 2px rgba(60, 64, 67, 0.3), 0px 1px 3px 1px rgba(60, 64, 67, 0.15);\n",
              "      fill: #174EA6;\n",
              "    }\n",
              "\n",
              "    [theme=dark] .colab-df-convert {\n",
              "      background-color: #3B4455;\n",
              "      fill: #D2E3FC;\n",
              "    }\n",
              "\n",
              "    [theme=dark] .colab-df-convert:hover {\n",
              "      background-color: #434B5C;\n",
              "      box-shadow: 0px 1px 3px 1px rgba(0, 0, 0, 0.15);\n",
              "      filter: drop-shadow(0px 1px 2px rgba(0, 0, 0, 0.3));\n",
              "      fill: #FFFFFF;\n",
              "    }\n",
              "  </style>\n",
              "\n",
              "      <script>\n",
              "        const buttonEl =\n",
              "          document.querySelector('#df-0d0d736c-a9d8-4253-9bb4-5c0ca0ee8f3f button.colab-df-convert');\n",
              "        buttonEl.style.display =\n",
              "          google.colab.kernel.accessAllowed ? 'block' : 'none';\n",
              "\n",
              "        async function convertToInteractive(key) {\n",
              "          const element = document.querySelector('#df-0d0d736c-a9d8-4253-9bb4-5c0ca0ee8f3f');\n",
              "          const dataTable =\n",
              "            await google.colab.kernel.invokeFunction('convertToInteractive',\n",
              "                                                     [key], {});\n",
              "          if (!dataTable) return;\n",
              "\n",
              "          const docLinkHtml = 'Like what you see? Visit the ' +\n",
              "            '<a target=\"_blank\" href=https://colab.research.google.com/notebooks/data_table.ipynb>data table notebook</a>'\n",
              "            + ' to learn more about interactive tables.';\n",
              "          element.innerHTML = '';\n",
              "          dataTable['output_type'] = 'display_data';\n",
              "          await google.colab.output.renderOutput(dataTable, element);\n",
              "          const docLink = document.createElement('div');\n",
              "          docLink.innerHTML = docLinkHtml;\n",
              "          element.appendChild(docLink);\n",
              "        }\n",
              "      </script>\n",
              "    </div>\n",
              "  </div>\n",
              "  "
            ],
            "text/plain": [
              "   DOCUMENT_ID  SENTENCE_ID  ... SENTENCE_END_POS  SCORE\n",
              "0    583306034      1888104  ...              165   10.0\n",
              "1    583306034      1888102  ...               60   10.0\n",
              "2    584193040      1909902  ...                7   10.0\n",
              "3    584203035      1910310  ...              205   10.0\n",
              "4    584200037      1910006  ...               68   10.0\n",
              "\n",
              "[5 rows x 6 columns]"
            ]
          },
          "metadata": {},
          "execution_count": 55
        }
      ]
    },
    {
      "cell_type": "code",
      "source": [
        "df_train.tail()"
      ],
      "metadata": {
        "colab": {
          "base_uri": "https://localhost:8080/",
          "height": 206
        },
        "id": "spwyxq7q3_XZ",
        "outputId": "7139b104-f393-475b-b9e4-bb22c030635c"
      },
      "execution_count": 56,
      "outputs": [
        {
          "output_type": "execute_result",
          "data": {
            "text/html": [
              "\n",
              "  <div id=\"df-6aa45240-973b-4439-9d07-d7212b52e106\">\n",
              "    <div class=\"colab-df-container\">\n",
              "      <div>\n",
              "<style scoped>\n",
              "    .dataframe tbody tr th:only-of-type {\n",
              "        vertical-align: middle;\n",
              "    }\n",
              "\n",
              "    .dataframe tbody tr th {\n",
              "        vertical-align: top;\n",
              "    }\n",
              "\n",
              "    .dataframe thead th {\n",
              "        text-align: right;\n",
              "    }\n",
              "</style>\n",
              "<table border=\"1\" class=\"dataframe\">\n",
              "  <thead>\n",
              "    <tr style=\"text-align: right;\">\n",
              "      <th></th>\n",
              "      <th>DOCUMENT_ID</th>\n",
              "      <th>SENTENCE_ID</th>\n",
              "      <th>SENTENCE</th>\n",
              "      <th>SENTENCE_START_POS</th>\n",
              "      <th>SENTENCE_END_POS</th>\n",
              "      <th>SCORE</th>\n",
              "    </tr>\n",
              "  </thead>\n",
              "  <tbody>\n",
              "    <tr>\n",
              "      <th>70657</th>\n",
              "      <td>689569033</td>\n",
              "      <td>3973028</td>\n",
              "      <td>good communication on each step</td>\n",
              "      <td>25</td>\n",
              "      <td>56</td>\n",
              "      <td>8.0</td>\n",
              "    </tr>\n",
              "    <tr>\n",
              "      <th>70659</th>\n",
              "      <td>689548036</td>\n",
              "      <td>3972918</td>\n",
              "      <td>Applying for this loan was a very easy experience</td>\n",
              "      <td>0</td>\n",
              "      <td>49</td>\n",
              "      <td>10.0</td>\n",
              "    </tr>\n",
              "    <tr>\n",
              "      <th>70660</th>\n",
              "      <td>689549033</td>\n",
              "      <td>3973010</td>\n",
              "      <td>Was very helpful and stayed on phone to make s...</td>\n",
              "      <td>0</td>\n",
              "      <td>103</td>\n",
              "      <td>10.0</td>\n",
              "    </tr>\n",
              "    <tr>\n",
              "      <th>70661</th>\n",
              "      <td>689564034</td>\n",
              "      <td>3973230</td>\n",
              "      <td>High Interest Rates</td>\n",
              "      <td>0</td>\n",
              "      <td>19</td>\n",
              "      <td>8.0</td>\n",
              "    </tr>\n",
              "    <tr>\n",
              "      <th>70662</th>\n",
              "      <td>689550033</td>\n",
              "      <td>3973221</td>\n",
              "      <td>I appreciate this loan opportunity from Best E...</td>\n",
              "      <td>63</td>\n",
              "      <td>120</td>\n",
              "      <td>10.0</td>\n",
              "    </tr>\n",
              "  </tbody>\n",
              "</table>\n",
              "</div>\n",
              "      <button class=\"colab-df-convert\" onclick=\"convertToInteractive('df-6aa45240-973b-4439-9d07-d7212b52e106')\"\n",
              "              title=\"Convert this dataframe to an interactive table.\"\n",
              "              style=\"display:none;\">\n",
              "        \n",
              "  <svg xmlns=\"http://www.w3.org/2000/svg\" height=\"24px\"viewBox=\"0 0 24 24\"\n",
              "       width=\"24px\">\n",
              "    <path d=\"M0 0h24v24H0V0z\" fill=\"none\"/>\n",
              "    <path d=\"M18.56 5.44l.94 2.06.94-2.06 2.06-.94-2.06-.94-.94-2.06-.94 2.06-2.06.94zm-11 1L8.5 8.5l.94-2.06 2.06-.94-2.06-.94L8.5 2.5l-.94 2.06-2.06.94zm10 10l.94 2.06.94-2.06 2.06-.94-2.06-.94-.94-2.06-.94 2.06-2.06.94z\"/><path d=\"M17.41 7.96l-1.37-1.37c-.4-.4-.92-.59-1.43-.59-.52 0-1.04.2-1.43.59L10.3 9.45l-7.72 7.72c-.78.78-.78 2.05 0 2.83L4 21.41c.39.39.9.59 1.41.59.51 0 1.02-.2 1.41-.59l7.78-7.78 2.81-2.81c.8-.78.8-2.07 0-2.86zM5.41 20L4 18.59l7.72-7.72 1.47 1.35L5.41 20z\"/>\n",
              "  </svg>\n",
              "      </button>\n",
              "      \n",
              "  <style>\n",
              "    .colab-df-container {\n",
              "      display:flex;\n",
              "      flex-wrap:wrap;\n",
              "      gap: 12px;\n",
              "    }\n",
              "\n",
              "    .colab-df-convert {\n",
              "      background-color: #E8F0FE;\n",
              "      border: none;\n",
              "      border-radius: 50%;\n",
              "      cursor: pointer;\n",
              "      display: none;\n",
              "      fill: #1967D2;\n",
              "      height: 32px;\n",
              "      padding: 0 0 0 0;\n",
              "      width: 32px;\n",
              "    }\n",
              "\n",
              "    .colab-df-convert:hover {\n",
              "      background-color: #E2EBFA;\n",
              "      box-shadow: 0px 1px 2px rgba(60, 64, 67, 0.3), 0px 1px 3px 1px rgba(60, 64, 67, 0.15);\n",
              "      fill: #174EA6;\n",
              "    }\n",
              "\n",
              "    [theme=dark] .colab-df-convert {\n",
              "      background-color: #3B4455;\n",
              "      fill: #D2E3FC;\n",
              "    }\n",
              "\n",
              "    [theme=dark] .colab-df-convert:hover {\n",
              "      background-color: #434B5C;\n",
              "      box-shadow: 0px 1px 3px 1px rgba(0, 0, 0, 0.15);\n",
              "      filter: drop-shadow(0px 1px 2px rgba(0, 0, 0, 0.3));\n",
              "      fill: #FFFFFF;\n",
              "    }\n",
              "  </style>\n",
              "\n",
              "      <script>\n",
              "        const buttonEl =\n",
              "          document.querySelector('#df-6aa45240-973b-4439-9d07-d7212b52e106 button.colab-df-convert');\n",
              "        buttonEl.style.display =\n",
              "          google.colab.kernel.accessAllowed ? 'block' : 'none';\n",
              "\n",
              "        async function convertToInteractive(key) {\n",
              "          const element = document.querySelector('#df-6aa45240-973b-4439-9d07-d7212b52e106');\n",
              "          const dataTable =\n",
              "            await google.colab.kernel.invokeFunction('convertToInteractive',\n",
              "                                                     [key], {});\n",
              "          if (!dataTable) return;\n",
              "\n",
              "          const docLinkHtml = 'Like what you see? Visit the ' +\n",
              "            '<a target=\"_blank\" href=https://colab.research.google.com/notebooks/data_table.ipynb>data table notebook</a>'\n",
              "            + ' to learn more about interactive tables.';\n",
              "          element.innerHTML = '';\n",
              "          dataTable['output_type'] = 'display_data';\n",
              "          await google.colab.output.renderOutput(dataTable, element);\n",
              "          const docLink = document.createElement('div');\n",
              "          docLink.innerHTML = docLinkHtml;\n",
              "          element.appendChild(docLink);\n",
              "        }\n",
              "      </script>\n",
              "    </div>\n",
              "  </div>\n",
              "  "
            ],
            "text/plain": [
              "       DOCUMENT_ID  SENTENCE_ID  ... SENTENCE_END_POS  SCORE\n",
              "70657    689569033      3973028  ...               56    8.0\n",
              "70659    689548036      3972918  ...               49   10.0\n",
              "70660    689549033      3973010  ...              103   10.0\n",
              "70661    689564034      3973230  ...               19    8.0\n",
              "70662    689550033      3973221  ...              120   10.0\n",
              "\n",
              "[5 rows x 6 columns]"
            ]
          },
          "metadata": {},
          "execution_count": 56
        }
      ]
    },
    {
      "cell_type": "code",
      "source": [
        "df_validate.head()"
      ],
      "metadata": {
        "colab": {
          "base_uri": "https://localhost:8080/",
          "height": 206
        },
        "id": "0rMNSz9eTPc0",
        "outputId": "d59b1b34-c620-4631-ee63-9e482483eadd"
      },
      "execution_count": 57,
      "outputs": [
        {
          "output_type": "execute_result",
          "data": {
            "text/html": [
              "\n",
              "  <div id=\"df-c5ad8545-604f-44f2-a4f0-b9c5002f1898\">\n",
              "    <div class=\"colab-df-container\">\n",
              "      <div>\n",
              "<style scoped>\n",
              "    .dataframe tbody tr th:only-of-type {\n",
              "        vertical-align: middle;\n",
              "    }\n",
              "\n",
              "    .dataframe tbody tr th {\n",
              "        vertical-align: top;\n",
              "    }\n",
              "\n",
              "    .dataframe thead th {\n",
              "        text-align: right;\n",
              "    }\n",
              "</style>\n",
              "<table border=\"1\" class=\"dataframe\">\n",
              "  <thead>\n",
              "    <tr style=\"text-align: right;\">\n",
              "      <th></th>\n",
              "      <th>DOCUMENT_ID</th>\n",
              "      <th>SENTENCE_ID</th>\n",
              "      <th>SENTENCE</th>\n",
              "      <th>SENTENCE_START_POS</th>\n",
              "      <th>SENTENCE_END_POS</th>\n",
              "      <th>SCORE</th>\n",
              "    </tr>\n",
              "  </thead>\n",
              "  <tbody>\n",
              "    <tr>\n",
              "      <th>7</th>\n",
              "      <td>584207033</td>\n",
              "      <td>1910601</td>\n",
              "      <td>The loan process was super easy</td>\n",
              "      <td>0</td>\n",
              "      <td>31</td>\n",
              "      <td>10.0</td>\n",
              "    </tr>\n",
              "    <tr>\n",
              "      <th>10</th>\n",
              "      <td>584199033</td>\n",
              "      <td>1909801</td>\n",
              "      <td>The process was quick and easy!</td>\n",
              "      <td>0</td>\n",
              "      <td>31</td>\n",
              "      <td>9.0</td>\n",
              "    </tr>\n",
              "    <tr>\n",
              "      <th>13</th>\n",
              "      <td>591377035</td>\n",
              "      <td>2116637</td>\n",
              "      <td>were in my bank within just a few days from th...</td>\n",
              "      <td>178</td>\n",
              "      <td>252</td>\n",
              "      <td>10.0</td>\n",
              "    </tr>\n",
              "    <tr>\n",
              "      <th>14</th>\n",
              "      <td>591377035</td>\n",
              "      <td>2116635</td>\n",
              "      <td>I do not know what you mean by \"my score\", but...</td>\n",
              "      <td>0</td>\n",
              "      <td>131</td>\n",
              "      <td>10.0</td>\n",
              "    </tr>\n",
              "    <tr>\n",
              "      <th>25</th>\n",
              "      <td>34211545</td>\n",
              "      <td>359794</td>\n",
              "      <td>Very expensive dental work and debt consolidat...</td>\n",
              "      <td>0</td>\n",
              "      <td>50</td>\n",
              "      <td>10.0</td>\n",
              "    </tr>\n",
              "  </tbody>\n",
              "</table>\n",
              "</div>\n",
              "      <button class=\"colab-df-convert\" onclick=\"convertToInteractive('df-c5ad8545-604f-44f2-a4f0-b9c5002f1898')\"\n",
              "              title=\"Convert this dataframe to an interactive table.\"\n",
              "              style=\"display:none;\">\n",
              "        \n",
              "  <svg xmlns=\"http://www.w3.org/2000/svg\" height=\"24px\"viewBox=\"0 0 24 24\"\n",
              "       width=\"24px\">\n",
              "    <path d=\"M0 0h24v24H0V0z\" fill=\"none\"/>\n",
              "    <path d=\"M18.56 5.44l.94 2.06.94-2.06 2.06-.94-2.06-.94-.94-2.06-.94 2.06-2.06.94zm-11 1L8.5 8.5l.94-2.06 2.06-.94-2.06-.94L8.5 2.5l-.94 2.06-2.06.94zm10 10l.94 2.06.94-2.06 2.06-.94-2.06-.94-.94-2.06-.94 2.06-2.06.94z\"/><path d=\"M17.41 7.96l-1.37-1.37c-.4-.4-.92-.59-1.43-.59-.52 0-1.04.2-1.43.59L10.3 9.45l-7.72 7.72c-.78.78-.78 2.05 0 2.83L4 21.41c.39.39.9.59 1.41.59.51 0 1.02-.2 1.41-.59l7.78-7.78 2.81-2.81c.8-.78.8-2.07 0-2.86zM5.41 20L4 18.59l7.72-7.72 1.47 1.35L5.41 20z\"/>\n",
              "  </svg>\n",
              "      </button>\n",
              "      \n",
              "  <style>\n",
              "    .colab-df-container {\n",
              "      display:flex;\n",
              "      flex-wrap:wrap;\n",
              "      gap: 12px;\n",
              "    }\n",
              "\n",
              "    .colab-df-convert {\n",
              "      background-color: #E8F0FE;\n",
              "      border: none;\n",
              "      border-radius: 50%;\n",
              "      cursor: pointer;\n",
              "      display: none;\n",
              "      fill: #1967D2;\n",
              "      height: 32px;\n",
              "      padding: 0 0 0 0;\n",
              "      width: 32px;\n",
              "    }\n",
              "\n",
              "    .colab-df-convert:hover {\n",
              "      background-color: #E2EBFA;\n",
              "      box-shadow: 0px 1px 2px rgba(60, 64, 67, 0.3), 0px 1px 3px 1px rgba(60, 64, 67, 0.15);\n",
              "      fill: #174EA6;\n",
              "    }\n",
              "\n",
              "    [theme=dark] .colab-df-convert {\n",
              "      background-color: #3B4455;\n",
              "      fill: #D2E3FC;\n",
              "    }\n",
              "\n",
              "    [theme=dark] .colab-df-convert:hover {\n",
              "      background-color: #434B5C;\n",
              "      box-shadow: 0px 1px 3px 1px rgba(0, 0, 0, 0.15);\n",
              "      filter: drop-shadow(0px 1px 2px rgba(0, 0, 0, 0.3));\n",
              "      fill: #FFFFFF;\n",
              "    }\n",
              "  </style>\n",
              "\n",
              "      <script>\n",
              "        const buttonEl =\n",
              "          document.querySelector('#df-c5ad8545-604f-44f2-a4f0-b9c5002f1898 button.colab-df-convert');\n",
              "        buttonEl.style.display =\n",
              "          google.colab.kernel.accessAllowed ? 'block' : 'none';\n",
              "\n",
              "        async function convertToInteractive(key) {\n",
              "          const element = document.querySelector('#df-c5ad8545-604f-44f2-a4f0-b9c5002f1898');\n",
              "          const dataTable =\n",
              "            await google.colab.kernel.invokeFunction('convertToInteractive',\n",
              "                                                     [key], {});\n",
              "          if (!dataTable) return;\n",
              "\n",
              "          const docLinkHtml = 'Like what you see? Visit the ' +\n",
              "            '<a target=\"_blank\" href=https://colab.research.google.com/notebooks/data_table.ipynb>data table notebook</a>'\n",
              "            + ' to learn more about interactive tables.';\n",
              "          element.innerHTML = '';\n",
              "          dataTable['output_type'] = 'display_data';\n",
              "          await google.colab.output.renderOutput(dataTable, element);\n",
              "          const docLink = document.createElement('div');\n",
              "          docLink.innerHTML = docLinkHtml;\n",
              "          element.appendChild(docLink);\n",
              "        }\n",
              "      </script>\n",
              "    </div>\n",
              "  </div>\n",
              "  "
            ],
            "text/plain": [
              "    DOCUMENT_ID  SENTENCE_ID  ... SENTENCE_END_POS  SCORE\n",
              "7     584207033      1910601  ...               31   10.0\n",
              "10    584199033      1909801  ...               31    9.0\n",
              "13    591377035      2116637  ...              252   10.0\n",
              "14    591377035      2116635  ...              131   10.0\n",
              "25     34211545       359794  ...               50   10.0\n",
              "\n",
              "[5 rows x 6 columns]"
            ]
          },
          "metadata": {},
          "execution_count": 57
        }
      ]
    },
    {
      "cell_type": "code",
      "source": [
        "df_validate.tail()"
      ],
      "metadata": {
        "colab": {
          "base_uri": "https://localhost:8080/",
          "height": 206
        },
        "id": "NwU2ZlRSTMH4",
        "outputId": "67a72e49-8ade-42ad-fc83-f04daa7df783"
      },
      "execution_count": 58,
      "outputs": [
        {
          "output_type": "execute_result",
          "data": {
            "text/html": [
              "\n",
              "  <div id=\"df-a0164181-5c9b-4293-9718-5949cbc74ae7\">\n",
              "    <div class=\"colab-df-container\">\n",
              "      <div>\n",
              "<style scoped>\n",
              "    .dataframe tbody tr th:only-of-type {\n",
              "        vertical-align: middle;\n",
              "    }\n",
              "\n",
              "    .dataframe tbody tr th {\n",
              "        vertical-align: top;\n",
              "    }\n",
              "\n",
              "    .dataframe thead th {\n",
              "        text-align: right;\n",
              "    }\n",
              "</style>\n",
              "<table border=\"1\" class=\"dataframe\">\n",
              "  <thead>\n",
              "    <tr style=\"text-align: right;\">\n",
              "      <th></th>\n",
              "      <th>DOCUMENT_ID</th>\n",
              "      <th>SENTENCE_ID</th>\n",
              "      <th>SENTENCE</th>\n",
              "      <th>SENTENCE_START_POS</th>\n",
              "      <th>SENTENCE_END_POS</th>\n",
              "      <th>SCORE</th>\n",
              "    </tr>\n",
              "  </thead>\n",
              "  <tbody>\n",
              "    <tr>\n",
              "      <th>70650</th>\n",
              "      <td>689544034</td>\n",
              "      <td>3973218</td>\n",
              "      <td>Also many options to choose from to fit my bud...</td>\n",
              "      <td>28</td>\n",
              "      <td>78</td>\n",
              "      <td>10.0</td>\n",
              "    </tr>\n",
              "    <tr>\n",
              "      <th>70652</th>\n",
              "      <td>689568034</td>\n",
              "      <td>3972921</td>\n",
              "      <td>paying bills</td>\n",
              "      <td>0</td>\n",
              "      <td>12</td>\n",
              "      <td>10.0</td>\n",
              "    </tr>\n",
              "    <tr>\n",
              "      <th>70655</th>\n",
              "      <td>689550034</td>\n",
              "      <td>3973223</td>\n",
              "      <td>It was quick and easy process</td>\n",
              "      <td>0</td>\n",
              "      <td>29</td>\n",
              "      <td>10.0</td>\n",
              "    </tr>\n",
              "    <tr>\n",
              "      <th>70656</th>\n",
              "      <td>689559033</td>\n",
              "      <td>3973021</td>\n",
              "      <td>Best Egg helped me to consolidate my high inte...</td>\n",
              "      <td>40</td>\n",
              "      <td>136</td>\n",
              "      <td>10.0</td>\n",
              "    </tr>\n",
              "    <tr>\n",
              "      <th>70658</th>\n",
              "      <td>689559033</td>\n",
              "      <td>3973023</td>\n",
              "      <td>Having paid off those loans and now needing an...</td>\n",
              "      <td>188</td>\n",
              "      <td>300</td>\n",
              "      <td>10.0</td>\n",
              "    </tr>\n",
              "  </tbody>\n",
              "</table>\n",
              "</div>\n",
              "      <button class=\"colab-df-convert\" onclick=\"convertToInteractive('df-a0164181-5c9b-4293-9718-5949cbc74ae7')\"\n",
              "              title=\"Convert this dataframe to an interactive table.\"\n",
              "              style=\"display:none;\">\n",
              "        \n",
              "  <svg xmlns=\"http://www.w3.org/2000/svg\" height=\"24px\"viewBox=\"0 0 24 24\"\n",
              "       width=\"24px\">\n",
              "    <path d=\"M0 0h24v24H0V0z\" fill=\"none\"/>\n",
              "    <path d=\"M18.56 5.44l.94 2.06.94-2.06 2.06-.94-2.06-.94-.94-2.06-.94 2.06-2.06.94zm-11 1L8.5 8.5l.94-2.06 2.06-.94-2.06-.94L8.5 2.5l-.94 2.06-2.06.94zm10 10l.94 2.06.94-2.06 2.06-.94-2.06-.94-.94-2.06-.94 2.06-2.06.94z\"/><path d=\"M17.41 7.96l-1.37-1.37c-.4-.4-.92-.59-1.43-.59-.52 0-1.04.2-1.43.59L10.3 9.45l-7.72 7.72c-.78.78-.78 2.05 0 2.83L4 21.41c.39.39.9.59 1.41.59.51 0 1.02-.2 1.41-.59l7.78-7.78 2.81-2.81c.8-.78.8-2.07 0-2.86zM5.41 20L4 18.59l7.72-7.72 1.47 1.35L5.41 20z\"/>\n",
              "  </svg>\n",
              "      </button>\n",
              "      \n",
              "  <style>\n",
              "    .colab-df-container {\n",
              "      display:flex;\n",
              "      flex-wrap:wrap;\n",
              "      gap: 12px;\n",
              "    }\n",
              "\n",
              "    .colab-df-convert {\n",
              "      background-color: #E8F0FE;\n",
              "      border: none;\n",
              "      border-radius: 50%;\n",
              "      cursor: pointer;\n",
              "      display: none;\n",
              "      fill: #1967D2;\n",
              "      height: 32px;\n",
              "      padding: 0 0 0 0;\n",
              "      width: 32px;\n",
              "    }\n",
              "\n",
              "    .colab-df-convert:hover {\n",
              "      background-color: #E2EBFA;\n",
              "      box-shadow: 0px 1px 2px rgba(60, 64, 67, 0.3), 0px 1px 3px 1px rgba(60, 64, 67, 0.15);\n",
              "      fill: #174EA6;\n",
              "    }\n",
              "\n",
              "    [theme=dark] .colab-df-convert {\n",
              "      background-color: #3B4455;\n",
              "      fill: #D2E3FC;\n",
              "    }\n",
              "\n",
              "    [theme=dark] .colab-df-convert:hover {\n",
              "      background-color: #434B5C;\n",
              "      box-shadow: 0px 1px 3px 1px rgba(0, 0, 0, 0.15);\n",
              "      filter: drop-shadow(0px 1px 2px rgba(0, 0, 0, 0.3));\n",
              "      fill: #FFFFFF;\n",
              "    }\n",
              "  </style>\n",
              "\n",
              "      <script>\n",
              "        const buttonEl =\n",
              "          document.querySelector('#df-a0164181-5c9b-4293-9718-5949cbc74ae7 button.colab-df-convert');\n",
              "        buttonEl.style.display =\n",
              "          google.colab.kernel.accessAllowed ? 'block' : 'none';\n",
              "\n",
              "        async function convertToInteractive(key) {\n",
              "          const element = document.querySelector('#df-a0164181-5c9b-4293-9718-5949cbc74ae7');\n",
              "          const dataTable =\n",
              "            await google.colab.kernel.invokeFunction('convertToInteractive',\n",
              "                                                     [key], {});\n",
              "          if (!dataTable) return;\n",
              "\n",
              "          const docLinkHtml = 'Like what you see? Visit the ' +\n",
              "            '<a target=\"_blank\" href=https://colab.research.google.com/notebooks/data_table.ipynb>data table notebook</a>'\n",
              "            + ' to learn more about interactive tables.';\n",
              "          element.innerHTML = '';\n",
              "          dataTable['output_type'] = 'display_data';\n",
              "          await google.colab.output.renderOutput(dataTable, element);\n",
              "          const docLink = document.createElement('div');\n",
              "          docLink.innerHTML = docLinkHtml;\n",
              "          element.appendChild(docLink);\n",
              "        }\n",
              "      </script>\n",
              "    </div>\n",
              "  </div>\n",
              "  "
            ],
            "text/plain": [
              "       DOCUMENT_ID  SENTENCE_ID  ... SENTENCE_END_POS  SCORE\n",
              "70650    689544034      3973218  ...               78   10.0\n",
              "70652    689568034      3972921  ...               12   10.0\n",
              "70655    689550034      3973223  ...               29   10.0\n",
              "70656    689559033      3973021  ...              136   10.0\n",
              "70658    689559033      3973023  ...              300   10.0\n",
              "\n",
              "[5 rows x 6 columns]"
            ]
          },
          "metadata": {},
          "execution_count": 58
        }
      ]
    },
    {
      "cell_type": "code",
      "source": [
        "df_train.shape"
      ],
      "metadata": {
        "colab": {
          "base_uri": "https://localhost:8080/"
        },
        "id": "yzzvAcVgTg3r",
        "outputId": "f970c80b-7538-4394-b0b1-cee23f5bb784"
      },
      "execution_count": 59,
      "outputs": [
        {
          "output_type": "execute_result",
          "data": {
            "text/plain": [
              "(56623, 6)"
            ]
          },
          "metadata": {},
          "execution_count": 59
        }
      ]
    },
    {
      "cell_type": "code",
      "source": [
        "df_validate.shape"
      ],
      "metadata": {
        "colab": {
          "base_uri": "https://localhost:8080/"
        },
        "id": "s9XWHGOITlW0",
        "outputId": "e79c4aa7-0503-499c-8472-425ff451a383"
      },
      "execution_count": 60,
      "outputs": [
        {
          "output_type": "execute_result",
          "data": {
            "text/plain": [
              "(14014, 6)"
            ]
          },
          "metadata": {},
          "execution_count": 60
        }
      ]
    },
    {
      "cell_type": "code",
      "source": [
        "df_train.info()"
      ],
      "metadata": {
        "colab": {
          "base_uri": "https://localhost:8080/"
        },
        "id": "OU3VVrPnT-FM",
        "outputId": "e0d40cbb-4d9d-414d-ffae-8ba607c81b0c"
      },
      "execution_count": 61,
      "outputs": [
        {
          "output_type": "stream",
          "name": "stdout",
          "text": [
            "<class 'pandas.core.frame.DataFrame'>\n",
            "Int64Index: 56623 entries, 0 to 70662\n",
            "Data columns (total 6 columns):\n",
            " #   Column              Non-Null Count  Dtype  \n",
            "---  ------              --------------  -----  \n",
            " 0   DOCUMENT_ID         56623 non-null  int64  \n",
            " 1   SENTENCE_ID         56623 non-null  int64  \n",
            " 2   SENTENCE            56623 non-null  object \n",
            " 3   SENTENCE_START_POS  56623 non-null  int64  \n",
            " 4   SENTENCE_END_POS    56623 non-null  int64  \n",
            " 5   SCORE               56623 non-null  float64\n",
            "dtypes: float64(1), int64(4), object(1)\n",
            "memory usage: 3.0+ MB\n"
          ]
        }
      ]
    },
    {
      "cell_type": "code",
      "metadata": {
        "_uuid": "f84cbf8133b6e3769d9cb5c005cec743b132d5c9",
        "id": "qLAPh0ks4SkJ",
        "outputId": "c4c19d1c-923f-469f-d361-a6ae2d4ace1a",
        "colab": {
          "base_uri": "https://localhost:8080/",
          "height": 294
        }
      },
      "source": [
        "# Visualize SCORE distribution, total 11 scores, majority SCORE = 10\n",
        "df_train['SCORE'].value_counts().plot(kind = 'bar')"
      ],
      "execution_count": 62,
      "outputs": [
        {
          "output_type": "execute_result",
          "data": {
            "text/plain": [
              "<matplotlib.axes._subplots.AxesSubplot at 0x7f54f871abd0>"
            ]
          },
          "metadata": {},
          "execution_count": 62
        },
        {
          "output_type": "display_data",
          "data": {
            "image/png": "[encoded data removed]",
            "text/plain": [
              "<Figure size 432x288 with 1 Axes>"
            ]
          },
          "metadata": {
            "needs_background": "light"
          }
        }
      ]
    },
    {
      "cell_type": "code",
      "source": [
        "df_validate['SCORE'].value_counts().plot(kind = 'bar')"
      ],
      "metadata": {
        "colab": {
          "base_uri": "https://localhost:8080/",
          "height": 294
        },
        "id": "vS5hd2MGVTE0",
        "outputId": "0c1d7ca9-ca71-4d1f-f9da-2e8189eb8fac"
      },
      "execution_count": 63,
      "outputs": [
        {
          "output_type": "execute_result",
          "data": {
            "text/plain": [
              "<matplotlib.axes._subplots.AxesSubplot at 0x7f54f88ba150>"
            ]
          },
          "metadata": {},
          "execution_count": 63
        },
        {
          "output_type": "display_data",
          "data": {
            "image/png": "[encoded data removed]",
            "text/plain": [
              "<Figure size 432x288 with 1 Axes>"
            ]
          },
          "metadata": {
            "needs_background": "light"
          }
        }
      ]
    },
    {
      "cell_type": "code",
      "source": [
        "df_train.isnull().sum()"
      ],
      "metadata": {
        "colab": {
          "base_uri": "https://localhost:8080/"
        },
        "id": "mg6_K0iEVivN",
        "outputId": "8549f3cc-1eb6-41e1-d8a1-7f6b7e6114fc"
      },
      "execution_count": 64,
      "outputs": [
        {
          "output_type": "execute_result",
          "data": {
            "text/plain": [
              "DOCUMENT_ID           0\n",
              "SENTENCE_ID           0\n",
              "SENTENCE              0\n",
              "SENTENCE_START_POS    0\n",
              "SENTENCE_END_POS      0\n",
              "SCORE                 0\n",
              "dtype: int64"
            ]
          },
          "metadata": {},
          "execution_count": 64
        }
      ]
    },
    {
      "cell_type": "code",
      "source": [
        "#Remove the missing data \n",
        "df_train = df_train.dropna()"
      ],
      "metadata": {
        "id": "ik6I8ZCUYe1v"
      },
      "execution_count": 65,
      "outputs": []
    },
    {
      "cell_type": "code",
      "source": [
        "df_train.isnull().sum()"
      ],
      "metadata": {
        "colab": {
          "base_uri": "https://localhost:8080/"
        },
        "id": "d0aSUIz5Y5gu",
        "outputId": "1d6d31df-3575-4434-af0c-dfd4eede42f2"
      },
      "execution_count": 66,
      "outputs": [
        {
          "output_type": "execute_result",
          "data": {
            "text/plain": [
              "DOCUMENT_ID           0\n",
              "SENTENCE_ID           0\n",
              "SENTENCE              0\n",
              "SENTENCE_START_POS    0\n",
              "SENTENCE_END_POS      0\n",
              "SCORE                 0\n",
              "dtype: int64"
            ]
          },
          "metadata": {},
          "execution_count": 66
        }
      ]
    },
    {
      "cell_type": "code",
      "source": [
        "df_train.shape"
      ],
      "metadata": {
        "colab": {
          "base_uri": "https://localhost:8080/"
        },
        "id": "7BUDtlV9Z0Fa",
        "outputId": "eda7e99d-30a7-494b-ce87-328d7717f033"
      },
      "execution_count": 67,
      "outputs": [
        {
          "output_type": "execute_result",
          "data": {
            "text/plain": [
              "(56623, 6)"
            ]
          },
          "metadata": {},
          "execution_count": 67
        }
      ]
    },
    {
      "cell_type": "code",
      "source": [
        "df_validate.isnull().sum()"
      ],
      "metadata": {
        "id": "PVNYFHVqY3QE",
        "colab": {
          "base_uri": "https://localhost:8080/"
        },
        "outputId": "db23b9f0-091e-4f98-ed52-b330b40077cc"
      },
      "execution_count": 68,
      "outputs": [
        {
          "output_type": "execute_result",
          "data": {
            "text/plain": [
              "DOCUMENT_ID           0\n",
              "SENTENCE_ID           0\n",
              "SENTENCE              0\n",
              "SENTENCE_START_POS    0\n",
              "SENTENCE_END_POS      0\n",
              "SCORE                 0\n",
              "dtype: int64"
            ]
          },
          "metadata": {},
          "execution_count": 68
        }
      ]
    },
    {
      "cell_type": "code",
      "source": [
        "df_validate = df_validate.dropna()"
      ],
      "metadata": {
        "id": "yr7kg246ZRVx"
      },
      "execution_count": 69,
      "outputs": []
    },
    {
      "cell_type": "code",
      "source": [
        "df_validate.isnull().sum()"
      ],
      "metadata": {
        "colab": {
          "base_uri": "https://localhost:8080/"
        },
        "id": "QJuYi7WGZMFl",
        "outputId": "9183ea31-9eb8-4f97-9a1b-3facc2e722e9"
      },
      "execution_count": 70,
      "outputs": [
        {
          "output_type": "execute_result",
          "data": {
            "text/plain": [
              "DOCUMENT_ID           0\n",
              "SENTENCE_ID           0\n",
              "SENTENCE              0\n",
              "SENTENCE_START_POS    0\n",
              "SENTENCE_END_POS      0\n",
              "SCORE                 0\n",
              "dtype: int64"
            ]
          },
          "metadata": {},
          "execution_count": 70
        }
      ]
    },
    {
      "cell_type": "code",
      "source": [
        "df_validate.shape"
      ],
      "metadata": {
        "colab": {
          "base_uri": "https://localhost:8080/"
        },
        "id": "5d9kpERQZ-uk",
        "outputId": "b5d21f5d-7cc8-4132-828f-72d8fd61a2a2"
      },
      "execution_count": 71,
      "outputs": [
        {
          "output_type": "execute_result",
          "data": {
            "text/plain": [
              "(14014, 6)"
            ]
          },
          "metadata": {},
          "execution_count": 71
        }
      ]
    },
    {
      "cell_type": "markdown",
      "source": [
        "## Preprocess Sentences"
      ],
      "metadata": {
        "id": "t2nJo5klt1QO"
      }
    },
    {
      "cell_type": "code",
      "metadata": {
        "id": "nDqyyZ-7KiEA",
        "colab": {
          "base_uri": "https://localhost:8080/"
        },
        "outputId": "f1be6a8a-5588-4f41-bc25-153b6ac2e059"
      },
      "source": [
        "import nltk\n",
        "nltk.download('stopwords')\n",
        "nltk.download('wordnet')\n",
        "nltk.download('omw-1.4')"
      ],
      "execution_count": 77,
      "outputs": [
        {
          "output_type": "stream",
          "name": "stderr",
          "text": [
            "[nltk_data] Downloading package stopwords to /root/nltk_data...\n",
            "[nltk_data]   Package stopwords is already up-to-date!\n",
            "[nltk_data] Downloading package wordnet to /root/nltk_data...\n",
            "[nltk_data]   Package wordnet is already up-to-date!\n",
            "[nltk_data] Downloading package omw-1.4 to /root/nltk_data...\n",
            "[nltk_data]   Unzipping corpora/omw-1.4.zip.\n"
          ]
        },
        {
          "output_type": "execute_result",
          "data": {
            "text/plain": [
              "True"
            ]
          },
          "metadata": {},
          "execution_count": 77
        }
      ]
    },
    {
      "cell_type": "code",
      "metadata": {
        "id": "WIOokTGkKiEC",
        "colab": {
          "base_uri": "https://localhost:8080/",
          "height": 35
        },
        "outputId": "0086f6db-7a49-4d55-cab4-f8f69519caca"
      },
      "source": [
        "# Define preprocess function, remove stop words and punctuations etc.\n",
        "from nltk.stem.wordnet import WordNetLemmatizer\n",
        "from nltk.corpus import stopwords\n",
        "import string\n",
        "stop = set(stopwords.words('english'))\n",
        "punc = set(string.punctuation)\n",
        "lemma = WordNetLemmatizer()\n",
        "def clean_text(text):\n",
        "    text = text.lower()\n",
        "    wordList = text.split()\n",
        "    wordList = [\"\".join(x for x in word if (x==\"'\")|(x not in punc)) for word in wordList]\n",
        "    wordList = [word for word in wordList if word not in stop]\n",
        "    wordList = [lemma.lemmatize(word) for word in wordList]\n",
        "    return \" \".join(wordList)\n",
        "clean_text(\"I Thank you!\")"
      ],
      "execution_count": 78,
      "outputs": [
        {
          "output_type": "execute_result",
          "data": {
            "application/vnd.google.colaboratory.intrinsic+json": {
              "type": "string"
            },
            "text/plain": [
              "'thank'"
            ]
          },
          "metadata": {},
          "execution_count": 78
        }
      ]
    },
    {
      "cell_type": "code",
      "metadata": {
        "id": "c0a1jRZMKiEF"
      },
      "source": [
        "# Clean train dataset\n",
        "df_train[\"SENTENCE\"] = df_train[\"SENTENCE\"].astype(\"str\")\n",
        "df_train[\"clean_text\"] = df_train[\"SENTENCE\"].apply(clean_text)"
      ],
      "execution_count": 79,
      "outputs": []
    },
    {
      "cell_type": "code",
      "metadata": {
        "id": "g4jIR9bM26aF"
      },
      "source": [
        "# Clean validate dataset\n",
        "df_validate[\"SENTENCE\"] = df_validate[\"SENTENCE\"].astype(\"str\")\n",
        "df_validate[\"clean_text\"] = df_validate[\"SENTENCE\"].apply(clean_text)"
      ],
      "execution_count": 80,
      "outputs": []
    },
    {
      "cell_type": "code",
      "source": [
        "df_train.head()"
      ],
      "metadata": {
        "colab": {
          "base_uri": "https://localhost:8080/",
          "height": 285
        },
        "id": "oItULbW03Qon",
        "outputId": "121ac587-eb17-4a46-d404-57fc3352e13a"
      },
      "execution_count": 81,
      "outputs": [
        {
          "output_type": "execute_result",
          "data": {
            "text/html": [
              "\n",
              "  <div id=\"df-438282a7-1408-4bf2-8cf9-cb8e33983d35\">\n",
              "    <div class=\"colab-df-container\">\n",
              "      <div>\n",
              "<style scoped>\n",
              "    .dataframe tbody tr th:only-of-type {\n",
              "        vertical-align: middle;\n",
              "    }\n",
              "\n",
              "    .dataframe tbody tr th {\n",
              "        vertical-align: top;\n",
              "    }\n",
              "\n",
              "    .dataframe thead th {\n",
              "        text-align: right;\n",
              "    }\n",
              "</style>\n",
              "<table border=\"1\" class=\"dataframe\">\n",
              "  <thead>\n",
              "    <tr style=\"text-align: right;\">\n",
              "      <th></th>\n",
              "      <th>DOCUMENT_ID</th>\n",
              "      <th>SENTENCE_ID</th>\n",
              "      <th>SENTENCE</th>\n",
              "      <th>SENTENCE_START_POS</th>\n",
              "      <th>SENTENCE_END_POS</th>\n",
              "      <th>SCORE</th>\n",
              "      <th>clean_text</th>\n",
              "    </tr>\n",
              "  </thead>\n",
              "  <tbody>\n",
              "    <tr>\n",
              "      <th>0</th>\n",
              "      <td>583306034</td>\n",
              "      <td>1888104</td>\n",
              "      <td>The whole process went smooth and I am thankfu...</td>\n",
              "      <td>109</td>\n",
              "      <td>165</td>\n",
              "      <td>10.0</td>\n",
              "      <td>whole process went smooth thankful</td>\n",
              "    </tr>\n",
              "    <tr>\n",
              "      <th>1</th>\n",
              "      <td>583306034</td>\n",
              "      <td>1888102</td>\n",
              "      <td>It was quick and easy to apply and got the app...</td>\n",
              "      <td>0</td>\n",
              "      <td>60</td>\n",
              "      <td>10.0</td>\n",
              "      <td>quick easy apply got approval quickly</td>\n",
              "    </tr>\n",
              "    <tr>\n",
              "      <th>2</th>\n",
              "      <td>584193040</td>\n",
              "      <td>1909902</td>\n",
              "      <td>service</td>\n",
              "      <td>0</td>\n",
              "      <td>7</td>\n",
              "      <td>10.0</td>\n",
              "      <td>service</td>\n",
              "    </tr>\n",
              "    <tr>\n",
              "      <th>3</th>\n",
              "      <td>584203035</td>\n",
              "      <td>1910310</td>\n",
              "      <td>Thanks!</td>\n",
              "      <td>198</td>\n",
              "      <td>205</td>\n",
              "      <td>10.0</td>\n",
              "      <td>thanks</td>\n",
              "    </tr>\n",
              "    <tr>\n",
              "      <th>4</th>\n",
              "      <td>584200037</td>\n",
              "      <td>1910006</td>\n",
              "      <td>Thank you!</td>\n",
              "      <td>58</td>\n",
              "      <td>68</td>\n",
              "      <td>10.0</td>\n",
              "      <td>thank</td>\n",
              "    </tr>\n",
              "  </tbody>\n",
              "</table>\n",
              "</div>\n",
              "      <button class=\"colab-df-convert\" onclick=\"convertToInteractive('df-438282a7-1408-4bf2-8cf9-cb8e33983d35')\"\n",
              "              title=\"Convert this dataframe to an interactive table.\"\n",
              "              style=\"display:none;\">\n",
              "        \n",
              "  <svg xmlns=\"http://www.w3.org/2000/svg\" height=\"24px\"viewBox=\"0 0 24 24\"\n",
              "       width=\"24px\">\n",
              "    <path d=\"M0 0h24v24H0V0z\" fill=\"none\"/>\n",
              "    <path d=\"M18.56 5.44l.94 2.06.94-2.06 2.06-.94-2.06-.94-.94-2.06-.94 2.06-2.06.94zm-11 1L8.5 8.5l.94-2.06 2.06-.94-2.06-.94L8.5 2.5l-.94 2.06-2.06.94zm10 10l.94 2.06.94-2.06 2.06-.94-2.06-.94-.94-2.06-.94 2.06-2.06.94z\"/><path d=\"M17.41 7.96l-1.37-1.37c-.4-.4-.92-.59-1.43-.59-.52 0-1.04.2-1.43.59L10.3 9.45l-7.72 7.72c-.78.78-.78 2.05 0 2.83L4 21.41c.39.39.9.59 1.41.59.51 0 1.02-.2 1.41-.59l7.78-7.78 2.81-2.81c.8-.78.8-2.07 0-2.86zM5.41 20L4 18.59l7.72-7.72 1.47 1.35L5.41 20z\"/>\n",
              "  </svg>\n",
              "      </button>\n",
              "      \n",
              "  <style>\n",
              "    .colab-df-container {\n",
              "      display:flex;\n",
              "      flex-wrap:wrap;\n",
              "      gap: 12px;\n",
              "    }\n",
              "\n",
              "    .colab-df-convert {\n",
              "      background-color: #E8F0FE;\n",
              "      border: none;\n",
              "      border-radius: 50%;\n",
              "      cursor: pointer;\n",
              "      display: none;\n",
              "      fill: #1967D2;\n",
              "      height: 32px;\n",
              "      padding: 0 0 0 0;\n",
              "      width: 32px;\n",
              "    }\n",
              "\n",
              "    .colab-df-convert:hover {\n",
              "      background-color: #E2EBFA;\n",
              "      box-shadow: 0px 1px 2px rgba(60, 64, 67, 0.3), 0px 1px 3px 1px rgba(60, 64, 67, 0.15);\n",
              "      fill: #174EA6;\n",
              "    }\n",
              "\n",
              "    [theme=dark] .colab-df-convert {\n",
              "      background-color: #3B4455;\n",
              "      fill: #D2E3FC;\n",
              "    }\n",
              "\n",
              "    [theme=dark] .colab-df-convert:hover {\n",
              "      background-color: #434B5C;\n",
              "      box-shadow: 0px 1px 3px 1px rgba(0, 0, 0, 0.15);\n",
              "      filter: drop-shadow(0px 1px 2px rgba(0, 0, 0, 0.3));\n",
              "      fill: #FFFFFF;\n",
              "    }\n",
              "  </style>\n",
              "\n",
              "      <script>\n",
              "        const buttonEl =\n",
              "          document.querySelector('#df-438282a7-1408-4bf2-8cf9-cb8e33983d35 button.colab-df-convert');\n",
              "        buttonEl.style.display =\n",
              "          google.colab.kernel.accessAllowed ? 'block' : 'none';\n",
              "\n",
              "        async function convertToInteractive(key) {\n",
              "          const element = document.querySelector('#df-438282a7-1408-4bf2-8cf9-cb8e33983d35');\n",
              "          const dataTable =\n",
              "            await google.colab.kernel.invokeFunction('convertToInteractive',\n",
              "                                                     [key], {});\n",
              "          if (!dataTable) return;\n",
              "\n",
              "          const docLinkHtml = 'Like what you see? Visit the ' +\n",
              "            '<a target=\"_blank\" href=https://colab.research.google.com/notebooks/data_table.ipynb>data table notebook</a>'\n",
              "            + ' to learn more about interactive tables.';\n",
              "          element.innerHTML = '';\n",
              "          dataTable['output_type'] = 'display_data';\n",
              "          await google.colab.output.renderOutput(dataTable, element);\n",
              "          const docLink = document.createElement('div');\n",
              "          docLink.innerHTML = docLinkHtml;\n",
              "          element.appendChild(docLink);\n",
              "        }\n",
              "      </script>\n",
              "    </div>\n",
              "  </div>\n",
              "  "
            ],
            "text/plain": [
              "   DOCUMENT_ID  SENTENCE_ID  ... SCORE                             clean_text\n",
              "0    583306034      1888104  ...  10.0     whole process went smooth thankful\n",
              "1    583306034      1888102  ...  10.0  quick easy apply got approval quickly\n",
              "2    584193040      1909902  ...  10.0                                service\n",
              "3    584203035      1910310  ...  10.0                                 thanks\n",
              "4    584200037      1910006  ...  10.0                                  thank\n",
              "\n",
              "[5 rows x 7 columns]"
            ]
          },
          "metadata": {},
          "execution_count": 81
        }
      ]
    },
    {
      "cell_type": "code",
      "source": [
        "df_train1 = df_train[['DOCUMENT_ID', 'SCORE', 'clean_text']]"
      ],
      "metadata": {
        "id": "KodtYAmWiEi7"
      },
      "execution_count": 82,
      "outputs": []
    },
    {
      "cell_type": "code",
      "source": [
        "df_train1['clean_text'] = df_train1.groupby(['DOCUMENT_ID'])['clean_text'].transform(lambda x:''.join(x))\n"
      ],
      "metadata": {
        "colab": {
          "base_uri": "https://localhost:8080/"
        },
        "outputId": "6f0a9c2b-080e-4ee8-b783-02c6ff795012",
        "id": "jNNSFmrcglxj"
      },
      "execution_count": 83,
      "outputs": [
        {
          "output_type": "stream",
          "name": "stderr",
          "text": [
            "/usr/local/lib/python3.7/dist-packages/ipykernel_launcher.py:1: SettingWithCopyWarning:\n",
            "\n",
            "\n",
            "A value is trying to be set on a copy of a slice from a DataFrame.\n",
            "Try using .loc[row_indexer,col_indexer] = value instead\n",
            "\n",
            "See the caveats in the documentation: https://pandas.pydata.org/pandas-docs/stable/user_guide/indexing.html#returning-a-view-versus-a-copy\n",
            "\n"
          ]
        }
      ]
    },
    {
      "cell_type": "code",
      "source": [
        "df_train1 = df_train1.drop_duplicates()"
      ],
      "metadata": {
        "id": "toxSKYokiuFA"
      },
      "execution_count": 84,
      "outputs": []
    },
    {
      "cell_type": "code",
      "source": [
        "df_train1.shape"
      ],
      "metadata": {
        "colab": {
          "base_uri": "https://localhost:8080/"
        },
        "id": "bTX3FtXekIL6",
        "outputId": "adcf8b8d-f127-4f98-8d87-ce1dd6e46b7d"
      },
      "execution_count": 85,
      "outputs": [
        {
          "output_type": "execute_result",
          "data": {
            "text/plain": [
              "(39562, 3)"
            ]
          },
          "metadata": {},
          "execution_count": 85
        }
      ]
    },
    {
      "cell_type": "code",
      "source": [
        "df_train1.isnull().sum()"
      ],
      "metadata": {
        "colab": {
          "base_uri": "https://localhost:8080/"
        },
        "id": "A49jpcQUkQI_",
        "outputId": "72d0f07b-f136-4e68-aa76-8e58c4a69e23"
      },
      "execution_count": 86,
      "outputs": [
        {
          "output_type": "execute_result",
          "data": {
            "text/plain": [
              "DOCUMENT_ID    0\n",
              "SCORE          0\n",
              "clean_text     0\n",
              "dtype: int64"
            ]
          },
          "metadata": {},
          "execution_count": 86
        }
      ]
    },
    {
      "cell_type": "code",
      "source": [
        "df_pred = df_validate[['DOCUMENT_ID', 'SCORE', 'clean_text']]"
      ],
      "metadata": {
        "id": "hhLeEqbzhLnr"
      },
      "execution_count": 87,
      "outputs": []
    },
    {
      "cell_type": "code",
      "source": [
        "df_pred['clean_text'] = df_pred.groupby(['DOCUMENT_ID'])['clean_text'].transform(lambda x:''.join(x))"
      ],
      "metadata": {
        "colab": {
          "base_uri": "https://localhost:8080/"
        },
        "outputId": "b505b33e-45ef-4c87-8ada-a36442f0bca6",
        "id": "0mN3-E22gfDn"
      },
      "execution_count": 88,
      "outputs": [
        {
          "output_type": "stream",
          "name": "stderr",
          "text": [
            "/usr/local/lib/python3.7/dist-packages/ipykernel_launcher.py:1: SettingWithCopyWarning:\n",
            "\n",
            "\n",
            "A value is trying to be set on a copy of a slice from a DataFrame.\n",
            "Try using .loc[row_indexer,col_indexer] = value instead\n",
            "\n",
            "See the caveats in the documentation: https://pandas.pydata.org/pandas-docs/stable/user_guide/indexing.html#returning-a-view-versus-a-copy\n",
            "\n"
          ]
        }
      ]
    },
    {
      "cell_type": "code",
      "source": [
        "df_pred = df_pred.drop_duplicates()"
      ],
      "metadata": {
        "id": "_nrR_eLVhp00"
      },
      "execution_count": 89,
      "outputs": []
    },
    {
      "cell_type": "code",
      "source": [
        "df_pred.isnull().sum()"
      ],
      "metadata": {
        "colab": {
          "base_uri": "https://localhost:8080/"
        },
        "id": "vDHKkAbGkdqE",
        "outputId": "71881037-efe0-40bf-9173-e8eb69fc5cd3"
      },
      "execution_count": 90,
      "outputs": [
        {
          "output_type": "execute_result",
          "data": {
            "text/plain": [
              "DOCUMENT_ID    0\n",
              "SCORE          0\n",
              "clean_text     0\n",
              "dtype: int64"
            ]
          },
          "metadata": {},
          "execution_count": 90
        }
      ]
    },
    {
      "cell_type": "code",
      "source": [
        "#save cleaned data to Google drive\n",
        "#df_train1.to_csv(path_or_buf='/content/drive/My Drive/Data_Sets/NLP_train.csv')\n",
        "#df_pred.to_csv(path_or_buf='/content/drive/My Drive/Data_Sets/NLP_validate.csv')"
      ],
      "metadata": {
        "id": "UEWoojxUlfbY"
      },
      "execution_count": null,
      "outputs": []
    },
    {
      "cell_type": "code",
      "source": [
        "#upload the cleaned data\n",
        "#import pandas as pd\n",
        "#df_train = pd.read_csv('/content/drive/My Drive/Data_Sets/NLP_train.csv')\n",
        "#df_pred = pd.read_csv('/content/drive/My Drive/Data_Sets/NLP_validate.csv')"
      ],
      "metadata": {
        "id": "rfv4QmILCLrD"
      },
      "execution_count": null,
      "outputs": []
    },
    {
      "cell_type": "code",
      "source": [
        "df_train1.shape"
      ],
      "metadata": {
        "colab": {
          "base_uri": "https://localhost:8080/"
        },
        "id": "-IM_OgUd1Ed7",
        "outputId": "165e4589-017d-4eeb-e3f1-40eb11f8bc0d"
      },
      "execution_count": 97,
      "outputs": [
        {
          "output_type": "execute_result",
          "data": {
            "text/plain": [
              "(39562, 3)"
            ]
          },
          "metadata": {},
          "execution_count": 97
        }
      ]
    },
    {
      "cell_type": "code",
      "source": [
        "df_train = df_train.dropna()"
      ],
      "metadata": {
        "id": "YoYP8OIS1W99"
      },
      "execution_count": null,
      "outputs": []
    },
    {
      "cell_type": "code",
      "source": [
        "df_train.isnull().sum()"
      ],
      "metadata": {
        "id": "bac5GJUN1Kpc"
      },
      "execution_count": null,
      "outputs": []
    },
    {
      "cell_type": "code",
      "source": [
        "df_pred.shape"
      ],
      "metadata": {
        "colab": {
          "base_uri": "https://localhost:8080/"
        },
        "id": "aeooqwe01mjJ",
        "outputId": "f4c528a0-2b56-4eaf-bc3a-9bcb417be729"
      },
      "execution_count": 98,
      "outputs": [
        {
          "output_type": "execute_result",
          "data": {
            "text/plain": [
              "(9891, 3)"
            ]
          },
          "metadata": {},
          "execution_count": 98
        }
      ]
    },
    {
      "cell_type": "code",
      "source": [
        "df_pred = df_pred.dropna()"
      ],
      "metadata": {
        "id": "Am6x8f731w4q"
      },
      "execution_count": null,
      "outputs": []
    },
    {
      "cell_type": "code",
      "source": [
        "df_pred.isnull().sum()"
      ],
      "metadata": {
        "id": "S8uCt98z1rCC"
      },
      "execution_count": null,
      "outputs": []
    },
    {
      "cell_type": "code",
      "source": [
        "#df_train['cat_score']=df_train.SCORE.astype('category').cat.codes"
      ],
      "metadata": {
        "id": "y4Q6McP-deFt"
      },
      "execution_count": null,
      "outputs": []
    },
    {
      "cell_type": "markdown",
      "source": [
        "## Import dependences"
      ],
      "metadata": {
        "id": "gIdH-n1Pv7fI"
      }
    },
    {
      "cell_type": "code",
      "source": [
        "from sklearn.model_selection import learning_curve\n",
        "from sklearn.model_selection import train_test_split\n",
        "from sklearn.model_selection import StratifiedKFold\n",
        "\n",
        "import tensorflow as tf\n",
        "from keras import backend as K"
      ],
      "metadata": {
        "id": "uqXBmTfLkgZ8"
      },
      "execution_count": 91,
      "outputs": []
    },
    {
      "cell_type": "code",
      "metadata": {
        "scrolled": true,
        "id": "qSWFTUxh__6p"
      },
      "source": [
        "from keras.preprocessing import text, sequence\n",
        "from keras import optimizers\n",
        "from keras import layers\n",
        "from keras.models import Sequential\n",
        "from keras.layers import Dense, Dropout, Embedding, SpatialDropout1D, Conv1D, GRU, LSTM, MaxPooling1D, GlobalMaxPool1D\n",
        "from keras.layers.wrappers import Bidirectional\n",
        "from tensorflow.keras.optimizers import Adam\n",
        "import matplotlib.pyplot as plt\n",
        "import numpy as np\n",
        "import gc\n",
        "\n"
      ],
      "execution_count": 92,
      "outputs": []
    },
    {
      "cell_type": "markdown",
      "source": [
        "##Split xtrain, ytrain from df_train; xtest, ytest from df_validate;\n",
        "## one hot encoder 'SCORE'"
      ],
      "metadata": {
        "id": "o-sBOiebwVVa"
      }
    },
    {
      "cell_type": "code",
      "metadata": {
        "id": "PLO-SHwpdBlD"
      },
      "source": [
        "xtrain = df_train1['clean_text']\n",
        "ytrain = df_train1['SCORE']\n",
        "xtest = df_pred['clean_text']\n",
        "ytest = df_pred['SCORE']"
      ],
      "execution_count": 99,
      "outputs": []
    },
    {
      "cell_type": "code",
      "metadata": {
        "id": "gHUxGtRy__-I"
      },
      "source": [
        "from sklearn.preprocessing import OneHotEncoder\n",
        "ohe = OneHotEncoder(categories='auto',sparse=False)\n",
        "ohe.fit(ytrain.values.reshape(-1,1))\n",
        "#max_len=100\n",
        "max_num_words=10000\n",
        "tokenizer = text.Tokenizer(num_words=max_num_words)\n",
        "tokenizer.fit_on_texts(xtrain)\n",
        "\n",
        "xtrain = tokenizer.texts_to_sequences(xtrain)\n",
        "#xtrain = sequence.pad_sequences(xtrain, maxlen = max_len).astype(np.int32)\n",
        "ytrain = ohe.transform(ytrain.values.reshape(-1,1)).astype(np.uint8)\n",
        "\n",
        "xtest = tokenizer.texts_to_sequences(xtest)\n",
        "#xtest = sequence.pad_sequences(xtest, maxlen = max_len).astype(np.int32)\n",
        "ytest = ohe.transform(ytest.values.reshape(-1,1)).astype(np.uint8)\n",
        "\n",
        "#xtrain, xtest, ytrain, ytest = train_test_split(X, y, test_size=0.2, random_state=10)\n",
        "#del X, y\n",
        "#gc.collect()"
      ],
      "execution_count": 100,
      "outputs": []
    },
    {
      "cell_type": "code",
      "source": [
        "#import numpy as np\n",
        "length_train = [len(i) for i in xtrain]\n",
        "length_test = [len(i) for i in xtest]\n",
        "lens = length_train + length_test\n",
        "maxlen = np.max(lens)\n",
        "maxlen"
      ],
      "metadata": {
        "colab": {
          "base_uri": "https://localhost:8080/"
        },
        "id": "kmWUG1danuwH",
        "outputId": "75f2fa40-d31d-46e5-eee4-03061c781fde"
      },
      "execution_count": 101,
      "outputs": [
        {
          "output_type": "execute_result",
          "data": {
            "text/plain": [
              "178"
            ]
          },
          "metadata": {},
          "execution_count": 101
        }
      ]
    },
    {
      "cell_type": "code",
      "source": [
        "max_len=178\n",
        "xtrain = sequence.pad_sequences(xtrain, maxlen = max_len).astype(np.int32)\n",
        "xtest = sequence.pad_sequences(xtest, maxlen = max_len).astype(np.int32)"
      ],
      "metadata": {
        "id": "ioyytzx-Gv7x"
      },
      "execution_count": 102,
      "outputs": []
    },
    {
      "cell_type": "code",
      "source": [
        "word_index = tokenizer.word_index\n",
        "len(word_index)+1   #total tokenized vocabulary from sentence"
      ],
      "metadata": {
        "colab": {
          "base_uri": "https://localhost:8080/"
        },
        "id": "Vsr8Memfl6xT",
        "outputId": "7a9f1f14-f25a-4fdf-d015-14a26f2419c2"
      },
      "execution_count": 103,
      "outputs": [
        {
          "output_type": "execute_result",
          "data": {
            "text/plain": [
              "18212"
            ]
          },
          "metadata": {},
          "execution_count": 103
        }
      ]
    },
    {
      "cell_type": "code",
      "source": [
        "word_index"
      ],
      "metadata": {
        "colab": {
          "base_uri": "https://localhost:8080/"
        },
        "id": "BQPW0hIZmU3t",
        "outputId": "a8e734e6-aa79-46a6-a7fa-c70446a37b30"
      },
      "execution_count": 104,
      "outputs": [
        {
          "output_type": "execute_result",
          "data": {
            "text/plain": [
              "{'easy': 1,\n",
              " 'process': 2,\n",
              " 'quick': 3,\n",
              " 'loan': 4,\n",
              " 'fast': 5,\n",
              " 'service': 6,\n",
              " 'ease': 7,\n",
              " 'rate': 8,\n",
              " 'application': 9,\n",
              " 'best': 10,\n",
              " 'customer': 11,\n",
              " 'interest': 12,\n",
              " 'egg': 13,\n",
              " 'great': 14,\n",
              " 'simple': 15,\n",
              " 'get': 16,\n",
              " 'time': 17,\n",
              " 'response': 18,\n",
              " 'credit': 19,\n",
              " 'good': 20,\n",
              " 'approval': 21,\n",
              " 'apply': 22,\n",
              " 'money': 23,\n",
              " 'fund': 24,\n",
              " 'account': 25,\n",
              " 'day': 26,\n",
              " 'friendly': 27,\n",
              " 'helpful': 28,\n",
              " 'payment': 29,\n",
              " 'efficient': 30,\n",
              " 'approved': 31,\n",
              " 'use': 32,\n",
              " 'hassle': 33,\n",
              " 'speed': 34,\n",
              " 'quickly': 35,\n",
              " 'funding': 36,\n",
              " 'would': 37,\n",
              " 'pay': 38,\n",
              " 'professional': 39,\n",
              " 'help': 40,\n",
              " 'getting': 41,\n",
              " 'high': 42,\n",
              " 'everything': 43,\n",
              " 'online': 44,\n",
              " 'needed': 45,\n",
              " 'experience': 46,\n",
              " 'received': 47,\n",
              " 'card': 48,\n",
              " 'applying': 49,\n",
              " 'work': 50,\n",
              " 'fee': 51,\n",
              " 'got': 52,\n",
              " 'convenient': 53,\n",
              " 'score': 54,\n",
              " 'one': 55,\n",
              " 'excellent': 56,\n",
              " 'made': 57,\n",
              " 'within': 58,\n",
              " 'bank': 59,\n",
              " 'need': 60,\n",
              " 'debt': 61,\n",
              " 'company': 62,\n",
              " 'able': 63,\n",
              " 'super': 64,\n",
              " 'question': 65,\n",
              " 'people': 66,\n",
              " 'like': 67,\n",
              " 'deposited': 68,\n",
              " 'better': 69,\n",
              " 'could': 70,\n",
              " 'much': 71,\n",
              " 'phone': 72,\n",
              " 'way': 73,\n",
              " 'make': 74,\n",
              " 'information': 75,\n",
              " 'prompt': 76,\n",
              " 'amount': 77,\n",
              " 'done': 78,\n",
              " 'took': 79,\n",
              " 'free': 80,\n",
              " 'option': 81,\n",
              " 'extremely': 82,\n",
              " 'whole': 83,\n",
              " 'really': 84,\n",
              " 'thank': 85,\n",
              " 'term': 86,\n",
              " 'low': 87,\n",
              " 'timely': 88,\n",
              " 'deposit': 89,\n",
              " 'processing': 90,\n",
              " 'business': 91,\n",
              " 'nice': 92,\n",
              " 'lower': 93,\n",
              " 'decision': 94,\n",
              " 'went': 95,\n",
              " 'smooth': 96,\n",
              " '2': 97,\n",
              " 'also': 98,\n",
              " 'recommend': 99,\n",
              " 'quickness': 100,\n",
              " 'funded': 101,\n",
              " 'well': 102,\n",
              " 'call': 103,\n",
              " 'reasonable': 104,\n",
              " 'communication': 105,\n",
              " 'personal': 106,\n",
              " 'staff': 107,\n",
              " 'representative': 108,\n",
              " 'ever': 109,\n",
              " 'transaction': 110,\n",
              " 'painless': 111,\n",
              " 'bill': 112,\n",
              " 'fair': 113,\n",
              " 'little': 114,\n",
              " 'around': 115,\n",
              " 'without': 116,\n",
              " 'helped': 117,\n",
              " 'next': 118,\n",
              " 'take': 119,\n",
              " 'clear': 120,\n",
              " 'entire': 121,\n",
              " 'paying': 122,\n",
              " 'answer': 123,\n",
              " 'convenience': 124,\n",
              " 'courteous': 125,\n",
              " 'thing': 126,\n",
              " 'happy': 127,\n",
              " 'result': 128,\n",
              " '3': 129,\n",
              " 'le': 130,\n",
              " 'right': 131,\n",
              " 'understand': 132,\n",
              " 'complete': 133,\n",
              " 'back': 134,\n",
              " 'know': 135,\n",
              " 'long': 136,\n",
              " 'simplicity': 137,\n",
              " 'forward': 138,\n",
              " 'turn': 139,\n",
              " 'consolidate': 140,\n",
              " 'straight': 141,\n",
              " 'gave': 142,\n",
              " 'website': 143,\n",
              " 'turnaround': 144,\n",
              " 'document': 145,\n",
              " 'user': 146,\n",
              " 'efficiency': 147,\n",
              " 'available': 148,\n",
              " 'lot': 149,\n",
              " 'two': 150,\n",
              " 'everyone': 151,\n",
              " 'give': 152,\n",
              " 'offer': 153,\n",
              " 'spoke': 154,\n",
              " 'apr': 155,\n",
              " 'financial': 156,\n",
              " 'higher': 157,\n",
              " 'first': 158,\n",
              " 'start': 159,\n",
              " 'even': 160,\n",
              " 'go': 161,\n",
              " 'person': 162,\n",
              " 'receive': 163,\n",
              " 'knowledgeable': 164,\n",
              " 'deal': 165,\n",
              " 'request': 166,\n",
              " 'every': 167,\n",
              " 'seamless': 168,\n",
              " 'hour': 169,\n",
              " 'year': 170,\n",
              " 'easiest': 171,\n",
              " 'given': 172,\n",
              " 'always': 173,\n",
              " 'bestegg': 174,\n",
              " 'problem': 175,\n",
              " 'second': 176,\n",
              " 'email': 177,\n",
              " 'paid': 178,\n",
              " 'never': 179,\n",
              " 'rep': 180,\n",
              " 'guy': 181,\n",
              " 'monthly': 182,\n",
              " 'feel': 183,\n",
              " 'origination': 184,\n",
              " 'applied': 185,\n",
              " 'step': 186,\n",
              " 'came': 187,\n",
              " 'called': 188,\n",
              " 'straightforward': 189,\n",
              " 'finish': 190,\n",
              " 'follow': 191,\n",
              " 'thanks': 192,\n",
              " 'competitive': 193,\n",
              " 'still': 194,\n",
              " '10': 195,\n",
              " 'processed': 196,\n",
              " 'manner': 197,\n",
              " 'said': 198,\n",
              " 'paperwork': 199,\n",
              " 'going': 200,\n",
              " 'access': 201,\n",
              " 'obtaining': 202,\n",
              " 'making': 203,\n",
              " 'reason': 204,\n",
              " 'answered': 205,\n",
              " 'home': 206,\n",
              " 'couple': 207,\n",
              " 'appreciate': 208,\n",
              " 'minute': 209,\n",
              " 'see': 210,\n",
              " 'pleasant': 211,\n",
              " 'stress': 212,\n",
              " 'overall': 213,\n",
              " 'receiving': 214,\n",
              " 'someone': 215,\n",
              " 'due': 216,\n",
              " 'site': 217,\n",
              " 'line': 218,\n",
              " 'hard': 219,\n",
              " 'keep': 220,\n",
              " 'u': 221,\n",
              " 'many': 222,\n",
              " 'anyone': 223,\n",
              " 'far': 224,\n",
              " 'chance': 225,\n",
              " 'provided': 226,\n",
              " 'want': 227,\n",
              " 'another': 228,\n",
              " 'sure': 229,\n",
              " 'short': 230,\n",
              " 'life': 231,\n",
              " 'secure': 232,\n",
              " 'helping': 233,\n",
              " 'important': 234,\n",
              " 'speedy': 235,\n",
              " 'end': 236,\n",
              " 'month': 237,\n",
              " 'offered': 238,\n",
              " 'navigate': 239,\n",
              " '24': 240,\n",
              " 'kind': 241,\n",
              " 'handled': 242,\n",
              " 'care': 243,\n",
              " 'others': 244,\n",
              " 'obtain': 245,\n",
              " 'completed': 246,\n",
              " 'told': 247,\n",
              " 'lender': 248,\n",
              " 'worked': 249,\n",
              " 'professionalism': 250,\n",
              " 'easier': 251,\n",
              " 'delivery': 252,\n",
              " 'polite': 253,\n",
              " 'opportunity': 254,\n",
              " 'bit': 255,\n",
              " 'future': 256,\n",
              " '1': 257,\n",
              " 'talk': 258,\n",
              " 'patient': 259,\n",
              " 'wanted': 260,\n",
              " 'felt': 261,\n",
              " 'house': 262,\n",
              " 'info': 263,\n",
              " 'fact': 264,\n",
              " 'promptness': 265,\n",
              " 'decent': 266,\n",
              " 'satisfied': 267,\n",
              " 'different': 268,\n",
              " 'agent': 269,\n",
              " 'easily': 270,\n",
              " 'point': 271,\n",
              " 'pretty': 272,\n",
              " 'consolidation': 273,\n",
              " 'believe': 274,\n",
              " 'away': 275,\n",
              " 'pleased': 276,\n",
              " 'faster': 277,\n",
              " 'amazing': 278,\n",
              " 'wait': 279,\n",
              " 'reliable': 280,\n",
              " 'working': 281,\n",
              " 'issue': 282,\n",
              " 'definitely': 283,\n",
              " 'income': 284,\n",
              " 'set': 285,\n",
              " 'several': 286,\n",
              " 'awesome': 287,\n",
              " 'talked': 288,\n",
              " 'support': 289,\n",
              " 'new': 290,\n",
              " 'friend': 291,\n",
              " 'kept': 292,\n",
              " 'put': 293,\n",
              " 'thought': 294,\n",
              " 'incredibly': 295,\n",
              " 'fairly': 296,\n",
              " 'requested': 297,\n",
              " 'though': 298,\n",
              " 'already': 299,\n",
              " 'family': 300,\n",
              " 'giving': 301,\n",
              " 'asked': 302,\n",
              " 'looking': 303,\n",
              " 'check': 304,\n",
              " 'date': 305,\n",
              " 'almost': 306,\n",
              " 'think': 307,\n",
              " 'timeliness': 308,\n",
              " 'ask': 309,\n",
              " 'honest': 310,\n",
              " 'charge': 311,\n",
              " 'immediate': 312,\n",
              " 'smoothly': 313,\n",
              " 'else': 314,\n",
              " 'direct': 315,\n",
              " 'checking': 316,\n",
              " 'expected': 317,\n",
              " 'explained': 318,\n",
              " 'immediately': 319,\n",
              " 'exactly': 320,\n",
              " 'early': 321,\n",
              " 'job': 322,\n",
              " 'buy': 323,\n",
              " 'number': 324,\n",
              " 'find': 325,\n",
              " 'love': 326,\n",
              " 'outstanding': 327,\n",
              " 'lowest': 328,\n",
              " 'liked': 329,\n",
              " 'beginning': 330,\n",
              " 'highly': 331,\n",
              " 'trying': 332,\n",
              " 'plus': 333,\n",
              " 'taken': 334,\n",
              " 'three': 335,\n",
              " 'finance': 336,\n",
              " 'found': 337,\n",
              " 'informed': 338,\n",
              " 'willing': 339,\n",
              " '5': 340,\n",
              " 'verification': 341,\n",
              " 'plan': 342,\n",
              " 'appreciated': 343,\n",
              " 'review': 344,\n",
              " 'required': 345,\n",
              " 'understanding': 346,\n",
              " 'using': 347,\n",
              " 'actually': 348,\n",
              " 'repayment': 349,\n",
              " 'app': 350,\n",
              " 'fill': 351,\n",
              " 'rapid': 352,\n",
              " 'say': 353,\n",
              " 'approve': 354,\n",
              " 'perfect': 355,\n",
              " 'streamlined': 356,\n",
              " 'informative': 357,\n",
              " 'effortless': 358,\n",
              " 'based': 359,\n",
              " 'cost': 360,\n",
              " 'cash': 361,\n",
              " 'ability': 362,\n",
              " 'contact': 363,\n",
              " 'change': 364,\n",
              " 'sent': 365,\n",
              " 'compared': 366,\n",
              " 'enough': 367,\n",
              " 'provide': 368,\n",
              " 'upfront': 369,\n",
              " 'extra': 370,\n",
              " 'team': 371,\n",
              " 'assistance': 372,\n",
              " 'detail': 373,\n",
              " 'complicated': 374,\n",
              " 'automatic': 375,\n",
              " 'history': 376,\n",
              " 'trust': 377,\n",
              " 'yet': 378,\n",
              " 'auto': 379,\n",
              " 'since': 380,\n",
              " 'chat': 381,\n",
              " 'situation': 382,\n",
              " 'instruction': 383,\n",
              " 'week': 384,\n",
              " 'used': 385,\n",
              " 'paper': 386,\n",
              " 'via': 387,\n",
              " 'thru': 388,\n",
              " 'form': 389,\n",
              " 'last': 390,\n",
              " 'place': 391,\n",
              " 'completing': 392,\n",
              " 'responsive': 393,\n",
              " 'status': 394,\n",
              " 'however': 395,\n",
              " 'impressed': 396,\n",
              " 'real': 397,\n",
              " 'try': 398,\n",
              " 'comfortable': 399,\n",
              " 'come': 400,\n",
              " 'past': 401,\n",
              " 'accurate': 402,\n",
              " 'procedure': 403,\n",
              " '48': 404,\n",
              " 'seemed': 405,\n",
              " 'full': 406,\n",
              " 'karma': 407,\n",
              " 'employee': 408,\n",
              " 'positive': 409,\n",
              " 'rating': 410,\n",
              " 'part': 411,\n",
              " 'delivered': 412,\n",
              " 'payoff': 413,\n",
              " 'documentation': 414,\n",
              " 'waiting': 415,\n",
              " 'throughout': 416,\n",
              " 'recommended': 417,\n",
              " 'let': 418,\n",
              " 'thorough': 419,\n",
              " 'multiple': 420,\n",
              " 'treated': 421,\n",
              " 'hoop': 422,\n",
              " 'anything': 423,\n",
              " 'something': 424,\n",
              " 'instead': 425,\n",
              " 'promised': 426,\n",
              " 'wonderful': 427,\n",
              " 'front': 428,\n",
              " 'affordable': 429,\n",
              " 'lending': 430,\n",
              " 'additional': 431,\n",
              " 'qualify': 432,\n",
              " 'taking': 433,\n",
              " 'possible': 434,\n",
              " 'improve': 435,\n",
              " 'reply': 436,\n",
              " 'choice': 437,\n",
              " 'nothing': 438,\n",
              " 'car': 439,\n",
              " 'dealt': 440,\n",
              " 'save': 441,\n",
              " 'purchase': 442,\n",
              " 'matter': 443,\n",
              " 'previous': 444,\n",
              " 'borrow': 445,\n",
              " 'difficult': 446,\n",
              " 'balance': 447,\n",
              " 'speak': 448,\n",
              " 'tell': 449,\n",
              " 'quality': 450,\n",
              " 'transfer': 451,\n",
              " 'knew': 452,\n",
              " 'along': 453,\n",
              " 'processquick': 454,\n",
              " 'may': 455,\n",
              " 'bad': 456,\n",
              " 'send': 457,\n",
              " 'courtesy': 458,\n",
              " 'truly': 459,\n",
              " 'percentage': 460,\n",
              " 'jump': 461,\n",
              " 'initial': 462,\n",
              " 'regarding': 463,\n",
              " 'effective': 464,\n",
              " 'improvement': 465,\n",
              " 'asking': 466,\n",
              " 'mind': 467,\n",
              " 'completely': 468,\n",
              " 'wish': 469,\n",
              " 'upload': 470,\n",
              " 'rateeasy': 471,\n",
              " 'availability': 472,\n",
              " 'associate': 473,\n",
              " '2nd': 474,\n",
              " 'hidden': 475,\n",
              " 'lady': 476,\n",
              " 'penalty': 477,\n",
              " 'later': 478,\n",
              " 'fastest': 479,\n",
              " 'respond': 480,\n",
              " 'show': 481,\n",
              " 'explain': 482,\n",
              " 'minimal': 483,\n",
              " 'submitted': 484,\n",
              " 'update': 485,\n",
              " 'n': 486,\n",
              " 'experienced': 487,\n",
              " 'simply': 488,\n",
              " 'quite': 489,\n",
              " 'happened': 490,\n",
              " 'absolutely': 491,\n",
              " 'late': 492,\n",
              " 'clearly': 493,\n",
              " 'fantastic': 494,\n",
              " 'stressful': 495,\n",
              " 'talking': 496,\n",
              " 'relatively': 497,\n",
              " 'gotten': 498,\n",
              " 'system': 499,\n",
              " 'easiness': 500,\n",
              " 'live': 501,\n",
              " 'true': 502,\n",
              " 'qualified': 503,\n",
              " 'soon': 504,\n",
              " 'small': 505,\n",
              " 'securing': 506,\n",
              " 'dayeasy': 507,\n",
              " 'web': 508,\n",
              " 'finally': 509,\n",
              " 'officer': 510,\n",
              " 'minimum': 511,\n",
              " 'necessary': 512,\n",
              " 'especially': 513,\n",
              " 'timing': 514,\n",
              " 'big': 515,\n",
              " 'transparent': 516,\n",
              " 'expedited': 517,\n",
              " 'turned': 518,\n",
              " 'saving': 519,\n",
              " 'grateful': 520,\n",
              " 'top': 521,\n",
              " 'fasteasy': 522,\n",
              " 'disbursement': 523,\n",
              " 'red': 524,\n",
              " 'computer': 525,\n",
              " 'verify': 526,\n",
              " 'choose': 527,\n",
              " 'promptly': 528,\n",
              " 'although': 529,\n",
              " 'submit': 530,\n",
              " 'look': 531,\n",
              " 'requirement': 532,\n",
              " 'uncomplicated': 533,\n",
              " 'directly': 534,\n",
              " 'inquiry': 535,\n",
              " 'action': 536,\n",
              " 'tried': 537,\n",
              " 'dayprocess': 538,\n",
              " 'surprised': 539,\n",
              " 'build': 540,\n",
              " 'security': 541,\n",
              " 'track': 542,\n",
              " 'transparency': 543,\n",
              " 'period': 544,\n",
              " 'knowledge': 545,\n",
              " 'name': 546,\n",
              " 'concern': 547,\n",
              " 'dealing': 548,\n",
              " '4': 549,\n",
              " 'ratequick': 550,\n",
              " 'completion': 551,\n",
              " 'swift': 552,\n",
              " 'run': 553,\n",
              " 'advertised': 554,\n",
              " 'surprise': 555,\n",
              " 'safe': 556,\n",
              " 'final': 557,\n",
              " 'attention': 558,\n",
              " 'totally': 559,\n",
              " 'expedient': 560,\n",
              " 'expediency': 561,\n",
              " 'accepted': 562,\n",
              " 'stated': 563,\n",
              " 'tape': 564,\n",
              " 'acceptance': 565,\n",
              " 'emergency': 566,\n",
              " 'contacted': 567,\n",
              " 'assist': 568,\n",
              " 'allowed': 569,\n",
              " 'arrived': 570,\n",
              " 'quickest': 571,\n",
              " 'clarity': 572,\n",
              " 'mean': 573,\n",
              " 'fine': 574,\n",
              " 'patience': 575,\n",
              " 'actual': 576,\n",
              " 'left': 577,\n",
              " 'started': 578,\n",
              " 'effort': 579,\n",
              " 'frame': 580,\n",
              " 'submitting': 581,\n",
              " 'understandable': 582,\n",
              " 'sign': 583,\n",
              " 'filling': 584,\n",
              " 'personnel': 585,\n",
              " 'decided': 586,\n",
              " 'total': 587,\n",
              " 'mail': 588,\n",
              " 'seems': 589,\n",
              " 'rather': 590,\n",
              " 'answering': 591,\n",
              " 'keeping': 592,\n",
              " 'uploading': 593,\n",
              " 'goal': 594,\n",
              " 'professionally': 595,\n",
              " 'glad': 596,\n",
              " 'receipt': 597,\n",
              " 'costumer': 598,\n",
              " 'prior': 599,\n",
              " 'etc': 600,\n",
              " 'transferred': 601,\n",
              " 'responded': 602,\n",
              " 'knowing': 603,\n",
              " 'might': 604,\n",
              " 'bunch': 605,\n",
              " 'yes': 606,\n",
              " 'satisfaction': 607,\n",
              " 'length': 608,\n",
              " 'updated': 609,\n",
              " 'client': 610,\n",
              " 'serviceeasy': 611,\n",
              " 'explanation': 612,\n",
              " 'dollar': 613,\n",
              " 'sending': 614,\n",
              " 'hassel': 615,\n",
              " 'looked': 616,\n",
              " 'interaction': 617,\n",
              " 'promise': 618,\n",
              " 'hasslefree': 619,\n",
              " 'handle': 620,\n",
              " 'control': 621,\n",
              " 'order': 622,\n",
              " 'longer': 623,\n",
              " 'charged': 624,\n",
              " 'servicequick': 625,\n",
              " '100': 626,\n",
              " 'preapproved': 627,\n",
              " 'hand': 628,\n",
              " 'efficiently': 629,\n",
              " 'easygreat': 630,\n",
              " 'walked': 631,\n",
              " 'word': 632,\n",
              " 'seem': 633,\n",
              " 'least': 634,\n",
              " 'respectful': 635,\n",
              " \"egg's\": 636,\n",
              " 'whether': 637,\n",
              " 'quicker': 638,\n",
              " 'tuesday': 639,\n",
              " 'assisted': 640,\n",
              " 'lack': 641,\n",
              " 'medical': 642,\n",
              " 'relief': 643,\n",
              " 'pre': 644,\n",
              " 'quicklyeasy': 645,\n",
              " 'responsible': 646,\n",
              " 'return': 647,\n",
              " 'handling': 648,\n",
              " 'unexpected': 649,\n",
              " 'respect': 650,\n",
              " 'increase': 651,\n",
              " 'calling': 652,\n",
              " 'product': 653,\n",
              " 'current': 654,\n",
              " 'trouble': 655,\n",
              " 'loanprocess': 656,\n",
              " 'acquiring': 657,\n",
              " 'loved': 658,\n",
              " 'helpfulness': 659,\n",
              " 'denied': 660,\n",
              " 'repair': 661,\n",
              " 'approving': 662,\n",
              " 'loaneasy': 663,\n",
              " 'manage': 664,\n",
              " 'ago': 665,\n",
              " 'huge': 666,\n",
              " 'happen': 667,\n",
              " 'rebuild': 668,\n",
              " 'saying': 669,\n",
              " 'pressure': 670,\n",
              " 'processfast': 671,\n",
              " 'providing': 672,\n",
              " 'reach': 673,\n",
              " 'ready': 674,\n",
              " 'page': 675,\n",
              " 'competitor': 676,\n",
              " 'easymoney': 677,\n",
              " 'setup': 678,\n",
              " 'buying': 679,\n",
              " 'nonsense': 680,\n",
              " 'expect': 681,\n",
              " 'morning': 682,\n",
              " 'forth': 683,\n",
              " 'concise': 684,\n",
              " 'somewhat': 685,\n",
              " 'read': 686,\n",
              " 'consolidating': 687,\n",
              " 'meet': 688,\n",
              " 'amazingly': 689,\n",
              " 'load': 690,\n",
              " 'trusted': 691,\n",
              " 'confirmation': 692,\n",
              " 'b': 693,\n",
              " 'provides': 694,\n",
              " 'text': 695,\n",
              " 'hope': 696,\n",
              " 'continue': 697,\n",
              " 'literally': 698,\n",
              " 'processgreat': 699,\n",
              " 'payback': 700,\n",
              " 'closing': 701,\n",
              " 'easyinterest': 702,\n",
              " 'case': 703,\n",
              " 'feeling': 704,\n",
              " 'notification': 705,\n",
              " \"y'all\": 706,\n",
              " 'twice': 707,\n",
              " 'either': 708,\n",
              " 'quickeasy': 709,\n",
              " 'folk': 710,\n",
              " 'friday': 711,\n",
              " 'following': 712,\n",
              " 'pain': 713,\n",
              " 'leave': 714,\n",
              " 'progress': 715,\n",
              " 'friendliness': 716,\n",
              " 'preapproval': 717,\n",
              " 'half': 718,\n",
              " 'beyond': 719,\n",
              " 'fixed': 720,\n",
              " 'banking': 721,\n",
              " 'impact': 722,\n",
              " 'involved': 723,\n",
              " 'expensive': 724,\n",
              " 'showed': 725,\n",
              " 'chose': 726,\n",
              " 'move': 727,\n",
              " 'finished': 728,\n",
              " 'expense': 729,\n",
              " 'thankful': 730,\n",
              " 'ratefast': 731,\n",
              " 'gone': 732,\n",
              " 'easycustomer': 733,\n",
              " 'saw': 734,\n",
              " 'please': 735,\n",
              " 'loanbest': 736,\n",
              " 'followup': 737,\n",
              " 'proceeds': 738,\n",
              " 'incredible': 739,\n",
              " 'willingness': 740,\n",
              " 'loanthank': 741,\n",
              " 'freedom': 742,\n",
              " 'interface': 743,\n",
              " 'intrest': 744,\n",
              " 'type': 745,\n",
              " 'standing': 746,\n",
              " 'sooner': 747,\n",
              " 'password': 748,\n",
              " 'exceptional': 749,\n",
              " 'require': 750,\n",
              " 'financially': 751,\n",
              " 'confident': 752,\n",
              " 'dayquick': 753,\n",
              " 'monday': 754,\n",
              " 'applicationquick': 755,\n",
              " 'depositing': 756,\n",
              " 'including': 757,\n",
              " 'accommodating': 758,\n",
              " 'needing': 759,\n",
              " 'easyfund': 760,\n",
              " 'easybest': 761,\n",
              " '6': 762,\n",
              " 'instant': 763,\n",
              " 'add': 764,\n",
              " 'maintain': 765,\n",
              " 'self': 766,\n",
              " 'worry': 767,\n",
              " 'room': 768,\n",
              " 'seen': 769,\n",
              " 'peace': 770,\n",
              " 'expectation': 771,\n",
              " 'hit': 772,\n",
              " 'except': 773,\n",
              " 'stub': 774,\n",
              " 'dayloan': 775,\n",
              " 'understood': 776,\n",
              " 'qualification': 777,\n",
              " 'wife': 778,\n",
              " 'flexible': 779,\n",
              " 'large': 780,\n",
              " 'missed': 781,\n",
              " 'member': 782,\n",
              " 'pleasure': 783,\n",
              " 'sense': 784,\n",
              " 'confusing': 785,\n",
              " 'automated': 786,\n",
              " 'timeeasy': 787,\n",
              " 'finding': 788,\n",
              " 'speaking': 789,\n",
              " 'consolidated': 790,\n",
              " 'repay': 791,\n",
              " 'importantly': 792,\n",
              " 'record': 793,\n",
              " 'letter': 794,\n",
              " 'close': 795,\n",
              " 'na': 796,\n",
              " 'expeditious': 797,\n",
              " 'feedback': 798,\n",
              " 'allow': 799,\n",
              " 'mention': 800,\n",
              " 'loanfast': 801,\n",
              " 'borrowing': 802,\n",
              " 'level': 803,\n",
              " 'responsiveness': 804,\n",
              " 'probably': 805,\n",
              " 'schedule': 806,\n",
              " 'returning': 807,\n",
              " 'ahead': 808,\n",
              " 'afford': 809,\n",
              " '15': 810,\n",
              " 'easyrate': 811,\n",
              " 'repeat': 812,\n",
              " 'god': 813,\n",
              " 'pick': 814,\n",
              " 'eggbest': 815,\n",
              " 'doc': 816,\n",
              " 'responsibility': 817,\n",
              " 'fit': 818,\n",
              " 'amazed': 819,\n",
              " 'timeline': 820,\n",
              " 'explaining': 821,\n",
              " 'budget': 822,\n",
              " 'existing': 823,\n",
              " 'unsecured': 824,\n",
              " 'trustworthy': 825,\n",
              " 'personable': 826,\n",
              " 'stayed': 827,\n",
              " 'internet': 828,\n",
              " 'fix': 829,\n",
              " 'individual': 830,\n",
              " 'loanquick': 831,\n",
              " 'non': 832,\n",
              " 'original': 833,\n",
              " 'flexibility': 834,\n",
              " '12': 835,\n",
              " 'slightly': 836,\n",
              " '30': 837,\n",
              " 'reduce': 838,\n",
              " 'interested': 839,\n",
              " 'ok': 840,\n",
              " 'submission': 841,\n",
              " 'achieve': 842,\n",
              " 'checked': 843,\n",
              " 'saturday': 844,\n",
              " 'weekend': 845,\n",
              " 'east': 846,\n",
              " 'major': 847,\n",
              " 'offering': 848,\n",
              " 'verified': 849,\n",
              " 'laid': 850,\n",
              " 'cause': 851,\n",
              " 'saved': 852,\n",
              " 'cut': 853,\n",
              " 'delay': 854,\n",
              " 'fashion': 855,\n",
              " 'recommendation': 856,\n",
              " 'towards': 857,\n",
              " 'borrowed': 858,\n",
              " 'proof': 859,\n",
              " 'soo': 860,\n",
              " 'ton': 861,\n",
              " 'dayapplication': 862,\n",
              " 'met': 863,\n",
              " 'disclosure': 864,\n",
              " 'mortgage': 865,\n",
              " 'easyloan': 866,\n",
              " 'confirm': 867,\n",
              " 'advertisement': 868,\n",
              " 'processease': 869,\n",
              " 'stay': 870,\n",
              " 'quicklyprocess': 871,\n",
              " 'presented': 872,\n",
              " 'solution': 873,\n",
              " 'processeasy': 874,\n",
              " 'accuracy': 875,\n",
              " 'rid': 876,\n",
              " 'precise': 877,\n",
              " 'daythank': 878,\n",
              " 'acct': 879,\n",
              " 'upon': 880,\n",
              " 'together': 881,\n",
              " 'kindness': 882,\n",
              " 'quote': 883,\n",
              " 'decide': 884,\n",
              " 'soft': 885,\n",
              " 'detailed': 886,\n",
              " 'realize': 887,\n",
              " 'five': 888,\n",
              " 'hold': 889,\n",
              " 'negative': 890,\n",
              " 'idea': 891,\n",
              " 'hasslequick': 892,\n",
              " 'hopefully': 893,\n",
              " 'accept': 894,\n",
              " 'old': 895,\n",
              " 'unbelievable': 896,\n",
              " 'fully': 897,\n",
              " 'transition': 898,\n",
              " 'followed': 899,\n",
              " 'refer': 900,\n",
              " 'filled': 901,\n",
              " 'wrong': 902,\n",
              " 'accessible': 903,\n",
              " 'breeze': 904,\n",
              " 'unnecessary': 905,\n",
              " 'daily': 906,\n",
              " 'raise': 907,\n",
              " 'financing': 908,\n",
              " 'thankeasy': 909,\n",
              " 'requesting': 910,\n",
              " 'program': 911,\n",
              " 'zero': 912,\n",
              " 'prepayment': 913,\n",
              " 'allows': 914,\n",
              " 'honesty': 915,\n",
              " 'deliver': 916,\n",
              " 'daybest': 917,\n",
              " 'easyapproval': 918,\n",
              " 'acquire': 919,\n",
              " 'verifying': 920,\n",
              " 'institution': 921,\n",
              " 'cc': 922,\n",
              " 'beat': 923,\n",
              " 'helpfulprocess': 924,\n",
              " 'exceptionally': 925,\n",
              " 'disappointed': 926,\n",
              " 'busy': 927,\n",
              " 'consumer': 928,\n",
              " 'specialist': 929,\n",
              " 'combine': 930,\n",
              " 'coming': 931,\n",
              " 'despite': 932,\n",
              " 'basically': 933,\n",
              " 'letting': 934,\n",
              " 'login': 935,\n",
              " 'tax': 936,\n",
              " '20': 937,\n",
              " 'constant': 938,\n",
              " 'crazy': 939,\n",
              " 'uploaded': 940,\n",
              " 'ended': 941,\n",
              " 'consistent': 942,\n",
              " '36': 943,\n",
              " 'accomplish': 944,\n",
              " 'third': 945,\n",
              " 'private': 946,\n",
              " 'report': 947,\n",
              " '23': 948,\n",
              " 'benefit': 949,\n",
              " 'log': 950,\n",
              " 'greatly': 951,\n",
              " 'touch': 952,\n",
              " 'reasonably': 953,\n",
              " 'young': 954,\n",
              " 'e': 955,\n",
              " 'disbursed': 956,\n",
              " 'complication': 957,\n",
              " '13': 958,\n",
              " 'execution': 959,\n",
              " 'moved': 960,\n",
              " 'fundingeasy': 961,\n",
              " 'speediness': 962,\n",
              " 'easyquick': 963,\n",
              " 'easyreceived': 964,\n",
              " 'holiday': 965,\n",
              " 'direction': 966,\n",
              " 'difference': 967,\n",
              " 'error': 968,\n",
              " 'confidence': 969,\n",
              " 'setting': 970,\n",
              " 'bait': 971,\n",
              " 'switch': 972,\n",
              " 'manageable': 973,\n",
              " 'secured': 974,\n",
              " 'side': 975,\n",
              " 'must': 976,\n",
              " 'message': 977,\n",
              " 'statement': 978,\n",
              " 'finalize': 979,\n",
              " 'agreement': 980,\n",
              " 'moment': 981,\n",
              " 'monies': 982,\n",
              " 'attitude': 983,\n",
              " 'item': 984,\n",
              " 'easyfast': 985,\n",
              " 'prove': 986,\n",
              " 'stuff': 987,\n",
              " 'excited': 988,\n",
              " 'servicefast': 989,\n",
              " 'outcome': 990,\n",
              " 'similar': 991,\n",
              " 'responseeasy': 992,\n",
              " '7': 993,\n",
              " 'agreed': 994,\n",
              " 'processfund': 995,\n",
              " 'condition': 996,\n",
              " 'compare': 997,\n",
              " 'worthiness': 998,\n",
              " 'userfriendly': 999,\n",
              " 'easythank': 1000,\n",
              " ...}"
            ]
          },
          "metadata": {},
          "execution_count": 104
        }
      ]
    },
    {
      "cell_type": "markdown",
      "source": [
        "## Build word embedding matrix from glove 100d"
      ],
      "metadata": {
        "id": "f3gIsUUGwtbG"
      }
    },
    {
      "cell_type": "code",
      "metadata": {
        "id": "QtMMTrVA__-L"
      },
      "source": [
        "f= open('/content/drive/My Drive/Data_Sets/glove.6B.100d.txt', 'r', encoding='utf-8')\n",
        "embeddings_index={}\n",
        "for line in f:\n",
        "    values = line.split()\n",
        "    word = values[0]\n",
        "    try:\n",
        "        coefs = np.asarray(values[1:], dtype='float32')\n",
        "        embeddings_index[word] = coefs\n",
        "    except ValueError:\n",
        "        pass\n",
        "f.close()\n",
        "\n",
        "word_index = tokenizer.word_index\n",
        "embedding_matrix = np.zeros((len(word_index) + 1, 100))\n",
        "for word, i in word_index.items():\n",
        "    embedding_vector = embeddings_index.get(word)\n",
        "    if embedding_vector is not None:\n",
        "        embedding_matrix[i] = embedding_vector"
      ],
      "execution_count": 105,
      "outputs": []
    },
    {
      "cell_type": "code",
      "source": [
        "embedding_matrix[1]"
      ],
      "metadata": {
        "colab": {
          "base_uri": "https://localhost:8080/"
        },
        "id": "ZgvgG5ViI4lX",
        "outputId": "0c30f6d1-5385-4c3c-e35e-fa29ca0d8cae"
      },
      "execution_count": 106,
      "outputs": [
        {
          "output_type": "execute_result",
          "data": {
            "text/plain": [
              "array([-5.86719990e-01,  2.07139999e-01,  6.44829988e-01,  1.02509998e-01,\n",
              "        1.16729997e-01,  2.39500001e-01, -3.56759988e-02,  4.47730022e-03,\n",
              "        3.08140010e-01, -1.57590002e-01,  3.71190012e-01,  2.73669995e-02,\n",
              "       -4.54329997e-01, -2.15890005e-01,  4.79779989e-01,  2.21220002e-01,\n",
              "       -2.10010004e-03,  1.51910007e-01, -2.03879997e-01,  6.64740026e-01,\n",
              "        1.96899995e-01,  5.19959986e-01,  3.08739990e-01, -7.27029979e-01,\n",
              "        3.52360010e-02,  3.74469995e-01, -5.12489974e-01, -5.72700024e-01,\n",
              "        5.00289984e-02, -6.15499973e-01, -7.04850018e-01,  5.34030020e-01,\n",
              "       -1.46860003e-01, -2.88480014e-01,  1.02740002e+00,  3.29690009e-01,\n",
              "       -5.95439970e-01, -1.88219994e-01,  3.09269994e-01, -5.00720024e-01,\n",
              "        1.94499999e-01, -3.11150014e-01, -1.30909994e-01, -8.10490012e-01,\n",
              "       -3.21590006e-01, -3.99820000e-01,  5.42590022e-01, -3.00700009e-01,\n",
              "        1.49220005e-01, -6.27300024e-01,  2.31209993e-02,  2.41059996e-02,\n",
              "       -1.16380001e-03,  8.12569976e-01,  5.33349991e-01, -2.20630002e+00,\n",
              "        4.66789991e-01,  4.49580014e-01,  1.52489996e+00, -2.71120012e-01,\n",
              "       -6.14250004e-01,  1.17190003e-01, -2.37729996e-01,  9.27940011e-02,\n",
              "        7.94149995e-01, -1.71220005e-01,  6.92990005e-01,  2.01470003e-01,\n",
              "       -2.47299999e-01, -7.84449995e-01, -5.57319999e-01,  1.12680003e-01,\n",
              "        1.72399998e-01, -3.87580007e-01,  3.07559997e-01,  1.77949995e-01,\n",
              "       -7.48809993e-01, -2.17879996e-01,  2.22189993e-01, -4.35750008e-01,\n",
              "        6.79759979e-01,  3.24830003e-02, -6.50059998e-01, -1.86030000e-01,\n",
              "       -1.48119998e+00, -1.16609998e-01,  2.45979995e-01,  1.51710004e-01,\n",
              "       -8.72799993e-01,  4.39519994e-02,  2.44169995e-01,  3.90859991e-01,\n",
              "        1.84900001e-01, -3.18109989e-01, -5.03269970e-01, -3.50870013e-01,\n",
              "       -5.39950013e-01, -3.68970007e-01, -7.80790001e-02,  6.23160005e-01])"
            ]
          },
          "metadata": {},
          "execution_count": 106
        }
      ]
    },
    {
      "cell_type": "markdown",
      "source": [
        "## Build CNN + Bidirectional LSTM Neural Network \n",
        "## Train the model"
      ],
      "metadata": {
        "id": "KiwOPOWrzMyq"
      }
    },
    {
      "cell_type": "code",
      "metadata": {
        "scrolled": false,
        "id": "d2ObocGJ__-N",
        "colab": {
          "base_uri": "https://localhost:8080/"
        },
        "outputId": "1a4d2a41-6d9b-46d6-9398-fc599d7712eb"
      },
      "source": [
        "nlabels=11\n",
        "\n",
        "model = Sequential()\n",
        "model.add(Embedding(len(word_index)+1,\n",
        "                           100,\n",
        "                           weights=[embedding_matrix],\n",
        "                           input_length=max_len,\n",
        "                           trainable=False))\n",
        "model.add(SpatialDropout1D(0.2))\n",
        "model.add(Conv1D(64, 3, activation='relu'))\n",
        "model.add(MaxPooling1D(pool_size=2))\n",
        "model.add(Conv1D(32, 3, activation='relu'))\n",
        "model.add(MaxPooling1D(pool_size=2))\n",
        "model.add(Bidirectional(LSTM(128, dropout=0.2, recurrent_dropout=0.2, return_sequences=True)))\n",
        "#model.add(Bidirectional(GRU(64, dropout=0.2, recurrent_dropout=0.2, return_sequences=True)))\n",
        "model.add(LSTM(128, dropout=0.2, recurrent_dropout=0.2))\n",
        "\n",
        "model.add(layers.Dense(512, activation='relu'))\n",
        "model.add(layers.Dropout(0.2))\n",
        "#model.add(layers.Dense(256, activation='relu'))\n",
        "#model.add(layers.Dropout(0.2))\n",
        "model.add(layers.Dense(nlabels, activation='softmax')) #'sigmoid'\n",
        "model.compile(loss='categorical_crossentropy',\n",
        "                optimizer='adam', \n",
        "                metrics=['acc'])\n",
        "model.summary()\n",
        "\n",
        "batch=512\n",
        "epoch=15\n",
        "\n",
        "history = model.fit(xtrain, ytrain,\n",
        "                    validation_split=0.2,\n",
        "                    epochs=epoch,\n",
        "                    batch_size=batch,\n",
        "                   verbose=1)\n",
        "score, acc = model.evaluate(xtest, ytest,\n",
        "                            batch_size=batch)\n",
        "#model.save('lstm_model.h5')\n",
        "\n"
      ],
      "execution_count": 107,
      "outputs": [
        {
          "output_type": "stream",
          "name": "stdout",
          "text": [
            "WARNING:tensorflow:Layer lstm will not use cuDNN kernels since it doesn't meet the criteria. It will use a generic GPU kernel as fallback when running on GPU.\n"
          ]
        },
        {
          "output_type": "stream",
          "name": "stderr",
          "text": [
            "WARNING:tensorflow:Layer lstm will not use cuDNN kernels since it doesn't meet the criteria. It will use a generic GPU kernel as fallback when running on GPU.\n"
          ]
        },
        {
          "output_type": "stream",
          "name": "stdout",
          "text": [
            "WARNING:tensorflow:Layer lstm will not use cuDNN kernels since it doesn't meet the criteria. It will use a generic GPU kernel as fallback when running on GPU.\n"
          ]
        },
        {
          "output_type": "stream",
          "name": "stderr",
          "text": [
            "WARNING:tensorflow:Layer lstm will not use cuDNN kernels since it doesn't meet the criteria. It will use a generic GPU kernel as fallback when running on GPU.\n"
          ]
        },
        {
          "output_type": "stream",
          "name": "stdout",
          "text": [
            "WARNING:tensorflow:Layer lstm will not use cuDNN kernels since it doesn't meet the criteria. It will use a generic GPU kernel as fallback when running on GPU.\n"
          ]
        },
        {
          "output_type": "stream",
          "name": "stderr",
          "text": [
            "WARNING:tensorflow:Layer lstm will not use cuDNN kernels since it doesn't meet the criteria. It will use a generic GPU kernel as fallback when running on GPU.\n"
          ]
        },
        {
          "output_type": "stream",
          "name": "stdout",
          "text": [
            "WARNING:tensorflow:Layer lstm_1 will not use cuDNN kernels since it doesn't meet the criteria. It will use a generic GPU kernel as fallback when running on GPU.\n"
          ]
        },
        {
          "output_type": "stream",
          "name": "stderr",
          "text": [
            "WARNING:tensorflow:Layer lstm_1 will not use cuDNN kernels since it doesn't meet the criteria. It will use a generic GPU kernel as fallback when running on GPU.\n"
          ]
        },
        {
          "output_type": "stream",
          "name": "stdout",
          "text": [
            "Model: \"sequential\"\n",
            "_________________________________________________________________\n",
            " Layer (type)                Output Shape              Param #   \n",
            "=================================================================\n",
            " embedding (Embedding)       (None, 178, 100)          1821200   \n",
            "                                                                 \n",
            " spatial_dropout1d (SpatialD  (None, 178, 100)         0         \n",
            " ropout1D)                                                       \n",
            "                                                                 \n",
            " conv1d (Conv1D)             (None, 176, 64)           19264     \n",
            "                                                                 \n",
            " max_pooling1d (MaxPooling1D  (None, 88, 64)           0         \n",
            " )                                                               \n",
            "                                                                 \n",
            " conv1d_1 (Conv1D)           (None, 86, 32)            6176      \n",
            "                                                                 \n",
            " max_pooling1d_1 (MaxPooling  (None, 43, 32)           0         \n",
            " 1D)                                                             \n",
            "                                                                 \n",
            " bidirectional (Bidirectiona  (None, 43, 256)          164864    \n",
            " l)                                                              \n",
            "                                                                 \n",
            " lstm_1 (LSTM)               (None, 128)               197120    \n",
            "                                                                 \n",
            " dense_1 (Dense)             (None, 512)               66048     \n",
            "                                                                 \n",
            " dropout_1 (Dropout)         (None, 512)               0         \n",
            "                                                                 \n",
            " dense_2 (Dense)             (None, 11)                5643      \n",
            "                                                                 \n",
            "=================================================================\n",
            "Total params: 2,280,315\n",
            "Trainable params: 459,115\n",
            "Non-trainable params: 1,821,200\n",
            "_________________________________________________________________\n",
            "Epoch 1/15\n",
            "62/62 [==============================] - 82s 1s/step - loss: 1.0271 - acc: 0.7552 - val_loss: 0.7963 - val_acc: 0.7838\n",
            "Epoch 2/15\n",
            "62/62 [==============================] - 63s 1s/step - loss: 0.8247 - acc: 0.7661 - val_loss: 0.7524 - val_acc: 0.7838\n",
            "Epoch 3/15\n",
            "62/62 [==============================] - 64s 1s/step - loss: 0.7975 - acc: 0.7661 - val_loss: 0.7421 - val_acc: 0.7838\n",
            "Epoch 4/15\n",
            "62/62 [==============================] - 64s 1s/step - loss: 0.7911 - acc: 0.7668 - val_loss: 0.7433 - val_acc: 0.7871\n",
            "Epoch 5/15\n",
            "62/62 [==============================] - 62s 1s/step - loss: 0.7826 - acc: 0.7680 - val_loss: 0.7296 - val_acc: 0.7872\n",
            "Epoch 6/15\n",
            "62/62 [==============================] - 63s 1s/step - loss: 0.7742 - acc: 0.7689 - val_loss: 0.7319 - val_acc: 0.7877\n",
            "Epoch 7/15\n",
            "62/62 [==============================] - 62s 996ms/step - loss: 0.7698 - acc: 0.7690 - val_loss: 0.7284 - val_acc: 0.7874\n",
            "Epoch 8/15\n",
            "62/62 [==============================] - 61s 992ms/step - loss: 0.7629 - acc: 0.7694 - val_loss: 0.7272 - val_acc: 0.7879\n",
            "Epoch 9/15\n",
            "62/62 [==============================] - 64s 1s/step - loss: 0.7584 - acc: 0.7696 - val_loss: 0.7207 - val_acc: 0.7878\n",
            "Epoch 10/15\n",
            "62/62 [==============================] - 63s 1s/step - loss: 0.7514 - acc: 0.7710 - val_loss: 0.7219 - val_acc: 0.7887\n",
            "Epoch 11/15\n",
            "62/62 [==============================] - 63s 1s/step - loss: 0.7469 - acc: 0.7708 - val_loss: 0.7190 - val_acc: 0.7883\n",
            "Epoch 12/15\n",
            "62/62 [==============================] - 63s 1s/step - loss: 0.7439 - acc: 0.7718 - val_loss: 0.7304 - val_acc: 0.7830\n",
            "Epoch 13/15\n",
            "62/62 [==============================] - 63s 1s/step - loss: 0.7379 - acc: 0.7725 - val_loss: 0.7241 - val_acc: 0.7884\n",
            "Epoch 14/15\n",
            "62/62 [==============================] - 63s 1s/step - loss: 0.7365 - acc: 0.7722 - val_loss: 0.7219 - val_acc: 0.7876\n",
            "Epoch 15/15\n",
            "62/62 [==============================] - 62s 1s/step - loss: 0.7331 - acc: 0.7729 - val_loss: 0.7214 - val_acc: 0.7879\n",
            "20/20 [==============================] - 2s 82ms/step - loss: 0.7520 - acc: 0.7736\n"
          ]
        }
      ]
    },
    {
      "cell_type": "code",
      "source": [
        "model.save('/content/drive/My Drive/Data_Sets/lstm_model.h5')"
      ],
      "metadata": {
        "id": "dhtKD8xBGsca"
      },
      "execution_count": 108,
      "outputs": []
    },
    {
      "cell_type": "markdown",
      "source": [
        "## Plot loss and Accuracy vs. Epoch"
      ],
      "metadata": {
        "id": "ptySboR51PSa"
      }
    },
    {
      "cell_type": "code",
      "metadata": {
        "colab": {
          "base_uri": "https://localhost:8080/",
          "height": 1000
        },
        "outputId": "06102529-6259-41dc-b756-afefca40ff4c",
        "id": "TYKDPglyR-IC"
      },
      "source": [
        "plt.figure(figsize = (16, 8))\n",
        "plt.plot(history.history['acc'], color='red')\n",
        "plt.plot(history.history['val_acc'], color='blue')\n",
        "plt.xticks(np.arange(0, epoch + 1))\n",
        "plt.yticks(np.arange(0.3, 1, 0.1))\n",
        "plt.rcParams['figure.figsize'] = (10, 6)\n",
        "plt.xlabel(\"Epochs\")\n",
        "plt.ylabel(\"Accuracy\")\n",
        "plt.title(\"Training vs Validation Accuracy\")\n",
        "plt.legend(['train','validation'])\n",
        "plt.show()\n",
        "\n",
        "plt.figure(figsize = (16, 8))\n",
        "plt.plot(history.history['loss'], color='red')\n",
        "plt.plot(history.history['val_loss'], color='blue')\n",
        "plt.xticks(np.arange(0, epoch + 1))\n",
        "plt.rcParams['figure.figsize'] = (5, 3)\n",
        "plt.xlabel(\"Epochs\")\n",
        "plt.ylabel(\"Loss\")\n",
        "plt.title(\"Training vs Validation Loss\")\n",
        "plt.legend(['train','validation'])\n",
        "plt.show()"
      ],
      "execution_count": 109,
      "outputs": [
        {
          "output_type": "display_data",
          "data": {
            "image/png": "[encoded data removed]",
            "text/plain": [
              "<Figure size 1152x576 with 1 Axes>"
            ]
          },
          "metadata": {
            "needs_background": "light"
          }
        },
        {
          "output_type": "display_data",
          "data": {
            "image/png": "[encoded data removed]",
            "text/plain": [
              "<Figure size 1152x576 with 1 Axes>"
            ]
          },
          "metadata": {
            "needs_background": "light"
          }
        }
      ]
    },
    {
      "cell_type": "code",
      "source": [
        "ypred = model.predict(xtest)\n",
        "ypred = np.argmax(ypred, axis=1)\n",
        "ytest = np.argmax(ytest, axis=1)"
      ],
      "metadata": {
        "id": "LiRQPaj_qwXL"
      },
      "execution_count": 110,
      "outputs": []
    },
    {
      "cell_type": "code",
      "source": [
        "from sklearn.metrics import classification_report\n",
        "target_names = ['0','1','2','3','4','5','6','7','8','9','10']\n",
        "print(classification_report(ytest, ypred, target_names = target_names))"
      ],
      "metadata": {
        "colab": {
          "base_uri": "https://localhost:8080/"
        },
        "outputId": "27d85d0f-8825-4e3c-93de-5f06044599ba",
        "id": "lVNzb4maq4RD"
      },
      "execution_count": 111,
      "outputs": [
        {
          "output_type": "stream",
          "name": "stdout",
          "text": [
            "              precision    recall  f1-score   support\n",
            "\n",
            "           0       0.00      0.00      0.00        22\n",
            "           1       0.00      0.00      0.00         7\n",
            "           2       0.00      0.00      0.00        10\n",
            "           3       0.00      0.00      0.00        14\n",
            "           4       0.00      0.00      0.00        17\n",
            "           5       0.13      0.03      0.05        66\n",
            "           6       0.00      0.00      0.00        63\n",
            "           7       0.00      0.00      0.00       221\n",
            "           8       0.30      0.14      0.19       679\n",
            "           9       0.00      0.00      0.00      1180\n",
            "          10       0.79      0.99      0.88      7612\n",
            "\n",
            "    accuracy                           0.77      9891\n",
            "   macro avg       0.11      0.11      0.10      9891\n",
            "weighted avg       0.63      0.77      0.69      9891\n",
            "\n"
          ]
        },
        {
          "output_type": "stream",
          "name": "stderr",
          "text": [
            "/usr/local/lib/python3.7/dist-packages/sklearn/metrics/_classification.py:1308: UndefinedMetricWarning:\n",
            "\n",
            "Precision and F-score are ill-defined and being set to 0.0 in labels with no predicted samples. Use `zero_division` parameter to control this behavior.\n",
            "\n",
            "/usr/local/lib/python3.7/dist-packages/sklearn/metrics/_classification.py:1308: UndefinedMetricWarning:\n",
            "\n",
            "Precision and F-score are ill-defined and being set to 0.0 in labels with no predicted samples. Use `zero_division` parameter to control this behavior.\n",
            "\n",
            "/usr/local/lib/python3.7/dist-packages/sklearn/metrics/_classification.py:1308: UndefinedMetricWarning:\n",
            "\n",
            "Precision and F-score are ill-defined and being set to 0.0 in labels with no predicted samples. Use `zero_division` parameter to control this behavior.\n",
            "\n"
          ]
        }
      ]
    },
    {
      "cell_type": "code",
      "source": [
        "from sklearn.metrics import confusion_matrix\n",
        "cm = confusion_matrix(ytest, ypred)\n",
        "print(cm)"
      ],
      "metadata": {
        "colab": {
          "base_uri": "https://localhost:8080/"
        },
        "outputId": "c4c730a3-3cc6-40b8-d4c0-86c65d6753a0",
        "id": "bc7ORysBrAoM"
      },
      "execution_count": 112,
      "outputs": [
        {
          "output_type": "stream",
          "name": "stdout",
          "text": [
            "[[   0    0    0    0    0    0    0    0   11    0   11]\n",
            " [   0    0    0    0    0    0    0    0    4    0    3]\n",
            " [   0    0    0    0    0    2    0    0    6    0    2]\n",
            " [   0    0    0    0    0    1    0    0    5    0    8]\n",
            " [   0    0    0    0    0    1    0    0    8    0    8]\n",
            " [   0    0    0    0    0    2    0    0   29    0   35]\n",
            " [   0    0    0    0    0    0    0    0   25    0   38]\n",
            " [   0    0    0    0    0    3    0    0   59    0  159]\n",
            " [   0    0    0    0    0    2    0    0   95    0  582]\n",
            " [   0    0    0    0    0    1    0    0   22    0 1157]\n",
            " [   0    0    0    0    0    3    0    0   54    0 7555]]\n"
          ]
        }
      ]
    },
    {
      "cell_type": "code",
      "source": [
        ""
      ],
      "metadata": {
        "id": "l_eYfVKrqKs7"
      },
      "execution_count": null,
      "outputs": []
    },
    {
      "cell_type": "code",
      "source": [
        ""
      ],
      "metadata": {
        "id": "za3IuO6MqK19"
      },
      "execution_count": null,
      "outputs": []
    },
    {
      "cell_type": "markdown",
      "source": [
        "## ANN: 3 Dense Layers"
      ],
      "metadata": {
        "id": "CC6skF4t18zH"
      }
    },
    {
      "cell_type": "code",
      "source": [
        "#upload the cleaned data\n",
        "import pandas as pd\n",
        "df_train = pd.read_csv('/content/drive/My Drive/Data_Sets/NLP_train.csv')\n",
        "df_pred = pd.read_csv('/content/drive/My Drive/Data_Sets/NLP_validate.csv')"
      ],
      "metadata": {
        "id": "KDQY6JcUEkSn"
      },
      "execution_count": 1,
      "outputs": []
    },
    {
      "cell_type": "code",
      "source": [
        "df_train.shape"
      ],
      "metadata": {
        "colab": {
          "base_uri": "https://localhost:8080/"
        },
        "outputId": "a70d56a7-194c-4717-c29e-ea096fd0ece9",
        "id": "CTHqqUQAEsdK"
      },
      "execution_count": 2,
      "outputs": [
        {
          "output_type": "execute_result",
          "data": {
            "text/plain": [
              "(39562, 4)"
            ]
          },
          "metadata": {},
          "execution_count": 2
        }
      ]
    },
    {
      "cell_type": "code",
      "source": [
        "df_train = df_train.dropna()"
      ],
      "metadata": {
        "id": "CRmTmmctEzkW"
      },
      "execution_count": 3,
      "outputs": []
    },
    {
      "cell_type": "code",
      "source": [
        "df_train.isnull().sum()"
      ],
      "metadata": {
        "colab": {
          "base_uri": "https://localhost:8080/"
        },
        "outputId": "467f57a4-f101-4da1-b09d-24f9d61b3268",
        "id": "83G5LkVvE9No"
      },
      "execution_count": 4,
      "outputs": [
        {
          "output_type": "execute_result",
          "data": {
            "text/plain": [
              "Unnamed: 0     0\n",
              "DOCUMENT_ID    0\n",
              "SCORE          0\n",
              "clean_text     0\n",
              "dtype: int64"
            ]
          },
          "metadata": {},
          "execution_count": 4
        }
      ]
    },
    {
      "cell_type": "code",
      "source": [
        "df_pred.shape"
      ],
      "metadata": {
        "colab": {
          "base_uri": "https://localhost:8080/"
        },
        "outputId": "38a8b608-eb73-4681-cc6b-4920e08dafb6",
        "id": "ocMAWiS-Ffjc"
      },
      "execution_count": 5,
      "outputs": [
        {
          "output_type": "execute_result",
          "data": {
            "text/plain": [
              "(9891, 4)"
            ]
          },
          "metadata": {},
          "execution_count": 5
        }
      ]
    },
    {
      "cell_type": "code",
      "source": [
        "df_pred = df_pred.dropna()"
      ],
      "metadata": {
        "id": "Na_1jYYYFPEy"
      },
      "execution_count": 6,
      "outputs": []
    },
    {
      "cell_type": "code",
      "source": [
        "df_pred.isnull().sum()"
      ],
      "metadata": {
        "colab": {
          "base_uri": "https://localhost:8080/"
        },
        "outputId": "27462485-1597-4484-fe7b-02655d7592ba",
        "id": "Kn1XZSixFpJB"
      },
      "execution_count": 7,
      "outputs": [
        {
          "output_type": "execute_result",
          "data": {
            "text/plain": [
              "Unnamed: 0     0\n",
              "DOCUMENT_ID    0\n",
              "SCORE          0\n",
              "clean_text     0\n",
              "dtype: int64"
            ]
          },
          "metadata": {},
          "execution_count": 7
        }
      ]
    },
    {
      "cell_type": "code",
      "source": [
        "from sklearn.model_selection import learning_curve\n",
        "from sklearn.model_selection import train_test_split\n",
        "from sklearn.model_selection import StratifiedKFold\n",
        "\n",
        "import tensorflow as tf\n",
        "from keras import backend as K"
      ],
      "metadata": {
        "id": "ie80ozBAF91X"
      },
      "execution_count": 8,
      "outputs": []
    },
    {
      "cell_type": "code",
      "metadata": {
        "scrolled": true,
        "id": "eecntS5LGDsT"
      },
      "source": [
        "from keras.preprocessing import text, sequence\n",
        "from keras import optimizers\n",
        "from keras import layers\n",
        "from keras.models import Sequential\n",
        "from keras.layers import Dense, Dropout, Embedding, SpatialDropout1D, Conv1D, GRU, LSTM, MaxPooling1D, GlobalMaxPool1D\n",
        "from keras.layers.wrappers import Bidirectional\n",
        "from tensorflow.keras.optimizers import Adam\n",
        "import matplotlib.pyplot as plt\n",
        "import numpy as np\n",
        "import gc"
      ],
      "execution_count": 9,
      "outputs": []
    },
    {
      "cell_type": "code",
      "metadata": {
        "id": "GRrG2D0fGNGD"
      },
      "source": [
        "xtrain = df_train['clean_text']\n",
        "ytrain = df_train['SCORE']\n",
        "xtest = df_pred['clean_text']\n",
        "ytest = df_pred['SCORE']"
      ],
      "execution_count": 10,
      "outputs": []
    },
    {
      "cell_type": "code",
      "metadata": {
        "id": "hhpyYzqtGYtW"
      },
      "source": [
        "from sklearn.preprocessing import OneHotEncoder\n",
        "ohe = OneHotEncoder(categories='auto',sparse=False)\n",
        "ohe.fit(ytrain.values.reshape(-1,1))\n",
        "max_num_words=10000\n",
        "tokenizer = text.Tokenizer(num_words=max_num_words)\n",
        "tokenizer.fit_on_texts(xtrain)\n",
        "\n",
        "xtrain = tokenizer.texts_to_sequences(xtrain)\n",
        "ytrain = ohe.transform(ytrain.values.reshape(-1,1)).astype(np.uint8)\n",
        "\n",
        "xtest = tokenizer.texts_to_sequences(xtest)\n",
        "ytest = ohe.transform(ytest.values.reshape(-1,1)).astype(np.uint8)"
      ],
      "execution_count": 11,
      "outputs": []
    },
    {
      "cell_type": "code",
      "source": [
        "#import numpy as np\n",
        "length_train = [len(i) for i in xtrain]\n",
        "length_test = [len(i) for i in xtest]\n",
        "lens = length_train + length_test\n",
        "maxlen = np.max(lens)\n",
        "maxlen"
      ],
      "metadata": {
        "colab": {
          "base_uri": "https://localhost:8080/"
        },
        "outputId": "53a2efe4-1929-45ef-eab2-53ed3169e7c3",
        "id": "l5UzB_VTGn8K"
      },
      "execution_count": 12,
      "outputs": [
        {
          "output_type": "execute_result",
          "data": {
            "text/plain": [
              "178"
            ]
          },
          "metadata": {},
          "execution_count": 12
        }
      ]
    },
    {
      "cell_type": "code",
      "source": [
        "max_len=178\n",
        "xtrain = sequence.pad_sequences(xtrain, maxlen = max_len).astype(np.int32)\n",
        "xtest = sequence.pad_sequences(xtest, maxlen = max_len).astype(np.int32)"
      ],
      "metadata": {
        "id": "FzU2OQ23GwnK"
      },
      "execution_count": 13,
      "outputs": []
    },
    {
      "cell_type": "code",
      "metadata": {
        "id": "UHDmIklSHWB_"
      },
      "source": [
        "f= open('/content/drive/My Drive/Data_Sets/glove.6B.100d.txt', 'r', encoding='utf-8')\n",
        "embeddings_index={}\n",
        "for line in f:\n",
        "    values = line.split()\n",
        "    word = values[0]\n",
        "    try:\n",
        "        coefs = np.asarray(values[1:], dtype='float32')\n",
        "        embeddings_index[word] = coefs\n",
        "    except ValueError:\n",
        "        pass\n",
        "f.close()\n",
        "\n",
        "word_index = tokenizer.word_index\n",
        "embedding_matrix = np.zeros((len(word_index) + 1, 100))\n",
        "for word, i in word_index.items():\n",
        "    embedding_vector = embeddings_index.get(word)\n",
        "    if embedding_vector is not None:\n",
        "        embedding_matrix[i] = embedding_vector"
      ],
      "execution_count": 14,
      "outputs": []
    },
    {
      "cell_type": "code",
      "metadata": {
        "scrolled": false,
        "colab": {
          "base_uri": "https://localhost:8080/"
        },
        "outputId": "fa89b3eb-6da8-4696-c09b-d03fced0ebf3",
        "id": "UiCsbfO-MAPb"
      },
      "source": [
        "nlabels=11\n",
        "\n",
        "model = Sequential()\n",
        "model.add(Embedding(len(word_index)+1,\n",
        "                           100,\n",
        "                           weights=[embedding_matrix],\n",
        "                           input_length=max_len,\n",
        "                           trainable=False))\n",
        "#model.add(SpatialDropout1D(0.3))\n",
        "model.add(layers.GlobalMaxPool1D())\n",
        "model.add(layers.Dense(512, activation='relu'))\n",
        "model.add(layers.Dropout(0.2))\n",
        "model.add(layers.Dense(256, activation='relu'))\n",
        "model.add(layers.Dropout(0.2))\n",
        "model.add(layers.Dense(nlabels, activation='softmax')) #'sigmoid'\n",
        "model.compile(loss='categorical_crossentropy',\n",
        "                optimizer='adam', \n",
        "                metrics=['acc'])\n",
        "model.summary()\n",
        "\n",
        "batch=512\n",
        "epoch=30\n",
        "\n",
        "history = model.fit(xtrain, ytrain,\n",
        "                    validation_split=0.2,\n",
        "                    epochs=epoch,\n",
        "                    batch_size=batch,\n",
        "                   verbose=1)\n",
        "score, acc = model.evaluate(xtest, ytest,\n",
        "                            batch_size=batch)\n",
        "#model.save('lstm_model.h5')\n",
        "\n"
      ],
      "execution_count": 15,
      "outputs": [
        {
          "output_type": "stream",
          "name": "stdout",
          "text": [
            "Model: \"sequential\"\n",
            "_________________________________________________________________\n",
            " Layer (type)                Output Shape              Param #   \n",
            "=================================================================\n",
            " embedding (Embedding)       (None, 178, 100)          1821200   \n",
            "                                                                 \n",
            " global_max_pooling1d (Globa  (None, 100)              0         \n",
            " lMaxPooling1D)                                                  \n",
            "                                                                 \n",
            " dense (Dense)               (None, 512)               51712     \n",
            "                                                                 \n",
            " dropout (Dropout)           (None, 512)               0         \n",
            "                                                                 \n",
            " dense_1 (Dense)             (None, 256)               131328    \n",
            "                                                                 \n",
            " dropout_1 (Dropout)         (None, 256)               0         \n",
            "                                                                 \n",
            " dense_2 (Dense)             (None, 11)                2827      \n",
            "                                                                 \n",
            "=================================================================\n",
            "Total params: 2,007,067\n",
            "Trainable params: 185,867\n",
            "Non-trainable params: 1,821,200\n",
            "_________________________________________________________________\n",
            "Epoch 1/30\n",
            "62/62 [==============================] - 2s 11ms/step - loss: 0.9427 - acc: 0.7525 - val_loss: 0.7676 - val_acc: 0.7840\n",
            "Epoch 2/30\n",
            "62/62 [==============================] - 1s 9ms/step - loss: 0.8128 - acc: 0.7663 - val_loss: 0.7530 - val_acc: 0.7840\n",
            "Epoch 3/30\n",
            "62/62 [==============================] - 0s 7ms/step - loss: 0.7983 - acc: 0.7662 - val_loss: 0.7487 - val_acc: 0.7841\n",
            "Epoch 4/30\n",
            "62/62 [==============================] - 1s 9ms/step - loss: 0.7893 - acc: 0.7664 - val_loss: 0.7499 - val_acc: 0.7841\n",
            "Epoch 5/30\n",
            "62/62 [==============================] - 0s 7ms/step - loss: 0.7869 - acc: 0.7666 - val_loss: 0.7447 - val_acc: 0.7849\n",
            "Epoch 6/30\n",
            "62/62 [==============================] - 0s 7ms/step - loss: 0.7819 - acc: 0.7673 - val_loss: 0.7435 - val_acc: 0.7850\n",
            "Epoch 7/30\n",
            "62/62 [==============================] - 0s 7ms/step - loss: 0.7788 - acc: 0.7678 - val_loss: 0.7482 - val_acc: 0.7855\n",
            "Epoch 8/30\n",
            "62/62 [==============================] - 1s 9ms/step - loss: 0.7768 - acc: 0.7682 - val_loss: 0.7478 - val_acc: 0.7853\n",
            "Epoch 9/30\n",
            "62/62 [==============================] - 0s 7ms/step - loss: 0.7702 - acc: 0.7684 - val_loss: 0.7425 - val_acc: 0.7865\n",
            "Epoch 10/30\n",
            "62/62 [==============================] - 0s 8ms/step - loss: 0.7688 - acc: 0.7687 - val_loss: 0.7418 - val_acc: 0.7871\n",
            "Epoch 11/30\n",
            "62/62 [==============================] - 0s 7ms/step - loss: 0.7648 - acc: 0.7683 - val_loss: 0.7413 - val_acc: 0.7864\n",
            "Epoch 12/30\n",
            "62/62 [==============================] - 1s 9ms/step - loss: 0.7629 - acc: 0.7687 - val_loss: 0.7423 - val_acc: 0.7867\n",
            "Epoch 13/30\n",
            "62/62 [==============================] - 0s 7ms/step - loss: 0.7599 - acc: 0.7690 - val_loss: 0.7409 - val_acc: 0.7860\n",
            "Epoch 14/30\n",
            "62/62 [==============================] - 0s 8ms/step - loss: 0.7549 - acc: 0.7692 - val_loss: 0.7400 - val_acc: 0.7873\n",
            "Epoch 15/30\n",
            "62/62 [==============================] - 0s 7ms/step - loss: 0.7503 - acc: 0.7695 - val_loss: 0.7504 - val_acc: 0.7867\n",
            "Epoch 16/30\n",
            "62/62 [==============================] - 0s 7ms/step - loss: 0.7472 - acc: 0.7700 - val_loss: 0.7478 - val_acc: 0.7855\n",
            "Epoch 17/30\n",
            "62/62 [==============================] - 0s 7ms/step - loss: 0.7432 - acc: 0.7704 - val_loss: 0.7468 - val_acc: 0.7864\n",
            "Epoch 18/30\n",
            "62/62 [==============================] - 0s 7ms/step - loss: 0.7390 - acc: 0.7708 - val_loss: 0.7463 - val_acc: 0.7868\n",
            "Epoch 19/30\n",
            "62/62 [==============================] - 0s 7ms/step - loss: 0.7365 - acc: 0.7710 - val_loss: 0.7487 - val_acc: 0.7858\n",
            "Epoch 20/30\n",
            "62/62 [==============================] - 0s 7ms/step - loss: 0.7320 - acc: 0.7708 - val_loss: 0.7534 - val_acc: 0.7844\n",
            "Epoch 21/30\n",
            "62/62 [==============================] - 1s 9ms/step - loss: 0.7278 - acc: 0.7718 - val_loss: 0.7488 - val_acc: 0.7850\n",
            "Epoch 22/30\n",
            "62/62 [==============================] - 0s 7ms/step - loss: 0.7245 - acc: 0.7720 - val_loss: 0.7502 - val_acc: 0.7858\n",
            "Epoch 23/30\n",
            "62/62 [==============================] - 1s 9ms/step - loss: 0.7188 - acc: 0.7729 - val_loss: 0.7522 - val_acc: 0.7852\n",
            "Epoch 24/30\n",
            "62/62 [==============================] - 0s 7ms/step - loss: 0.7141 - acc: 0.7718 - val_loss: 0.7528 - val_acc: 0.7844\n",
            "Epoch 25/30\n",
            "62/62 [==============================] - 0s 8ms/step - loss: 0.7115 - acc: 0.7739 - val_loss: 0.7627 - val_acc: 0.7855\n",
            "Epoch 26/30\n",
            "62/62 [==============================] - 0s 7ms/step - loss: 0.7069 - acc: 0.7742 - val_loss: 0.7572 - val_acc: 0.7850\n",
            "Epoch 27/30\n",
            "62/62 [==============================] - 0s 7ms/step - loss: 0.7041 - acc: 0.7751 - val_loss: 0.7586 - val_acc: 0.7828\n",
            "Epoch 28/30\n",
            "62/62 [==============================] - 0s 7ms/step - loss: 0.6990 - acc: 0.7758 - val_loss: 0.7585 - val_acc: 0.7854\n",
            "Epoch 29/30\n",
            "62/62 [==============================] - 0s 7ms/step - loss: 0.6928 - acc: 0.7758 - val_loss: 0.7607 - val_acc: 0.7838\n",
            "Epoch 30/30\n",
            "62/62 [==============================] - 0s 8ms/step - loss: 0.6924 - acc: 0.7762 - val_loss: 0.7611 - val_acc: 0.7828\n",
            "20/20 [==============================] - 0s 5ms/step - loss: 0.7857 - acc: 0.7696\n"
          ]
        }
      ]
    },
    {
      "cell_type": "code",
      "source": [
        "model.save('/content/drive/My Drive/Data_Sets/ANN_model.h5')"
      ],
      "metadata": {
        "id": "i-yuPrBuDohX"
      },
      "execution_count": 16,
      "outputs": []
    },
    {
      "cell_type": "code",
      "metadata": {
        "colab": {
          "base_uri": "https://localhost:8080/",
          "height": 1000
        },
        "outputId": "b66daf6e-e072-4bc4-b175-d04be94928ab",
        "id": "FQZ6yQBEN7Yg"
      },
      "source": [
        "plt.figure(figsize = (16, 8))\n",
        "plt.plot(history.history['acc'], color='red')\n",
        "plt.plot(history.history['val_acc'], color='blue')\n",
        "plt.xticks(np.arange(0, epoch + 1))\n",
        "plt.yticks(np.arange(0.3, 1, 0.1))\n",
        "plt.rcParams['figure.figsize'] = (10, 6)\n",
        "plt.xlabel(\"Epochs\")\n",
        "plt.ylabel(\"Accuracy\")\n",
        "plt.title(\"Training vs Validation Accuracy\")\n",
        "plt.legend(['train','validation'])\n",
        "plt.show()\n",
        "\n",
        "plt.figure(figsize = (16, 8))\n",
        "plt.plot(history.history['loss'], color='red')\n",
        "plt.plot(history.history['val_loss'], color='blue')\n",
        "plt.xticks(np.arange(0, epoch + 1))\n",
        "plt.rcParams['figure.figsize'] = (5, 3)\n",
        "plt.xlabel(\"Epochs\")\n",
        "plt.ylabel(\"Loss\")\n",
        "plt.title(\"Training vs Validation Loss\")\n",
        "plt.legend(['train','validation'])\n",
        "plt.show()"
      ],
      "execution_count": 17,
      "outputs": [
        {
          "output_type": "display_data",
          "data": {
            "image/png": "[encoded data removed]",
            "text/plain": [
              "<Figure size 1152x576 with 1 Axes>"
            ]
          },
          "metadata": {
            "needs_background": "light"
          }
        },
        {
          "output_type": "display_data",
          "data": {
            "image/png": "[encoded data removed]",
            "text/plain": [
              "<Figure size 1152x576 with 1 Axes>"
            ]
          },
          "metadata": {
            "needs_background": "light"
          }
        }
      ]
    },
    {
      "cell_type": "code",
      "source": [
        "ypred = model.predict(xtest)\n",
        "ypred = np.argmax(ypred, axis=1)\n",
        "ytest = np.argmax(ytest, axis=1)"
      ],
      "metadata": {
        "id": "JS4bkuUbqS3N"
      },
      "execution_count": 18,
      "outputs": []
    },
    {
      "cell_type": "code",
      "source": [
        "from sklearn.metrics import classification_report\n",
        "target_names = ['0','1','2','3','4','5','6','7','8','9','10']\n",
        "print(classification_report(ytest, ypred, target_names = target_names))"
      ],
      "metadata": {
        "colab": {
          "base_uri": "https://localhost:8080/"
        },
        "outputId": "cf1ab337-29bd-4095-8e1f-a721634a0458",
        "id": "IDF6YhVYqcqo"
      },
      "execution_count": 19,
      "outputs": [
        {
          "output_type": "stream",
          "name": "stdout",
          "text": [
            "              precision    recall  f1-score   support\n",
            "\n",
            "           0       0.00      0.00      0.00        22\n",
            "           1       0.00      0.00      0.00         7\n",
            "           2       0.00      0.00      0.00        10\n",
            "           3       0.00      0.00      0.00        14\n",
            "           4       0.00      0.00      0.00        17\n",
            "           5       0.08      0.05      0.06        66\n",
            "           6       0.10      0.02      0.03        62\n",
            "           7       0.14      0.02      0.03       220\n",
            "           8       0.31      0.08      0.13       679\n",
            "           9       0.15      0.00      0.01      1179\n",
            "          10       0.79      0.99      0.88      7605\n",
            "\n",
            "    accuracy                           0.77      9881\n",
            "   macro avg       0.14      0.10      0.10      9881\n",
            "weighted avg       0.65      0.77      0.69      9881\n",
            "\n"
          ]
        },
        {
          "output_type": "stream",
          "name": "stderr",
          "text": [
            "/usr/local/lib/python3.7/dist-packages/sklearn/metrics/_classification.py:1308: UndefinedMetricWarning: Precision and F-score are ill-defined and being set to 0.0 in labels with no predicted samples. Use `zero_division` parameter to control this behavior.\n",
            "  _warn_prf(average, modifier, msg_start, len(result))\n",
            "/usr/local/lib/python3.7/dist-packages/sklearn/metrics/_classification.py:1308: UndefinedMetricWarning: Precision and F-score are ill-defined and being set to 0.0 in labels with no predicted samples. Use `zero_division` parameter to control this behavior.\n",
            "  _warn_prf(average, modifier, msg_start, len(result))\n",
            "/usr/local/lib/python3.7/dist-packages/sklearn/metrics/_classification.py:1308: UndefinedMetricWarning: Precision and F-score are ill-defined and being set to 0.0 in labels with no predicted samples. Use `zero_division` parameter to control this behavior.\n",
            "  _warn_prf(average, modifier, msg_start, len(result))\n"
          ]
        }
      ]
    },
    {
      "cell_type": "code",
      "source": [
        "from sklearn.metrics import confusion_matrix\n",
        "cm = confusion_matrix(ytest, ypred)\n",
        "print(cm)"
      ],
      "metadata": {
        "colab": {
          "base_uri": "https://localhost:8080/"
        },
        "outputId": "4a049784-bac9-4c1a-9942-e0cbff29c32c",
        "id": "Ppk6XDIeqrjC"
      },
      "execution_count": 20,
      "outputs": [
        {
          "output_type": "stream",
          "name": "stdout",
          "text": [
            "[[   0    0    0    0    0    1    1    3    4    0   13]\n",
            " [   0    0    0    0    0    0    0    1    2    0    4]\n",
            " [   0    0    0    0    0    2    0    0    2    0    6]\n",
            " [   0    0    0    0    0    2    0    2    1    0    9]\n",
            " [   0    0    0    1    0    1    0    0    1    0   14]\n",
            " [   0    0    0    0    0    3    2    3   13    0   45]\n",
            " [   0    0    0    1    0    7    1    1   18    1   33]\n",
            " [   0    0    0    1    0    5    2    4   23    2  183]\n",
            " [   0    0    0    0    0    8    3    9   54    6  599]\n",
            " [   0    0    0    0    0    4    0    0   13    4 1158]\n",
            " [   0    0    0    0    1    4    1    5   42   14 7538]]\n"
          ]
        }
      ]
    },
    {
      "cell_type": "markdown",
      "source": [
        "## BERT"
      ],
      "metadata": {
        "id": "eh28zt1pSTWF"
      }
    },
    {
      "cell_type": "code",
      "metadata": {
        "id": "DYQSSqU9uaMg"
      },
      "source": [
        "import pandas as pd # data processing, CSV file I/O (e.g. pd.read_csv)\n",
        "path='/content/drive/My Drive/Data_Sets/'\n",
        "df_train = pd.read_csv(path+'NLP_task_train.csv.zip',header=0,index_col=0,compression='infer')\n",
        "df_validate = pd.read_csv(path+'NLP_task_validate.csv.zip',header=0,index_col=0,compression='infer')"
      ],
      "execution_count": 2,
      "outputs": []
    },
    {
      "cell_type": "code",
      "source": [
        "df_train.isnull().sum()"
      ],
      "metadata": {
        "colab": {
          "base_uri": "https://localhost:8080/"
        },
        "outputId": "ab8b28de-33e8-41a4-dcb9-50d6a9557e30",
        "id": "-V3WCvEbuycG"
      },
      "execution_count": 3,
      "outputs": [
        {
          "output_type": "execute_result",
          "data": {
            "text/plain": [
              "DOCUMENT_ID            0\n",
              "SENTENCE_ID            0\n",
              "SENTENCE              21\n",
              "SENTENCE_START_POS     0\n",
              "SENTENCE_END_POS       0\n",
              "SCORE                  0\n",
              "dtype: int64"
            ]
          },
          "metadata": {},
          "execution_count": 3
        }
      ]
    },
    {
      "cell_type": "code",
      "source": [
        "#Remove the missing data \n",
        "df_train = df_train.dropna()"
      ],
      "metadata": {
        "id": "cuYQMSG2u_Wo"
      },
      "execution_count": 4,
      "outputs": []
    },
    {
      "cell_type": "code",
      "source": [
        "df_validate.isnull().sum()"
      ],
      "metadata": {
        "colab": {
          "base_uri": "https://localhost:8080/"
        },
        "id": "mNGo6qf7uc_8",
        "outputId": "03632c54-d148-44fb-9fe6-c1085e26e150"
      },
      "execution_count": 5,
      "outputs": [
        {
          "output_type": "execute_result",
          "data": {
            "text/plain": [
              "DOCUMENT_ID           0\n",
              "SENTENCE_ID           0\n",
              "SENTENCE              4\n",
              "SENTENCE_START_POS    0\n",
              "SENTENCE_END_POS      0\n",
              "SCORE                 1\n",
              "dtype: int64"
            ]
          },
          "metadata": {},
          "execution_count": 5
        }
      ]
    },
    {
      "cell_type": "code",
      "source": [
        "df_validate = df_validate.dropna()"
      ],
      "metadata": {
        "id": "1j_5KF98vJ_c"
      },
      "execution_count": 6,
      "outputs": []
    },
    {
      "cell_type": "code",
      "source": [
        "df_train1 = df_train[['DOCUMENT_ID', 'SCORE', 'SENTENCE']]\n"
      ],
      "metadata": {
        "id": "uX04VGqOv0EO"
      },
      "execution_count": 7,
      "outputs": []
    },
    {
      "cell_type": "code",
      "source": [
        "df_train1['SENTENCE'] = df_train1.groupby(['DOCUMENT_ID'])['SENTENCE'].transform(lambda x:''.join(x))\n"
      ],
      "metadata": {
        "colab": {
          "base_uri": "https://localhost:8080/"
        },
        "outputId": "d762a75f-c4e9-4b7b-a0af-4be695573e20",
        "id": "_SuEpudwwhvc"
      },
      "execution_count": 8,
      "outputs": [
        {
          "output_type": "stream",
          "name": "stderr",
          "text": [
            "/usr/local/lib/python3.7/dist-packages/ipykernel_launcher.py:1: SettingWithCopyWarning: \n",
            "A value is trying to be set on a copy of a slice from a DataFrame.\n",
            "Try using .loc[row_indexer,col_indexer] = value instead\n",
            "\n",
            "See the caveats in the documentation: https://pandas.pydata.org/pandas-docs/stable/user_guide/indexing.html#returning-a-view-versus-a-copy\n",
            "  \"\"\"Entry point for launching an IPython kernel.\n"
          ]
        }
      ]
    },
    {
      "cell_type": "code",
      "source": [
        "df_train1 = df_train1.drop_duplicates()"
      ],
      "metadata": {
        "id": "OScFizFDwzlE"
      },
      "execution_count": 9,
      "outputs": []
    },
    {
      "cell_type": "code",
      "source": [
        "df_train1.head()"
      ],
      "metadata": {
        "colab": {
          "base_uri": "https://localhost:8080/",
          "height": 206
        },
        "id": "O9-CvQX-w1ze",
        "outputId": "f504ff36-283b-4f4b-f103-21f007c1d3df"
      },
      "execution_count": 10,
      "outputs": [
        {
          "output_type": "execute_result",
          "data": {
            "text/html": [
              "\n",
              "  <div id=\"df-db5433b1-5db5-40d8-9505-4cc50b21bebc\">\n",
              "    <div class=\"colab-df-container\">\n",
              "      <div>\n",
              "<style scoped>\n",
              "    .dataframe tbody tr th:only-of-type {\n",
              "        vertical-align: middle;\n",
              "    }\n",
              "\n",
              "    .dataframe tbody tr th {\n",
              "        vertical-align: top;\n",
              "    }\n",
              "\n",
              "    .dataframe thead th {\n",
              "        text-align: right;\n",
              "    }\n",
              "</style>\n",
              "<table border=\"1\" class=\"dataframe\">\n",
              "  <thead>\n",
              "    <tr style=\"text-align: right;\">\n",
              "      <th></th>\n",
              "      <th>DOCUMENT_ID</th>\n",
              "      <th>SCORE</th>\n",
              "      <th>SENTENCE</th>\n",
              "    </tr>\n",
              "  </thead>\n",
              "  <tbody>\n",
              "    <tr>\n",
              "      <th>0</th>\n",
              "      <td>583306034</td>\n",
              "      <td>10.0</td>\n",
              "      <td>The whole process went smooth and I am thankfu...</td>\n",
              "    </tr>\n",
              "    <tr>\n",
              "      <th>2</th>\n",
              "      <td>584193040</td>\n",
              "      <td>10.0</td>\n",
              "      <td>service</td>\n",
              "    </tr>\n",
              "    <tr>\n",
              "      <th>3</th>\n",
              "      <td>584203035</td>\n",
              "      <td>10.0</td>\n",
              "      <td>Thanks!I paid off a best egg I had in the past...</td>\n",
              "    </tr>\n",
              "    <tr>\n",
              "      <th>4</th>\n",
              "      <td>584200037</td>\n",
              "      <td>10.0</td>\n",
              "      <td>Thank you!Ease of use, fast customer service, ...</td>\n",
              "    </tr>\n",
              "    <tr>\n",
              "      <th>6</th>\n",
              "      <td>584204033</td>\n",
              "      <td>8.0</td>\n",
              "      <td>Ease and quickness of funding the loan</td>\n",
              "    </tr>\n",
              "  </tbody>\n",
              "</table>\n",
              "</div>\n",
              "      <button class=\"colab-df-convert\" onclick=\"convertToInteractive('df-db5433b1-5db5-40d8-9505-4cc50b21bebc')\"\n",
              "              title=\"Convert this dataframe to an interactive table.\"\n",
              "              style=\"display:none;\">\n",
              "        \n",
              "  <svg xmlns=\"http://www.w3.org/2000/svg\" height=\"24px\"viewBox=\"0 0 24 24\"\n",
              "       width=\"24px\">\n",
              "    <path d=\"M0 0h24v24H0V0z\" fill=\"none\"/>\n",
              "    <path d=\"M18.56 5.44l.94 2.06.94-2.06 2.06-.94-2.06-.94-.94-2.06-.94 2.06-2.06.94zm-11 1L8.5 8.5l.94-2.06 2.06-.94-2.06-.94L8.5 2.5l-.94 2.06-2.06.94zm10 10l.94 2.06.94-2.06 2.06-.94-2.06-.94-.94-2.06-.94 2.06-2.06.94z\"/><path d=\"M17.41 7.96l-1.37-1.37c-.4-.4-.92-.59-1.43-.59-.52 0-1.04.2-1.43.59L10.3 9.45l-7.72 7.72c-.78.78-.78 2.05 0 2.83L4 21.41c.39.39.9.59 1.41.59.51 0 1.02-.2 1.41-.59l7.78-7.78 2.81-2.81c.8-.78.8-2.07 0-2.86zM5.41 20L4 18.59l7.72-7.72 1.47 1.35L5.41 20z\"/>\n",
              "  </svg>\n",
              "      </button>\n",
              "      \n",
              "  <style>\n",
              "    .colab-df-container {\n",
              "      display:flex;\n",
              "      flex-wrap:wrap;\n",
              "      gap: 12px;\n",
              "    }\n",
              "\n",
              "    .colab-df-convert {\n",
              "      background-color: #E8F0FE;\n",
              "      border: none;\n",
              "      border-radius: 50%;\n",
              "      cursor: pointer;\n",
              "      display: none;\n",
              "      fill: #1967D2;\n",
              "      height: 32px;\n",
              "      padding: 0 0 0 0;\n",
              "      width: 32px;\n",
              "    }\n",
              "\n",
              "    .colab-df-convert:hover {\n",
              "      background-color: #E2EBFA;\n",
              "      box-shadow: 0px 1px 2px rgba(60, 64, 67, 0.3), 0px 1px 3px 1px rgba(60, 64, 67, 0.15);\n",
              "      fill: #174EA6;\n",
              "    }\n",
              "\n",
              "    [theme=dark] .colab-df-convert {\n",
              "      background-color: #3B4455;\n",
              "      fill: #D2E3FC;\n",
              "    }\n",
              "\n",
              "    [theme=dark] .colab-df-convert:hover {\n",
              "      background-color: #434B5C;\n",
              "      box-shadow: 0px 1px 3px 1px rgba(0, 0, 0, 0.15);\n",
              "      filter: drop-shadow(0px 1px 2px rgba(0, 0, 0, 0.3));\n",
              "      fill: #FFFFFF;\n",
              "    }\n",
              "  </style>\n",
              "\n",
              "      <script>\n",
              "        const buttonEl =\n",
              "          document.querySelector('#df-db5433b1-5db5-40d8-9505-4cc50b21bebc button.colab-df-convert');\n",
              "        buttonEl.style.display =\n",
              "          google.colab.kernel.accessAllowed ? 'block' : 'none';\n",
              "\n",
              "        async function convertToInteractive(key) {\n",
              "          const element = document.querySelector('#df-db5433b1-5db5-40d8-9505-4cc50b21bebc');\n",
              "          const dataTable =\n",
              "            await google.colab.kernel.invokeFunction('convertToInteractive',\n",
              "                                                     [key], {});\n",
              "          if (!dataTable) return;\n",
              "\n",
              "          const docLinkHtml = 'Like what you see? Visit the ' +\n",
              "            '<a target=\"_blank\" href=https://colab.research.google.com/notebooks/data_table.ipynb>data table notebook</a>'\n",
              "            + ' to learn more about interactive tables.';\n",
              "          element.innerHTML = '';\n",
              "          dataTable['output_type'] = 'display_data';\n",
              "          await google.colab.output.renderOutput(dataTable, element);\n",
              "          const docLink = document.createElement('div');\n",
              "          docLink.innerHTML = docLinkHtml;\n",
              "          element.appendChild(docLink);\n",
              "        }\n",
              "      </script>\n",
              "    </div>\n",
              "  </div>\n",
              "  "
            ],
            "text/plain": [
              "   DOCUMENT_ID  SCORE                                           SENTENCE\n",
              "0    583306034   10.0  The whole process went smooth and I am thankfu...\n",
              "2    584193040   10.0                                            service\n",
              "3    584203035   10.0  Thanks!I paid off a best egg I had in the past...\n",
              "4    584200037   10.0  Thank you!Ease of use, fast customer service, ...\n",
              "6    584204033    8.0             Ease and quickness of funding the loan"
            ]
          },
          "metadata": {},
          "execution_count": 10
        }
      ]
    },
    {
      "cell_type": "code",
      "source": [
        "df_train1.shape"
      ],
      "metadata": {
        "id": "tSGpdO13xBIF"
      },
      "execution_count": null,
      "outputs": []
    },
    {
      "cell_type": "code",
      "source": [
        "df_pred = df_validate[['DOCUMENT_ID', 'SCORE', 'SENTENCE']]"
      ],
      "metadata": {
        "id": "jkCCki0fwHxb"
      },
      "execution_count": 11,
      "outputs": []
    },
    {
      "cell_type": "code",
      "source": [
        "df_pred['SENTENCE'] = df_pred.groupby(['DOCUMENT_ID'])['SENTENCE'].transform(lambda x:''.join(x))"
      ],
      "metadata": {
        "colab": {
          "base_uri": "https://localhost:8080/"
        },
        "outputId": "79ef2827-2c54-4892-d183-cea56b336da1",
        "id": "HfNNxZTjxDzU"
      },
      "execution_count": 12,
      "outputs": [
        {
          "output_type": "stream",
          "name": "stderr",
          "text": [
            "/usr/local/lib/python3.7/dist-packages/ipykernel_launcher.py:1: SettingWithCopyWarning: \n",
            "A value is trying to be set on a copy of a slice from a DataFrame.\n",
            "Try using .loc[row_indexer,col_indexer] = value instead\n",
            "\n",
            "See the caveats in the documentation: https://pandas.pydata.org/pandas-docs/stable/user_guide/indexing.html#returning-a-view-versus-a-copy\n",
            "  \"\"\"Entry point for launching an IPython kernel.\n"
          ]
        }
      ]
    },
    {
      "cell_type": "code",
      "source": [
        "df_pred = df_pred.drop_duplicates()"
      ],
      "metadata": {
        "id": "6O_EJrB0xPUJ"
      },
      "execution_count": 13,
      "outputs": []
    },
    {
      "cell_type": "code",
      "source": [
        "df_pred.head()"
      ],
      "metadata": {
        "colab": {
          "base_uri": "https://localhost:8080/",
          "height": 206
        },
        "id": "OZtdzUUGxQzl",
        "outputId": "b530fa41-d199-4e00-8876-3af96d8a8cd3"
      },
      "execution_count": 14,
      "outputs": [
        {
          "output_type": "execute_result",
          "data": {
            "text/html": [
              "\n",
              "  <div id=\"df-7fcf6c43-d077-4af5-b590-f4d7627430c0\">\n",
              "    <div class=\"colab-df-container\">\n",
              "      <div>\n",
              "<style scoped>\n",
              "    .dataframe tbody tr th:only-of-type {\n",
              "        vertical-align: middle;\n",
              "    }\n",
              "\n",
              "    .dataframe tbody tr th {\n",
              "        vertical-align: top;\n",
              "    }\n",
              "\n",
              "    .dataframe thead th {\n",
              "        text-align: right;\n",
              "    }\n",
              "</style>\n",
              "<table border=\"1\" class=\"dataframe\">\n",
              "  <thead>\n",
              "    <tr style=\"text-align: right;\">\n",
              "      <th></th>\n",
              "      <th>DOCUMENT_ID</th>\n",
              "      <th>SCORE</th>\n",
              "      <th>SENTENCE</th>\n",
              "    </tr>\n",
              "  </thead>\n",
              "  <tbody>\n",
              "    <tr>\n",
              "      <th>7</th>\n",
              "      <td>584207033</td>\n",
              "      <td>10.0</td>\n",
              "      <td>The loan process was super easy</td>\n",
              "    </tr>\n",
              "    <tr>\n",
              "      <th>10</th>\n",
              "      <td>584199033</td>\n",
              "      <td>9.0</td>\n",
              "      <td>The process was quick and easy!</td>\n",
              "    </tr>\n",
              "    <tr>\n",
              "      <th>13</th>\n",
              "      <td>591377035</td>\n",
              "      <td>10.0</td>\n",
              "      <td>were in my bank within just a few days from th...</td>\n",
              "    </tr>\n",
              "    <tr>\n",
              "      <th>25</th>\n",
              "      <td>34211545</td>\n",
              "      <td>10.0</td>\n",
              "      <td>Very expensive dental work and debt consolidat...</td>\n",
              "    </tr>\n",
              "    <tr>\n",
              "      <th>26</th>\n",
              "      <td>34211856</td>\n",
              "      <td>10.0</td>\n",
              "      <td>thanks againjust the quick service provided to...</td>\n",
              "    </tr>\n",
              "  </tbody>\n",
              "</table>\n",
              "</div>\n",
              "      <button class=\"colab-df-convert\" onclick=\"convertToInteractive('df-7fcf6c43-d077-4af5-b590-f4d7627430c0')\"\n",
              "              title=\"Convert this dataframe to an interactive table.\"\n",
              "              style=\"display:none;\">\n",
              "        \n",
              "  <svg xmlns=\"http://www.w3.org/2000/svg\" height=\"24px\"viewBox=\"0 0 24 24\"\n",
              "       width=\"24px\">\n",
              "    <path d=\"M0 0h24v24H0V0z\" fill=\"none\"/>\n",
              "    <path d=\"M18.56 5.44l.94 2.06.94-2.06 2.06-.94-2.06-.94-.94-2.06-.94 2.06-2.06.94zm-11 1L8.5 8.5l.94-2.06 2.06-.94-2.06-.94L8.5 2.5l-.94 2.06-2.06.94zm10 10l.94 2.06.94-2.06 2.06-.94-2.06-.94-.94-2.06-.94 2.06-2.06.94z\"/><path d=\"M17.41 7.96l-1.37-1.37c-.4-.4-.92-.59-1.43-.59-.52 0-1.04.2-1.43.59L10.3 9.45l-7.72 7.72c-.78.78-.78 2.05 0 2.83L4 21.41c.39.39.9.59 1.41.59.51 0 1.02-.2 1.41-.59l7.78-7.78 2.81-2.81c.8-.78.8-2.07 0-2.86zM5.41 20L4 18.59l7.72-7.72 1.47 1.35L5.41 20z\"/>\n",
              "  </svg>\n",
              "      </button>\n",
              "      \n",
              "  <style>\n",
              "    .colab-df-container {\n",
              "      display:flex;\n",
              "      flex-wrap:wrap;\n",
              "      gap: 12px;\n",
              "    }\n",
              "\n",
              "    .colab-df-convert {\n",
              "      background-color: #E8F0FE;\n",
              "      border: none;\n",
              "      border-radius: 50%;\n",
              "      cursor: pointer;\n",
              "      display: none;\n",
              "      fill: #1967D2;\n",
              "      height: 32px;\n",
              "      padding: 0 0 0 0;\n",
              "      width: 32px;\n",
              "    }\n",
              "\n",
              "    .colab-df-convert:hover {\n",
              "      background-color: #E2EBFA;\n",
              "      box-shadow: 0px 1px 2px rgba(60, 64, 67, 0.3), 0px 1px 3px 1px rgba(60, 64, 67, 0.15);\n",
              "      fill: #174EA6;\n",
              "    }\n",
              "\n",
              "    [theme=dark] .colab-df-convert {\n",
              "      background-color: #3B4455;\n",
              "      fill: #D2E3FC;\n",
              "    }\n",
              "\n",
              "    [theme=dark] .colab-df-convert:hover {\n",
              "      background-color: #434B5C;\n",
              "      box-shadow: 0px 1px 3px 1px rgba(0, 0, 0, 0.15);\n",
              "      filter: drop-shadow(0px 1px 2px rgba(0, 0, 0, 0.3));\n",
              "      fill: #FFFFFF;\n",
              "    }\n",
              "  </style>\n",
              "\n",
              "      <script>\n",
              "        const buttonEl =\n",
              "          document.querySelector('#df-7fcf6c43-d077-4af5-b590-f4d7627430c0 button.colab-df-convert');\n",
              "        buttonEl.style.display =\n",
              "          google.colab.kernel.accessAllowed ? 'block' : 'none';\n",
              "\n",
              "        async function convertToInteractive(key) {\n",
              "          const element = document.querySelector('#df-7fcf6c43-d077-4af5-b590-f4d7627430c0');\n",
              "          const dataTable =\n",
              "            await google.colab.kernel.invokeFunction('convertToInteractive',\n",
              "                                                     [key], {});\n",
              "          if (!dataTable) return;\n",
              "\n",
              "          const docLinkHtml = 'Like what you see? Visit the ' +\n",
              "            '<a target=\"_blank\" href=https://colab.research.google.com/notebooks/data_table.ipynb>data table notebook</a>'\n",
              "            + ' to learn more about interactive tables.';\n",
              "          element.innerHTML = '';\n",
              "          dataTable['output_type'] = 'display_data';\n",
              "          await google.colab.output.renderOutput(dataTable, element);\n",
              "          const docLink = document.createElement('div');\n",
              "          docLink.innerHTML = docLinkHtml;\n",
              "          element.appendChild(docLink);\n",
              "        }\n",
              "      </script>\n",
              "    </div>\n",
              "  </div>\n",
              "  "
            ],
            "text/plain": [
              "    DOCUMENT_ID  SCORE                                           SENTENCE\n",
              "7     584207033   10.0                    The loan process was super easy\n",
              "10    584199033    9.0                    The process was quick and easy!\n",
              "13    591377035   10.0  were in my bank within just a few days from th...\n",
              "25     34211545   10.0  Very expensive dental work and debt consolidat...\n",
              "26     34211856   10.0  thanks againjust the quick service provided to..."
            ]
          },
          "metadata": {},
          "execution_count": 14
        }
      ]
    },
    {
      "cell_type": "code",
      "execution_count": 15,
      "metadata": {
        "id": "rt1ALW5BARvA"
      },
      "outputs": [],
      "source": [
        "df_train1 = pd.get_dummies(df_train1,columns=['SCORE'])"
      ]
    },
    {
      "cell_type": "code",
      "source": [
        "df_test = pd.get_dummies(df_pred,columns=['SCORE'])  # change df_pred as df_test, so we can use df_pred later"
      ],
      "metadata": {
        "id": "rj6RG91TJszu"
      },
      "execution_count": 16,
      "outputs": []
    },
    {
      "cell_type": "code",
      "source": [
        "df_train1.head()"
      ],
      "metadata": {
        "colab": {
          "base_uri": "https://localhost:8080/",
          "height": 600
        },
        "id": "KhdWrTPqJUfY",
        "outputId": "b98994cf-e9d6-491f-a683-950707efcbe1"
      },
      "execution_count": 17,
      "outputs": [
        {
          "output_type": "execute_result",
          "data": {
            "text/html": [
              "\n",
              "  <div id=\"df-94e76ce8-0195-4fda-ad32-3f8dabfedff1\">\n",
              "    <div class=\"colab-df-container\">\n",
              "      <div>\n",
              "<style scoped>\n",
              "    .dataframe tbody tr th:only-of-type {\n",
              "        vertical-align: middle;\n",
              "    }\n",
              "\n",
              "    .dataframe tbody tr th {\n",
              "        vertical-align: top;\n",
              "    }\n",
              "\n",
              "    .dataframe thead th {\n",
              "        text-align: right;\n",
              "    }\n",
              "</style>\n",
              "<table border=\"1\" class=\"dataframe\">\n",
              "  <thead>\n",
              "    <tr style=\"text-align: right;\">\n",
              "      <th></th>\n",
              "      <th>DOCUMENT_ID</th>\n",
              "      <th>SENTENCE</th>\n",
              "      <th>SCORE_0.0</th>\n",
              "      <th>SCORE_1.0</th>\n",
              "      <th>SCORE_2.0</th>\n",
              "      <th>SCORE_3.0</th>\n",
              "      <th>SCORE_4.0</th>\n",
              "      <th>SCORE_5.0</th>\n",
              "      <th>SCORE_6.0</th>\n",
              "      <th>SCORE_7.0</th>\n",
              "      <th>SCORE_8.0</th>\n",
              "      <th>SCORE_9.0</th>\n",
              "      <th>SCORE_10.0</th>\n",
              "    </tr>\n",
              "  </thead>\n",
              "  <tbody>\n",
              "    <tr>\n",
              "      <th>0</th>\n",
              "      <td>583306034</td>\n",
              "      <td>The whole process went smooth and I am thankfu...</td>\n",
              "      <td>0</td>\n",
              "      <td>0</td>\n",
              "      <td>0</td>\n",
              "      <td>0</td>\n",
              "      <td>0</td>\n",
              "      <td>0</td>\n",
              "      <td>0</td>\n",
              "      <td>0</td>\n",
              "      <td>0</td>\n",
              "      <td>0</td>\n",
              "      <td>1</td>\n",
              "    </tr>\n",
              "    <tr>\n",
              "      <th>2</th>\n",
              "      <td>584193040</td>\n",
              "      <td>service</td>\n",
              "      <td>0</td>\n",
              "      <td>0</td>\n",
              "      <td>0</td>\n",
              "      <td>0</td>\n",
              "      <td>0</td>\n",
              "      <td>0</td>\n",
              "      <td>0</td>\n",
              "      <td>0</td>\n",
              "      <td>0</td>\n",
              "      <td>0</td>\n",
              "      <td>1</td>\n",
              "    </tr>\n",
              "    <tr>\n",
              "      <th>3</th>\n",
              "      <td>584203035</td>\n",
              "      <td>Thanks!I paid off a best egg I had in the past...</td>\n",
              "      <td>0</td>\n",
              "      <td>0</td>\n",
              "      <td>0</td>\n",
              "      <td>0</td>\n",
              "      <td>0</td>\n",
              "      <td>0</td>\n",
              "      <td>0</td>\n",
              "      <td>0</td>\n",
              "      <td>0</td>\n",
              "      <td>0</td>\n",
              "      <td>1</td>\n",
              "    </tr>\n",
              "    <tr>\n",
              "      <th>4</th>\n",
              "      <td>584200037</td>\n",
              "      <td>Thank you!Ease of use, fast customer service, ...</td>\n",
              "      <td>0</td>\n",
              "      <td>0</td>\n",
              "      <td>0</td>\n",
              "      <td>0</td>\n",
              "      <td>0</td>\n",
              "      <td>0</td>\n",
              "      <td>0</td>\n",
              "      <td>0</td>\n",
              "      <td>0</td>\n",
              "      <td>0</td>\n",
              "      <td>1</td>\n",
              "    </tr>\n",
              "    <tr>\n",
              "      <th>6</th>\n",
              "      <td>584204033</td>\n",
              "      <td>Ease and quickness of funding the loan</td>\n",
              "      <td>0</td>\n",
              "      <td>0</td>\n",
              "      <td>0</td>\n",
              "      <td>0</td>\n",
              "      <td>0</td>\n",
              "      <td>0</td>\n",
              "      <td>0</td>\n",
              "      <td>0</td>\n",
              "      <td>1</td>\n",
              "      <td>0</td>\n",
              "      <td>0</td>\n",
              "    </tr>\n",
              "  </tbody>\n",
              "</table>\n",
              "</div>\n",
              "      <button class=\"colab-df-convert\" onclick=\"convertToInteractive('df-94e76ce8-0195-4fda-ad32-3f8dabfedff1')\"\n",
              "              title=\"Convert this dataframe to an interactive table.\"\n",
              "              style=\"display:none;\">\n",
              "        \n",
              "  <svg xmlns=\"http://www.w3.org/2000/svg\" height=\"24px\"viewBox=\"0 0 24 24\"\n",
              "       width=\"24px\">\n",
              "    <path d=\"M0 0h24v24H0V0z\" fill=\"none\"/>\n",
              "    <path d=\"M18.56 5.44l.94 2.06.94-2.06 2.06-.94-2.06-.94-.94-2.06-.94 2.06-2.06.94zm-11 1L8.5 8.5l.94-2.06 2.06-.94-2.06-.94L8.5 2.5l-.94 2.06-2.06.94zm10 10l.94 2.06.94-2.06 2.06-.94-2.06-.94-.94-2.06-.94 2.06-2.06.94z\"/><path d=\"M17.41 7.96l-1.37-1.37c-.4-.4-.92-.59-1.43-.59-.52 0-1.04.2-1.43.59L10.3 9.45l-7.72 7.72c-.78.78-.78 2.05 0 2.83L4 21.41c.39.39.9.59 1.41.59.51 0 1.02-.2 1.41-.59l7.78-7.78 2.81-2.81c.8-.78.8-2.07 0-2.86zM5.41 20L4 18.59l7.72-7.72 1.47 1.35L5.41 20z\"/>\n",
              "  </svg>\n",
              "      </button>\n",
              "      \n",
              "  <style>\n",
              "    .colab-df-container {\n",
              "      display:flex;\n",
              "      flex-wrap:wrap;\n",
              "      gap: 12px;\n",
              "    }\n",
              "\n",
              "    .colab-df-convert {\n",
              "      background-color: #E8F0FE;\n",
              "      border: none;\n",
              "      border-radius: 50%;\n",
              "      cursor: pointer;\n",
              "      display: none;\n",
              "      fill: #1967D2;\n",
              "      height: 32px;\n",
              "      padding: 0 0 0 0;\n",
              "      width: 32px;\n",
              "    }\n",
              "\n",
              "    .colab-df-convert:hover {\n",
              "      background-color: #E2EBFA;\n",
              "      box-shadow: 0px 1px 2px rgba(60, 64, 67, 0.3), 0px 1px 3px 1px rgba(60, 64, 67, 0.15);\n",
              "      fill: #174EA6;\n",
              "    }\n",
              "\n",
              "    [theme=dark] .colab-df-convert {\n",
              "      background-color: #3B4455;\n",
              "      fill: #D2E3FC;\n",
              "    }\n",
              "\n",
              "    [theme=dark] .colab-df-convert:hover {\n",
              "      background-color: #434B5C;\n",
              "      box-shadow: 0px 1px 3px 1px rgba(0, 0, 0, 0.15);\n",
              "      filter: drop-shadow(0px 1px 2px rgba(0, 0, 0, 0.3));\n",
              "      fill: #FFFFFF;\n",
              "    }\n",
              "  </style>\n",
              "\n",
              "      <script>\n",
              "        const buttonEl =\n",
              "          document.querySelector('#df-94e76ce8-0195-4fda-ad32-3f8dabfedff1 button.colab-df-convert');\n",
              "        buttonEl.style.display =\n",
              "          google.colab.kernel.accessAllowed ? 'block' : 'none';\n",
              "\n",
              "        async function convertToInteractive(key) {\n",
              "          const element = document.querySelector('#df-94e76ce8-0195-4fda-ad32-3f8dabfedff1');\n",
              "          const dataTable =\n",
              "            await google.colab.kernel.invokeFunction('convertToInteractive',\n",
              "                                                     [key], {});\n",
              "          if (!dataTable) return;\n",
              "\n",
              "          const docLinkHtml = 'Like what you see? Visit the ' +\n",
              "            '<a target=\"_blank\" href=https://colab.research.google.com/notebooks/data_table.ipynb>data table notebook</a>'\n",
              "            + ' to learn more about interactive tables.';\n",
              "          element.innerHTML = '';\n",
              "          dataTable['output_type'] = 'display_data';\n",
              "          await google.colab.output.renderOutput(dataTable, element);\n",
              "          const docLink = document.createElement('div');\n",
              "          docLink.innerHTML = docLinkHtml;\n",
              "          element.appendChild(docLink);\n",
              "        }\n",
              "      </script>\n",
              "    </div>\n",
              "  </div>\n",
              "  "
            ],
            "text/plain": [
              "   DOCUMENT_ID  ... SCORE_10.0\n",
              "0    583306034  ...          1\n",
              "2    584193040  ...          1\n",
              "3    584203035  ...          1\n",
              "4    584200037  ...          1\n",
              "6    584204033  ...          0\n",
              "\n",
              "[5 rows x 13 columns]"
            ]
          },
          "metadata": {},
          "execution_count": 17
        }
      ]
    },
    {
      "cell_type": "code",
      "metadata": {
        "id": "HQWa-9QYxqNb"
      },
      "source": [
        "#xtrain = df_train1['SENTENCE']\n",
        "#ytrain = df_train1['SCORE']\n",
        "#xtest = df_pred['SENTENCE']\n",
        "#ytest = df_pred['SCORE']"
      ],
      "execution_count": null,
      "outputs": []
    },
    {
      "cell_type": "code",
      "source": [
        "!pip install texthero"
      ],
      "metadata": {
        "colab": {
          "base_uri": "https://localhost:8080/"
        },
        "id": "-zRDx4BevP0y",
        "outputId": "a0bad695-bbee-4c28-b6d4-569dea1df311"
      },
      "execution_count": 18,
      "outputs": [
        {
          "output_type": "stream",
          "name": "stdout",
          "text": [
            "Collecting texthero\n",
            "  Downloading texthero-1.1.0-py3-none-any.whl (24 kB)\n",
            "Collecting nltk>=3.3\n",
            "  Downloading nltk-3.6.7-py3-none-any.whl (1.5 MB)\n",
            "\u001b[K     |████████████████████████████████| 1.5 MB 7.3 MB/s \n",
            "\u001b[?25hRequirement already satisfied: matplotlib>=3.1.0 in /usr/local/lib/python3.7/dist-packages (from texthero) (3.2.2)\n",
            "Collecting unidecode>=1.1.1\n",
            "  Downloading Unidecode-1.3.2-py3-none-any.whl (235 kB)\n",
            "\u001b[K     |████████████████████████████████| 235 kB 46.4 MB/s \n",
            "\u001b[?25hRequirement already satisfied: tqdm>=4.3 in /usr/local/lib/python3.7/dist-packages (from texthero) (4.62.3)\n",
            "Requirement already satisfied: numpy>=1.17 in /usr/local/lib/python3.7/dist-packages (from texthero) (1.19.5)\n",
            "Requirement already satisfied: scikit-learn>=0.22 in /usr/local/lib/python3.7/dist-packages (from texthero) (1.0.1)\n",
            "Requirement already satisfied: plotly>=4.2.0 in /usr/local/lib/python3.7/dist-packages (from texthero) (4.4.1)\n",
            "Requirement already satisfied: gensim<4.0,>=3.6.0 in /usr/local/lib/python3.7/dist-packages (from texthero) (3.6.0)\n",
            "Requirement already satisfied: spacy<3.0.0 in /usr/local/lib/python3.7/dist-packages (from texthero) (2.2.4)\n",
            "Requirement already satisfied: pandas>=1.0.2 in /usr/local/lib/python3.7/dist-packages (from texthero) (1.1.5)\n",
            "Requirement already satisfied: wordcloud>=1.5.0 in /usr/local/lib/python3.7/dist-packages (from texthero) (1.5.0)\n",
            "Requirement already satisfied: scipy>=0.18.1 in /usr/local/lib/python3.7/dist-packages (from gensim<4.0,>=3.6.0->texthero) (1.4.1)\n",
            "Requirement already satisfied: six>=1.5.0 in /usr/local/lib/python3.7/dist-packages (from gensim<4.0,>=3.6.0->texthero) (1.15.0)\n",
            "Requirement already satisfied: smart-open>=1.2.1 in /usr/local/lib/python3.7/dist-packages (from gensim<4.0,>=3.6.0->texthero) (5.2.1)\n",
            "Requirement already satisfied: pyparsing!=2.0.4,!=2.1.2,!=2.1.6,>=2.0.1 in /usr/local/lib/python3.7/dist-packages (from matplotlib>=3.1.0->texthero) (3.0.6)\n",
            "Requirement already satisfied: python-dateutil>=2.1 in /usr/local/lib/python3.7/dist-packages (from matplotlib>=3.1.0->texthero) (2.8.2)\n",
            "Requirement already satisfied: kiwisolver>=1.0.1 in /usr/local/lib/python3.7/dist-packages (from matplotlib>=3.1.0->texthero) (1.3.2)\n",
            "Requirement already satisfied: cycler>=0.10 in /usr/local/lib/python3.7/dist-packages (from matplotlib>=3.1.0->texthero) (0.11.0)\n",
            "Requirement already satisfied: click in /usr/local/lib/python3.7/dist-packages (from nltk>=3.3->texthero) (7.1.2)\n",
            "Requirement already satisfied: joblib in /usr/local/lib/python3.7/dist-packages (from nltk>=3.3->texthero) (1.1.0)\n",
            "Collecting regex>=2021.8.3\n",
            "  Downloading regex-2021.11.10-cp37-cp37m-manylinux_2_17_x86_64.manylinux2014_x86_64.whl (749 kB)\n",
            "\u001b[K     |████████████████████████████████| 749 kB 45.6 MB/s \n",
            "\u001b[?25hRequirement already satisfied: pytz>=2017.2 in /usr/local/lib/python3.7/dist-packages (from pandas>=1.0.2->texthero) (2018.9)\n",
            "Requirement already satisfied: retrying>=1.3.3 in /usr/local/lib/python3.7/dist-packages (from plotly>=4.2.0->texthero) (1.3.3)\n",
            "Requirement already satisfied: threadpoolctl>=2.0.0 in /usr/local/lib/python3.7/dist-packages (from scikit-learn>=0.22->texthero) (3.0.0)\n",
            "Requirement already satisfied: setuptools in /usr/local/lib/python3.7/dist-packages (from spacy<3.0.0->texthero) (57.4.0)\n",
            "Requirement already satisfied: murmurhash<1.1.0,>=0.28.0 in /usr/local/lib/python3.7/dist-packages (from spacy<3.0.0->texthero) (1.0.6)\n",
            "Requirement already satisfied: blis<0.5.0,>=0.4.0 in /usr/local/lib/python3.7/dist-packages (from spacy<3.0.0->texthero) (0.4.1)\n",
            "Requirement already satisfied: wasabi<1.1.0,>=0.4.0 in /usr/local/lib/python3.7/dist-packages (from spacy<3.0.0->texthero) (0.8.2)\n",
            "Requirement already satisfied: catalogue<1.1.0,>=0.0.7 in /usr/local/lib/python3.7/dist-packages (from spacy<3.0.0->texthero) (1.0.0)\n",
            "Requirement already satisfied: cymem<2.1.0,>=2.0.2 in /usr/local/lib/python3.7/dist-packages (from spacy<3.0.0->texthero) (2.0.6)\n",
            "Requirement already satisfied: thinc==7.4.0 in /usr/local/lib/python3.7/dist-packages (from spacy<3.0.0->texthero) (7.4.0)\n",
            "Requirement already satisfied: plac<1.2.0,>=0.9.6 in /usr/local/lib/python3.7/dist-packages (from spacy<3.0.0->texthero) (1.1.3)\n",
            "Requirement already satisfied: srsly<1.1.0,>=1.0.2 in /usr/local/lib/python3.7/dist-packages (from spacy<3.0.0->texthero) (1.0.5)\n",
            "Requirement already satisfied: requests<3.0.0,>=2.13.0 in /usr/local/lib/python3.7/dist-packages (from spacy<3.0.0->texthero) (2.23.0)\n",
            "Requirement already satisfied: preshed<3.1.0,>=3.0.2 in /usr/local/lib/python3.7/dist-packages (from spacy<3.0.0->texthero) (3.0.6)\n",
            "Requirement already satisfied: importlib-metadata>=0.20 in /usr/local/lib/python3.7/dist-packages (from catalogue<1.1.0,>=0.0.7->spacy<3.0.0->texthero) (4.8.2)\n",
            "Requirement already satisfied: zipp>=0.5 in /usr/local/lib/python3.7/dist-packages (from importlib-metadata>=0.20->catalogue<1.1.0,>=0.0.7->spacy<3.0.0->texthero) (3.6.0)\n",
            "Requirement already satisfied: typing-extensions>=3.6.4 in /usr/local/lib/python3.7/dist-packages (from importlib-metadata>=0.20->catalogue<1.1.0,>=0.0.7->spacy<3.0.0->texthero) (3.10.0.2)\n",
            "Requirement already satisfied: idna<3,>=2.5 in /usr/local/lib/python3.7/dist-packages (from requests<3.0.0,>=2.13.0->spacy<3.0.0->texthero) (2.10)\n",
            "Requirement already satisfied: chardet<4,>=3.0.2 in /usr/local/lib/python3.7/dist-packages (from requests<3.0.0,>=2.13.0->spacy<3.0.0->texthero) (3.0.4)\n",
            "Requirement already satisfied: urllib3!=1.25.0,!=1.25.1,<1.26,>=1.21.1 in /usr/local/lib/python3.7/dist-packages (from requests<3.0.0,>=2.13.0->spacy<3.0.0->texthero) (1.24.3)\n",
            "Requirement already satisfied: certifi>=2017.4.17 in /usr/local/lib/python3.7/dist-packages (from requests<3.0.0,>=2.13.0->spacy<3.0.0->texthero) (2021.10.8)\n",
            "Requirement already satisfied: pillow in /usr/local/lib/python3.7/dist-packages (from wordcloud>=1.5.0->texthero) (7.1.2)\n",
            "Installing collected packages: regex, unidecode, nltk, texthero\n",
            "  Attempting uninstall: regex\n",
            "    Found existing installation: regex 2019.12.20\n",
            "    Uninstalling regex-2019.12.20:\n",
            "      Successfully uninstalled regex-2019.12.20\n",
            "  Attempting uninstall: nltk\n",
            "    Found existing installation: nltk 3.2.5\n",
            "    Uninstalling nltk-3.2.5:\n",
            "      Successfully uninstalled nltk-3.2.5\n",
            "Successfully installed nltk-3.6.7 regex-2021.11.10 texthero-1.1.0 unidecode-1.3.2\n"
          ]
        }
      ]
    },
    {
      "cell_type": "code",
      "source": [
        "!pip install tensorflow-text"
      ],
      "metadata": {
        "colab": {
          "base_uri": "https://localhost:8080/"
        },
        "id": "egwfpb7ZFIBb",
        "outputId": "d7d8c44d-5fe5-4678-a42d-591f661d8859"
      },
      "execution_count": 19,
      "outputs": [
        {
          "output_type": "stream",
          "name": "stdout",
          "text": [
            "Collecting tensorflow-text\n",
            "  Downloading tensorflow_text-2.7.3-cp37-cp37m-manylinux2010_x86_64.whl (4.9 MB)\n",
            "\u001b[K     |████████████████████████████████| 4.9 MB 5.2 MB/s \n",
            "\u001b[?25hRequirement already satisfied: tensorflow<2.8,>=2.7.0 in /usr/local/lib/python3.7/dist-packages (from tensorflow-text) (2.7.0)\n",
            "Requirement already satisfied: tensorflow-hub>=0.8.0 in /usr/local/lib/python3.7/dist-packages (from tensorflow-text) (0.12.0)\n",
            "Requirement already satisfied: grpcio<2.0,>=1.24.3 in /usr/local/lib/python3.7/dist-packages (from tensorflow<2.8,>=2.7.0->tensorflow-text) (1.42.0)\n",
            "Requirement already satisfied: termcolor>=1.1.0 in /usr/local/lib/python3.7/dist-packages (from tensorflow<2.8,>=2.7.0->tensorflow-text) (1.1.0)\n",
            "Requirement already satisfied: gast<0.5.0,>=0.2.1 in /usr/local/lib/python3.7/dist-packages (from tensorflow<2.8,>=2.7.0->tensorflow-text) (0.4.0)\n",
            "Requirement already satisfied: numpy>=1.14.5 in /usr/local/lib/python3.7/dist-packages (from tensorflow<2.8,>=2.7.0->tensorflow-text) (1.19.5)\n",
            "Requirement already satisfied: astunparse>=1.6.0 in /usr/local/lib/python3.7/dist-packages (from tensorflow<2.8,>=2.7.0->tensorflow-text) (1.6.3)\n",
            "Requirement already satisfied: protobuf>=3.9.2 in /usr/local/lib/python3.7/dist-packages (from tensorflow<2.8,>=2.7.0->tensorflow-text) (3.17.3)\n",
            "Requirement already satisfied: six>=1.12.0 in /usr/local/lib/python3.7/dist-packages (from tensorflow<2.8,>=2.7.0->tensorflow-text) (1.15.0)\n",
            "Requirement already satisfied: tensorflow-io-gcs-filesystem>=0.21.0 in /usr/local/lib/python3.7/dist-packages (from tensorflow<2.8,>=2.7.0->tensorflow-text) (0.22.0)\n",
            "Requirement already satisfied: keras-preprocessing>=1.1.1 in /usr/local/lib/python3.7/dist-packages (from tensorflow<2.8,>=2.7.0->tensorflow-text) (1.1.2)\n",
            "Requirement already satisfied: wheel<1.0,>=0.32.0 in /usr/local/lib/python3.7/dist-packages (from tensorflow<2.8,>=2.7.0->tensorflow-text) (0.37.0)\n",
            "Requirement already satisfied: wrapt>=1.11.0 in /usr/local/lib/python3.7/dist-packages (from tensorflow<2.8,>=2.7.0->tensorflow-text) (1.13.3)\n",
            "Requirement already satisfied: tensorboard~=2.6 in /usr/local/lib/python3.7/dist-packages (from tensorflow<2.8,>=2.7.0->tensorflow-text) (2.7.0)\n",
            "Requirement already satisfied: google-pasta>=0.1.1 in /usr/local/lib/python3.7/dist-packages (from tensorflow<2.8,>=2.7.0->tensorflow-text) (0.2.0)\n",
            "Requirement already satisfied: libclang>=9.0.1 in /usr/local/lib/python3.7/dist-packages (from tensorflow<2.8,>=2.7.0->tensorflow-text) (12.0.0)\n",
            "Requirement already satisfied: opt-einsum>=2.3.2 in /usr/local/lib/python3.7/dist-packages (from tensorflow<2.8,>=2.7.0->tensorflow-text) (3.3.0)\n",
            "Requirement already satisfied: typing-extensions>=3.6.6 in /usr/local/lib/python3.7/dist-packages (from tensorflow<2.8,>=2.7.0->tensorflow-text) (3.10.0.2)\n",
            "Requirement already satisfied: h5py>=2.9.0 in /usr/local/lib/python3.7/dist-packages (from tensorflow<2.8,>=2.7.0->tensorflow-text) (3.1.0)\n",
            "Requirement already satisfied: keras<2.8,>=2.7.0rc0 in /usr/local/lib/python3.7/dist-packages (from tensorflow<2.8,>=2.7.0->tensorflow-text) (2.7.0)\n",
            "Requirement already satisfied: absl-py>=0.4.0 in /usr/local/lib/python3.7/dist-packages (from tensorflow<2.8,>=2.7.0->tensorflow-text) (0.12.0)\n",
            "Requirement already satisfied: tensorflow-estimator<2.8,~=2.7.0rc0 in /usr/local/lib/python3.7/dist-packages (from tensorflow<2.8,>=2.7.0->tensorflow-text) (2.7.0)\n",
            "Requirement already satisfied: flatbuffers<3.0,>=1.12 in /usr/local/lib/python3.7/dist-packages (from tensorflow<2.8,>=2.7.0->tensorflow-text) (2.0)\n",
            "Requirement already satisfied: cached-property in /usr/local/lib/python3.7/dist-packages (from h5py>=2.9.0->tensorflow<2.8,>=2.7.0->tensorflow-text) (1.5.2)\n",
            "Requirement already satisfied: werkzeug>=0.11.15 in /usr/local/lib/python3.7/dist-packages (from tensorboard~=2.6->tensorflow<2.8,>=2.7.0->tensorflow-text) (1.0.1)\n",
            "Requirement already satisfied: tensorboard-data-server<0.7.0,>=0.6.0 in /usr/local/lib/python3.7/dist-packages (from tensorboard~=2.6->tensorflow<2.8,>=2.7.0->tensorflow-text) (0.6.1)\n",
            "Requirement already satisfied: tensorboard-plugin-wit>=1.6.0 in /usr/local/lib/python3.7/dist-packages (from tensorboard~=2.6->tensorflow<2.8,>=2.7.0->tensorflow-text) (1.8.0)\n",
            "Requirement already satisfied: requests<3,>=2.21.0 in /usr/local/lib/python3.7/dist-packages (from tensorboard~=2.6->tensorflow<2.8,>=2.7.0->tensorflow-text) (2.23.0)\n",
            "Requirement already satisfied: google-auth<3,>=1.6.3 in /usr/local/lib/python3.7/dist-packages (from tensorboard~=2.6->tensorflow<2.8,>=2.7.0->tensorflow-text) (1.35.0)\n",
            "Requirement already satisfied: google-auth-oauthlib<0.5,>=0.4.1 in /usr/local/lib/python3.7/dist-packages (from tensorboard~=2.6->tensorflow<2.8,>=2.7.0->tensorflow-text) (0.4.6)\n",
            "Requirement already satisfied: setuptools>=41.0.0 in /usr/local/lib/python3.7/dist-packages (from tensorboard~=2.6->tensorflow<2.8,>=2.7.0->tensorflow-text) (57.4.0)\n",
            "Requirement already satisfied: markdown>=2.6.8 in /usr/local/lib/python3.7/dist-packages (from tensorboard~=2.6->tensorflow<2.8,>=2.7.0->tensorflow-text) (3.3.6)\n",
            "Requirement already satisfied: pyasn1-modules>=0.2.1 in /usr/local/lib/python3.7/dist-packages (from google-auth<3,>=1.6.3->tensorboard~=2.6->tensorflow<2.8,>=2.7.0->tensorflow-text) (0.2.8)\n",
            "Requirement already satisfied: rsa<5,>=3.1.4 in /usr/local/lib/python3.7/dist-packages (from google-auth<3,>=1.6.3->tensorboard~=2.6->tensorflow<2.8,>=2.7.0->tensorflow-text) (4.8)\n",
            "Requirement already satisfied: cachetools<5.0,>=2.0.0 in /usr/local/lib/python3.7/dist-packages (from google-auth<3,>=1.6.3->tensorboard~=2.6->tensorflow<2.8,>=2.7.0->tensorflow-text) (4.2.4)\n",
            "Requirement already satisfied: requests-oauthlib>=0.7.0 in /usr/local/lib/python3.7/dist-packages (from google-auth-oauthlib<0.5,>=0.4.1->tensorboard~=2.6->tensorflow<2.8,>=2.7.0->tensorflow-text) (1.3.0)\n",
            "Requirement already satisfied: importlib-metadata>=4.4 in /usr/local/lib/python3.7/dist-packages (from markdown>=2.6.8->tensorboard~=2.6->tensorflow<2.8,>=2.7.0->tensorflow-text) (4.8.2)\n",
            "Requirement already satisfied: zipp>=0.5 in /usr/local/lib/python3.7/dist-packages (from importlib-metadata>=4.4->markdown>=2.6.8->tensorboard~=2.6->tensorflow<2.8,>=2.7.0->tensorflow-text) (3.6.0)\n",
            "Requirement already satisfied: pyasn1<0.5.0,>=0.4.6 in /usr/local/lib/python3.7/dist-packages (from pyasn1-modules>=0.2.1->google-auth<3,>=1.6.3->tensorboard~=2.6->tensorflow<2.8,>=2.7.0->tensorflow-text) (0.4.8)\n",
            "Requirement already satisfied: certifi>=2017.4.17 in /usr/local/lib/python3.7/dist-packages (from requests<3,>=2.21.0->tensorboard~=2.6->tensorflow<2.8,>=2.7.0->tensorflow-text) (2021.10.8)\n",
            "Requirement already satisfied: idna<3,>=2.5 in /usr/local/lib/python3.7/dist-packages (from requests<3,>=2.21.0->tensorboard~=2.6->tensorflow<2.8,>=2.7.0->tensorflow-text) (2.10)\n",
            "Requirement already satisfied: chardet<4,>=3.0.2 in /usr/local/lib/python3.7/dist-packages (from requests<3,>=2.21.0->tensorboard~=2.6->tensorflow<2.8,>=2.7.0->tensorflow-text) (3.0.4)\n",
            "Requirement already satisfied: urllib3!=1.25.0,!=1.25.1,<1.26,>=1.21.1 in /usr/local/lib/python3.7/dist-packages (from requests<3,>=2.21.0->tensorboard~=2.6->tensorflow<2.8,>=2.7.0->tensorflow-text) (1.24.3)\n",
            "Requirement already satisfied: oauthlib>=3.0.0 in /usr/local/lib/python3.7/dist-packages (from requests-oauthlib>=0.7.0->google-auth-oauthlib<0.5,>=0.4.1->tensorboard~=2.6->tensorflow<2.8,>=2.7.0->tensorflow-text) (3.1.1)\n",
            "Installing collected packages: tensorflow-text\n",
            "Successfully installed tensorflow-text-2.7.3\n"
          ]
        }
      ]
    },
    {
      "cell_type": "code",
      "source": [
        "!pip install tf-models-official"
      ],
      "metadata": {
        "colab": {
          "base_uri": "https://localhost:8080/"
        },
        "id": "x7aS4LRYFfkY",
        "outputId": "3ae56f83-40e4-4153-a1e8-55b31d7f5354"
      },
      "execution_count": 20,
      "outputs": [
        {
          "output_type": "stream",
          "name": "stdout",
          "text": [
            "Collecting tf-models-official\n",
            "  Downloading tf_models_official-2.7.0-py2.py3-none-any.whl (1.8 MB)\n",
            "\u001b[K     |████████████████████████████████| 1.8 MB 5.3 MB/s \n",
            "\u001b[?25hCollecting py-cpuinfo>=3.3.0\n",
            "  Downloading py-cpuinfo-8.0.0.tar.gz (99 kB)\n",
            "\u001b[K     |████████████████████████████████| 99 kB 8.7 MB/s \n",
            "\u001b[?25hRequirement already satisfied: google-api-python-client>=1.6.7 in /usr/local/lib/python3.7/dist-packages (from tf-models-official) (1.12.8)\n",
            "Requirement already satisfied: psutil>=5.4.3 in /usr/local/lib/python3.7/dist-packages (from tf-models-official) (5.4.8)\n",
            "Requirement already satisfied: Cython in /usr/local/lib/python3.7/dist-packages (from tf-models-official) (0.29.24)\n",
            "Requirement already satisfied: scipy>=0.19.1 in /usr/local/lib/python3.7/dist-packages (from tf-models-official) (1.4.1)\n",
            "Requirement already satisfied: Pillow in /usr/local/lib/python3.7/dist-packages (from tf-models-official) (7.1.2)\n",
            "Requirement already satisfied: tensorflow>=2.7.0 in /usr/local/lib/python3.7/dist-packages (from tf-models-official) (2.7.0)\n",
            "Collecting opencv-python-headless\n",
            "  Downloading opencv_python_headless-4.5.5.62-cp36-abi3-manylinux_2_17_x86_64.manylinux2014_x86_64.whl (47.7 MB)\n",
            "\u001b[K     |████████████████████████████████| 47.7 MB 2.5 MB/s \n",
            "\u001b[?25hCollecting tensorflow-model-optimization>=0.4.1\n",
            "  Downloading tensorflow_model_optimization-0.7.0-py2.py3-none-any.whl (213 kB)\n",
            "\u001b[K     |████████████████████████████████| 213 kB 38.5 MB/s \n",
            "\u001b[?25hCollecting sacrebleu\n",
            "  Downloading sacrebleu-2.0.0-py3-none-any.whl (90 kB)\n",
            "\u001b[K     |████████████████████████████████| 90 kB 9.5 MB/s \n",
            "\u001b[?25hRequirement already satisfied: tensorflow-datasets in /usr/local/lib/python3.7/dist-packages (from tf-models-official) (4.0.1)\n",
            "Requirement already satisfied: pycocotools in /usr/local/lib/python3.7/dist-packages (from tf-models-official) (2.0.3)\n",
            "Collecting tf-slim>=1.1.0\n",
            "  Downloading tf_slim-1.1.0-py2.py3-none-any.whl (352 kB)\n",
            "\u001b[K     |████████████████████████████████| 352 kB 50.7 MB/s \n",
            "\u001b[?25hRequirement already satisfied: six in /usr/local/lib/python3.7/dist-packages (from tf-models-official) (1.15.0)\n",
            "Collecting pyyaml>=5.1\n",
            "  Downloading PyYAML-6.0-cp37-cp37m-manylinux_2_5_x86_64.manylinux1_x86_64.manylinux_2_12_x86_64.manylinux2010_x86_64.whl (596 kB)\n",
            "\u001b[K     |████████████████████████████████| 596 kB 47.8 MB/s \n",
            "\u001b[?25hRequirement already satisfied: gin-config in /usr/local/lib/python3.7/dist-packages (from tf-models-official) (0.5.0)\n",
            "Requirement already satisfied: kaggle>=1.3.9 in /usr/local/lib/python3.7/dist-packages (from tf-models-official) (1.5.12)\n",
            "Requirement already satisfied: numpy>=1.15.4 in /usr/local/lib/python3.7/dist-packages (from tf-models-official) (1.19.5)\n",
            "Collecting sentencepiece\n",
            "  Downloading sentencepiece-0.1.96-cp37-cp37m-manylinux_2_17_x86_64.manylinux2014_x86_64.whl (1.2 MB)\n",
            "\u001b[K     |████████████████████████████████| 1.2 MB 48.1 MB/s \n",
            "\u001b[?25hRequirement already satisfied: matplotlib in /usr/local/lib/python3.7/dist-packages (from tf-models-official) (3.2.2)\n",
            "Collecting tensorflow-addons\n",
            "  Downloading tensorflow_addons-0.15.0-cp37-cp37m-manylinux_2_12_x86_64.manylinux2010_x86_64.whl (1.1 MB)\n",
            "\u001b[K     |████████████████████████████████| 1.1 MB 48.1 MB/s \n",
            "\u001b[?25hRequirement already satisfied: pandas>=0.22.0 in /usr/local/lib/python3.7/dist-packages (from tf-models-official) (1.1.5)\n",
            "Requirement already satisfied: oauth2client in /usr/local/lib/python3.7/dist-packages (from tf-models-official) (4.1.3)\n",
            "Collecting seqeval\n",
            "  Downloading seqeval-1.2.2.tar.gz (43 kB)\n",
            "\u001b[K     |████████████████████████████████| 43 kB 2.0 MB/s \n",
            "\u001b[?25hRequirement already satisfied: tensorflow-text>=2.7.0 in /usr/local/lib/python3.7/dist-packages (from tf-models-official) (2.7.3)\n",
            "Requirement already satisfied: tensorflow-hub>=0.6.0 in /usr/local/lib/python3.7/dist-packages (from tf-models-official) (0.12.0)\n",
            "Requirement already satisfied: google-auth>=1.16.0 in /usr/local/lib/python3.7/dist-packages (from google-api-python-client>=1.6.7->tf-models-official) (1.35.0)\n",
            "Requirement already satisfied: httplib2<1dev,>=0.15.0 in /usr/local/lib/python3.7/dist-packages (from google-api-python-client>=1.6.7->tf-models-official) (0.17.4)\n",
            "Requirement already satisfied: google-api-core<2dev,>=1.21.0 in /usr/local/lib/python3.7/dist-packages (from google-api-python-client>=1.6.7->tf-models-official) (1.26.3)\n",
            "Requirement already satisfied: uritemplate<4dev,>=3.0.0 in /usr/local/lib/python3.7/dist-packages (from google-api-python-client>=1.6.7->tf-models-official) (3.0.1)\n",
            "Requirement already satisfied: google-auth-httplib2>=0.0.3 in /usr/local/lib/python3.7/dist-packages (from google-api-python-client>=1.6.7->tf-models-official) (0.0.4)\n",
            "Requirement already satisfied: googleapis-common-protos<2.0dev,>=1.6.0 in /usr/local/lib/python3.7/dist-packages (from google-api-core<2dev,>=1.21.0->google-api-python-client>=1.6.7->tf-models-official) (1.53.0)\n",
            "Requirement already satisfied: pytz in /usr/local/lib/python3.7/dist-packages (from google-api-core<2dev,>=1.21.0->google-api-python-client>=1.6.7->tf-models-official) (2018.9)\n",
            "Requirement already satisfied: setuptools>=40.3.0 in /usr/local/lib/python3.7/dist-packages (from google-api-core<2dev,>=1.21.0->google-api-python-client>=1.6.7->tf-models-official) (57.4.0)\n",
            "Requirement already satisfied: protobuf>=3.12.0 in /usr/local/lib/python3.7/dist-packages (from google-api-core<2dev,>=1.21.0->google-api-python-client>=1.6.7->tf-models-official) (3.17.3)\n",
            "Requirement already satisfied: packaging>=14.3 in /usr/local/lib/python3.7/dist-packages (from google-api-core<2dev,>=1.21.0->google-api-python-client>=1.6.7->tf-models-official) (21.3)\n",
            "Requirement already satisfied: requests<3.0.0dev,>=2.18.0 in /usr/local/lib/python3.7/dist-packages (from google-api-core<2dev,>=1.21.0->google-api-python-client>=1.6.7->tf-models-official) (2.23.0)\n",
            "Requirement already satisfied: cachetools<5.0,>=2.0.0 in /usr/local/lib/python3.7/dist-packages (from google-auth>=1.16.0->google-api-python-client>=1.6.7->tf-models-official) (4.2.4)\n",
            "Requirement already satisfied: pyasn1-modules>=0.2.1 in /usr/local/lib/python3.7/dist-packages (from google-auth>=1.16.0->google-api-python-client>=1.6.7->tf-models-official) (0.2.8)\n",
            "Requirement already satisfied: rsa<5,>=3.1.4 in /usr/local/lib/python3.7/dist-packages (from google-auth>=1.16.0->google-api-python-client>=1.6.7->tf-models-official) (4.8)\n",
            "Requirement already satisfied: certifi in /usr/local/lib/python3.7/dist-packages (from kaggle>=1.3.9->tf-models-official) (2021.10.8)\n",
            "Requirement already satisfied: python-dateutil in /usr/local/lib/python3.7/dist-packages (from kaggle>=1.3.9->tf-models-official) (2.8.2)\n",
            "Requirement already satisfied: urllib3 in /usr/local/lib/python3.7/dist-packages (from kaggle>=1.3.9->tf-models-official) (1.24.3)\n",
            "Requirement already satisfied: python-slugify in /usr/local/lib/python3.7/dist-packages (from kaggle>=1.3.9->tf-models-official) (5.0.2)\n",
            "Requirement already satisfied: tqdm in /usr/local/lib/python3.7/dist-packages (from kaggle>=1.3.9->tf-models-official) (4.62.3)\n",
            "Requirement already satisfied: pyparsing!=3.0.5,>=2.0.2 in /usr/local/lib/python3.7/dist-packages (from packaging>=14.3->google-api-core<2dev,>=1.21.0->google-api-python-client>=1.6.7->tf-models-official) (3.0.6)\n",
            "Requirement already satisfied: pyasn1<0.5.0,>=0.4.6 in /usr/local/lib/python3.7/dist-packages (from pyasn1-modules>=0.2.1->google-auth>=1.16.0->google-api-python-client>=1.6.7->tf-models-official) (0.4.8)\n",
            "Requirement already satisfied: idna<3,>=2.5 in /usr/local/lib/python3.7/dist-packages (from requests<3.0.0dev,>=2.18.0->google-api-core<2dev,>=1.21.0->google-api-python-client>=1.6.7->tf-models-official) (2.10)\n",
            "Requirement already satisfied: chardet<4,>=3.0.2 in /usr/local/lib/python3.7/dist-packages (from requests<3.0.0dev,>=2.18.0->google-api-core<2dev,>=1.21.0->google-api-python-client>=1.6.7->tf-models-official) (3.0.4)\n",
            "Requirement already satisfied: wheel<1.0,>=0.32.0 in /usr/local/lib/python3.7/dist-packages (from tensorflow>=2.7.0->tf-models-official) (0.37.0)\n",
            "Requirement already satisfied: absl-py>=0.4.0 in /usr/local/lib/python3.7/dist-packages (from tensorflow>=2.7.0->tf-models-official) (0.12.0)\n",
            "Requirement already satisfied: wrapt>=1.11.0 in /usr/local/lib/python3.7/dist-packages (from tensorflow>=2.7.0->tf-models-official) (1.13.3)\n",
            "Requirement already satisfied: flatbuffers<3.0,>=1.12 in /usr/local/lib/python3.7/dist-packages (from tensorflow>=2.7.0->tf-models-official) (2.0)\n",
            "Requirement already satisfied: opt-einsum>=2.3.2 in /usr/local/lib/python3.7/dist-packages (from tensorflow>=2.7.0->tf-models-official) (3.3.0)\n",
            "Requirement already satisfied: grpcio<2.0,>=1.24.3 in /usr/local/lib/python3.7/dist-packages (from tensorflow>=2.7.0->tf-models-official) (1.42.0)\n",
            "Requirement already satisfied: libclang>=9.0.1 in /usr/local/lib/python3.7/dist-packages (from tensorflow>=2.7.0->tf-models-official) (12.0.0)\n",
            "Requirement already satisfied: tensorboard~=2.6 in /usr/local/lib/python3.7/dist-packages (from tensorflow>=2.7.0->tf-models-official) (2.7.0)\n",
            "Requirement already satisfied: termcolor>=1.1.0 in /usr/local/lib/python3.7/dist-packages (from tensorflow>=2.7.0->tf-models-official) (1.1.0)\n",
            "Requirement already satisfied: typing-extensions>=3.6.6 in /usr/local/lib/python3.7/dist-packages (from tensorflow>=2.7.0->tf-models-official) (3.10.0.2)\n",
            "Requirement already satisfied: tensorflow-io-gcs-filesystem>=0.21.0 in /usr/local/lib/python3.7/dist-packages (from tensorflow>=2.7.0->tf-models-official) (0.22.0)\n",
            "Requirement already satisfied: tensorflow-estimator<2.8,~=2.7.0rc0 in /usr/local/lib/python3.7/dist-packages (from tensorflow>=2.7.0->tf-models-official) (2.7.0)\n",
            "Requirement already satisfied: gast<0.5.0,>=0.2.1 in /usr/local/lib/python3.7/dist-packages (from tensorflow>=2.7.0->tf-models-official) (0.4.0)\n",
            "Requirement already satisfied: keras<2.8,>=2.7.0rc0 in /usr/local/lib/python3.7/dist-packages (from tensorflow>=2.7.0->tf-models-official) (2.7.0)\n",
            "Requirement already satisfied: astunparse>=1.6.0 in /usr/local/lib/python3.7/dist-packages (from tensorflow>=2.7.0->tf-models-official) (1.6.3)\n",
            "Requirement already satisfied: h5py>=2.9.0 in /usr/local/lib/python3.7/dist-packages (from tensorflow>=2.7.0->tf-models-official) (3.1.0)\n",
            "Requirement already satisfied: google-pasta>=0.1.1 in /usr/local/lib/python3.7/dist-packages (from tensorflow>=2.7.0->tf-models-official) (0.2.0)\n",
            "Requirement already satisfied: keras-preprocessing>=1.1.1 in /usr/local/lib/python3.7/dist-packages (from tensorflow>=2.7.0->tf-models-official) (1.1.2)\n",
            "Requirement already satisfied: cached-property in /usr/local/lib/python3.7/dist-packages (from h5py>=2.9.0->tensorflow>=2.7.0->tf-models-official) (1.5.2)\n",
            "Requirement already satisfied: google-auth-oauthlib<0.5,>=0.4.1 in /usr/local/lib/python3.7/dist-packages (from tensorboard~=2.6->tensorflow>=2.7.0->tf-models-official) (0.4.6)\n",
            "Requirement already satisfied: tensorboard-data-server<0.7.0,>=0.6.0 in /usr/local/lib/python3.7/dist-packages (from tensorboard~=2.6->tensorflow>=2.7.0->tf-models-official) (0.6.1)\n",
            "Requirement already satisfied: markdown>=2.6.8 in /usr/local/lib/python3.7/dist-packages (from tensorboard~=2.6->tensorflow>=2.7.0->tf-models-official) (3.3.6)\n",
            "Requirement already satisfied: werkzeug>=0.11.15 in /usr/local/lib/python3.7/dist-packages (from tensorboard~=2.6->tensorflow>=2.7.0->tf-models-official) (1.0.1)\n",
            "Requirement already satisfied: tensorboard-plugin-wit>=1.6.0 in /usr/local/lib/python3.7/dist-packages (from tensorboard~=2.6->tensorflow>=2.7.0->tf-models-official) (1.8.0)\n",
            "Requirement already satisfied: requests-oauthlib>=0.7.0 in /usr/local/lib/python3.7/dist-packages (from google-auth-oauthlib<0.5,>=0.4.1->tensorboard~=2.6->tensorflow>=2.7.0->tf-models-official) (1.3.0)\n",
            "Requirement already satisfied: importlib-metadata>=4.4 in /usr/local/lib/python3.7/dist-packages (from markdown>=2.6.8->tensorboard~=2.6->tensorflow>=2.7.0->tf-models-official) (4.8.2)\n",
            "Requirement already satisfied: zipp>=0.5 in /usr/local/lib/python3.7/dist-packages (from importlib-metadata>=4.4->markdown>=2.6.8->tensorboard~=2.6->tensorflow>=2.7.0->tf-models-official) (3.6.0)\n",
            "Requirement already satisfied: oauthlib>=3.0.0 in /usr/local/lib/python3.7/dist-packages (from requests-oauthlib>=0.7.0->google-auth-oauthlib<0.5,>=0.4.1->tensorboard~=2.6->tensorflow>=2.7.0->tf-models-official) (3.1.1)\n",
            "Requirement already satisfied: dm-tree~=0.1.1 in /usr/local/lib/python3.7/dist-packages (from tensorflow-model-optimization>=0.4.1->tf-models-official) (0.1.6)\n",
            "Requirement already satisfied: kiwisolver>=1.0.1 in /usr/local/lib/python3.7/dist-packages (from matplotlib->tf-models-official) (1.3.2)\n",
            "Requirement already satisfied: cycler>=0.10 in /usr/local/lib/python3.7/dist-packages (from matplotlib->tf-models-official) (0.11.0)\n",
            "Requirement already satisfied: text-unidecode>=1.3 in /usr/local/lib/python3.7/dist-packages (from python-slugify->kaggle>=1.3.9->tf-models-official) (1.3)\n",
            "Requirement already satisfied: regex in /usr/local/lib/python3.7/dist-packages (from sacrebleu->tf-models-official) (2021.11.10)\n",
            "Collecting colorama\n",
            "  Downloading colorama-0.4.4-py2.py3-none-any.whl (16 kB)\n",
            "Collecting portalocker\n",
            "  Downloading portalocker-2.3.2-py2.py3-none-any.whl (15 kB)\n",
            "Requirement already satisfied: tabulate>=0.8.9 in /usr/local/lib/python3.7/dist-packages (from sacrebleu->tf-models-official) (0.8.9)\n",
            "Requirement already satisfied: scikit-learn>=0.21.3 in /usr/local/lib/python3.7/dist-packages (from seqeval->tf-models-official) (1.0.1)\n",
            "Requirement already satisfied: threadpoolctl>=2.0.0 in /usr/local/lib/python3.7/dist-packages (from scikit-learn>=0.21.3->seqeval->tf-models-official) (3.0.0)\n",
            "Requirement already satisfied: joblib>=0.11 in /usr/local/lib/python3.7/dist-packages (from scikit-learn>=0.21.3->seqeval->tf-models-official) (1.1.0)\n",
            "Requirement already satisfied: typeguard>=2.7 in /usr/local/lib/python3.7/dist-packages (from tensorflow-addons->tf-models-official) (2.7.1)\n",
            "Requirement already satisfied: dill in /usr/local/lib/python3.7/dist-packages (from tensorflow-datasets->tf-models-official) (0.3.4)\n",
            "Requirement already satisfied: future in /usr/local/lib/python3.7/dist-packages (from tensorflow-datasets->tf-models-official) (0.16.0)\n",
            "Requirement already satisfied: tensorflow-metadata in /usr/local/lib/python3.7/dist-packages (from tensorflow-datasets->tf-models-official) (1.4.0)\n",
            "Requirement already satisfied: attrs>=18.1.0 in /usr/local/lib/python3.7/dist-packages (from tensorflow-datasets->tf-models-official) (21.2.0)\n",
            "Requirement already satisfied: importlib-resources in /usr/local/lib/python3.7/dist-packages (from tensorflow-datasets->tf-models-official) (5.4.0)\n",
            "Requirement already satisfied: promise in /usr/local/lib/python3.7/dist-packages (from tensorflow-datasets->tf-models-official) (2.3)\n",
            "Building wheels for collected packages: py-cpuinfo, seqeval\n",
            "  Building wheel for py-cpuinfo (setup.py) ... \u001b[?25l\u001b[?25hdone\n",
            "  Created wheel for py-cpuinfo: filename=py_cpuinfo-8.0.0-py3-none-any.whl size=22258 sha256=954bfb261d97b8ed460805970ee0d01ba0a17c818e19ba461ebe1ee6a1f52d5e\n",
            "  Stored in directory: /root/.cache/pip/wheels/d2/f1/1f/041add21dc9c4220157f1bd2bd6afe1f1a49524c3396b94401\n",
            "  Building wheel for seqeval (setup.py) ... \u001b[?25l\u001b[?25hdone\n",
            "  Created wheel for seqeval: filename=seqeval-1.2.2-py3-none-any.whl size=16181 sha256=e6f01f3631b8a49ed60343bf3e94b93765e414a7b7bb615a343d8823d8419c35\n",
            "  Stored in directory: /root/.cache/pip/wheels/05/96/ee/7cac4e74f3b19e3158dce26a20a1c86b3533c43ec72a549fd7\n",
            "Successfully built py-cpuinfo seqeval\n",
            "Installing collected packages: portalocker, colorama, tf-slim, tensorflow-model-optimization, tensorflow-addons, seqeval, sentencepiece, sacrebleu, pyyaml, py-cpuinfo, opencv-python-headless, tf-models-official\n",
            "  Attempting uninstall: pyyaml\n",
            "    Found existing installation: PyYAML 3.13\n",
            "    Uninstalling PyYAML-3.13:\n",
            "      Successfully uninstalled PyYAML-3.13\n",
            "Successfully installed colorama-0.4.4 opencv-python-headless-4.5.5.62 portalocker-2.3.2 py-cpuinfo-8.0.0 pyyaml-6.0 sacrebleu-2.0.0 sentencepiece-0.1.96 seqeval-1.2.2 tensorflow-addons-0.15.0 tensorflow-model-optimization-0.7.0 tf-models-official-2.7.0 tf-slim-1.1.0\n"
          ]
        }
      ]
    },
    {
      "cell_type": "code",
      "source": [
        "import texthero as hero\n",
        "from texthero import preprocessing"
      ],
      "metadata": {
        "colab": {
          "base_uri": "https://localhost:8080/"
        },
        "id": "zbpV09-LICC0",
        "outputId": "a0df7682-fb22-4e70-81fe-d2dae9403923"
      },
      "execution_count": 21,
      "outputs": [
        {
          "output_type": "stream",
          "name": "stderr",
          "text": [
            "[nltk_data] Downloading package stopwords to /root/nltk_data...\n",
            "[nltk_data]   Unzipping corpora/stopwords.zip.\n"
          ]
        }
      ]
    },
    {
      "cell_type": "code",
      "metadata": {
        "id": "yz-eyl4ZrZom"
      },
      "source": [
        "import tensorflow as tf\n",
        "import tensorflow_hub as hub\n",
        "import tensorflow_text as text\n",
        "from official.nlp import optimization "
      ],
      "execution_count": 22,
      "outputs": []
    },
    {
      "cell_type": "code",
      "metadata": {
        "id": "JR-3OH39tmGa"
      },
      "source": [
        "# before feeding the data to the model, we will clean it a bit\n",
        "clean_text_bert_pipeline = [\n",
        "               preprocessing.remove_urls, # remove urls\n",
        "               preprocessing.remove_diacritics,\n",
        "               preprocessing.remove_whitespace  # remove any extra spaces\n",
        "               ]\n",
        "train_bert = hero.clean(df_train1['SENTENCE'], clean_text_bert_pipeline)\n",
        "test_bert = hero.clean(df_test['SENTENCE'], clean_text_bert_pipeline)"
      ],
      "execution_count": 23,
      "outputs": []
    },
    {
      "cell_type": "code",
      "metadata": {
        "id": "ukzk9xdtF4b9"
      },
      "source": [
        "# create targets\n",
        "labels = ['SCORE_0.0','SCORE_1.0','SCORE_2.0','SCORE_3.0','SCORE_4.0','SCORE_5.0','SCORE_6.0','SCORE_7.0','SCORE_8.0','SCORE_9.0','SCORE_10.0']\n",
        "ytrain = df_train1[labels]\n",
        "ytest = df_test[labels]"
      ],
      "execution_count": 24,
      "outputs": []
    },
    {
      "cell_type": "code",
      "metadata": {
        "id": "OYZI4EOvvmvc"
      },
      "source": [
        "# creating tensorflow dataset\n",
        "# Preparaing the data to feed into the model\n",
        "batch_size = 32\n",
        "seed = 42\n",
        "\n",
        "#train_ds = tf.data.Dataset.from_tensor_slices((train_bert.values, y_train.values)).shuffle(50000).batch(batch_size)\n",
        "#test_ds = tf.data.Dataset.from_tensor_slices((test_bert.values, y_test.values)).shuffle(50000).batch(batch_size)\n",
        "train_ds = tf.data.Dataset.from_tensor_slices((train_bert.values, ytrain.values)).shuffle(40000).batch(batch_size) #size 39562\n",
        "test_ds = tf.data.Dataset.from_tensor_slices((test_bert.values, ytest.values)).shuffle(10000).batch(batch_size)  # size 9891"
      ],
      "execution_count": 25,
      "outputs": []
    },
    {
      "cell_type": "code",
      "metadata": {
        "id": "J996tIYav8Qf",
        "colab": {
          "base_uri": "https://localhost:8080/"
        },
        "outputId": "69c577b8-685c-40a8-9733-c1431d6a3730"
      },
      "source": [
        "for train_batch in train_ds.take(1):\n",
        "  print(train_batch[:2])"
      ],
      "execution_count": 26,
      "outputs": [
        {
          "output_type": "stream",
          "name": "stdout",
          "text": [
            "(<tf.Tensor: shape=(32,), dtype=string, numpy=\n",
            "array([b'3 reasons one the ease of navigation through the process, two competitive interest rate and terms and number three the quick turnaround time from completing the application to receiving the funds was outstanding.',\n",
            "       b'good credit history', b'Quick and Easy!',\n",
            "       b'easy application process', b'The simple way to applied',\n",
            "       b'Fees were a bit high...is my only complaint....Process was very easy and service quite good.and kept me from giving highest score possible.',\n",
            "       b'It was easy', b'Very simple, quick and easy.',\n",
            "       b'The customer service with Best Egg is great.I appreciated the follow up call letting me know all went well with my submission and the turnaround time to receive the payment was quicker than expected.',\n",
            "       b'It was a decent experience, but since you will not allow your loans to be added to mint, it is annoying to try to track it.',\n",
            "       b'Good rates', b'Ease of loan',\n",
            "       b'Quick Response Time Reasonable Interest Rates Direct Deposits',\n",
            "       b'It was fast and easy.', b'The process was so fast and easy!',\n",
            "       b'Best interest rate', b'Excellent, expedient service.',\n",
            "       b'Super easy and quick', b'The friendly customer service',\n",
            "       b'It was a smooth and good experience.....',\n",
            "       b'The process was simple and fast',\n",
            "       b'Very quick and easy way to get a loan I will definitely recommend best egg and will keep using in the future',\n",
            "       b'Ease of process and great options to choose from',\n",
            "       b'Simplicity in getting approved for a loan.',\n",
            "       b'No hoops to jump througheasy to deal with.',\n",
            "       b'The ease of the entire process and how I was kept informed throughout.',\n",
            "       b'Very easy to get money to me',\n",
            "       b'My loan was done in a very timely manner.',\n",
            "       b'helped me out big time!I received the funds so quicklyI am really thankful for that.',\n",
            "       b'easy to get esp when being denied from other lenders, low monthly payments.',\n",
            "       b'Fast approval and i am very pleased',\n",
            "       b'And quickSo easy to get financing.'], dtype=object)>, <tf.Tensor: shape=(32, 11), dtype=uint8, numpy=\n",
            "array([[0, 0, 0, 0, 0, 0, 0, 0, 0, 0, 1],\n",
            "       [0, 0, 0, 0, 0, 0, 0, 0, 0, 0, 1],\n",
            "       [0, 0, 0, 0, 0, 0, 0, 0, 0, 0, 1],\n",
            "       [0, 0, 0, 0, 0, 0, 0, 0, 0, 0, 1],\n",
            "       [0, 0, 0, 0, 0, 0, 0, 0, 0, 0, 1],\n",
            "       [0, 0, 0, 0, 0, 0, 0, 0, 0, 1, 0],\n",
            "       [0, 0, 0, 0, 0, 0, 0, 0, 0, 0, 1],\n",
            "       [0, 0, 0, 0, 0, 0, 0, 0, 0, 0, 1],\n",
            "       [0, 0, 0, 0, 0, 0, 0, 0, 0, 0, 1],\n",
            "       [0, 0, 0, 0, 0, 0, 0, 1, 0, 0, 0],\n",
            "       [0, 0, 0, 0, 0, 0, 0, 0, 0, 0, 1],\n",
            "       [0, 0, 0, 0, 0, 0, 0, 0, 0, 0, 1],\n",
            "       [0, 0, 0, 0, 0, 0, 0, 0, 0, 1, 0],\n",
            "       [0, 0, 0, 0, 0, 0, 0, 0, 0, 0, 1],\n",
            "       [0, 0, 0, 0, 0, 0, 0, 0, 0, 0, 1],\n",
            "       [0, 0, 0, 0, 0, 0, 0, 0, 0, 0, 1],\n",
            "       [0, 0, 0, 0, 0, 0, 0, 0, 0, 0, 1],\n",
            "       [0, 0, 0, 0, 0, 0, 0, 0, 0, 0, 1],\n",
            "       [0, 0, 0, 0, 0, 0, 0, 0, 0, 0, 1],\n",
            "       [0, 0, 0, 0, 0, 0, 0, 0, 0, 0, 1],\n",
            "       [0, 0, 0, 0, 0, 0, 0, 0, 0, 0, 1],\n",
            "       [0, 0, 0, 0, 0, 0, 0, 0, 0, 0, 1],\n",
            "       [0, 0, 0, 0, 0, 0, 0, 0, 0, 0, 1],\n",
            "       [0, 0, 0, 0, 0, 0, 0, 0, 1, 0, 0],\n",
            "       [0, 0, 0, 0, 0, 0, 0, 0, 0, 1, 0],\n",
            "       [0, 0, 0, 0, 0, 0, 0, 0, 0, 0, 1],\n",
            "       [0, 0, 0, 0, 0, 0, 0, 0, 0, 0, 1],\n",
            "       [0, 0, 0, 0, 0, 0, 0, 0, 0, 0, 1],\n",
            "       [0, 0, 0, 0, 0, 0, 0, 0, 0, 0, 1],\n",
            "       [0, 0, 0, 0, 0, 0, 0, 0, 0, 0, 1],\n",
            "       [0, 0, 0, 0, 0, 0, 0, 0, 0, 0, 1],\n",
            "       [0, 0, 0, 0, 0, 0, 0, 0, 0, 0, 1]], dtype=uint8)>)\n"
          ]
        }
      ]
    },
    {
      "cell_type": "markdown",
      "source": [
        "### Loading the models form tensorflow hub"
      ],
      "metadata": {
        "id": "Cey07GZKNxxQ"
      }
    },
    {
      "cell_type": "code",
      "metadata": {
        "id": "kW4ZnLQAv8KY"
      },
      "source": [
        "tfhub_handle_encoder = 'https://tfhub.dev/tensorflow/small_bert/bert_en_uncased_L-2_H-512_A-8/1'\n",
        "tfhub_handle_preprocess = 'https://tfhub.dev/tensorflow/bert_en_uncased_preprocess/3'"
      ],
      "execution_count": 27,
      "outputs": []
    },
    {
      "cell_type": "code",
      "metadata": {
        "id": "1oFk11Pn1PxN"
      },
      "source": [
        "# create keras model \n",
        "def build_classifier_model():\n",
        "  text_input = tf.keras.layers.Input(shape=(), dtype=tf.string, name='text')\n",
        "  preprocessing_layer = hub.KerasLayer(tfhub_handle_preprocess, name='preprocessing')\n",
        "  encoder_inputs = preprocessing_layer(text_input)\n",
        "  encoder = hub.KerasLayer(tfhub_handle_encoder, trainable=True, name='BERT_encoder')\n",
        "  outputs = encoder(encoder_inputs)\n",
        "  net = outputs['pooled_output']\n",
        "  net = tf.keras.layers.Dropout(0.1)(net)\n",
        "  net = tf.keras.layers.Dense(500, activation='relu')(net)\n",
        "  #net = tf.keras.layers.Dense(11, activation= \"sigmoid\" , name='classifier')(net)\n",
        "  net = tf.keras.layers.Dense(11, activation= \"softmax\" , name='classifier')(net)\n",
        "  return tf.keras.Model(text_input, net)"
      ],
      "execution_count": 28,
      "outputs": []
    },
    {
      "cell_type": "code",
      "metadata": {
        "colab": {
          "base_uri": "https://localhost:8080/"
        },
        "id": "LGQdlRWwDV-i",
        "outputId": "2839b668-6d90-4b63-ba4d-2d594597e534"
      },
      "source": [
        "classifier_model = build_classifier_model()\n",
        "classifier_model.summary()"
      ],
      "execution_count": 29,
      "outputs": [
        {
          "output_type": "stream",
          "name": "stdout",
          "text": [
            "Model: \"model\"\n",
            "__________________________________________________________________________________________________\n",
            " Layer (type)                   Output Shape         Param #     Connected to                     \n",
            "==================================================================================================\n",
            " text (InputLayer)              [(None,)]            0           []                               \n",
            "                                                                                                  \n",
            " preprocessing (KerasLayer)     {'input_word_ids':   0           ['text[0][0]']                   \n",
            "                                (None, 128),                                                      \n",
            "                                 'input_mask': (Non                                               \n",
            "                                e, 128),                                                          \n",
            "                                 'input_type_ids':                                                \n",
            "                                (None, 128)}                                                      \n",
            "                                                                                                  \n",
            " BERT_encoder (KerasLayer)      {'sequence_output':  22458881    ['preprocessing[0][0]',          \n",
            "                                 (None, 128, 512),                'preprocessing[0][1]',          \n",
            "                                 'encoder_outputs':               'preprocessing[0][2]']          \n",
            "                                 [(None, 128, 512),                                               \n",
            "                                 (None, 128, 512)],                                               \n",
            "                                 'default': (None,                                                \n",
            "                                512),                                                             \n",
            "                                 'pooled_output': (                                               \n",
            "                                None, 512)}                                                       \n",
            "                                                                                                  \n",
            " dropout (Dropout)              (None, 512)          0           ['BERT_encoder[0][3]']           \n",
            "                                                                                                  \n",
            " dense (Dense)                  (None, 500)          256500      ['dropout[0][0]']                \n",
            "                                                                                                  \n",
            " classifier (Dense)             (None, 11)           5511        ['dense[0][0]']                  \n",
            "                                                                                                  \n",
            "==================================================================================================\n",
            "Total params: 22,720,892\n",
            "Trainable params: 22,720,891\n",
            "Non-trainable params: 1\n",
            "__________________________________________________________________________________________________\n"
          ]
        }
      ]
    },
    {
      "cell_type": "code",
      "metadata": {
        "id": "7JH6Ftu4CbtD"
      },
      "source": [
        "loss = tf.keras.losses.BinaryCrossentropy(from_logits=True)\n",
        "metrics = [tf.metrics.BinaryAccuracy(), tf.metrics.AUC(multi_label=True)]"
      ],
      "execution_count": 30,
      "outputs": []
    },
    {
      "cell_type": "code",
      "metadata": {
        "id": "ATJMY3LqrZfm"
      },
      "source": [
        "#epochs = 20\n",
        "epochs = 5\n",
        "steps_per_epoch = tf.data.experimental.cardinality(train_ds).numpy()\n",
        "num_train_steps = steps_per_epoch * epochs\n",
        "num_warmup_steps = int(0.1*num_train_steps)\n",
        "\n",
        "init_lr = 3e-5\n",
        "optimizer = optimization.create_optimizer(init_lr=init_lr,\n",
        "                                          num_train_steps=num_train_steps,\n",
        "                                          num_warmup_steps=num_warmup_steps,\n",
        "                                          optimizer_type='adamw')"
      ],
      "execution_count": 31,
      "outputs": []
    },
    {
      "cell_type": "code",
      "metadata": {
        "id": "fh43w92urZcI"
      },
      "source": [
        "# compile the model\n",
        "classifier_model.compile(optimizer=optimizer,\n",
        "                         loss=loss,\n",
        "                         metrics=metrics)"
      ],
      "execution_count": 32,
      "outputs": []
    },
    {
      "cell_type": "code",
      "metadata": {
        "id": "702M010rDlT0"
      },
      "source": [
        "#callbacks = [tf.keras.callbacks.ModelCheckpoint('best_bert_model', save_best_only=True),\n",
        "#             tf.keras.callbacks.EarlyStopping(monitor='val_loss', patience=3)]"
      ],
      "execution_count": null,
      "outputs": []
    },
    {
      "cell_type": "code",
      "metadata": {
        "colab": {
          "base_uri": "https://localhost:8080/"
        },
        "id": "GJW6rHLXDlQN",
        "outputId": "dc1877e4-3609-4ecc-e598-76e883759119"
      },
      "source": [
        "# train the model\n",
        "bert_history = classifier_model.fit(train_ds, \n",
        "                               #validation_split=0.2, #`validation_split` is only supported for Tensors or NumPy arrays\n",
        "                               validation_data=test_ds, \n",
        "                               epochs = epochs) \n",
        "                               #callbacks = callbacks)"
      ],
      "execution_count": 34,
      "outputs": [
        {
          "output_type": "stream",
          "name": "stdout",
          "text": [
            "Epoch 1/5\n"
          ]
        },
        {
          "output_type": "stream",
          "name": "stderr",
          "text": [
            "/usr/local/lib/python3.7/dist-packages/tensorflow/python/util/dispatch.py:1096: UserWarning:\n",
            "\n",
            "\"`binary_crossentropy` received `from_logits=True`, but the `output` argument was produced by a sigmoid or softmax activation and thus does not represent logits. Was this intended?\"\n",
            "\n"
          ]
        },
        {
          "output_type": "stream",
          "name": "stdout",
          "text": [
            "1237/1237 [==============================] - 384s 304ms/step - loss: 0.1633 - binary_accuracy: 0.9542 - auc: 0.6321 - val_loss: 0.1126 - val_binary_accuracy: 0.9611 - val_auc: 0.7743\n",
            "Epoch 2/5\n",
            "1237/1237 [==============================] - 375s 303ms/step - loss: 0.1128 - binary_accuracy: 0.9614 - auc: 0.7919 - val_loss: 0.1117 - val_binary_accuracy: 0.9617 - val_auc: 0.8384\n",
            "Epoch 3/5\n",
            "1237/1237 [==============================] - 374s 302ms/step - loss: 0.1096 - binary_accuracy: 0.9622 - auc: 0.8261 - val_loss: 0.1108 - val_binary_accuracy: 0.9618 - val_auc: 0.8113\n",
            "Epoch 4/5\n",
            "1237/1237 [==============================] - 374s 303ms/step - loss: 0.1068 - binary_accuracy: 0.9627 - auc: 0.8528 - val_loss: 0.1107 - val_binary_accuracy: 0.9618 - val_auc: 0.8220\n",
            "Epoch 5/5\n",
            "1237/1237 [==============================] - 375s 303ms/step - loss: 0.1053 - binary_accuracy: 0.9631 - auc: 0.8604 - val_loss: 0.1106 - val_binary_accuracy: 0.9616 - val_auc: 0.8175\n"
          ]
        }
      ]
    },
    {
      "cell_type": "code",
      "source": [
        "classifier_model.save('/content/drive/My Drive/Data_Sets/bert_model.h5')"
      ],
      "metadata": {
        "id": "PdBhbWqYvFqF"
      },
      "execution_count": 35,
      "outputs": []
    },
    {
      "cell_type": "code",
      "source": [
        "bert_history.history"
      ],
      "metadata": {
        "colab": {
          "base_uri": "https://localhost:8080/"
        },
        "id": "Pqy9btehUCSv",
        "outputId": "f77083ec-7e63-4daf-cdb7-2de5836137e1"
      },
      "execution_count": 36,
      "outputs": [
        {
          "output_type": "execute_result",
          "data": {
            "text/plain": [
              "{'auc': [0.6321074962615967,\n",
              "  0.7919397950172424,\n",
              "  0.8260789513587952,\n",
              "  0.8528080582618713,\n",
              "  0.8604019284248352],\n",
              " 'binary_accuracy': [0.9541887044906616,\n",
              "  0.9614459872245789,\n",
              "  0.9622320532798767,\n",
              "  0.9626548290252686,\n",
              "  0.9630520343780518],\n",
              " 'loss': [0.1632910817861557,\n",
              "  0.11282731592655182,\n",
              "  0.10956469923257828,\n",
              "  0.10684607177972794,\n",
              "  0.10527828335762024],\n",
              " 'val_auc': [0.7742621898651123,\n",
              "  0.8383785486221313,\n",
              "  0.8113361597061157,\n",
              "  0.8220072388648987,\n",
              "  0.8174703121185303],\n",
              " 'val_binary_accuracy': [0.9611125588417053,\n",
              "  0.9616549611091614,\n",
              "  0.9617555141448975,\n",
              "  0.9617834687232971,\n",
              "  0.9615720510482788],\n",
              " 'val_loss': [0.1126142367720604,\n",
              "  0.11168230324983597,\n",
              "  0.11082388460636139,\n",
              "  0.11071190237998962,\n",
              "  0.11057872325181961]}"
            ]
          },
          "metadata": {},
          "execution_count": 36
        }
      ]
    },
    {
      "cell_type": "code",
      "source": [
        "import matplotlib.pyplot as plt\n",
        "fig, ax = plt.subplots(1,2, figsize = (16,5))\n",
        "epochs = [i for i in range(1,6)]\n",
        "ax[0].plot(epochs, bert_history.history['loss'], label = 'train_loss');\n",
        "ax[0].plot(epochs, bert_history.history['val_loss'], label = 'val_loss');\n",
        "ax[0].set_title(\"Loss\");\n",
        "ax[0].set_xlabel(\"Epochs\")\n",
        "ax[0].legend();\n",
        "ax[1].plot(epochs, bert_history.history['binary_accuracy'], label = 'train_acc');\n",
        "ax[1].plot(epochs, bert_history.history['val_binary_accuracy'], label = 'val_acc');\n",
        "ax[1].set_title(\"Accuracy\");\n",
        "ax[1].set_xlabel(\"Epochs\")\n",
        "ax[1].legend();\n"
      ],
      "metadata": {
        "colab": {
          "base_uri": "https://localhost:8080/",
          "height": 350
        },
        "id": "nv9NfqEm6mKe",
        "outputId": "56049b81-8a8e-4951-b464-cb7a3d1b1ba7"
      },
      "execution_count": 40,
      "outputs": [
        {
          "output_type": "display_data",
          "data": {
            "image/png": "[encoded data removed]",
            "text/plain": [
              "<Figure size 1152x360 with 2 Axes>"
            ]
          },
          "metadata": {
            "needs_background": "light"
          }
        }
      ]
    },
    {
      "cell_type": "code",
      "metadata": {
        "colab": {
          "base_uri": "https://localhost:8080/",
          "height": 350
        },
        "id": "Tamoc7Bjnmf9",
        "outputId": "79d61c87-115e-4641-d337-db00ba8bd5b0"
      },
      "source": [
        "# performance curve\n",
        "import matplotlib.pyplot as plt\n",
        "fig, ax = plt.subplots(1,2, figsize = (16,5))\n",
        "epochs = [i for i in range(1,6)]\n",
        "ax[0].plot(epochs, bert_history.history['binary_accuracy'], label = 'train_acc');\n",
        "ax[0].plot(epochs, bert_history.history['val_binary_accuracy'], label = 'val_acc');\n",
        "ax[0].set_title(\"Accuracy\");\n",
        "ax[0].set_xlabel(\"Epochs\")\n",
        "ax[0].legend();\n",
        "\n",
        "ax[1].plot(epochs, bert_history.history['auc'], label = 'train_auc');\n",
        "ax[1].plot(epochs, bert_history.history['val_auc'], label = 'val_auc');\n",
        "ax[1].set_title(\"AUC score\");\n",
        "ax[1].set_xlabel(\"Epochs\")\n",
        "ax[1].legend();\n"
      ],
      "execution_count": 38,
      "outputs": [
        {
          "output_type": "display_data",
          "data": {
            "image/png": "[encoded data removed]",
            "text/plain": [
              "<Figure size 1152x360 with 2 Axes>"
            ]
          },
          "metadata": {
            "needs_background": "light"
          }
        }
      ]
    },
    {
      "cell_type": "code",
      "source": [
        "#ax[1].plot(epochs, bert_history.history['auc'], label = 'train_auc');\n",
        "#ax[1].plot(epochs, bert_history.history['val_auc'], label = 'val_auc');\n",
        "#ax[1].set_title(\"AUC score\");\n",
        "#ax[1].set_xlabel(\"Epochs\")\n",
        "#ax[1].legend();"
      ],
      "metadata": {
        "id": "IMupQocy6ZM5"
      },
      "execution_count": null,
      "outputs": []
    },
    {
      "cell_type": "code",
      "metadata": {
        "id": "G4Ootzeyvgfy"
      },
      "source": [
        "# load the best model\n",
        "#bert_model = tf.keras.models.load_model('best_bert_model', compile = False)"
      ],
      "execution_count": null,
      "outputs": []
    },
    {
      "cell_type": "code",
      "metadata": {
        "id": "RGJI47_vytEA"
      },
      "source": [
        "# compile the model\n",
        "classifier_model.compile(optimizer=optimizer, loss = tf.keras.losses.BinaryCrossentropy(from_logits=True), metrics=metrics)"
      ],
      "execution_count": 41,
      "outputs": []
    },
    {
      "cell_type": "code",
      "metadata": {
        "colab": {
          "base_uri": "https://localhost:8080/"
        },
        "id": "IpsbFCBtvgcC",
        "outputId": "c38313fa-04d0-47cb-a1cc-a2da5f54ef9a"
      },
      "source": [
        "loss, accuracy,auc = classifier_model.evaluate(test_ds)"
      ],
      "execution_count": 42,
      "outputs": [
        {
          "output_type": "stream",
          "name": "stderr",
          "text": [
            "/usr/local/lib/python3.7/dist-packages/tensorflow/python/util/dispatch.py:1096: UserWarning:\n",
            "\n",
            "\"`binary_crossentropy` received `from_logits=True`, but the `output` argument was produced by a sigmoid or softmax activation and thus does not represent logits. Was this intended?\"\n",
            "\n"
          ]
        },
        {
          "output_type": "stream",
          "name": "stdout",
          "text": [
            "310/310 [==============================] - 53s 168ms/step - loss: 0.1106 - binary_accuracy: 0.9616 - auc: 0.8175\n"
          ]
        }
      ]
    },
    {
      "cell_type": "code",
      "metadata": {
        "colab": {
          "base_uri": "https://localhost:8080/"
        },
        "id": "qAZWt3CDDlJ8",
        "outputId": "f4fe7c08-a7b5-4487-d5cf-5177d1343034"
      },
      "source": [
        "import numpy as np\n",
        "print(f\"Accuracy: {np.round(accuracy,4)}\")\n",
        "print(f\"AUC: {np.round(auc,4)}\")\n",
        "print(f\"Logloss: {np.round(loss,4)}\")"
      ],
      "execution_count": 44,
      "outputs": [
        {
          "output_type": "stream",
          "name": "stdout",
          "text": [
            "Accuracy: 0.9616\n",
            "AUC: 0.8175\n",
            "Logloss: 0.1106\n"
          ]
        }
      ]
    },
    {
      "cell_type": "code",
      "source": [
        "ypred = classifier_model.predict(test_ds)\n",
        "ypred = np.argmax(ypred, axis=1)\n",
        "ytest = np.argmax(ytest.values, axis=1)"
      ],
      "metadata": {
        "id": "5FzsD5bWZRSX"
      },
      "execution_count": 45,
      "outputs": []
    },
    {
      "cell_type": "code",
      "source": [
        "from sklearn.metrics import classification_report\n",
        "target_names = ['0','1','2','3','4','5','6','7','8','9','10']\n",
        "print(classification_report(ytest, ypred, target_names = target_names))"
      ],
      "metadata": {
        "colab": {
          "base_uri": "https://localhost:8080/"
        },
        "id": "DX8GQDJqaPgU",
        "outputId": "d8a25ed8-46f2-4a0c-ca32-787f149430b3"
      },
      "execution_count": 46,
      "outputs": [
        {
          "output_type": "stream",
          "name": "stdout",
          "text": [
            "              precision    recall  f1-score   support\n",
            "\n",
            "           0       0.00      0.00      0.00        22\n",
            "           1       0.00      0.00      0.00         7\n",
            "           2       0.00      0.00      0.00        10\n",
            "           3       0.00      0.00      0.00        14\n",
            "           4       0.00      0.00      0.00        17\n",
            "           5       0.03      0.02      0.02        66\n",
            "           6       0.00      0.00      0.00        63\n",
            "           7       0.06      0.01      0.02       221\n",
            "           8       0.08      0.05      0.06       679\n",
            "           9       0.10      0.00      0.01      1180\n",
            "          10       0.77      0.94      0.85      7612\n",
            "\n",
            "    accuracy                           0.73      9891\n",
            "   macro avg       0.09      0.09      0.09      9891\n",
            "weighted avg       0.61      0.73      0.66      9891\n",
            "\n"
          ]
        },
        {
          "output_type": "stream",
          "name": "stderr",
          "text": [
            "/usr/local/lib/python3.7/dist-packages/sklearn/metrics/_classification.py:1308: UndefinedMetricWarning:\n",
            "\n",
            "Precision and F-score are ill-defined and being set to 0.0 in labels with no predicted samples. Use `zero_division` parameter to control this behavior.\n",
            "\n",
            "/usr/local/lib/python3.7/dist-packages/sklearn/metrics/_classification.py:1308: UndefinedMetricWarning:\n",
            "\n",
            "Precision and F-score are ill-defined and being set to 0.0 in labels with no predicted samples. Use `zero_division` parameter to control this behavior.\n",
            "\n",
            "/usr/local/lib/python3.7/dist-packages/sklearn/metrics/_classification.py:1308: UndefinedMetricWarning:\n",
            "\n",
            "Precision and F-score are ill-defined and being set to 0.0 in labels with no predicted samples. Use `zero_division` parameter to control this behavior.\n",
            "\n"
          ]
        }
      ]
    },
    {
      "cell_type": "code",
      "source": [
        "from sklearn.metrics import confusion_matrix\n",
        "cm = confusion_matrix(ytest, ypred)\n",
        "print(cm)"
      ],
      "metadata": {
        "colab": {
          "base_uri": "https://localhost:8080/"
        },
        "id": "Geu-NZ3fas46",
        "outputId": "0ad62bcc-039c-4588-fa5c-9a44bfa573d3"
      },
      "execution_count": 48,
      "outputs": [
        {
          "output_type": "stream",
          "name": "stdout",
          "text": [
            "[[   0    0    0    0    0    0    0    0    0    0   22]\n",
            " [   0    0    0    0    0    0    0    0    0    0    7]\n",
            " [   0    0    0    0    0    0    0    0    1    0    9]\n",
            " [   0    0    0    0    0    0    0    1    0    0   13]\n",
            " [   0    0    0    0    0    0    0    0    0    0   17]\n",
            " [   0    0    0    0    0    1    0    0    0    1   64]\n",
            " [   0    0    0    0    0    0    0    1    3    0   59]\n",
            " [   0    0    0    0    0    1    0    3    9    0  208]\n",
            " [   0    0    0    0    0    3    0    4   33    4  635]\n",
            " [   0    0    0    0    0    3    0   12   60    5 1100]\n",
            " [   4    0    0    0    0   25    0   32  324   38 7189]]\n"
          ]
        }
      ]
    },
    {
      "cell_type": "code",
      "source": [
        "df_pred['Prediction'] = ypred"
      ],
      "metadata": {
        "id": "zeeLGj66ICPt"
      },
      "execution_count": 49,
      "outputs": []
    },
    {
      "cell_type": "code",
      "source": [
        "df_pred['Evaluation'] = [[1]*11]*len(ypred)"
      ],
      "metadata": {
        "id": "SAjmf-ncazTq"
      },
      "execution_count": 50,
      "outputs": []
    },
    {
      "cell_type": "code",
      "source": [
        "for index, row in df_pred.iterrows():\n",
        "  df_pred['Evaluation'][index] = cm[int(row.SCORE)]   # SCORE has encoded, need to use previous df--change name"
      ],
      "metadata": {
        "colab": {
          "base_uri": "https://localhost:8080/"
        },
        "outputId": "42a6fc6c-fd17-40df-bc5a-1dd7c249bf55",
        "id": "bEQ_xxAobzHQ"
      },
      "execution_count": 51,
      "outputs": [
        {
          "output_type": "stream",
          "name": "stderr",
          "text": [
            "/usr/local/lib/python3.7/dist-packages/ipykernel_launcher.py:2: SettingWithCopyWarning:\n",
            "\n",
            "\n",
            "A value is trying to be set on a copy of a slice from a DataFrame\n",
            "\n",
            "See the caveats in the documentation: https://pandas.pydata.org/pandas-docs/stable/user_guide/indexing.html#returning-a-view-versus-a-copy\n",
            "\n"
          ]
        }
      ]
    },
    {
      "cell_type": "code",
      "source": [
        "df_pred.head()"
      ],
      "metadata": {
        "colab": {
          "base_uri": "https://localhost:8080/",
          "height": 206
        },
        "id": "czow7CcsICZJ",
        "outputId": "e197abfb-5da3-462e-ea75-cae0a866173c"
      },
      "execution_count": 52,
      "outputs": [
        {
          "output_type": "execute_result",
          "data": {
            "text/html": [
              "\n",
              "  <div id=\"df-d952e66f-fd58-4297-893d-31ab85fcb6a9\">\n",
              "    <div class=\"colab-df-container\">\n",
              "      <div>\n",
              "<style scoped>\n",
              "    .dataframe tbody tr th:only-of-type {\n",
              "        vertical-align: middle;\n",
              "    }\n",
              "\n",
              "    .dataframe tbody tr th {\n",
              "        vertical-align: top;\n",
              "    }\n",
              "\n",
              "    .dataframe thead th {\n",
              "        text-align: right;\n",
              "    }\n",
              "</style>\n",
              "<table border=\"1\" class=\"dataframe\">\n",
              "  <thead>\n",
              "    <tr style=\"text-align: right;\">\n",
              "      <th></th>\n",
              "      <th>DOCUMENT_ID</th>\n",
              "      <th>SCORE</th>\n",
              "      <th>SENTENCE</th>\n",
              "      <th>Prediction</th>\n",
              "      <th>Evaluation</th>\n",
              "    </tr>\n",
              "  </thead>\n",
              "  <tbody>\n",
              "    <tr>\n",
              "      <th>7</th>\n",
              "      <td>584207033</td>\n",
              "      <td>10.0</td>\n",
              "      <td>The loan process was super easy</td>\n",
              "      <td>10</td>\n",
              "      <td>[4, 0, 0, 0, 0, 25, 0, 32, 324, 38, 7189]</td>\n",
              "    </tr>\n",
              "    <tr>\n",
              "      <th>10</th>\n",
              "      <td>584199033</td>\n",
              "      <td>9.0</td>\n",
              "      <td>The process was quick and easy!</td>\n",
              "      <td>10</td>\n",
              "      <td>[0, 0, 0, 0, 0, 3, 0, 12, 60, 5, 1100]</td>\n",
              "    </tr>\n",
              "    <tr>\n",
              "      <th>13</th>\n",
              "      <td>591377035</td>\n",
              "      <td>10.0</td>\n",
              "      <td>were in my bank within just a few days from th...</td>\n",
              "      <td>10</td>\n",
              "      <td>[4, 0, 0, 0, 0, 25, 0, 32, 324, 38, 7189]</td>\n",
              "    </tr>\n",
              "    <tr>\n",
              "      <th>25</th>\n",
              "      <td>34211545</td>\n",
              "      <td>10.0</td>\n",
              "      <td>Very expensive dental work and debt consolidat...</td>\n",
              "      <td>10</td>\n",
              "      <td>[4, 0, 0, 0, 0, 25, 0, 32, 324, 38, 7189]</td>\n",
              "    </tr>\n",
              "    <tr>\n",
              "      <th>26</th>\n",
              "      <td>34211856</td>\n",
              "      <td>10.0</td>\n",
              "      <td>thanks againjust the quick service provided to...</td>\n",
              "      <td>10</td>\n",
              "      <td>[4, 0, 0, 0, 0, 25, 0, 32, 324, 38, 7189]</td>\n",
              "    </tr>\n",
              "  </tbody>\n",
              "</table>\n",
              "</div>\n",
              "      <button class=\"colab-df-convert\" onclick=\"convertToInteractive('df-d952e66f-fd58-4297-893d-31ab85fcb6a9')\"\n",
              "              title=\"Convert this dataframe to an interactive table.\"\n",
              "              style=\"display:none;\">\n",
              "        \n",
              "  <svg xmlns=\"http://www.w3.org/2000/svg\" height=\"24px\"viewBox=\"0 0 24 24\"\n",
              "       width=\"24px\">\n",
              "    <path d=\"M0 0h24v24H0V0z\" fill=\"none\"/>\n",
              "    <path d=\"M18.56 5.44l.94 2.06.94-2.06 2.06-.94-2.06-.94-.94-2.06-.94 2.06-2.06.94zm-11 1L8.5 8.5l.94-2.06 2.06-.94-2.06-.94L8.5 2.5l-.94 2.06-2.06.94zm10 10l.94 2.06.94-2.06 2.06-.94-2.06-.94-.94-2.06-.94 2.06-2.06.94z\"/><path d=\"M17.41 7.96l-1.37-1.37c-.4-.4-.92-.59-1.43-.59-.52 0-1.04.2-1.43.59L10.3 9.45l-7.72 7.72c-.78.78-.78 2.05 0 2.83L4 21.41c.39.39.9.59 1.41.59.51 0 1.02-.2 1.41-.59l7.78-7.78 2.81-2.81c.8-.78.8-2.07 0-2.86zM5.41 20L4 18.59l7.72-7.72 1.47 1.35L5.41 20z\"/>\n",
              "  </svg>\n",
              "      </button>\n",
              "      \n",
              "  <style>\n",
              "    .colab-df-container {\n",
              "      display:flex;\n",
              "      flex-wrap:wrap;\n",
              "      gap: 12px;\n",
              "    }\n",
              "\n",
              "    .colab-df-convert {\n",
              "      background-color: #E8F0FE;\n",
              "      border: none;\n",
              "      border-radius: 50%;\n",
              "      cursor: pointer;\n",
              "      display: none;\n",
              "      fill: #1967D2;\n",
              "      height: 32px;\n",
              "      padding: 0 0 0 0;\n",
              "      width: 32px;\n",
              "    }\n",
              "\n",
              "    .colab-df-convert:hover {\n",
              "      background-color: #E2EBFA;\n",
              "      box-shadow: 0px 1px 2px rgba(60, 64, 67, 0.3), 0px 1px 3px 1px rgba(60, 64, 67, 0.15);\n",
              "      fill: #174EA6;\n",
              "    }\n",
              "\n",
              "    [theme=dark] .colab-df-convert {\n",
              "      background-color: #3B4455;\n",
              "      fill: #D2E3FC;\n",
              "    }\n",
              "\n",
              "    [theme=dark] .colab-df-convert:hover {\n",
              "      background-color: #434B5C;\n",
              "      box-shadow: 0px 1px 3px 1px rgba(0, 0, 0, 0.15);\n",
              "      filter: drop-shadow(0px 1px 2px rgba(0, 0, 0, 0.3));\n",
              "      fill: #FFFFFF;\n",
              "    }\n",
              "  </style>\n",
              "\n",
              "      <script>\n",
              "        const buttonEl =\n",
              "          document.querySelector('#df-d952e66f-fd58-4297-893d-31ab85fcb6a9 button.colab-df-convert');\n",
              "        buttonEl.style.display =\n",
              "          google.colab.kernel.accessAllowed ? 'block' : 'none';\n",
              "\n",
              "        async function convertToInteractive(key) {\n",
              "          const element = document.querySelector('#df-d952e66f-fd58-4297-893d-31ab85fcb6a9');\n",
              "          const dataTable =\n",
              "            await google.colab.kernel.invokeFunction('convertToInteractive',\n",
              "                                                     [key], {});\n",
              "          if (!dataTable) return;\n",
              "\n",
              "          const docLinkHtml = 'Like what you see? Visit the ' +\n",
              "            '<a target=\"_blank\" href=https://colab.research.google.com/notebooks/data_table.ipynb>data table notebook</a>'\n",
              "            + ' to learn more about interactive tables.';\n",
              "          element.innerHTML = '';\n",
              "          dataTable['output_type'] = 'display_data';\n",
              "          await google.colab.output.renderOutput(dataTable, element);\n",
              "          const docLink = document.createElement('div');\n",
              "          docLink.innerHTML = docLinkHtml;\n",
              "          element.appendChild(docLink);\n",
              "        }\n",
              "      </script>\n",
              "    </div>\n",
              "  </div>\n",
              "  "
            ],
            "text/plain": [
              "    DOCUMENT_ID  SCORE  ... Prediction                                 Evaluation\n",
              "7     584207033   10.0  ...         10  [4, 0, 0, 0, 0, 25, 0, 32, 324, 38, 7189]\n",
              "10    584199033    9.0  ...         10     [0, 0, 0, 0, 0, 3, 0, 12, 60, 5, 1100]\n",
              "13    591377035   10.0  ...         10  [4, 0, 0, 0, 0, 25, 0, 32, 324, 38, 7189]\n",
              "25     34211545   10.0  ...         10  [4, 0, 0, 0, 0, 25, 0, 32, 324, 38, 7189]\n",
              "26     34211856   10.0  ...         10  [4, 0, 0, 0, 0, 25, 0, 32, 324, 38, 7189]\n",
              "\n",
              "[5 rows x 5 columns]"
            ]
          },
          "metadata": {},
          "execution_count": 52
        }
      ]
    },
    {
      "cell_type": "code",
      "source": [
        "df_pred.tail()"
      ],
      "metadata": {
        "colab": {
          "base_uri": "https://localhost:8080/",
          "height": 206
        },
        "id": "pM-FPOCt8ekv",
        "outputId": "c42f9e7e-4b41-4356-99b5-cd6cf6ff6625"
      },
      "execution_count": 54,
      "outputs": [
        {
          "output_type": "execute_result",
          "data": {
            "text/html": [
              "\n",
              "  <div id=\"df-52f72718-205a-40c9-aa98-e0de95f52fa9\">\n",
              "    <div class=\"colab-df-container\">\n",
              "      <div>\n",
              "<style scoped>\n",
              "    .dataframe tbody tr th:only-of-type {\n",
              "        vertical-align: middle;\n",
              "    }\n",
              "\n",
              "    .dataframe tbody tr th {\n",
              "        vertical-align: top;\n",
              "    }\n",
              "\n",
              "    .dataframe thead th {\n",
              "        text-align: right;\n",
              "    }\n",
              "</style>\n",
              "<table border=\"1\" class=\"dataframe\">\n",
              "  <thead>\n",
              "    <tr style=\"text-align: right;\">\n",
              "      <th></th>\n",
              "      <th>DOCUMENT_ID</th>\n",
              "      <th>SCORE</th>\n",
              "      <th>SENTENCE</th>\n",
              "      <th>Prediction</th>\n",
              "      <th>Evaluation</th>\n",
              "    </tr>\n",
              "  </thead>\n",
              "  <tbody>\n",
              "    <tr>\n",
              "      <th>70625</th>\n",
              "      <td>689811033</td>\n",
              "      <td>8.0</td>\n",
              "      <td>The speed in which the process was taken was e...</td>\n",
              "      <td>10</td>\n",
              "      <td>[0, 0, 0, 0, 0, 3, 0, 4, 33, 4, 635]</td>\n",
              "    </tr>\n",
              "    <tr>\n",
              "      <th>70645</th>\n",
              "      <td>689884033</td>\n",
              "      <td>10.0</td>\n",
              "      <td>Quick and easy with a low loan interest rate i...</td>\n",
              "      <td>10</td>\n",
              "      <td>[4, 0, 0, 0, 0, 25, 0, 32, 324, 38, 7189]</td>\n",
              "    </tr>\n",
              "    <tr>\n",
              "      <th>70646</th>\n",
              "      <td>689562033</td>\n",
              "      <td>5.0</td>\n",
              "      <td>The prompt decision</td>\n",
              "      <td>10</td>\n",
              "      <td>[0, 0, 0, 0, 0, 1, 0, 0, 0, 1, 64]</td>\n",
              "    </tr>\n",
              "    <tr>\n",
              "      <th>70652</th>\n",
              "      <td>689568034</td>\n",
              "      <td>10.0</td>\n",
              "      <td>paying bills</td>\n",
              "      <td>10</td>\n",
              "      <td>[4, 0, 0, 0, 0, 25, 0, 32, 324, 38, 7189]</td>\n",
              "    </tr>\n",
              "    <tr>\n",
              "      <th>70655</th>\n",
              "      <td>689550034</td>\n",
              "      <td>10.0</td>\n",
              "      <td>It was quick and easy process</td>\n",
              "      <td>10</td>\n",
              "      <td>[4, 0, 0, 0, 0, 25, 0, 32, 324, 38, 7189]</td>\n",
              "    </tr>\n",
              "  </tbody>\n",
              "</table>\n",
              "</div>\n",
              "      <button class=\"colab-df-convert\" onclick=\"convertToInteractive('df-52f72718-205a-40c9-aa98-e0de95f52fa9')\"\n",
              "              title=\"Convert this dataframe to an interactive table.\"\n",
              "              style=\"display:none;\">\n",
              "        \n",
              "  <svg xmlns=\"http://www.w3.org/2000/svg\" height=\"24px\"viewBox=\"0 0 24 24\"\n",
              "       width=\"24px\">\n",
              "    <path d=\"M0 0h24v24H0V0z\" fill=\"none\"/>\n",
              "    <path d=\"M18.56 5.44l.94 2.06.94-2.06 2.06-.94-2.06-.94-.94-2.06-.94 2.06-2.06.94zm-11 1L8.5 8.5l.94-2.06 2.06-.94-2.06-.94L8.5 2.5l-.94 2.06-2.06.94zm10 10l.94 2.06.94-2.06 2.06-.94-2.06-.94-.94-2.06-.94 2.06-2.06.94z\"/><path d=\"M17.41 7.96l-1.37-1.37c-.4-.4-.92-.59-1.43-.59-.52 0-1.04.2-1.43.59L10.3 9.45l-7.72 7.72c-.78.78-.78 2.05 0 2.83L4 21.41c.39.39.9.59 1.41.59.51 0 1.02-.2 1.41-.59l7.78-7.78 2.81-2.81c.8-.78.8-2.07 0-2.86zM5.41 20L4 18.59l7.72-7.72 1.47 1.35L5.41 20z\"/>\n",
              "  </svg>\n",
              "      </button>\n",
              "      \n",
              "  <style>\n",
              "    .colab-df-container {\n",
              "      display:flex;\n",
              "      flex-wrap:wrap;\n",
              "      gap: 12px;\n",
              "    }\n",
              "\n",
              "    .colab-df-convert {\n",
              "      background-color: #E8F0FE;\n",
              "      border: none;\n",
              "      border-radius: 50%;\n",
              "      cursor: pointer;\n",
              "      display: none;\n",
              "      fill: #1967D2;\n",
              "      height: 32px;\n",
              "      padding: 0 0 0 0;\n",
              "      width: 32px;\n",
              "    }\n",
              "\n",
              "    .colab-df-convert:hover {\n",
              "      background-color: #E2EBFA;\n",
              "      box-shadow: 0px 1px 2px rgba(60, 64, 67, 0.3), 0px 1px 3px 1px rgba(60, 64, 67, 0.15);\n",
              "      fill: #174EA6;\n",
              "    }\n",
              "\n",
              "    [theme=dark] .colab-df-convert {\n",
              "      background-color: #3B4455;\n",
              "      fill: #D2E3FC;\n",
              "    }\n",
              "\n",
              "    [theme=dark] .colab-df-convert:hover {\n",
              "      background-color: #434B5C;\n",
              "      box-shadow: 0px 1px 3px 1px rgba(0, 0, 0, 0.15);\n",
              "      filter: drop-shadow(0px 1px 2px rgba(0, 0, 0, 0.3));\n",
              "      fill: #FFFFFF;\n",
              "    }\n",
              "  </style>\n",
              "\n",
              "      <script>\n",
              "        const buttonEl =\n",
              "          document.querySelector('#df-52f72718-205a-40c9-aa98-e0de95f52fa9 button.colab-df-convert');\n",
              "        buttonEl.style.display =\n",
              "          google.colab.kernel.accessAllowed ? 'block' : 'none';\n",
              "\n",
              "        async function convertToInteractive(key) {\n",
              "          const element = document.querySelector('#df-52f72718-205a-40c9-aa98-e0de95f52fa9');\n",
              "          const dataTable =\n",
              "            await google.colab.kernel.invokeFunction('convertToInteractive',\n",
              "                                                     [key], {});\n",
              "          if (!dataTable) return;\n",
              "\n",
              "          const docLinkHtml = 'Like what you see? Visit the ' +\n",
              "            '<a target=\"_blank\" href=https://colab.research.google.com/notebooks/data_table.ipynb>data table notebook</a>'\n",
              "            + ' to learn more about interactive tables.';\n",
              "          element.innerHTML = '';\n",
              "          dataTable['output_type'] = 'display_data';\n",
              "          await google.colab.output.renderOutput(dataTable, element);\n",
              "          const docLink = document.createElement('div');\n",
              "          docLink.innerHTML = docLinkHtml;\n",
              "          element.appendChild(docLink);\n",
              "        }\n",
              "      </script>\n",
              "    </div>\n",
              "  </div>\n",
              "  "
            ],
            "text/plain": [
              "       DOCUMENT_ID  ...                                 Evaluation\n",
              "70625    689811033  ...       [0, 0, 0, 0, 0, 3, 0, 4, 33, 4, 635]\n",
              "70645    689884033  ...  [4, 0, 0, 0, 0, 25, 0, 32, 324, 38, 7189]\n",
              "70646    689562033  ...         [0, 0, 0, 0, 0, 1, 0, 0, 0, 1, 64]\n",
              "70652    689568034  ...  [4, 0, 0, 0, 0, 25, 0, 32, 324, 38, 7189]\n",
              "70655    689550034  ...  [4, 0, 0, 0, 0, 25, 0, 32, 324, 38, 7189]\n",
              "\n",
              "[5 rows x 5 columns]"
            ]
          },
          "metadata": {},
          "execution_count": 54
        }
      ]
    },
    {
      "cell_type": "code",
      "source": [
        ""
      ],
      "metadata": {
        "id": "KJzohqoi8eqF"
      },
      "execution_count": null,
      "outputs": []
    },
    {
      "cell_type": "code",
      "source": [
        ""
      ],
      "metadata": {
        "id": "0g6t8OIzAX1W"
      },
      "execution_count": null,
      "outputs": []
    },
    {
      "cell_type": "markdown",
      "source": [
        "# Summary and Improvement:\n",
        "\n",
        "## 1. CNN + Bidirectional LSTM, ANN and Bert neural networks were built for NLP multi-class predictions with imbalance data. \n",
        "## 2. The CNN/BiLSTM model accuracy reached 0.77, which is the same as Bidirectional GRU neural network; tweaked neural networks and hyperparameters, but didn't help to improve the performance. However, the runtime is more than 10 times fast with adding CNN layer.\n",
        "## 3. ANN model consists only 3 dense layers which reached the same accuray as model of CNN/BiLSTM, and is very fast!\n",
        "## 4. BERT, train acc 0.963, validation acc 0.962, outperformance than CNN/BiLSTM and ANN models! But prediction is still not good. \n",
        "\n",
        "## Improvement:\n",
        "## 1. Data quality is very important for neural network models training and prediction. Understand the domain knowledge of dataset, which may help the data preprocessing, such as combine some minority classes to be 1 class, reduce total number of classes.\n",
        "## 2. Oversampling: For the words, using nlpaug, try 'substitute', and 'insert' options.       \n",
        "## 3. Try transformer GPT-2, other pre-trained BERT models which might be outperformence GRU, LSTM etc. recurrent neural networks.\n",
        "\n"
      ],
      "metadata": {
        "id": "iCoPY8qn3GW3"
      }
    },
    {
      "cell_type": "markdown",
      "source": [
        ""
      ],
      "metadata": {
        "id": "m80bCwbY3GbX"
      }
    }
  ]
}