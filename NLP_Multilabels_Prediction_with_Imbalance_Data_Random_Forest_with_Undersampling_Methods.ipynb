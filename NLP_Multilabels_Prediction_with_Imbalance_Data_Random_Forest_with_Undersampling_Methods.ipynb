{
  "nbformat": 4,
  "nbformat_minor": 0,
  "metadata": {
    "colab": {
      "name": "NLP_Multilabels Prediction with Imbalance Data_Random Forest with Undersampling Methods.ipynb",
      "provenance": [],
      "collapsed_sections": []
    },
    "kernelspec": {
      "name": "python3",
      "display_name": "Python 3"
    },
    "language_info": {
      "name": "python"
    }
  },
  "cells": [
    {
      "cell_type": "markdown",
      "source": [
        "## This Notebook is implemented several undersampling methods for imbalanced NLP data, and applied to Random Forest for prediction.\n",
        "## 1. NearMiss (version =3) undersampling technique for majority class, train acc 0.86, validation acc 0.11.\n",
        "## 2. Condensed Nearest Neighbor Rule Undersampling, train acc 0.88, validation acc 0.51.\n",
        "## 3. Tomek Links for Undersampling, train acc 0.91, validation acc 0.77.\n",
        "## 4. Edited Nearest Neighbors Rule for Undersampling, train acc 0.9999, validation acc 0.77. \n",
        "## 5. One-Sided Selection for Undersampling, train acc 0.93, validation acc 0.58\n",
        "## 6. Neighborhood Cleaning Rule for Undersampling, train acc 0.9996, validation acc 0.72.\n",
        "\n",
        "## Data is downloaded from this public GitHub repo:\n",
        "\n",
        "https://github.com/MarletteFunding/marlette-ds-challenge2"
      ],
      "metadata": {
        "id": "0OuTF4KbPXI-"
      }
    },
    {
      "cell_type": "code",
      "metadata": {
        "id": "eO1KVscn5KiC",
        "colab": {
          "base_uri": "https://localhost:8080/"
        },
        "outputId": "dc059548-9cbd-4419-ccea-687071d80e23"
      },
      "source": [
        "from google.colab import drive\n",
        "drive.mount('/content/drive')"
      ],
      "execution_count": 1,
      "outputs": [
        {
          "output_type": "stream",
          "name": "stdout",
          "text": [
            "Mounted at /content/drive\n"
          ]
        }
      ]
    },
    {
      "cell_type": "markdown",
      "source": [
        "## Upload data from Google Drive"
      ],
      "metadata": {
        "id": "7xyhuL5xu4hs"
      }
    },
    {
      "cell_type": "code",
      "metadata": {
        "id": "Mkn8XVG5loeW"
      },
      "source": [
        "import pandas as pd # data processing, CSV file I/O (e.g. pd.read_csv)\n",
        "path='/content/drive/My Drive/Data_Sets/'\n",
        "df_train = pd.read_csv(path+'NLP_task_train.csv.zip',header=0,index_col=0,compression='infer')\n",
        "df_validate = pd.read_csv(path+'NLP_task_validate.csv.zip',header=0,index_col=0,compression='infer')"
      ],
      "execution_count": 2,
      "outputs": []
    },
    {
      "cell_type": "markdown",
      "source": [
        "## Explore the data, Visulization target (Scores), handle missing data"
      ],
      "metadata": {
        "id": "cGfc8-9q1AOm"
      }
    },
    {
      "cell_type": "code",
      "source": [
        "df_train.head()"
      ],
      "metadata": {
        "colab": {
          "base_uri": "https://localhost:8080/",
          "height": 206
        },
        "id": "lipZTFMy3ocF",
        "outputId": "4943c19b-6555-486b-aadd-10ea2220d6a0"
      },
      "execution_count": 3,
      "outputs": [
        {
          "output_type": "execute_result",
          "data": {
            "text/html": [
              "\n",
              "  <div id=\"df-db7c0ab4-07c0-40c9-88ba-2837761c2818\">\n",
              "    <div class=\"colab-df-container\">\n",
              "      <div>\n",
              "<style scoped>\n",
              "    .dataframe tbody tr th:only-of-type {\n",
              "        vertical-align: middle;\n",
              "    }\n",
              "\n",
              "    .dataframe tbody tr th {\n",
              "        vertical-align: top;\n",
              "    }\n",
              "\n",
              "    .dataframe thead th {\n",
              "        text-align: right;\n",
              "    }\n",
              "</style>\n",
              "<table border=\"1\" class=\"dataframe\">\n",
              "  <thead>\n",
              "    <tr style=\"text-align: right;\">\n",
              "      <th></th>\n",
              "      <th>DOCUMENT_ID</th>\n",
              "      <th>SENTENCE_ID</th>\n",
              "      <th>SENTENCE</th>\n",
              "      <th>SENTENCE_START_POS</th>\n",
              "      <th>SENTENCE_END_POS</th>\n",
              "      <th>SCORE</th>\n",
              "    </tr>\n",
              "  </thead>\n",
              "  <tbody>\n",
              "    <tr>\n",
              "      <th>0</th>\n",
              "      <td>583306034</td>\n",
              "      <td>1888104</td>\n",
              "      <td>The whole process went smooth and I am thankfu...</td>\n",
              "      <td>109</td>\n",
              "      <td>165</td>\n",
              "      <td>10.0</td>\n",
              "    </tr>\n",
              "    <tr>\n",
              "      <th>1</th>\n",
              "      <td>583306034</td>\n",
              "      <td>1888102</td>\n",
              "      <td>It was quick and easy to apply and got the app...</td>\n",
              "      <td>0</td>\n",
              "      <td>60</td>\n",
              "      <td>10.0</td>\n",
              "    </tr>\n",
              "    <tr>\n",
              "      <th>2</th>\n",
              "      <td>584193040</td>\n",
              "      <td>1909902</td>\n",
              "      <td>service</td>\n",
              "      <td>0</td>\n",
              "      <td>7</td>\n",
              "      <td>10.0</td>\n",
              "    </tr>\n",
              "    <tr>\n",
              "      <th>3</th>\n",
              "      <td>584203035</td>\n",
              "      <td>1910310</td>\n",
              "      <td>Thanks!</td>\n",
              "      <td>198</td>\n",
              "      <td>205</td>\n",
              "      <td>10.0</td>\n",
              "    </tr>\n",
              "    <tr>\n",
              "      <th>4</th>\n",
              "      <td>584200037</td>\n",
              "      <td>1910006</td>\n",
              "      <td>Thank you!</td>\n",
              "      <td>58</td>\n",
              "      <td>68</td>\n",
              "      <td>10.0</td>\n",
              "    </tr>\n",
              "  </tbody>\n",
              "</table>\n",
              "</div>\n",
              "      <button class=\"colab-df-convert\" onclick=\"convertToInteractive('df-db7c0ab4-07c0-40c9-88ba-2837761c2818')\"\n",
              "              title=\"Convert this dataframe to an interactive table.\"\n",
              "              style=\"display:none;\">\n",
              "        \n",
              "  <svg xmlns=\"http://www.w3.org/2000/svg\" height=\"24px\"viewBox=\"0 0 24 24\"\n",
              "       width=\"24px\">\n",
              "    <path d=\"M0 0h24v24H0V0z\" fill=\"none\"/>\n",
              "    <path d=\"M18.56 5.44l.94 2.06.94-2.06 2.06-.94-2.06-.94-.94-2.06-.94 2.06-2.06.94zm-11 1L8.5 8.5l.94-2.06 2.06-.94-2.06-.94L8.5 2.5l-.94 2.06-2.06.94zm10 10l.94 2.06.94-2.06 2.06-.94-2.06-.94-.94-2.06-.94 2.06-2.06.94z\"/><path d=\"M17.41 7.96l-1.37-1.37c-.4-.4-.92-.59-1.43-.59-.52 0-1.04.2-1.43.59L10.3 9.45l-7.72 7.72c-.78.78-.78 2.05 0 2.83L4 21.41c.39.39.9.59 1.41.59.51 0 1.02-.2 1.41-.59l7.78-7.78 2.81-2.81c.8-.78.8-2.07 0-2.86zM5.41 20L4 18.59l7.72-7.72 1.47 1.35L5.41 20z\"/>\n",
              "  </svg>\n",
              "      </button>\n",
              "      \n",
              "  <style>\n",
              "    .colab-df-container {\n",
              "      display:flex;\n",
              "      flex-wrap:wrap;\n",
              "      gap: 12px;\n",
              "    }\n",
              "\n",
              "    .colab-df-convert {\n",
              "      background-color: #E8F0FE;\n",
              "      border: none;\n",
              "      border-radius: 50%;\n",
              "      cursor: pointer;\n",
              "      display: none;\n",
              "      fill: #1967D2;\n",
              "      height: 32px;\n",
              "      padding: 0 0 0 0;\n",
              "      width: 32px;\n",
              "    }\n",
              "\n",
              "    .colab-df-convert:hover {\n",
              "      background-color: #E2EBFA;\n",
              "      box-shadow: 0px 1px 2px rgba(60, 64, 67, 0.3), 0px 1px 3px 1px rgba(60, 64, 67, 0.15);\n",
              "      fill: #174EA6;\n",
              "    }\n",
              "\n",
              "    [theme=dark] .colab-df-convert {\n",
              "      background-color: #3B4455;\n",
              "      fill: #D2E3FC;\n",
              "    }\n",
              "\n",
              "    [theme=dark] .colab-df-convert:hover {\n",
              "      background-color: #434B5C;\n",
              "      box-shadow: 0px 1px 3px 1px rgba(0, 0, 0, 0.15);\n",
              "      filter: drop-shadow(0px 1px 2px rgba(0, 0, 0, 0.3));\n",
              "      fill: #FFFFFF;\n",
              "    }\n",
              "  </style>\n",
              "\n",
              "      <script>\n",
              "        const buttonEl =\n",
              "          document.querySelector('#df-db7c0ab4-07c0-40c9-88ba-2837761c2818 button.colab-df-convert');\n",
              "        buttonEl.style.display =\n",
              "          google.colab.kernel.accessAllowed ? 'block' : 'none';\n",
              "\n",
              "        async function convertToInteractive(key) {\n",
              "          const element = document.querySelector('#df-db7c0ab4-07c0-40c9-88ba-2837761c2818');\n",
              "          const dataTable =\n",
              "            await google.colab.kernel.invokeFunction('convertToInteractive',\n",
              "                                                     [key], {});\n",
              "          if (!dataTable) return;\n",
              "\n",
              "          const docLinkHtml = 'Like what you see? Visit the ' +\n",
              "            '<a target=\"_blank\" href=https://colab.research.google.com/notebooks/data_table.ipynb>data table notebook</a>'\n",
              "            + ' to learn more about interactive tables.';\n",
              "          element.innerHTML = '';\n",
              "          dataTable['output_type'] = 'display_data';\n",
              "          await google.colab.output.renderOutput(dataTable, element);\n",
              "          const docLink = document.createElement('div');\n",
              "          docLink.innerHTML = docLinkHtml;\n",
              "          element.appendChild(docLink);\n",
              "        }\n",
              "      </script>\n",
              "    </div>\n",
              "  </div>\n",
              "  "
            ],
            "text/plain": [
              "   DOCUMENT_ID  SENTENCE_ID  ... SENTENCE_END_POS  SCORE\n",
              "0    583306034      1888104  ...              165   10.0\n",
              "1    583306034      1888102  ...               60   10.0\n",
              "2    584193040      1909902  ...                7   10.0\n",
              "3    584203035      1910310  ...              205   10.0\n",
              "4    584200037      1910006  ...               68   10.0\n",
              "\n",
              "[5 rows x 6 columns]"
            ]
          },
          "metadata": {},
          "execution_count": 3
        }
      ]
    },
    {
      "cell_type": "code",
      "source": [
        "df_train.tail()"
      ],
      "metadata": {
        "colab": {
          "base_uri": "https://localhost:8080/",
          "height": 206
        },
        "id": "spwyxq7q3_XZ",
        "outputId": "d421add5-9724-45fd-a9d6-15bd352232ac"
      },
      "execution_count": 4,
      "outputs": [
        {
          "output_type": "execute_result",
          "data": {
            "text/html": [
              "\n",
              "  <div id=\"df-b08f1d10-a3a1-45df-bda2-933dd0eaaf6d\">\n",
              "    <div class=\"colab-df-container\">\n",
              "      <div>\n",
              "<style scoped>\n",
              "    .dataframe tbody tr th:only-of-type {\n",
              "        vertical-align: middle;\n",
              "    }\n",
              "\n",
              "    .dataframe tbody tr th {\n",
              "        vertical-align: top;\n",
              "    }\n",
              "\n",
              "    .dataframe thead th {\n",
              "        text-align: right;\n",
              "    }\n",
              "</style>\n",
              "<table border=\"1\" class=\"dataframe\">\n",
              "  <thead>\n",
              "    <tr style=\"text-align: right;\">\n",
              "      <th></th>\n",
              "      <th>DOCUMENT_ID</th>\n",
              "      <th>SENTENCE_ID</th>\n",
              "      <th>SENTENCE</th>\n",
              "      <th>SENTENCE_START_POS</th>\n",
              "      <th>SENTENCE_END_POS</th>\n",
              "      <th>SCORE</th>\n",
              "    </tr>\n",
              "  </thead>\n",
              "  <tbody>\n",
              "    <tr>\n",
              "      <th>70657</th>\n",
              "      <td>689569033</td>\n",
              "      <td>3973028</td>\n",
              "      <td>good communication on each step</td>\n",
              "      <td>25</td>\n",
              "      <td>56</td>\n",
              "      <td>8.0</td>\n",
              "    </tr>\n",
              "    <tr>\n",
              "      <th>70659</th>\n",
              "      <td>689548036</td>\n",
              "      <td>3972918</td>\n",
              "      <td>Applying for this loan was a very easy experience</td>\n",
              "      <td>0</td>\n",
              "      <td>49</td>\n",
              "      <td>10.0</td>\n",
              "    </tr>\n",
              "    <tr>\n",
              "      <th>70660</th>\n",
              "      <td>689549033</td>\n",
              "      <td>3973010</td>\n",
              "      <td>Was very helpful and stayed on phone to make s...</td>\n",
              "      <td>0</td>\n",
              "      <td>103</td>\n",
              "      <td>10.0</td>\n",
              "    </tr>\n",
              "    <tr>\n",
              "      <th>70661</th>\n",
              "      <td>689564034</td>\n",
              "      <td>3973230</td>\n",
              "      <td>High Interest Rates</td>\n",
              "      <td>0</td>\n",
              "      <td>19</td>\n",
              "      <td>8.0</td>\n",
              "    </tr>\n",
              "    <tr>\n",
              "      <th>70662</th>\n",
              "      <td>689550033</td>\n",
              "      <td>3973221</td>\n",
              "      <td>I appreciate this loan opportunity from Best E...</td>\n",
              "      <td>63</td>\n",
              "      <td>120</td>\n",
              "      <td>10.0</td>\n",
              "    </tr>\n",
              "  </tbody>\n",
              "</table>\n",
              "</div>\n",
              "      <button class=\"colab-df-convert\" onclick=\"convertToInteractive('df-b08f1d10-a3a1-45df-bda2-933dd0eaaf6d')\"\n",
              "              title=\"Convert this dataframe to an interactive table.\"\n",
              "              style=\"display:none;\">\n",
              "        \n",
              "  <svg xmlns=\"http://www.w3.org/2000/svg\" height=\"24px\"viewBox=\"0 0 24 24\"\n",
              "       width=\"24px\">\n",
              "    <path d=\"M0 0h24v24H0V0z\" fill=\"none\"/>\n",
              "    <path d=\"M18.56 5.44l.94 2.06.94-2.06 2.06-.94-2.06-.94-.94-2.06-.94 2.06-2.06.94zm-11 1L8.5 8.5l.94-2.06 2.06-.94-2.06-.94L8.5 2.5l-.94 2.06-2.06.94zm10 10l.94 2.06.94-2.06 2.06-.94-2.06-.94-.94-2.06-.94 2.06-2.06.94z\"/><path d=\"M17.41 7.96l-1.37-1.37c-.4-.4-.92-.59-1.43-.59-.52 0-1.04.2-1.43.59L10.3 9.45l-7.72 7.72c-.78.78-.78 2.05 0 2.83L4 21.41c.39.39.9.59 1.41.59.51 0 1.02-.2 1.41-.59l7.78-7.78 2.81-2.81c.8-.78.8-2.07 0-2.86zM5.41 20L4 18.59l7.72-7.72 1.47 1.35L5.41 20z\"/>\n",
              "  </svg>\n",
              "      </button>\n",
              "      \n",
              "  <style>\n",
              "    .colab-df-container {\n",
              "      display:flex;\n",
              "      flex-wrap:wrap;\n",
              "      gap: 12px;\n",
              "    }\n",
              "\n",
              "    .colab-df-convert {\n",
              "      background-color: #E8F0FE;\n",
              "      border: none;\n",
              "      border-radius: 50%;\n",
              "      cursor: pointer;\n",
              "      display: none;\n",
              "      fill: #1967D2;\n",
              "      height: 32px;\n",
              "      padding: 0 0 0 0;\n",
              "      width: 32px;\n",
              "    }\n",
              "\n",
              "    .colab-df-convert:hover {\n",
              "      background-color: #E2EBFA;\n",
              "      box-shadow: 0px 1px 2px rgba(60, 64, 67, 0.3), 0px 1px 3px 1px rgba(60, 64, 67, 0.15);\n",
              "      fill: #174EA6;\n",
              "    }\n",
              "\n",
              "    [theme=dark] .colab-df-convert {\n",
              "      background-color: #3B4455;\n",
              "      fill: #D2E3FC;\n",
              "    }\n",
              "\n",
              "    [theme=dark] .colab-df-convert:hover {\n",
              "      background-color: #434B5C;\n",
              "      box-shadow: 0px 1px 3px 1px rgba(0, 0, 0, 0.15);\n",
              "      filter: drop-shadow(0px 1px 2px rgba(0, 0, 0, 0.3));\n",
              "      fill: #FFFFFF;\n",
              "    }\n",
              "  </style>\n",
              "\n",
              "      <script>\n",
              "        const buttonEl =\n",
              "          document.querySelector('#df-b08f1d10-a3a1-45df-bda2-933dd0eaaf6d button.colab-df-convert');\n",
              "        buttonEl.style.display =\n",
              "          google.colab.kernel.accessAllowed ? 'block' : 'none';\n",
              "\n",
              "        async function convertToInteractive(key) {\n",
              "          const element = document.querySelector('#df-b08f1d10-a3a1-45df-bda2-933dd0eaaf6d');\n",
              "          const dataTable =\n",
              "            await google.colab.kernel.invokeFunction('convertToInteractive',\n",
              "                                                     [key], {});\n",
              "          if (!dataTable) return;\n",
              "\n",
              "          const docLinkHtml = 'Like what you see? Visit the ' +\n",
              "            '<a target=\"_blank\" href=https://colab.research.google.com/notebooks/data_table.ipynb>data table notebook</a>'\n",
              "            + ' to learn more about interactive tables.';\n",
              "          element.innerHTML = '';\n",
              "          dataTable['output_type'] = 'display_data';\n",
              "          await google.colab.output.renderOutput(dataTable, element);\n",
              "          const docLink = document.createElement('div');\n",
              "          docLink.innerHTML = docLinkHtml;\n",
              "          element.appendChild(docLink);\n",
              "        }\n",
              "      </script>\n",
              "    </div>\n",
              "  </div>\n",
              "  "
            ],
            "text/plain": [
              "       DOCUMENT_ID  SENTENCE_ID  ... SENTENCE_END_POS  SCORE\n",
              "70657    689569033      3973028  ...               56    8.0\n",
              "70659    689548036      3972918  ...               49   10.0\n",
              "70660    689549033      3973010  ...              103   10.0\n",
              "70661    689564034      3973230  ...               19    8.0\n",
              "70662    689550033      3973221  ...              120   10.0\n",
              "\n",
              "[5 rows x 6 columns]"
            ]
          },
          "metadata": {},
          "execution_count": 4
        }
      ]
    },
    {
      "cell_type": "code",
      "source": [
        "df_validate.head()"
      ],
      "metadata": {
        "colab": {
          "base_uri": "https://localhost:8080/",
          "height": 206
        },
        "id": "0rMNSz9eTPc0",
        "outputId": "98cd97e1-717a-4afe-cee5-4f8cb7b99b5f"
      },
      "execution_count": 5,
      "outputs": [
        {
          "output_type": "execute_result",
          "data": {
            "text/html": [
              "\n",
              "  <div id=\"df-37fc2502-f273-47d4-b74a-b5a3329817ee\">\n",
              "    <div class=\"colab-df-container\">\n",
              "      <div>\n",
              "<style scoped>\n",
              "    .dataframe tbody tr th:only-of-type {\n",
              "        vertical-align: middle;\n",
              "    }\n",
              "\n",
              "    .dataframe tbody tr th {\n",
              "        vertical-align: top;\n",
              "    }\n",
              "\n",
              "    .dataframe thead th {\n",
              "        text-align: right;\n",
              "    }\n",
              "</style>\n",
              "<table border=\"1\" class=\"dataframe\">\n",
              "  <thead>\n",
              "    <tr style=\"text-align: right;\">\n",
              "      <th></th>\n",
              "      <th>DOCUMENT_ID</th>\n",
              "      <th>SENTENCE_ID</th>\n",
              "      <th>SENTENCE</th>\n",
              "      <th>SENTENCE_START_POS</th>\n",
              "      <th>SENTENCE_END_POS</th>\n",
              "      <th>SCORE</th>\n",
              "    </tr>\n",
              "  </thead>\n",
              "  <tbody>\n",
              "    <tr>\n",
              "      <th>7</th>\n",
              "      <td>584207033</td>\n",
              "      <td>1910601</td>\n",
              "      <td>The loan process was super easy</td>\n",
              "      <td>0</td>\n",
              "      <td>31</td>\n",
              "      <td>10.0</td>\n",
              "    </tr>\n",
              "    <tr>\n",
              "      <th>10</th>\n",
              "      <td>584199033</td>\n",
              "      <td>1909801</td>\n",
              "      <td>The process was quick and easy!</td>\n",
              "      <td>0</td>\n",
              "      <td>31</td>\n",
              "      <td>9.0</td>\n",
              "    </tr>\n",
              "    <tr>\n",
              "      <th>13</th>\n",
              "      <td>591377035</td>\n",
              "      <td>2116637</td>\n",
              "      <td>were in my bank within just a few days from th...</td>\n",
              "      <td>178</td>\n",
              "      <td>252</td>\n",
              "      <td>10.0</td>\n",
              "    </tr>\n",
              "    <tr>\n",
              "      <th>14</th>\n",
              "      <td>591377035</td>\n",
              "      <td>2116635</td>\n",
              "      <td>I do not know what you mean by \"my score\", but...</td>\n",
              "      <td>0</td>\n",
              "      <td>131</td>\n",
              "      <td>10.0</td>\n",
              "    </tr>\n",
              "    <tr>\n",
              "      <th>25</th>\n",
              "      <td>34211545</td>\n",
              "      <td>359794</td>\n",
              "      <td>Very expensive dental work and debt consolidat...</td>\n",
              "      <td>0</td>\n",
              "      <td>50</td>\n",
              "      <td>10.0</td>\n",
              "    </tr>\n",
              "  </tbody>\n",
              "</table>\n",
              "</div>\n",
              "      <button class=\"colab-df-convert\" onclick=\"convertToInteractive('df-37fc2502-f273-47d4-b74a-b5a3329817ee')\"\n",
              "              title=\"Convert this dataframe to an interactive table.\"\n",
              "              style=\"display:none;\">\n",
              "        \n",
              "  <svg xmlns=\"http://www.w3.org/2000/svg\" height=\"24px\"viewBox=\"0 0 24 24\"\n",
              "       width=\"24px\">\n",
              "    <path d=\"M0 0h24v24H0V0z\" fill=\"none\"/>\n",
              "    <path d=\"M18.56 5.44l.94 2.06.94-2.06 2.06-.94-2.06-.94-.94-2.06-.94 2.06-2.06.94zm-11 1L8.5 8.5l.94-2.06 2.06-.94-2.06-.94L8.5 2.5l-.94 2.06-2.06.94zm10 10l.94 2.06.94-2.06 2.06-.94-2.06-.94-.94-2.06-.94 2.06-2.06.94z\"/><path d=\"M17.41 7.96l-1.37-1.37c-.4-.4-.92-.59-1.43-.59-.52 0-1.04.2-1.43.59L10.3 9.45l-7.72 7.72c-.78.78-.78 2.05 0 2.83L4 21.41c.39.39.9.59 1.41.59.51 0 1.02-.2 1.41-.59l7.78-7.78 2.81-2.81c.8-.78.8-2.07 0-2.86zM5.41 20L4 18.59l7.72-7.72 1.47 1.35L5.41 20z\"/>\n",
              "  </svg>\n",
              "      </button>\n",
              "      \n",
              "  <style>\n",
              "    .colab-df-container {\n",
              "      display:flex;\n",
              "      flex-wrap:wrap;\n",
              "      gap: 12px;\n",
              "    }\n",
              "\n",
              "    .colab-df-convert {\n",
              "      background-color: #E8F0FE;\n",
              "      border: none;\n",
              "      border-radius: 50%;\n",
              "      cursor: pointer;\n",
              "      display: none;\n",
              "      fill: #1967D2;\n",
              "      height: 32px;\n",
              "      padding: 0 0 0 0;\n",
              "      width: 32px;\n",
              "    }\n",
              "\n",
              "    .colab-df-convert:hover {\n",
              "      background-color: #E2EBFA;\n",
              "      box-shadow: 0px 1px 2px rgba(60, 64, 67, 0.3), 0px 1px 3px 1px rgba(60, 64, 67, 0.15);\n",
              "      fill: #174EA6;\n",
              "    }\n",
              "\n",
              "    [theme=dark] .colab-df-convert {\n",
              "      background-color: #3B4455;\n",
              "      fill: #D2E3FC;\n",
              "    }\n",
              "\n",
              "    [theme=dark] .colab-df-convert:hover {\n",
              "      background-color: #434B5C;\n",
              "      box-shadow: 0px 1px 3px 1px rgba(0, 0, 0, 0.15);\n",
              "      filter: drop-shadow(0px 1px 2px rgba(0, 0, 0, 0.3));\n",
              "      fill: #FFFFFF;\n",
              "    }\n",
              "  </style>\n",
              "\n",
              "      <script>\n",
              "        const buttonEl =\n",
              "          document.querySelector('#df-37fc2502-f273-47d4-b74a-b5a3329817ee button.colab-df-convert');\n",
              "        buttonEl.style.display =\n",
              "          google.colab.kernel.accessAllowed ? 'block' : 'none';\n",
              "\n",
              "        async function convertToInteractive(key) {\n",
              "          const element = document.querySelector('#df-37fc2502-f273-47d4-b74a-b5a3329817ee');\n",
              "          const dataTable =\n",
              "            await google.colab.kernel.invokeFunction('convertToInteractive',\n",
              "                                                     [key], {});\n",
              "          if (!dataTable) return;\n",
              "\n",
              "          const docLinkHtml = 'Like what you see? Visit the ' +\n",
              "            '<a target=\"_blank\" href=https://colab.research.google.com/notebooks/data_table.ipynb>data table notebook</a>'\n",
              "            + ' to learn more about interactive tables.';\n",
              "          element.innerHTML = '';\n",
              "          dataTable['output_type'] = 'display_data';\n",
              "          await google.colab.output.renderOutput(dataTable, element);\n",
              "          const docLink = document.createElement('div');\n",
              "          docLink.innerHTML = docLinkHtml;\n",
              "          element.appendChild(docLink);\n",
              "        }\n",
              "      </script>\n",
              "    </div>\n",
              "  </div>\n",
              "  "
            ],
            "text/plain": [
              "    DOCUMENT_ID  SENTENCE_ID  ... SENTENCE_END_POS  SCORE\n",
              "7     584207033      1910601  ...               31   10.0\n",
              "10    584199033      1909801  ...               31    9.0\n",
              "13    591377035      2116637  ...              252   10.0\n",
              "14    591377035      2116635  ...              131   10.0\n",
              "25     34211545       359794  ...               50   10.0\n",
              "\n",
              "[5 rows x 6 columns]"
            ]
          },
          "metadata": {},
          "execution_count": 5
        }
      ]
    },
    {
      "cell_type": "code",
      "source": [
        "df_validate.tail()"
      ],
      "metadata": {
        "colab": {
          "base_uri": "https://localhost:8080/",
          "height": 206
        },
        "id": "NwU2ZlRSTMH4",
        "outputId": "23bdbd0b-fc1a-473e-8ad4-fe9f80ac10e4"
      },
      "execution_count": 6,
      "outputs": [
        {
          "output_type": "execute_result",
          "data": {
            "text/html": [
              "\n",
              "  <div id=\"df-6bb2029f-1ce0-43a4-ad6e-0a09f3507c9d\">\n",
              "    <div class=\"colab-df-container\">\n",
              "      <div>\n",
              "<style scoped>\n",
              "    .dataframe tbody tr th:only-of-type {\n",
              "        vertical-align: middle;\n",
              "    }\n",
              "\n",
              "    .dataframe tbody tr th {\n",
              "        vertical-align: top;\n",
              "    }\n",
              "\n",
              "    .dataframe thead th {\n",
              "        text-align: right;\n",
              "    }\n",
              "</style>\n",
              "<table border=\"1\" class=\"dataframe\">\n",
              "  <thead>\n",
              "    <tr style=\"text-align: right;\">\n",
              "      <th></th>\n",
              "      <th>DOCUMENT_ID</th>\n",
              "      <th>SENTENCE_ID</th>\n",
              "      <th>SENTENCE</th>\n",
              "      <th>SENTENCE_START_POS</th>\n",
              "      <th>SENTENCE_END_POS</th>\n",
              "      <th>SCORE</th>\n",
              "    </tr>\n",
              "  </thead>\n",
              "  <tbody>\n",
              "    <tr>\n",
              "      <th>70650</th>\n",
              "      <td>689544034</td>\n",
              "      <td>3973218</td>\n",
              "      <td>Also many options to choose from to fit my bud...</td>\n",
              "      <td>28</td>\n",
              "      <td>78</td>\n",
              "      <td>10.0</td>\n",
              "    </tr>\n",
              "    <tr>\n",
              "      <th>70652</th>\n",
              "      <td>689568034</td>\n",
              "      <td>3972921</td>\n",
              "      <td>paying bills</td>\n",
              "      <td>0</td>\n",
              "      <td>12</td>\n",
              "      <td>10.0</td>\n",
              "    </tr>\n",
              "    <tr>\n",
              "      <th>70655</th>\n",
              "      <td>689550034</td>\n",
              "      <td>3973223</td>\n",
              "      <td>It was quick and easy process</td>\n",
              "      <td>0</td>\n",
              "      <td>29</td>\n",
              "      <td>10.0</td>\n",
              "    </tr>\n",
              "    <tr>\n",
              "      <th>70656</th>\n",
              "      <td>689559033</td>\n",
              "      <td>3973021</td>\n",
              "      <td>Best Egg helped me to consolidate my high inte...</td>\n",
              "      <td>40</td>\n",
              "      <td>136</td>\n",
              "      <td>10.0</td>\n",
              "    </tr>\n",
              "    <tr>\n",
              "      <th>70658</th>\n",
              "      <td>689559033</td>\n",
              "      <td>3973023</td>\n",
              "      <td>Having paid off those loans and now needing an...</td>\n",
              "      <td>188</td>\n",
              "      <td>300</td>\n",
              "      <td>10.0</td>\n",
              "    </tr>\n",
              "  </tbody>\n",
              "</table>\n",
              "</div>\n",
              "      <button class=\"colab-df-convert\" onclick=\"convertToInteractive('df-6bb2029f-1ce0-43a4-ad6e-0a09f3507c9d')\"\n",
              "              title=\"Convert this dataframe to an interactive table.\"\n",
              "              style=\"display:none;\">\n",
              "        \n",
              "  <svg xmlns=\"http://www.w3.org/2000/svg\" height=\"24px\"viewBox=\"0 0 24 24\"\n",
              "       width=\"24px\">\n",
              "    <path d=\"M0 0h24v24H0V0z\" fill=\"none\"/>\n",
              "    <path d=\"M18.56 5.44l.94 2.06.94-2.06 2.06-.94-2.06-.94-.94-2.06-.94 2.06-2.06.94zm-11 1L8.5 8.5l.94-2.06 2.06-.94-2.06-.94L8.5 2.5l-.94 2.06-2.06.94zm10 10l.94 2.06.94-2.06 2.06-.94-2.06-.94-.94-2.06-.94 2.06-2.06.94z\"/><path d=\"M17.41 7.96l-1.37-1.37c-.4-.4-.92-.59-1.43-.59-.52 0-1.04.2-1.43.59L10.3 9.45l-7.72 7.72c-.78.78-.78 2.05 0 2.83L4 21.41c.39.39.9.59 1.41.59.51 0 1.02-.2 1.41-.59l7.78-7.78 2.81-2.81c.8-.78.8-2.07 0-2.86zM5.41 20L4 18.59l7.72-7.72 1.47 1.35L5.41 20z\"/>\n",
              "  </svg>\n",
              "      </button>\n",
              "      \n",
              "  <style>\n",
              "    .colab-df-container {\n",
              "      display:flex;\n",
              "      flex-wrap:wrap;\n",
              "      gap: 12px;\n",
              "    }\n",
              "\n",
              "    .colab-df-convert {\n",
              "      background-color: #E8F0FE;\n",
              "      border: none;\n",
              "      border-radius: 50%;\n",
              "      cursor: pointer;\n",
              "      display: none;\n",
              "      fill: #1967D2;\n",
              "      height: 32px;\n",
              "      padding: 0 0 0 0;\n",
              "      width: 32px;\n",
              "    }\n",
              "\n",
              "    .colab-df-convert:hover {\n",
              "      background-color: #E2EBFA;\n",
              "      box-shadow: 0px 1px 2px rgba(60, 64, 67, 0.3), 0px 1px 3px 1px rgba(60, 64, 67, 0.15);\n",
              "      fill: #174EA6;\n",
              "    }\n",
              "\n",
              "    [theme=dark] .colab-df-convert {\n",
              "      background-color: #3B4455;\n",
              "      fill: #D2E3FC;\n",
              "    }\n",
              "\n",
              "    [theme=dark] .colab-df-convert:hover {\n",
              "      background-color: #434B5C;\n",
              "      box-shadow: 0px 1px 3px 1px rgba(0, 0, 0, 0.15);\n",
              "      filter: drop-shadow(0px 1px 2px rgba(0, 0, 0, 0.3));\n",
              "      fill: #FFFFFF;\n",
              "    }\n",
              "  </style>\n",
              "\n",
              "      <script>\n",
              "        const buttonEl =\n",
              "          document.querySelector('#df-6bb2029f-1ce0-43a4-ad6e-0a09f3507c9d button.colab-df-convert');\n",
              "        buttonEl.style.display =\n",
              "          google.colab.kernel.accessAllowed ? 'block' : 'none';\n",
              "\n",
              "        async function convertToInteractive(key) {\n",
              "          const element = document.querySelector('#df-6bb2029f-1ce0-43a4-ad6e-0a09f3507c9d');\n",
              "          const dataTable =\n",
              "            await google.colab.kernel.invokeFunction('convertToInteractive',\n",
              "                                                     [key], {});\n",
              "          if (!dataTable) return;\n",
              "\n",
              "          const docLinkHtml = 'Like what you see? Visit the ' +\n",
              "            '<a target=\"_blank\" href=https://colab.research.google.com/notebooks/data_table.ipynb>data table notebook</a>'\n",
              "            + ' to learn more about interactive tables.';\n",
              "          element.innerHTML = '';\n",
              "          dataTable['output_type'] = 'display_data';\n",
              "          await google.colab.output.renderOutput(dataTable, element);\n",
              "          const docLink = document.createElement('div');\n",
              "          docLink.innerHTML = docLinkHtml;\n",
              "          element.appendChild(docLink);\n",
              "        }\n",
              "      </script>\n",
              "    </div>\n",
              "  </div>\n",
              "  "
            ],
            "text/plain": [
              "       DOCUMENT_ID  SENTENCE_ID  ... SENTENCE_END_POS  SCORE\n",
              "70650    689544034      3973218  ...               78   10.0\n",
              "70652    689568034      3972921  ...               12   10.0\n",
              "70655    689550034      3973223  ...               29   10.0\n",
              "70656    689559033      3973021  ...              136   10.0\n",
              "70658    689559033      3973023  ...              300   10.0\n",
              "\n",
              "[5 rows x 6 columns]"
            ]
          },
          "metadata": {},
          "execution_count": 6
        }
      ]
    },
    {
      "cell_type": "code",
      "source": [
        "df_train.shape"
      ],
      "metadata": {
        "colab": {
          "base_uri": "https://localhost:8080/"
        },
        "id": "yzzvAcVgTg3r",
        "outputId": "999300de-ba2d-4df1-fa98-f7370c7b03e4"
      },
      "execution_count": 7,
      "outputs": [
        {
          "output_type": "execute_result",
          "data": {
            "text/plain": [
              "(56644, 6)"
            ]
          },
          "metadata": {},
          "execution_count": 7
        }
      ]
    },
    {
      "cell_type": "code",
      "source": [
        "df_validate.shape"
      ],
      "metadata": {
        "colab": {
          "base_uri": "https://localhost:8080/"
        },
        "id": "s9XWHGOITlW0",
        "outputId": "276dfcb5-e03f-4fb2-d66b-3055f0d0e5a6"
      },
      "execution_count": 8,
      "outputs": [
        {
          "output_type": "execute_result",
          "data": {
            "text/plain": [
              "(14019, 6)"
            ]
          },
          "metadata": {},
          "execution_count": 8
        }
      ]
    },
    {
      "cell_type": "code",
      "source": [
        "df_train.info()"
      ],
      "metadata": {
        "colab": {
          "base_uri": "https://localhost:8080/"
        },
        "id": "OU3VVrPnT-FM",
        "outputId": "a62dd75c-8f90-4866-84c2-0d6b4ece719b"
      },
      "execution_count": 9,
      "outputs": [
        {
          "output_type": "stream",
          "name": "stdout",
          "text": [
            "<class 'pandas.core.frame.DataFrame'>\n",
            "Int64Index: 56644 entries, 0 to 70662\n",
            "Data columns (total 6 columns):\n",
            " #   Column              Non-Null Count  Dtype  \n",
            "---  ------              --------------  -----  \n",
            " 0   DOCUMENT_ID         56644 non-null  int64  \n",
            " 1   SENTENCE_ID         56644 non-null  int64  \n",
            " 2   SENTENCE            56623 non-null  object \n",
            " 3   SENTENCE_START_POS  56644 non-null  int64  \n",
            " 4   SENTENCE_END_POS    56644 non-null  int64  \n",
            " 5   SCORE               56644 non-null  float64\n",
            "dtypes: float64(1), int64(4), object(1)\n",
            "memory usage: 3.0+ MB\n"
          ]
        }
      ]
    },
    {
      "cell_type": "code",
      "metadata": {
        "_uuid": "f84cbf8133b6e3769d9cb5c005cec743b132d5c9",
        "id": "qLAPh0ks4SkJ",
        "outputId": "fa1d9ef3-2733-4332-d826-bd72652c92f6",
        "colab": {
          "base_uri": "https://localhost:8080/",
          "height": 294
        }
      },
      "source": [
        "# Visualize SCORE distribution, total 11 scores, majority SCORE = 10\n",
        "df_train['SCORE'].value_counts().plot(kind = 'bar')"
      ],
      "execution_count": 10,
      "outputs": [
        {
          "output_type": "execute_result",
          "data": {
            "text/plain": [
              "<matplotlib.axes._subplots.AxesSubplot at 0x7fead6afdf50>"
            ]
          },
          "metadata": {},
          "execution_count": 10
        },
        {
          "output_type": "display_data",
          "data": {
            "image/png": "[encoded data removed]",
            "text/plain": [
              "<Figure size 432x288 with 1 Axes>"
            ]
          },
          "metadata": {
            "needs_background": "light"
          }
        }
      ]
    },
    {
      "cell_type": "code",
      "source": [
        "df_train['SCORE'].value_counts()"
      ],
      "metadata": {
        "colab": {
          "base_uri": "https://localhost:8080/"
        },
        "id": "Nt3FGebvbIIK",
        "outputId": "295178ee-97c9-4eb4-bac3-9a0ab3c2a8ba"
      },
      "execution_count": 41,
      "outputs": [
        {
          "output_type": "execute_result",
          "data": {
            "text/plain": [
              "10.0    43832\n",
              "9.0      6212\n",
              "8.0      3625\n",
              "7.0      1297\n",
              "5.0       516\n",
              "6.0       433\n",
              "0.0       227\n",
              "4.0       192\n",
              "3.0       127\n",
              "1.0        83\n",
              "2.0        79\n",
              "Name: SCORE, dtype: int64"
            ]
          },
          "metadata": {},
          "execution_count": 41
        }
      ]
    },
    {
      "cell_type": "code",
      "source": [
        "df_validate['SCORE'].value_counts().plot(kind = 'bar')"
      ],
      "metadata": {
        "colab": {
          "base_uri": "https://localhost:8080/",
          "height": 294
        },
        "id": "vS5hd2MGVTE0",
        "outputId": "629b5208-341a-46ab-b1a2-db0b0991bb75"
      },
      "execution_count": 11,
      "outputs": [
        {
          "output_type": "execute_result",
          "data": {
            "text/plain": [
              "<matplotlib.axes._subplots.AxesSubplot at 0x7fead6a66410>"
            ]
          },
          "metadata": {},
          "execution_count": 11
        },
        {
          "output_type": "display_data",
          "data": {
            "image/png": "[encoded data removed]",
            "text/plain": [
              "<Figure size 432x288 with 1 Axes>"
            ]
          },
          "metadata": {
            "needs_background": "light"
          }
        }
      ]
    },
    {
      "cell_type": "code",
      "source": [
        "df_validate['SCORE'].value_counts()"
      ],
      "metadata": {
        "colab": {
          "base_uri": "https://localhost:8080/"
        },
        "id": "L5Pt23iybZGQ",
        "outputId": "e0af2585-60c1-47c6-f83c-cb14c1df9385"
      },
      "execution_count": 42,
      "outputs": [
        {
          "output_type": "execute_result",
          "data": {
            "text/plain": [
              "10.0    10864\n",
              "9.0      1562\n",
              "8.0       904\n",
              "7.0       332\n",
              "5.0       111\n",
              "6.0        97\n",
              "4.0        46\n",
              "0.0        35\n",
              "3.0        26\n",
              "2.0        20\n",
              "1.0        17\n",
              "Name: SCORE, dtype: int64"
            ]
          },
          "metadata": {},
          "execution_count": 42
        }
      ]
    },
    {
      "cell_type": "code",
      "source": [
        "df_train.isnull().sum()"
      ],
      "metadata": {
        "colab": {
          "base_uri": "https://localhost:8080/"
        },
        "id": "mg6_K0iEVivN",
        "outputId": "c43aa30e-d893-4aeb-d535-5b5a637ac1a4"
      },
      "execution_count": 25,
      "outputs": [
        {
          "output_type": "execute_result",
          "data": {
            "text/plain": [
              "DOCUMENT_ID           0\n",
              "SENTENCE_ID           0\n",
              "SENTENCE              0\n",
              "SENTENCE_START_POS    0\n",
              "SENTENCE_END_POS      0\n",
              "SCORE                 0\n",
              "clean_text            0\n",
              "dtype: int64"
            ]
          },
          "metadata": {},
          "execution_count": 25
        }
      ]
    },
    {
      "cell_type": "code",
      "source": [
        "#Remove the missing data \n",
        "df_train = df_train.dropna()"
      ],
      "metadata": {
        "id": "ik6I8ZCUYe1v"
      },
      "execution_count": 13,
      "outputs": []
    },
    {
      "cell_type": "code",
      "source": [
        "df_train.isnull().sum()"
      ],
      "metadata": {
        "colab": {
          "base_uri": "https://localhost:8080/"
        },
        "id": "d0aSUIz5Y5gu",
        "outputId": "65c7024e-9657-4857-cdb3-b0c6ae08e250"
      },
      "execution_count": 26,
      "outputs": [
        {
          "output_type": "execute_result",
          "data": {
            "text/plain": [
              "DOCUMENT_ID           0\n",
              "SENTENCE_ID           0\n",
              "SENTENCE              0\n",
              "SENTENCE_START_POS    0\n",
              "SENTENCE_END_POS      0\n",
              "SCORE                 0\n",
              "clean_text            0\n",
              "dtype: int64"
            ]
          },
          "metadata": {},
          "execution_count": 26
        }
      ]
    },
    {
      "cell_type": "code",
      "source": [
        "df_train.shape"
      ],
      "metadata": {
        "colab": {
          "base_uri": "https://localhost:8080/"
        },
        "id": "7BUDtlV9Z0Fa",
        "outputId": "14393029-9067-4c2b-86af-9b370e9f684f"
      },
      "execution_count": 15,
      "outputs": [
        {
          "output_type": "execute_result",
          "data": {
            "text/plain": [
              "(56623, 6)"
            ]
          },
          "metadata": {},
          "execution_count": 15
        }
      ]
    },
    {
      "cell_type": "code",
      "source": [
        "df_validate.isnull().sum()"
      ],
      "metadata": {
        "id": "PVNYFHVqY3QE",
        "colab": {
          "base_uri": "https://localhost:8080/"
        },
        "outputId": "55a6bd6d-f0ef-4a4e-cf96-99e6de5d6e03"
      },
      "execution_count": 16,
      "outputs": [
        {
          "output_type": "execute_result",
          "data": {
            "text/plain": [
              "DOCUMENT_ID           0\n",
              "SENTENCE_ID           0\n",
              "SENTENCE              4\n",
              "SENTENCE_START_POS    0\n",
              "SENTENCE_END_POS      0\n",
              "SCORE                 1\n",
              "dtype: int64"
            ]
          },
          "metadata": {},
          "execution_count": 16
        }
      ]
    },
    {
      "cell_type": "code",
      "source": [
        "df_validate = df_validate.dropna()"
      ],
      "metadata": {
        "id": "yr7kg246ZRVx"
      },
      "execution_count": 17,
      "outputs": []
    },
    {
      "cell_type": "code",
      "source": [
        "df_validate.isnull().sum()"
      ],
      "metadata": {
        "colab": {
          "base_uri": "https://localhost:8080/"
        },
        "id": "QJuYi7WGZMFl",
        "outputId": "96a8c86d-06e2-4600-d32b-702556884b7a"
      },
      "execution_count": 27,
      "outputs": [
        {
          "output_type": "execute_result",
          "data": {
            "text/plain": [
              "DOCUMENT_ID           0\n",
              "SENTENCE_ID           0\n",
              "SENTENCE              0\n",
              "SENTENCE_START_POS    0\n",
              "SENTENCE_END_POS      0\n",
              "SCORE                 0\n",
              "clean_text            0\n",
              "dtype: int64"
            ]
          },
          "metadata": {},
          "execution_count": 27
        }
      ]
    },
    {
      "cell_type": "code",
      "source": [
        "df_validate.shape"
      ],
      "metadata": {
        "colab": {
          "base_uri": "https://localhost:8080/"
        },
        "id": "5d9kpERQZ-uk",
        "outputId": "5a07181c-a56f-47fb-dd96-655e63874851"
      },
      "execution_count": 19,
      "outputs": [
        {
          "output_type": "execute_result",
          "data": {
            "text/plain": [
              "(14014, 6)"
            ]
          },
          "metadata": {},
          "execution_count": 19
        }
      ]
    },
    {
      "cell_type": "markdown",
      "source": [
        "## Preprocess Sentences"
      ],
      "metadata": {
        "id": "t2nJo5klt1QO"
      }
    },
    {
      "cell_type": "code",
      "metadata": {
        "id": "nDqyyZ-7KiEA",
        "colab": {
          "base_uri": "https://localhost:8080/"
        },
        "outputId": "9dc05908-ee4c-4289-c08f-289bc00c6d3d"
      },
      "source": [
        "import nltk\n",
        "nltk.download('stopwords')\n",
        "nltk.download('wordnet')"
      ],
      "execution_count": 20,
      "outputs": [
        {
          "output_type": "stream",
          "name": "stdout",
          "text": [
            "[nltk_data] Downloading package stopwords to /root/nltk_data...\n",
            "[nltk_data]   Unzipping corpora/stopwords.zip.\n",
            "[nltk_data] Downloading package wordnet to /root/nltk_data...\n",
            "[nltk_data]   Unzipping corpora/wordnet.zip.\n"
          ]
        },
        {
          "output_type": "execute_result",
          "data": {
            "text/plain": [
              "True"
            ]
          },
          "metadata": {},
          "execution_count": 20
        }
      ]
    },
    {
      "cell_type": "code",
      "metadata": {
        "id": "WIOokTGkKiEC",
        "colab": {
          "base_uri": "https://localhost:8080/",
          "height": 35
        },
        "outputId": "a974013c-df26-47b0-bcb4-1e9a915fda77"
      },
      "source": [
        "# Define preprocess function, remove stop words and punctuations etc.\n",
        "from nltk.stem.wordnet import WordNetLemmatizer\n",
        "from nltk.corpus import stopwords\n",
        "import string\n",
        "stop = set(stopwords.words('english'))\n",
        "punc = set(string.punctuation)\n",
        "lemma = WordNetLemmatizer()\n",
        "def clean_text(text):\n",
        "    text = text.lower()\n",
        "    wordList = text.split()\n",
        "    wordList = [\"\".join(x for x in word if (x==\"'\")|(x not in punc)) for word in wordList]\n",
        "    wordList = [word for word in wordList if word not in stop]\n",
        "    wordList = [lemma.lemmatize(word) for word in wordList]\n",
        "    return \" \".join(wordList)\n",
        "clean_text(\"I Thank you!\")"
      ],
      "execution_count": 21,
      "outputs": [
        {
          "output_type": "execute_result",
          "data": {
            "application/vnd.google.colaboratory.intrinsic+json": {
              "type": "string"
            },
            "text/plain": [
              "'thank'"
            ]
          },
          "metadata": {},
          "execution_count": 21
        }
      ]
    },
    {
      "cell_type": "code",
      "metadata": {
        "id": "c0a1jRZMKiEF"
      },
      "source": [
        "# Clean train dataset\n",
        "df_train[\"SENTENCE\"] = df_train[\"SENTENCE\"].astype(\"str\")\n",
        "df_train[\"clean_text\"] = df_train[\"SENTENCE\"].apply(clean_text)"
      ],
      "execution_count": 22,
      "outputs": []
    },
    {
      "cell_type": "code",
      "metadata": {
        "id": "g4jIR9bM26aF"
      },
      "source": [
        "# Clean validate dataset\n",
        "df_validate[\"SENTENCE\"] = df_validate[\"SENTENCE\"].astype(\"str\")\n",
        "df_validate[\"clean_text\"] = df_validate[\"SENTENCE\"].apply(clean_text)"
      ],
      "execution_count": 23,
      "outputs": []
    },
    {
      "cell_type": "code",
      "source": [
        "df_train.head()"
      ],
      "metadata": {
        "colab": {
          "base_uri": "https://localhost:8080/",
          "height": 285
        },
        "id": "oItULbW03Qon",
        "outputId": "1842e5dd-c460-48cd-c194-10f5931920ca"
      },
      "execution_count": 24,
      "outputs": [
        {
          "output_type": "execute_result",
          "data": {
            "text/html": [
              "\n",
              "  <div id=\"df-20765428-6542-498e-8ae4-07026bd1b9c9\">\n",
              "    <div class=\"colab-df-container\">\n",
              "      <div>\n",
              "<style scoped>\n",
              "    .dataframe tbody tr th:only-of-type {\n",
              "        vertical-align: middle;\n",
              "    }\n",
              "\n",
              "    .dataframe tbody tr th {\n",
              "        vertical-align: top;\n",
              "    }\n",
              "\n",
              "    .dataframe thead th {\n",
              "        text-align: right;\n",
              "    }\n",
              "</style>\n",
              "<table border=\"1\" class=\"dataframe\">\n",
              "  <thead>\n",
              "    <tr style=\"text-align: right;\">\n",
              "      <th></th>\n",
              "      <th>DOCUMENT_ID</th>\n",
              "      <th>SENTENCE_ID</th>\n",
              "      <th>SENTENCE</th>\n",
              "      <th>SENTENCE_START_POS</th>\n",
              "      <th>SENTENCE_END_POS</th>\n",
              "      <th>SCORE</th>\n",
              "      <th>clean_text</th>\n",
              "    </tr>\n",
              "  </thead>\n",
              "  <tbody>\n",
              "    <tr>\n",
              "      <th>0</th>\n",
              "      <td>583306034</td>\n",
              "      <td>1888104</td>\n",
              "      <td>The whole process went smooth and I am thankfu...</td>\n",
              "      <td>109</td>\n",
              "      <td>165</td>\n",
              "      <td>10.0</td>\n",
              "      <td>whole process went smooth thankful</td>\n",
              "    </tr>\n",
              "    <tr>\n",
              "      <th>1</th>\n",
              "      <td>583306034</td>\n",
              "      <td>1888102</td>\n",
              "      <td>It was quick and easy to apply and got the app...</td>\n",
              "      <td>0</td>\n",
              "      <td>60</td>\n",
              "      <td>10.0</td>\n",
              "      <td>quick easy apply got approval quickly</td>\n",
              "    </tr>\n",
              "    <tr>\n",
              "      <th>2</th>\n",
              "      <td>584193040</td>\n",
              "      <td>1909902</td>\n",
              "      <td>service</td>\n",
              "      <td>0</td>\n",
              "      <td>7</td>\n",
              "      <td>10.0</td>\n",
              "      <td>service</td>\n",
              "    </tr>\n",
              "    <tr>\n",
              "      <th>3</th>\n",
              "      <td>584203035</td>\n",
              "      <td>1910310</td>\n",
              "      <td>Thanks!</td>\n",
              "      <td>198</td>\n",
              "      <td>205</td>\n",
              "      <td>10.0</td>\n",
              "      <td>thanks</td>\n",
              "    </tr>\n",
              "    <tr>\n",
              "      <th>4</th>\n",
              "      <td>584200037</td>\n",
              "      <td>1910006</td>\n",
              "      <td>Thank you!</td>\n",
              "      <td>58</td>\n",
              "      <td>68</td>\n",
              "      <td>10.0</td>\n",
              "      <td>thank</td>\n",
              "    </tr>\n",
              "  </tbody>\n",
              "</table>\n",
              "</div>\n",
              "      <button class=\"colab-df-convert\" onclick=\"convertToInteractive('df-20765428-6542-498e-8ae4-07026bd1b9c9')\"\n",
              "              title=\"Convert this dataframe to an interactive table.\"\n",
              "              style=\"display:none;\">\n",
              "        \n",
              "  <svg xmlns=\"http://www.w3.org/2000/svg\" height=\"24px\"viewBox=\"0 0 24 24\"\n",
              "       width=\"24px\">\n",
              "    <path d=\"M0 0h24v24H0V0z\" fill=\"none\"/>\n",
              "    <path d=\"M18.56 5.44l.94 2.06.94-2.06 2.06-.94-2.06-.94-.94-2.06-.94 2.06-2.06.94zm-11 1L8.5 8.5l.94-2.06 2.06-.94-2.06-.94L8.5 2.5l-.94 2.06-2.06.94zm10 10l.94 2.06.94-2.06 2.06-.94-2.06-.94-.94-2.06-.94 2.06-2.06.94z\"/><path d=\"M17.41 7.96l-1.37-1.37c-.4-.4-.92-.59-1.43-.59-.52 0-1.04.2-1.43.59L10.3 9.45l-7.72 7.72c-.78.78-.78 2.05 0 2.83L4 21.41c.39.39.9.59 1.41.59.51 0 1.02-.2 1.41-.59l7.78-7.78 2.81-2.81c.8-.78.8-2.07 0-2.86zM5.41 20L4 18.59l7.72-7.72 1.47 1.35L5.41 20z\"/>\n",
              "  </svg>\n",
              "      </button>\n",
              "      \n",
              "  <style>\n",
              "    .colab-df-container {\n",
              "      display:flex;\n",
              "      flex-wrap:wrap;\n",
              "      gap: 12px;\n",
              "    }\n",
              "\n",
              "    .colab-df-convert {\n",
              "      background-color: #E8F0FE;\n",
              "      border: none;\n",
              "      border-radius: 50%;\n",
              "      cursor: pointer;\n",
              "      display: none;\n",
              "      fill: #1967D2;\n",
              "      height: 32px;\n",
              "      padding: 0 0 0 0;\n",
              "      width: 32px;\n",
              "    }\n",
              "\n",
              "    .colab-df-convert:hover {\n",
              "      background-color: #E2EBFA;\n",
              "      box-shadow: 0px 1px 2px rgba(60, 64, 67, 0.3), 0px 1px 3px 1px rgba(60, 64, 67, 0.15);\n",
              "      fill: #174EA6;\n",
              "    }\n",
              "\n",
              "    [theme=dark] .colab-df-convert {\n",
              "      background-color: #3B4455;\n",
              "      fill: #D2E3FC;\n",
              "    }\n",
              "\n",
              "    [theme=dark] .colab-df-convert:hover {\n",
              "      background-color: #434B5C;\n",
              "      box-shadow: 0px 1px 3px 1px rgba(0, 0, 0, 0.15);\n",
              "      filter: drop-shadow(0px 1px 2px rgba(0, 0, 0, 0.3));\n",
              "      fill: #FFFFFF;\n",
              "    }\n",
              "  </style>\n",
              "\n",
              "      <script>\n",
              "        const buttonEl =\n",
              "          document.querySelector('#df-20765428-6542-498e-8ae4-07026bd1b9c9 button.colab-df-convert');\n",
              "        buttonEl.style.display =\n",
              "          google.colab.kernel.accessAllowed ? 'block' : 'none';\n",
              "\n",
              "        async function convertToInteractive(key) {\n",
              "          const element = document.querySelector('#df-20765428-6542-498e-8ae4-07026bd1b9c9');\n",
              "          const dataTable =\n",
              "            await google.colab.kernel.invokeFunction('convertToInteractive',\n",
              "                                                     [key], {});\n",
              "          if (!dataTable) return;\n",
              "\n",
              "          const docLinkHtml = 'Like what you see? Visit the ' +\n",
              "            '<a target=\"_blank\" href=https://colab.research.google.com/notebooks/data_table.ipynb>data table notebook</a>'\n",
              "            + ' to learn more about interactive tables.';\n",
              "          element.innerHTML = '';\n",
              "          dataTable['output_type'] = 'display_data';\n",
              "          await google.colab.output.renderOutput(dataTable, element);\n",
              "          const docLink = document.createElement('div');\n",
              "          docLink.innerHTML = docLinkHtml;\n",
              "          element.appendChild(docLink);\n",
              "        }\n",
              "      </script>\n",
              "    </div>\n",
              "  </div>\n",
              "  "
            ],
            "text/plain": [
              "   DOCUMENT_ID  SENTENCE_ID  ... SCORE                             clean_text\n",
              "0    583306034      1888104  ...  10.0     whole process went smooth thankful\n",
              "1    583306034      1888102  ...  10.0  quick easy apply got approval quickly\n",
              "2    584193040      1909902  ...  10.0                                service\n",
              "3    584203035      1910310  ...  10.0                                 thanks\n",
              "4    584200037      1910006  ...  10.0                                  thank\n",
              "\n",
              "[5 rows x 7 columns]"
            ]
          },
          "metadata": {},
          "execution_count": 24
        }
      ]
    },
    {
      "cell_type": "code",
      "source": [
        "#save cleaned data to Google drive\n",
        "df_train.to_csv(path_or_buf='/content/drive/My Drive/Data_Sets/NLP_train.csv')\n",
        "df_validate.to_csv(path_or_buf='/content/drive/My Drive/Data_Sets/NLP_validate.csv')"
      ],
      "metadata": {
        "id": "UEWoojxUlfbY"
      },
      "execution_count": 28,
      "outputs": []
    },
    {
      "cell_type": "code",
      "source": [
        "#upload the cleaned data\n",
        "#df_train = pd.read_csv('/content/drive/My Drive/Data_Sets/NLP_train.csv')\n",
        "#df_validation = pd.read_csv('/content/drive/My Drive/Data_Sets/NLP_validate.csv')"
      ],
      "metadata": {
        "id": "rfv4QmILCLrD"
      },
      "execution_count": null,
      "outputs": []
    },
    {
      "cell_type": "markdown",
      "source": [
        "## Random Forest Prediction\n",
        "### Using imblearn.under_sampling NearMiss to undersampling.\n"
      ],
      "metadata": {
        "id": "M6TycvRft-9i"
      }
    },
    {
      "cell_type": "code",
      "metadata": {
        "id": "CoswBSWouwdw"
      },
      "source": [
        "xtrain = df_train['clean_text']\n",
        "ytrain = df_train['SCORE']\n",
        "xtest = df_validate['clean_text']\n",
        "ytest = df_validate['SCORE']"
      ],
      "execution_count": 97,
      "outputs": []
    },
    {
      "cell_type": "code",
      "source": [
        "from sklearn.feature_extraction.text import TfidfVectorizer"
      ],
      "metadata": {
        "id": "thUxJga6X0Aj"
      },
      "execution_count": 30,
      "outputs": []
    },
    {
      "cell_type": "code",
      "source": [
        "vectorizer = TfidfVectorizer(min_df=3,analyzer='word',max_features=3000)\n",
        "xtrain = vectorizer.fit_transform(xtrain)\n",
        "xtest=vectorizer.transform(xtest)"
      ],
      "metadata": {
        "id": "kY7qWXncXphp"
      },
      "execution_count": 98,
      "outputs": []
    },
    {
      "cell_type": "markdown",
      "source": [
        "## Install Imbalanced-learn"
      ],
      "metadata": {
        "id": "pIKNFBwDYKth"
      }
    },
    {
      "cell_type": "code",
      "source": [
        "!pip install imbalanced-learn"
      ],
      "metadata": {
        "colab": {
          "base_uri": "https://localhost:8080/"
        },
        "id": "DvJw7-JaXMLS",
        "outputId": "b2ddd588-49ed-4013-bbf5-347be7510f6d"
      },
      "execution_count": 32,
      "outputs": [
        {
          "output_type": "stream",
          "name": "stdout",
          "text": [
            "Requirement already satisfied: imbalanced-learn in /usr/local/lib/python3.7/dist-packages (0.8.1)\n",
            "Requirement already satisfied: joblib>=0.11 in /usr/local/lib/python3.7/dist-packages (from imbalanced-learn) (1.1.0)\n",
            "Requirement already satisfied: scipy>=0.19.1 in /usr/local/lib/python3.7/dist-packages (from imbalanced-learn) (1.4.1)\n",
            "Requirement already satisfied: numpy>=1.13.3 in /usr/local/lib/python3.7/dist-packages (from imbalanced-learn) (1.19.5)\n",
            "Requirement already satisfied: scikit-learn>=0.24 in /usr/local/lib/python3.7/dist-packages (from imbalanced-learn) (1.0.1)\n",
            "Requirement already satisfied: threadpoolctl>=2.0.0 in /usr/local/lib/python3.7/dist-packages (from scikit-learn>=0.24->imbalanced-learn) (3.0.0)\n"
          ]
        }
      ]
    },
    {
      "cell_type": "code",
      "source": [
        "from imblearn.under_sampling import NearMiss"
      ],
      "metadata": {
        "id": "PxndDA48YWdy"
      },
      "execution_count": 33,
      "outputs": []
    },
    {
      "cell_type": "code",
      "source": [
        "undersample = NearMiss(version=3, sampling_strategy='majority', n_neighbors_ver3=3)\n",
        "#undersample = NearMiss(version=3, sampling_strategy='all', n_neighbors_ver3=3)"
      ],
      "metadata": {
        "id": "g_DcSE3XYpLa"
      },
      "execution_count": 99,
      "outputs": []
    },
    {
      "cell_type": "code",
      "source": [
        "xtrain, ytrain = undersample.fit_resample(xtrain, ytrain)"
      ],
      "metadata": {
        "id": "JLueRgINYw_a"
      },
      "execution_count": 100,
      "outputs": []
    },
    {
      "cell_type": "code",
      "metadata": {
        "colab": {
          "base_uri": "https://localhost:8080/"
        },
        "outputId": "c46d3090-cff2-467e-fb74-f488546a4bcb",
        "id": "1P9ybRYDJlfp"
      },
      "source": [
        "from sklearn.ensemble import RandomForestClassifier\n",
        "rf=RandomForestClassifier(n_estimators=50)\n",
        "\n",
        "rf.fit(xtrain,ytrain)"
      ],
      "execution_count": 101,
      "outputs": [
        {
          "output_type": "execute_result",
          "data": {
            "text/plain": [
              "RandomForestClassifier(n_estimators=50)"
            ]
          },
          "metadata": {},
          "execution_count": 101
        }
      ]
    },
    {
      "cell_type": "markdown",
      "source": [
        "### Training Classification_report, Accuracy, "
      ],
      "metadata": {
        "id": "oHTBdEwUxARu"
      }
    },
    {
      "cell_type": "code",
      "metadata": {
        "colab": {
          "base_uri": "https://localhost:8080/"
        },
        "id": "v2YVPQ2Y-l9Z",
        "outputId": "ad98af99-5085-44c0-cd89-4d299bf0c58f"
      },
      "source": [
        "from sklearn.metrics import classification_report, confusion_matrix, accuracy_score\n",
        "\n",
        "ytrain_pred=rf.predict(xtrain)\n",
        "\n",
        "print(classification_report(ytrain,ytrain_pred))\n",
        "print(accuracy_score(ytrain, ytrain_pred))"
      ],
      "execution_count": 102,
      "outputs": [
        {
          "output_type": "stream",
          "name": "stdout",
          "text": [
            "              precision    recall  f1-score   support\n",
            "\n",
            "         0.0       0.98      0.90      0.94       227\n",
            "         1.0       0.95      0.95      0.95        83\n",
            "         2.0       0.99      0.84      0.90        79\n",
            "         3.0       0.98      0.88      0.93       127\n",
            "         4.0       0.99      0.88      0.93       192\n",
            "         5.0       0.96      0.84      0.90       516\n",
            "         6.0       0.98      0.80      0.88       433\n",
            "         7.0       0.92      0.75      0.83      1297\n",
            "         8.0       0.87      0.73      0.80      3625\n",
            "         9.0       0.83      0.97      0.89      6212\n",
            "        10.0       0.96      0.95      0.96        79\n",
            "\n",
            "    accuracy                           0.86     12870\n",
            "   macro avg       0.95      0.86      0.90     12870\n",
            "weighted avg       0.87      0.86      0.86     12870\n",
            "\n",
            "0.8644910644910645\n"
          ]
        }
      ]
    },
    {
      "cell_type": "code",
      "source": [
        "cm1 = (confusion_matrix(ytrain,ytrain_pred))\n",
        "print(cm1)"
      ],
      "metadata": {
        "colab": {
          "base_uri": "https://localhost:8080/"
        },
        "id": "IrnTyOB70leo",
        "outputId": "e6436079-6a47-4039-c1bd-0d7d697ad512"
      },
      "execution_count": 103,
      "outputs": [
        {
          "output_type": "stream",
          "name": "stdout",
          "text": [
            "[[ 205    0    0    1    0    1    1    4    7    8    0]\n",
            " [   0   79    0    0    0    0    0    0    1    3    0]\n",
            " [   0    1   66    0    0    1    0    1    6    4    0]\n",
            " [   1    2    1  112    0    0    0    0    7    4    0]\n",
            " [   0    0    0    0  168    2    0    2    8   12    0]\n",
            " [   0    0    0    0    0  435    2    9   41   29    0]\n",
            " [   1    1    0    1    1    1  348    8   41   31    0]\n",
            " [   1    0    0    0    1    4    0  973  102  216    0]\n",
            " [   0    0    0    0    0    5    3   32 2642  941    2]\n",
            " [   1    0    0    0    0    2    0   24  161 6023    1]\n",
            " [   0    0    0    0    0    0    0    0    4    0   75]]\n"
          ]
        }
      ]
    },
    {
      "cell_type": "markdown",
      "source": [
        "### Validation Classification Report, Accuracy"
      ],
      "metadata": {
        "id": "kPF7wFgv60wg"
      }
    },
    {
      "cell_type": "code",
      "metadata": {
        "colab": {
          "base_uri": "https://localhost:8080/"
        },
        "id": "YQJzVSl0-tXv",
        "outputId": "be0acab6-7dd4-4193-99d3-d85b491b0627"
      },
      "source": [
        "ypred=rf.predict(xtest)\n",
        "print(classification_report(ytest,ypred))\n",
        "print(accuracy_score(ytest, ypred))"
      ],
      "execution_count": 104,
      "outputs": [
        {
          "output_type": "stream",
          "name": "stdout",
          "text": [
            "              precision    recall  f1-score   support\n",
            "\n",
            "         0.0       0.00      0.00      0.00        35\n",
            "         1.0       0.00      0.00      0.00        17\n",
            "         2.0       0.29      0.10      0.15        20\n",
            "         3.0       0.00      0.00      0.00        26\n",
            "         4.0       0.00      0.00      0.00        46\n",
            "         5.0       0.04      0.02      0.02       111\n",
            "         6.0       0.05      0.01      0.02        97\n",
            "         7.0       0.10      0.08      0.09       332\n",
            "         8.0       0.12      0.26      0.16       904\n",
            "         9.0       0.11      0.83      0.20      1562\n",
            "        10.0       0.82      0.00      0.00     10864\n",
            "\n",
            "    accuracy                           0.11     14014\n",
            "   macro avg       0.14      0.12      0.06     14014\n",
            "weighted avg       0.66      0.11      0.04     14014\n",
            "\n",
            "0.11231625517339804\n"
          ]
        }
      ]
    },
    {
      "cell_type": "code",
      "source": [
        "cm = confusion_matrix(ytest,ypred)\n",
        "print(cm)"
      ],
      "metadata": {
        "colab": {
          "base_uri": "https://localhost:8080/"
        },
        "id": "hiWU54lK1mDa",
        "outputId": "ba474860-8a9e-46a3-e0ce-f829c57ea5dc"
      },
      "execution_count": 105,
      "outputs": [
        {
          "output_type": "stream",
          "name": "stdout",
          "text": [
            "[[   0    0    0    0    0    0    0    4   13   17    1]\n",
            " [   0    0    0    0    0    0    0    0   11    6    0]\n",
            " [   1    0    2    0    0    0    0    2    6    9    0]\n",
            " [   0    0    1    0    1    1    2    0   12    9    0]\n",
            " [   1    0    0    0    0    1    0    3   16   25    0]\n",
            " [   1    0    0    1    1    2    0   11   40   55    0]\n",
            " [   2    0    0    1    0    1    1   11   45   36    0]\n",
            " [   2    1    0    0    0    5    1   28   94  201    0]\n",
            " [   1    1    0    2    0    6    4   34  233  623    0]\n",
            " [   0    1    0    1    1    5    1   29  224 1299    1]\n",
            " [   9    5    4   10    4   32   12  148 1285 9346    9]]\n"
          ]
        }
      ]
    },
    {
      "cell_type": "code",
      "source": [
        ""
      ],
      "metadata": {
        "id": "35iIhcPZ67TG"
      },
      "execution_count": null,
      "outputs": []
    },
    {
      "cell_type": "code",
      "source": [
        ""
      ],
      "metadata": {
        "id": "hI5LybDBAKM2"
      },
      "execution_count": null,
      "outputs": []
    },
    {
      "cell_type": "markdown",
      "source": [
        "## Condensed Nearest Neighbor Rule Undersampling\n"
      ],
      "metadata": {
        "id": "wv3kU7RC_S5M"
      }
    },
    {
      "cell_type": "code",
      "source": [
        "#upload the cleaned data\n",
        "import pandas as pd\n",
        "df_train = pd.read_csv('/content/drive/My Drive/Data_Sets/NLP_train.csv')\n",
        "df_validate = pd.read_csv('/content/drive/My Drive/Data_Sets/NLP_validate.csv')"
      ],
      "metadata": {
        "id": "n6o3Gfg_IWnt"
      },
      "execution_count": null,
      "outputs": []
    },
    {
      "cell_type": "code",
      "metadata": {
        "id": "SJ4xxb88LXHD"
      },
      "source": [
        "xtrain = df_train['clean_text']\n",
        "ytrain = df_train['SCORE']\n",
        "xtest = df_validate['clean_text']\n",
        "ytest = df_validate['SCORE']"
      ],
      "execution_count": 106,
      "outputs": []
    },
    {
      "cell_type": "code",
      "source": [
        "from sklearn.feature_extraction.text import TfidfVectorizer"
      ],
      "metadata": {
        "id": "pqPJ2U2SKpEW"
      },
      "execution_count": null,
      "outputs": []
    },
    {
      "cell_type": "code",
      "source": [
        "vectorizer = TfidfVectorizer(min_df=3,analyzer='word',max_features=3000)\n",
        "xtrain = vectorizer.fit_transform(xtrain)\n",
        "xtest=vectorizer.transform(xtest)"
      ],
      "metadata": {
        "id": "7hqZ_3PsNkWk"
      },
      "execution_count": 107,
      "outputs": []
    },
    {
      "cell_type": "code",
      "source": [
        "from imblearn.under_sampling import CondensedNearestNeighbour"
      ],
      "metadata": {
        "id": "3uh2NNr-JMTy"
      },
      "execution_count": 108,
      "outputs": []
    },
    {
      "cell_type": "code",
      "source": [
        "# slow, takes 1 h or more\n",
        "undersample = CondensedNearestNeighbour(n_neighbors=1)\n",
        "xtrain, ytrain = undersample.fit_resample(xtrain, ytrain)\n"
      ],
      "metadata": {
        "id": "BsyeoG1uJc0f"
      },
      "execution_count": 109,
      "outputs": []
    },
    {
      "cell_type": "code",
      "metadata": {
        "colab": {
          "base_uri": "https://localhost:8080/"
        },
        "outputId": "1cd23e6b-2e8e-4279-bbf7-46b0cd524358",
        "id": "L7an3o4wKrf4"
      },
      "source": [
        "from sklearn.ensemble import RandomForestClassifier\n",
        "rf=RandomForestClassifier(n_estimators=50)\n",
        "\n",
        "rf.fit(xtrain,ytrain)"
      ],
      "execution_count": 110,
      "outputs": [
        {
          "output_type": "execute_result",
          "data": {
            "text/plain": [
              "RandomForestClassifier(n_estimators=50)"
            ]
          },
          "metadata": {},
          "execution_count": 110
        }
      ]
    },
    {
      "cell_type": "code",
      "metadata": {
        "colab": {
          "base_uri": "https://localhost:8080/"
        },
        "outputId": "a12206a7-b621-4d1c-dfb7-bfd441848fb4",
        "id": "Lmz67pJJKzsu"
      },
      "source": [
        "from sklearn.metrics import classification_report, confusion_matrix, accuracy_score\n",
        "\n",
        "ytrain_pred=rf.predict(xtrain)\n",
        "\n",
        "print(classification_report(ytrain,ytrain_pred))\n",
        "print(accuracy_score(ytrain, ytrain_pred))"
      ],
      "execution_count": 111,
      "outputs": [
        {
          "output_type": "stream",
          "name": "stdout",
          "text": [
            "              precision    recall  f1-score   support\n",
            "\n",
            "         0.0       0.87      0.83      0.85        54\n",
            "         1.0       0.86      0.86      0.86        14\n",
            "         2.0       1.00      0.81      0.90        79\n",
            "         3.0       0.97      0.90      0.94        83\n",
            "         4.0       0.83      0.84      0.83        57\n",
            "         5.0       0.90      0.67      0.77       115\n",
            "         6.0       0.93      0.56      0.70        91\n",
            "         7.0       0.84      0.65      0.73       169\n",
            "         8.0       0.68      0.70      0.69       251\n",
            "         9.0       0.94      0.87      0.90       539\n",
            "        10.0       0.88      0.98      0.93      1389\n",
            "\n",
            "    accuracy                           0.88      2841\n",
            "   macro avg       0.88      0.79      0.83      2841\n",
            "weighted avg       0.88      0.88      0.87      2841\n",
            "\n",
            "0.8764519535374868\n"
          ]
        }
      ]
    },
    {
      "cell_type": "code",
      "source": [
        "cm1 = (confusion_matrix(ytrain,ytrain_pred))\n",
        "print(cm1)"
      ],
      "metadata": {
        "colab": {
          "base_uri": "https://localhost:8080/"
        },
        "outputId": "647f8765-962c-491e-8c3e-80f4d4682f28",
        "id": "6bIr0Hd0LCth"
      },
      "execution_count": 112,
      "outputs": [
        {
          "output_type": "stream",
          "name": "stdout",
          "text": [
            "[[  45    0    0    0    1    0    1    1    2    1    3]\n",
            " [   1   12    0    0    1    0    0    0    0    0    0]\n",
            " [   0    1   64    1    0    1    0    1    4    1    6]\n",
            " [   1    1    0   75    0    0    0    0    5    0    1]\n",
            " [   0    0    0    0   48    1    0    2    3    0    3]\n",
            " [   1    0    0    0    1   77    1    5   18    0   12]\n",
            " [   0    0    0    1    2    2   51    4   12    2   17]\n",
            " [   1    0    0    0    2    3    0  110   30    3   20]\n",
            " [   2    0    0    0    1    1    2    6  176    6   57]\n",
            " [   1    0    0    0    1    0    0    1    3  467   66]\n",
            " [   0    0    0    0    1    1    0    1    5   16 1365]]\n"
          ]
        }
      ]
    },
    {
      "cell_type": "code",
      "metadata": {
        "colab": {
          "base_uri": "https://localhost:8080/"
        },
        "outputId": "f4129260-3be9-4727-a436-0540e9ffcf7d",
        "id": "kyAAgrNvLLUl"
      },
      "source": [
        "ypred=rf.predict(xtest)\n",
        "print(classification_report(ytest,ypred))\n",
        "print(accuracy_score(ytest, ypred))"
      ],
      "execution_count": 113,
      "outputs": [
        {
          "output_type": "stream",
          "name": "stdout",
          "text": [
            "              precision    recall  f1-score   support\n",
            "\n",
            "         0.0       0.02      0.03      0.02        35\n",
            "         1.0       0.00      0.00      0.00        17\n",
            "         2.0       0.17      0.10      0.12        20\n",
            "         3.0       0.01      0.08      0.01        26\n",
            "         4.0       0.00      0.02      0.01        46\n",
            "         5.0       0.02      0.02      0.02       111\n",
            "         6.0       0.06      0.02      0.03        97\n",
            "         7.0       0.04      0.04      0.04       332\n",
            "         8.0       0.09      0.04      0.05       904\n",
            "         9.0       0.12      0.34      0.18      1562\n",
            "        10.0       0.78      0.60      0.68     10864\n",
            "\n",
            "    accuracy                           0.51     14014\n",
            "   macro avg       0.12      0.12      0.11     14014\n",
            "weighted avg       0.63      0.51      0.55     14014\n",
            "\n",
            "0.505209076637648\n"
          ]
        }
      ]
    },
    {
      "cell_type": "code",
      "source": [
        "cm = confusion_matrix(ytest,ypred)\n",
        "print(cm)"
      ],
      "metadata": {
        "colab": {
          "base_uri": "https://localhost:8080/"
        },
        "outputId": "21b3fb36-64da-4e23-d9f7-ac2c79f11be0",
        "id": "Iz0M2aaRLVkl"
      },
      "execution_count": 114,
      "outputs": [
        {
          "output_type": "stream",
          "name": "stdout",
          "text": [
            "[[   1    0    1    0    1    1    0    2    7    4   18]\n",
            " [   0    0    1    0    0    0    1    0    2    1   12]\n",
            " [   1    0    2    1    1    1    0    1    1    2   10]\n",
            " [   0    0    0    2    2    2    0    1    2    0   17]\n",
            " [   1    0    0    2    1    0    0    0    1    5   36]\n",
            " [   4    0    0    4    6    2    0    3    8   12   72]\n",
            " [   2    0    0    2    1    1    2    3   20   11   55]\n",
            " [   4    2    1    9   12   11    2   12   20   63  196]\n",
            " [   8    0    3   12   17   10    3   37   32  300  482]\n",
            " [   6    0    1   30   25    7    6   30   36  534  887]\n",
            " [  26    1    3  193  170   47   17  219  222 3474 6492]]\n"
          ]
        }
      ]
    },
    {
      "cell_type": "code",
      "source": [
        ""
      ],
      "metadata": {
        "id": "Bv1vNBQzJNYp"
      },
      "execution_count": null,
      "outputs": []
    },
    {
      "cell_type": "markdown",
      "source": [
        "## Tomek Links for Undersampling\n"
      ],
      "metadata": {
        "id": "365usgTWR6eb"
      }
    },
    {
      "cell_type": "code",
      "metadata": {
        "id": "MEVx5Q7HTVcN"
      },
      "source": [
        "xtrain = df_train['clean_text']\n",
        "ytrain = df_train['SCORE']\n",
        "xtest = df_validate['clean_text']\n",
        "ytest = df_validate['SCORE']"
      ],
      "execution_count": 115,
      "outputs": []
    },
    {
      "cell_type": "code",
      "source": [
        "from sklearn.feature_extraction.text import TfidfVectorizer"
      ],
      "metadata": {
        "id": "6so3AO99TdUW"
      },
      "execution_count": null,
      "outputs": []
    },
    {
      "cell_type": "code",
      "source": [
        "vectorizer = TfidfVectorizer(min_df=3,analyzer='word',max_features=3000)\n",
        "xtrain = vectorizer.fit_transform(xtrain)\n",
        "xtest=vectorizer.transform(xtest)"
      ],
      "metadata": {
        "id": "GiFfFxeuTpIT"
      },
      "execution_count": 119,
      "outputs": []
    },
    {
      "cell_type": "code",
      "source": [
        "from imblearn.under_sampling import TomekLinks"
      ],
      "metadata": {
        "id": "zF74GmT0olDl"
      },
      "execution_count": 117,
      "outputs": []
    },
    {
      "cell_type": "code",
      "source": [
        "undersample = TomekLinks()\n",
        "xtrain, ytrain = undersample.fit_resample(xtrain, ytrain)\n"
      ],
      "metadata": {
        "id": "0smikFyaT2tt"
      },
      "execution_count": 120,
      "outputs": []
    },
    {
      "cell_type": "code",
      "metadata": {
        "colab": {
          "base_uri": "https://localhost:8080/"
        },
        "outputId": "074db679-05fb-4990-af5e-312b0cbbd6b5",
        "id": "JUcZogDnUKz7"
      },
      "source": [
        "from sklearn.ensemble import RandomForestClassifier\n",
        "\n",
        "rf=RandomForestClassifier(n_estimators=50)\n",
        "rf.fit(xtrain,ytrain)"
      ],
      "execution_count": 121,
      "outputs": [
        {
          "output_type": "execute_result",
          "data": {
            "text/plain": [
              "RandomForestClassifier(n_estimators=50)"
            ]
          },
          "metadata": {},
          "execution_count": 121
        }
      ]
    },
    {
      "cell_type": "code",
      "metadata": {
        "colab": {
          "base_uri": "https://localhost:8080/"
        },
        "outputId": "42970199-2925-40ce-83e1-f2925dde2154",
        "id": "EvTpAbnbURSp"
      },
      "source": [
        "from sklearn.metrics import classification_report, confusion_matrix, accuracy_score\n",
        "\n",
        "ytrain_pred=rf.predict(xtrain)\n",
        "\n",
        "print(classification_report(ytrain,ytrain_pred))\n",
        "print(accuracy_score(ytrain, ytrain_pred))"
      ],
      "execution_count": 123,
      "outputs": [
        {
          "output_type": "stream",
          "name": "stdout",
          "text": [
            "              precision    recall  f1-score   support\n",
            "\n",
            "         0.0       0.97      0.89      0.93       198\n",
            "         1.0       0.96      0.89      0.92        73\n",
            "         2.0       1.00      0.81      0.90        79\n",
            "         3.0       0.97      0.87      0.92       113\n",
            "         4.0       0.99      0.84      0.91       160\n",
            "         5.0       0.97      0.78      0.87       439\n",
            "         6.0       0.97      0.75      0.85       372\n",
            "         7.0       0.94      0.63      0.76      1105\n",
            "         8.0       0.90      0.56      0.69      3202\n",
            "         9.0       0.95      0.48      0.64      5534\n",
            "        10.0       0.90      1.00      0.95     42776\n",
            "\n",
            "    accuracy                           0.91     54051\n",
            "   macro avg       0.95      0.77      0.85     54051\n",
            "weighted avg       0.91      0.91      0.89     54051\n",
            "\n",
            "0.9052561469723039\n"
          ]
        }
      ]
    },
    {
      "cell_type": "code",
      "source": [
        "cm1 = (confusion_matrix(ytrain,ytrain_pred))\n",
        "print(cm1)"
      ],
      "metadata": {
        "colab": {
          "base_uri": "https://localhost:8080/"
        },
        "outputId": "c164a8ac-83af-4ed7-c14d-0a2c479bc854",
        "id": "beNvDfzjUYH8"
      },
      "execution_count": 124,
      "outputs": [
        {
          "output_type": "stream",
          "name": "stdout",
          "text": [
            "[[  176     0     0     0     0     0     0     4     7     0    11]\n",
            " [    0    65     0     1     0     0     0     0     1     0     6]\n",
            " [    0     1    64     1     0     1     0     1     4     1     6]\n",
            " [    2     1     0    98     0     0     0     0     6     0     6]\n",
            " [    0     0     0     0   135     2     0     3     5     0    15]\n",
            " [    1     0     0     0     0   344     2     7    32     4    49]\n",
            " [    2     0     0     1     0     1   279     3    20     3    63]\n",
            " [    0     0     0     0     0     2     2   699    55     7   340]\n",
            " [    0     0     0     0     0     2     2    13  1786    28  1371]\n",
            " [    1     1     0     0     1     1     2     4    31  2680  2813]\n",
            " [    0     0     0     0     1     3     1    12    43   112 42604]]\n"
          ]
        }
      ]
    },
    {
      "cell_type": "code",
      "metadata": {
        "colab": {
          "base_uri": "https://localhost:8080/"
        },
        "outputId": "7fe2d076-6eb0-448c-e7c3-79b6910e10ae",
        "id": "iGyQLM1aUeMw"
      },
      "source": [
        "ypred=rf.predict(xtest)\n",
        "print(classification_report(ytest,ypred))\n",
        "print(accuracy_score(ytest, ypred))"
      ],
      "execution_count": 125,
      "outputs": [
        {
          "output_type": "stream",
          "name": "stdout",
          "text": [
            "              precision    recall  f1-score   support\n",
            "\n",
            "         0.0       0.00      0.00      0.00        35\n",
            "         1.0       0.00      0.00      0.00        17\n",
            "         2.0       0.50      0.05      0.09        20\n",
            "         3.0       0.00      0.00      0.00        26\n",
            "         4.0       0.00      0.00      0.00        46\n",
            "         5.0       0.07      0.01      0.02       111\n",
            "         6.0       0.17      0.03      0.05        97\n",
            "         7.0       0.23      0.05      0.08       332\n",
            "         8.0       0.27      0.06      0.10       904\n",
            "         9.0       0.19      0.02      0.04      1562\n",
            "        10.0       0.79      0.98      0.88     10864\n",
            "\n",
            "    accuracy                           0.77     14014\n",
            "   macro avg       0.20      0.11      0.11     14014\n",
            "weighted avg       0.66      0.77      0.69     14014\n",
            "\n",
            "0.7688739831596975\n"
          ]
        }
      ]
    },
    {
      "cell_type": "code",
      "source": [
        "cm = confusion_matrix(ytest,ypred)\n",
        "print(cm)"
      ],
      "metadata": {
        "colab": {
          "base_uri": "https://localhost:8080/"
        },
        "outputId": "ba44e79f-3b6d-4c2f-99d6-dbe2e15031cc",
        "id": "khvaNur7UqV3"
      },
      "execution_count": 126,
      "outputs": [
        {
          "output_type": "stream",
          "name": "stdout",
          "text": [
            "[[    0     0     0     0     0     0     1     2     7     0    25]\n",
            " [    0     0     0     0     0     0     1     0     3     1    12]\n",
            " [    1     0     1     0     0     0     0     1     2     0    15]\n",
            " [    0     0     0     0     0     1     0     1     1     0    23]\n",
            " [    1     0     0     0     0     0     1     0     1     1    42]\n",
            " [    0     0     0     1     0     1     1     3    15     2    88]\n",
            " [    2     0     0     0     2     0     3     3    23     2    62]\n",
            " [    1     1     0     1     0     2     1    15    24    11   276]\n",
            " [    1     1     0     0     0     2     6    18    56    30   790]\n",
            " [    0     0     0     1     1     2     0     7    16    36  1499]\n",
            " [    3     2     1     2     0     6     4    14    58   111 10663]]\n"
          ]
        }
      ]
    },
    {
      "cell_type": "code",
      "source": [
        ""
      ],
      "metadata": {
        "id": "1y7FMHPJTNTP"
      },
      "execution_count": null,
      "outputs": []
    },
    {
      "cell_type": "code",
      "source": [
        ""
      ],
      "metadata": {
        "id": "lB45lZQRTNZn"
      },
      "execution_count": null,
      "outputs": []
    },
    {
      "cell_type": "markdown",
      "source": [
        "## Edited Nearest Neighbors Rule for Undersampling\n",
        "\n"
      ],
      "metadata": {
        "id": "QGIqdzT2YGHr"
      }
    },
    {
      "cell_type": "code",
      "metadata": {
        "id": "-xbtr5mkgOz4"
      },
      "source": [
        "xtrain = df_train['clean_text']\n",
        "ytrain = df_train['SCORE']\n",
        "xtest = df_validate['clean_text']\n",
        "ytest = df_validate['SCORE']"
      ],
      "execution_count": 127,
      "outputs": []
    },
    {
      "cell_type": "code",
      "source": [
        "vectorizer = TfidfVectorizer(min_df=3,analyzer='word',max_features=3000)\n",
        "xtrain = vectorizer.fit_transform(xtrain)\n",
        "xtest=vectorizer.transform(xtest)"
      ],
      "metadata": {
        "id": "nAOrk4tcgChS"
      },
      "execution_count": 128,
      "outputs": []
    },
    {
      "cell_type": "code",
      "source": [
        "from imblearn.under_sampling import EditedNearestNeighbours"
      ],
      "metadata": {
        "id": "pxTEBa9BsVqU"
      },
      "execution_count": 129,
      "outputs": []
    },
    {
      "cell_type": "code",
      "source": [
        "undersample = EditedNearestNeighbours(n_neighbors=3)\n",
        "xtrain, ytrain = undersample.fit_resample(xtrain, ytrain)\n"
      ],
      "metadata": {
        "id": "oJLpTYBptkNW"
      },
      "execution_count": 130,
      "outputs": []
    },
    {
      "cell_type": "code",
      "source": [
        "from sklearn.ensemble import RandomForestClassifier\n",
        "rf = RandomForestClassifier(n_estimators=50)"
      ],
      "metadata": {
        "id": "8R6Ka4M0fBjv"
      },
      "execution_count": 131,
      "outputs": []
    },
    {
      "cell_type": "code",
      "metadata": {
        "colab": {
          "base_uri": "https://localhost:8080/"
        },
        "outputId": "27722dc8-5672-4c9f-f505-1b36adda79c5",
        "id": "_ZILI32DggHk"
      },
      "source": [
        "rf.fit(xtrain,ytrain)"
      ],
      "execution_count": 132,
      "outputs": [
        {
          "output_type": "execute_result",
          "data": {
            "text/plain": [
              "RandomForestClassifier(n_estimators=50)"
            ]
          },
          "metadata": {},
          "execution_count": 132
        }
      ]
    },
    {
      "cell_type": "code",
      "metadata": {
        "colab": {
          "base_uri": "https://localhost:8080/"
        },
        "outputId": "03879adc-1c4c-4fcc-8530-0c83c8c27809",
        "id": "fIm2XRi_h0yu"
      },
      "source": [
        "from sklearn.metrics import classification_report, confusion_matrix, accuracy_score\n",
        "\n",
        "ytrain_pred=rf.predict(xtrain)\n",
        "\n",
        "print(classification_report(ytrain,ytrain_pred))\n",
        "print(accuracy_score(ytrain, ytrain_pred))"
      ],
      "execution_count": 133,
      "outputs": [
        {
          "output_type": "stream",
          "name": "stdout",
          "text": [
            "              precision    recall  f1-score   support\n",
            "\n",
            "         2.0       1.00      0.97      0.99        79\n",
            "         4.0       1.00      1.00      1.00         2\n",
            "         7.0       1.00      1.00      1.00         2\n",
            "         8.0       1.00      1.00      1.00        61\n",
            "         9.0       1.00      1.00      1.00        62\n",
            "        10.0       1.00      1.00      1.00     22231\n",
            "\n",
            "    accuracy                           1.00     22437\n",
            "   macro avg       1.00      1.00      1.00     22437\n",
            "weighted avg       1.00      1.00      1.00     22437\n",
            "\n",
            "0.9999108615233766\n"
          ]
        }
      ]
    },
    {
      "cell_type": "code",
      "source": [
        "cm1 = (confusion_matrix(ytrain,ytrain_pred))\n",
        "print(cm1)"
      ],
      "metadata": {
        "colab": {
          "base_uri": "https://localhost:8080/"
        },
        "outputId": "94c42dab-8f22-4070-8fdb-3cf43332083d",
        "id": "sc2SDmiSiA8V"
      },
      "execution_count": 134,
      "outputs": [
        {
          "output_type": "stream",
          "name": "stdout",
          "text": [
            "[[   77     0     0     0     0     2]\n",
            " [    0     2     0     0     0     0]\n",
            " [    0     0     2     0     0     0]\n",
            " [    0     0     0    61     0     0]\n",
            " [    0     0     0     0    62     0]\n",
            " [    0     0     0     0     0 22231]]\n"
          ]
        }
      ]
    },
    {
      "cell_type": "code",
      "metadata": {
        "colab": {
          "base_uri": "https://localhost:8080/"
        },
        "outputId": "b386dcca-8e37-4ce0-9012-1105ff978484",
        "id": "N5QQ7YwPiIBm"
      },
      "source": [
        "ypred=rf.predict(xtest)\n",
        "print(classification_report(ytest,ypred))\n",
        "print(accuracy_score(ytest, ypred))"
      ],
      "execution_count": 135,
      "outputs": [
        {
          "output_type": "stream",
          "name": "stdout",
          "text": [
            "              precision    recall  f1-score   support\n",
            "\n",
            "         0.0       0.00      0.00      0.00        35\n",
            "         1.0       0.00      0.00      0.00        17\n",
            "         2.0       0.02      0.10      0.03        20\n",
            "         3.0       0.00      0.00      0.00        26\n",
            "         4.0       0.00      0.00      0.00        46\n",
            "         5.0       0.00      0.00      0.00       111\n",
            "         6.0       0.00      0.00      0.00        97\n",
            "         7.0       0.00      0.00      0.00       332\n",
            "         8.0       0.16      0.01      0.03       904\n",
            "         9.0       0.13      0.00      0.01      1562\n",
            "        10.0       0.78      0.99      0.87     10864\n",
            "\n",
            "    accuracy                           0.77     14014\n",
            "   macro avg       0.10      0.10      0.09     14014\n",
            "weighted avg       0.63      0.77      0.68     14014\n",
            "\n",
            "0.7690880548023405\n"
          ]
        },
        {
          "output_type": "stream",
          "name": "stderr",
          "text": [
            "/usr/local/lib/python3.7/dist-packages/sklearn/metrics/_classification.py:1308: UndefinedMetricWarning: Precision and F-score are ill-defined and being set to 0.0 in labels with no predicted samples. Use `zero_division` parameter to control this behavior.\n",
            "  _warn_prf(average, modifier, msg_start, len(result))\n",
            "/usr/local/lib/python3.7/dist-packages/sklearn/metrics/_classification.py:1308: UndefinedMetricWarning: Precision and F-score are ill-defined and being set to 0.0 in labels with no predicted samples. Use `zero_division` parameter to control this behavior.\n",
            "  _warn_prf(average, modifier, msg_start, len(result))\n",
            "/usr/local/lib/python3.7/dist-packages/sklearn/metrics/_classification.py:1308: UndefinedMetricWarning: Precision and F-score are ill-defined and being set to 0.0 in labels with no predicted samples. Use `zero_division` parameter to control this behavior.\n",
            "  _warn_prf(average, modifier, msg_start, len(result))\n"
          ]
        }
      ]
    },
    {
      "cell_type": "code",
      "source": [
        "cm = confusion_matrix(ytest,ypred)\n",
        "print(cm)"
      ],
      "metadata": {
        "colab": {
          "base_uri": "https://localhost:8080/"
        },
        "outputId": "d6a275ae-e9cf-433a-97de-c018c434404a",
        "id": "8FQkSzAKiY8H"
      },
      "execution_count": 136,
      "outputs": [
        {
          "output_type": "stream",
          "name": "stdout",
          "text": [
            "[[    0     0     7     0     0     0     0     0     0     0    28]\n",
            " [    0     0     2     0     0     0     0     0     0     0    15]\n",
            " [    0     0     2     0     0     0     0     0     0     0    18]\n",
            " [    0     0     2     0     0     0     0     0     0     0    24]\n",
            " [    0     0     0     0     0     0     0     0     0     0    46]\n",
            " [    0     0     8     0     0     0     0     0     2     0   101]\n",
            " [    0     0    13     0     0     0     0     0     1     0    83]\n",
            " [    0     0    10     0     0     0     0     0     7     1   314]\n",
            " [    0     0    15     0     0     0     0     0    13     5   871]\n",
            " [    0     0    13     0     0     0     0     0    13     6  1530]\n",
            " [    0     0    28     0     0     0     0     0    46    33 10757]]\n"
          ]
        }
      ]
    },
    {
      "cell_type": "code",
      "source": [
        ""
      ],
      "metadata": {
        "id": "48cQriGKhmZc"
      },
      "execution_count": null,
      "outputs": []
    },
    {
      "cell_type": "code",
      "source": [
        ""
      ],
      "metadata": {
        "id": "aSlTFJpKfAo6"
      },
      "execution_count": null,
      "outputs": []
    },
    {
      "cell_type": "markdown",
      "source": [
        "## Combinations of Keep and Delete Methods\n",
        "### One-Sided Selection for Undersampling\n"
      ],
      "metadata": {
        "id": "jjzPcMllBOFI"
      }
    },
    {
      "cell_type": "code",
      "metadata": {
        "id": "ipQw1gxBB1SD"
      },
      "source": [
        "xtrain = df_train['clean_text']\n",
        "ytrain = df_train['SCORE']\n",
        "xtest = df_validate['clean_text']\n",
        "ytest = df_validate['SCORE']"
      ],
      "execution_count": 138,
      "outputs": []
    },
    {
      "cell_type": "code",
      "metadata": {
        "id": "2JzPQWPrCB19"
      },
      "source": [
        "from sklearn.feature_extraction.text import TfidfVectorizer"
      ],
      "execution_count": null,
      "outputs": []
    },
    {
      "cell_type": "code",
      "source": [
        "vectorizer = TfidfVectorizer(min_df=3,analyzer='word',max_features=3000)\n",
        "xtrain = vectorizer.fit_transform(xtrain)\n",
        "xtest = vectorizer.transform(xtest)"
      ],
      "metadata": {
        "id": "y0ngwt1qCM3E"
      },
      "execution_count": 143,
      "outputs": []
    },
    {
      "cell_type": "code",
      "source": [
        "from imblearn.under_sampling import OneSidedSelection"
      ],
      "metadata": {
        "id": "O52vhDa5w_vE"
      },
      "execution_count": 141,
      "outputs": []
    },
    {
      "cell_type": "code",
      "source": [
        "undersample = OneSidedSelection(n_neighbors=1, n_seeds_S=200)\n",
        "xtrain, ytrain = undersample.fit_resample(xtrain, ytrain)"
      ],
      "metadata": {
        "id": "KmrB05oRxYkN"
      },
      "execution_count": 144,
      "outputs": []
    },
    {
      "cell_type": "code",
      "source": [
        "from sklearn.ensemble import RandomForestClassifier\n",
        "rf=RandomForestClassifier(n_estimators=50)\n",
        "\n",
        "rf.fit(xtrain,ytrain)"
      ],
      "metadata": {
        "colab": {
          "base_uri": "https://localhost:8080/"
        },
        "id": "ne2BId5Rw_7w",
        "outputId": "ae7b495d-fbdc-4732-8af5-fa0a974b1116"
      },
      "execution_count": 145,
      "outputs": [
        {
          "output_type": "execute_result",
          "data": {
            "text/plain": [
              "RandomForestClassifier(n_estimators=50)"
            ]
          },
          "metadata": {},
          "execution_count": 145
        }
      ]
    },
    {
      "cell_type": "markdown",
      "source": [
        "### Evaluation the Train dataset and Validation dataset"
      ],
      "metadata": {
        "id": "sqqhd0s-u_XD"
      }
    },
    {
      "cell_type": "code",
      "metadata": {
        "id": "ERPNVZ-ECgn2",
        "colab": {
          "base_uri": "https://localhost:8080/"
        },
        "outputId": "88d3c838-5880-4c01-c87f-44e66cdeb47d"
      },
      "source": [
        "from sklearn.metrics import classification_report, confusion_matrix, accuracy_score\n",
        "\n",
        "ytrain_pred=rf.predict(xtrain)\n",
        "\n",
        "print(classification_report(ytrain,ytrain_pred))\n",
        "print(accuracy_score(ytrain, ytrain_pred))"
      ],
      "execution_count": 147,
      "outputs": [
        {
          "output_type": "stream",
          "name": "stdout",
          "text": [
            "              precision    recall  f1-score   support\n",
            "\n",
            "         0.0       0.98      0.92      0.95       198\n",
            "         1.0       0.98      0.96      0.97       200\n",
            "         2.0       0.98      0.82      0.90        79\n",
            "         3.0       0.99      0.87      0.93       193\n",
            "         4.0       0.94      0.90      0.92       196\n",
            "         5.0       0.96      0.77      0.86       222\n",
            "         6.0       0.96      0.79      0.86       226\n",
            "         7.0       0.91      0.64      0.75       269\n",
            "         8.0       0.83      0.81      0.82       949\n",
            "         9.0       0.93      0.75      0.83      1195\n",
            "        10.0       0.93      0.99      0.96      7699\n",
            "\n",
            "    accuracy                           0.93     11426\n",
            "   macro avg       0.95      0.84      0.89     11426\n",
            "weighted avg       0.93      0.93      0.93     11426\n",
            "\n",
            "0.9290215298442149\n"
          ]
        }
      ]
    },
    {
      "cell_type": "code",
      "source": [
        "cm1 = (confusion_matrix(ytrain,ytrain_pred))\n",
        "print(cm1)"
      ],
      "metadata": {
        "id": "IGURzVbpDK5L",
        "colab": {
          "base_uri": "https://localhost:8080/"
        },
        "outputId": "0b046b4c-f156-4e9e-c5ed-377a8cb94204"
      },
      "execution_count": 148,
      "outputs": [
        {
          "output_type": "stream",
          "name": "stdout",
          "text": [
            "[[ 182    0    0    0    1    1    1    0    7    1    5]\n",
            " [   0  193    0    0    0    0    0    0    3    1    3]\n",
            " [   0    1   65    1    0    1    0    1    4    1    5]\n",
            " [   0    2    0  167    0    0    1    0   11    2   10]\n",
            " [   0    0    0    0  177    1    0    0    4    0   14]\n",
            " [   0    0    0    0    1  172    2    2   28    2   15]\n",
            " [   0    0    0    0    1    0  178    2   18    2   25]\n",
            " [   1    0    0    0    3    3    0  171   40    9   42]\n",
            " [   1    0    0    0    3    0    3    6  764   23  149]\n",
            " [   1    0    0    0    1    1    1    4   21  897  269]\n",
            " [   0    1    1    0    1    0    0    2   20   25 7649]]\n"
          ]
        }
      ]
    },
    {
      "cell_type": "code",
      "metadata": {
        "id": "xHw7HfcjCqfU",
        "colab": {
          "base_uri": "https://localhost:8080/"
        },
        "outputId": "a920198a-f592-460f-cf5b-9b2b372a42a5"
      },
      "source": [
        "ypred=rf.predict(xtest)\n",
        "print(classification_report(ytest,ypred))\n",
        "print(accuracy_score(ytest, ypred))"
      ],
      "execution_count": 151,
      "outputs": [
        {
          "output_type": "stream",
          "name": "stdout",
          "text": [
            "              precision    recall  f1-score   support\n",
            "\n",
            "         0.0       0.00      0.00      0.00        35\n",
            "         1.0       0.00      0.00      0.00        17\n",
            "         2.0       0.00      0.00      0.00        20\n",
            "         3.0       0.00      0.00      0.00        26\n",
            "         4.0       0.00      0.00      0.00        46\n",
            "         5.0       0.02      0.01      0.01       111\n",
            "         6.0       0.02      0.01      0.01        97\n",
            "         7.0       0.02      0.02      0.02       332\n",
            "         8.0       0.09      0.10      0.09       904\n",
            "         9.0       0.12      0.19      0.15      1562\n",
            "        10.0       0.78      0.72      0.75     10864\n",
            "\n",
            "    accuracy                           0.58     14014\n",
            "   macro avg       0.10      0.09      0.09     14014\n",
            "weighted avg       0.63      0.58      0.60     14014\n",
            "\n",
            "0.5842728699871557\n"
          ]
        }
      ]
    },
    {
      "cell_type": "code",
      "source": [
        "cm = (confusion_matrix(ytest,ypred))\n",
        "print(cm)"
      ],
      "metadata": {
        "id": "WmkcGVq0CyGl",
        "colab": {
          "base_uri": "https://localhost:8080/"
        },
        "outputId": "c1baca97-c6ad-43b2-ef7f-a60af7cfaad9"
      },
      "execution_count": 152,
      "outputs": [
        {
          "output_type": "stream",
          "name": "stdout",
          "text": [
            "[[   0    1    1    1    1    0    0    2    8    1   20]\n",
            " [   0    0    1    1    0    0    1    2    2    0   10]\n",
            " [   1    1    0    1    0    0    0    1    2    0   14]\n",
            " [   0    0    0    0    0    3    0    1    0    0   22]\n",
            " [   1    1    0    0    0    0    0    0    2    3   39]\n",
            " [   3    2    0    3    4    1    1    1   15    6   75]\n",
            " [   3    1    0    0    0    0    1    6   21    6   59]\n",
            " [   2    2    1    2    2    4    2    7   31   49  230]\n",
            " [   4    5    0    4    6    5    5   15   89  158  613]\n",
            " [   3    5    0    4    2    7    4   42  118  294 1083]\n",
            " [  11   26    1   18   15   23   32  251  752 1939 7796]]\n"
          ]
        }
      ]
    },
    {
      "cell_type": "markdown",
      "source": [
        "## Neighborhood Cleaning Rule for Undersampling"
      ],
      "metadata": {
        "id": "ArRP0CVGzRkR"
      }
    },
    {
      "cell_type": "code",
      "metadata": {
        "id": "aRPqnjqVzgE9"
      },
      "source": [
        "xtrain = df_train['clean_text']\n",
        "ytrain = df_train['SCORE']\n",
        "xtest = df_validate['clean_text']\n",
        "ytest = df_validate['SCORE']"
      ],
      "execution_count": 153,
      "outputs": []
    },
    {
      "cell_type": "code",
      "source": [
        "vectorizer = TfidfVectorizer(min_df=3,analyzer='word',max_features=3000)\n",
        "xtrain = vectorizer.fit_transform(xtrain)\n",
        "xtest = vectorizer.transform(xtest)"
      ],
      "metadata": {
        "id": "D-4rh81-zt5_"
      },
      "execution_count": 154,
      "outputs": []
    },
    {
      "cell_type": "code",
      "source": [
        "from imblearn.under_sampling import NeighbourhoodCleaningRule"
      ],
      "metadata": {
        "id": "BRLfbLX6kWNj"
      },
      "execution_count": 155,
      "outputs": []
    },
    {
      "cell_type": "code",
      "source": [
        "undersample = NeighbourhoodCleaningRule(n_neighbors=3, threshold_cleaning=0.5)\n",
        "xtrain, ytrain = undersample.fit_resample(xtrain, ytrain)"
      ],
      "metadata": {
        "id": "Sbdfe1hSz7JB"
      },
      "execution_count": 156,
      "outputs": []
    },
    {
      "cell_type": "code",
      "source": [
        "from sklearn.ensemble import RandomForestClassifier\n",
        "rf=RandomForestClassifier(n_estimators=50)\n",
        "\n",
        "rf.fit(xtrain,ytrain)"
      ],
      "metadata": {
        "colab": {
          "base_uri": "https://localhost:8080/"
        },
        "id": "2OBHAnwkz7Pd",
        "outputId": "cde5768f-deac-4b67-dd9b-76a61350edbf"
      },
      "execution_count": 157,
      "outputs": [
        {
          "output_type": "execute_result",
          "data": {
            "text/plain": [
              "RandomForestClassifier(n_estimators=50)"
            ]
          },
          "metadata": {},
          "execution_count": 157
        }
      ]
    },
    {
      "cell_type": "code",
      "source": [
        "from sklearn.metrics import classification_report, confusion_matrix, accuracy_score\n",
        "\n",
        "ytrain_pred=rf.predict(xtrain)\n",
        "\n",
        "print(classification_report(ytrain,ytrain_pred))\n",
        "print(accuracy_score(ytrain, ytrain_pred))"
      ],
      "metadata": {
        "id": "7tAEyz8NBet0",
        "colab": {
          "base_uri": "https://localhost:8080/"
        },
        "outputId": "ea1b3a08-1395-4e37-cca1-7da27eb0f68a"
      },
      "execution_count": 158,
      "outputs": [
        {
          "output_type": "stream",
          "name": "stdout",
          "text": [
            "              precision    recall  f1-score   support\n",
            "\n",
            "         0.0       1.00      0.96      0.98        26\n",
            "         1.0       1.00      1.00      1.00         2\n",
            "         2.0       1.00      0.87      0.93        79\n",
            "         3.0       1.00      1.00      1.00         3\n",
            "         4.0       1.00      1.00      1.00        12\n",
            "         5.0       0.97      1.00      0.98        62\n",
            "         6.0       1.00      1.00      1.00        24\n",
            "         7.0       1.00      0.99      1.00       105\n",
            "         8.0       1.00      0.99      1.00       538\n",
            "         9.0       1.00      1.00      1.00       560\n",
            "        10.0       1.00      1.00      1.00     37616\n",
            "\n",
            "    accuracy                           1.00     39027\n",
            "   macro avg       1.00      0.98      0.99     39027\n",
            "weighted avg       1.00      1.00      1.00     39027\n",
            "\n",
            "0.9995644041304738\n"
          ]
        }
      ]
    },
    {
      "cell_type": "code",
      "source": [
        "cm1 = (confusion_matrix(ytrain,ytrain_pred))\n",
        "print(cm1)"
      ],
      "metadata": {
        "colab": {
          "base_uri": "https://localhost:8080/"
        },
        "id": "6RK92pP-0RV6",
        "outputId": "1de26552-5a65-4b19-f6f2-e1c281fe8899"
      },
      "execution_count": 159,
      "outputs": [
        {
          "output_type": "stream",
          "name": "stdout",
          "text": [
            "[[   25     0     0     0     0     0     0     0     0     0     1]\n",
            " [    0     2     0     0     0     0     0     0     0     0     0]\n",
            " [    0     0    69     0     0     2     0     0     2     0     6]\n",
            " [    0     0     0     3     0     0     0     0     0     0     0]\n",
            " [    0     0     0     0    12     0     0     0     0     0     0]\n",
            " [    0     0     0     0     0    62     0     0     0     0     0]\n",
            " [    0     0     0     0     0     0    24     0     0     0     0]\n",
            " [    0     0     0     0     0     0     0   104     0     0     1]\n",
            " [    0     0     0     0     0     0     0     0   535     0     3]\n",
            " [    0     0     0     0     0     0     0     0     0   558     2]\n",
            " [    0     0     0     0     0     0     0     0     0     0 37616]]\n"
          ]
        }
      ]
    },
    {
      "cell_type": "code",
      "source": [
        "ypred=rf.predict(xtest)\n",
        "print(classification_report(ytest,ypred))\n",
        "print(accuracy_score(ytest, ypred))"
      ],
      "metadata": {
        "colab": {
          "base_uri": "https://localhost:8080/"
        },
        "id": "CCIA9_RJ0a3K",
        "outputId": "2162ada8-aeb6-4b53-9e45-232a1a270fd6"
      },
      "execution_count": 160,
      "outputs": [
        {
          "output_type": "stream",
          "name": "stdout",
          "text": [
            "              precision    recall  f1-score   support\n",
            "\n",
            "         0.0       0.00      0.00      0.00        35\n",
            "         1.0       0.00      0.00      0.00        17\n",
            "         2.0       0.06      0.05      0.06        20\n",
            "         3.0       0.00      0.00      0.00        26\n",
            "         4.0       0.00      0.00      0.00        46\n",
            "         5.0       0.11      0.05      0.07       111\n",
            "         6.0       0.05      0.01      0.02        97\n",
            "         7.0       0.10      0.02      0.03       332\n",
            "         8.0       0.13      0.10      0.11       904\n",
            "         9.0       0.13      0.04      0.06      1562\n",
            "        10.0       0.79      0.92      0.85     10864\n",
            "\n",
            "    accuracy                           0.72     14014\n",
            "   macro avg       0.12      0.11      0.11     14014\n",
            "weighted avg       0.64      0.72      0.67     14014\n",
            "\n",
            "0.7240616526330812\n"
          ]
        }
      ]
    },
    {
      "cell_type": "code",
      "source": [
        "cm = (confusion_matrix(ytest,ypred))\n",
        "print(cm)"
      ],
      "metadata": {
        "colab": {
          "base_uri": "https://localhost:8080/"
        },
        "id": "7VwNpbmd0a7e",
        "outputId": "0d097ffa-7bee-4c76-e928-ac0324302f06"
      },
      "execution_count": 161,
      "outputs": [
        {
          "output_type": "stream",
          "name": "stdout",
          "text": [
            "[[   0    0    2    1    0    4    0    0    1    0   27]\n",
            " [   0    0    1    0    0    1    0    0    1    0   14]\n",
            " [   1    0    1    0    0    1    0    0    0    0   17]\n",
            " [   0    0    2    0    0    0    0    0    1    0   23]\n",
            " [   0    0    1    0    0    1    0    0    1    1   42]\n",
            " [   3    0    0    1    1    6    0    2    6    0   92]\n",
            " [   1    0    1    0    1   12    1    3    4    2   72]\n",
            " [   1    0    2    1    2   10    2    5   22   15  272]\n",
            " [   2    0    1    1    3    9    1   12   89   42  744]\n",
            " [   1    1    2    0    0    4    2    5   96   64 1387]\n",
            " [   0    4    3    0    1    5   13   25  447  385 9981]]\n"
          ]
        }
      ]
    },
    {
      "cell_type": "code",
      "source": [
        ""
      ],
      "metadata": {
        "id": "qjWyNbr_0Rhi"
      },
      "execution_count": null,
      "outputs": []
    },
    {
      "cell_type": "markdown",
      "source": [
        "# Summary and Improvement:\n",
        "\n",
        "## 1. NearMiss reduced the majority size from more than 40k to 79 which is smallest size of minority classes. So the performance is not good, especially validation acc is very low.\n",
        "## 2. Condensed Nearest Neighbor Rule performs better than NearMiss, but data treansform takes longer time, and accuracy is not good enough.\n",
        "## 3. Tomek Links performs the same as no undersampling. \n",
        "## 4. Edited Nearest Neighbors Rule outperformance other algorithms, but removed half of minority classes; removed classes might be ambigues or noises, need to study and understand them.\n",
        "## 5. Neighborhood Cleaning Rule keeps all minority classes, the train acc is very high, but validation acc slightly lower.\n",
        "## Improvement:      \n",
        "## 1. Understand the domain knowledge of dataset, which may help the data preprocessing.\n",
        "## 2. Make sure the data is correctly labeled which is very challenge for text data; high quality data is very important for the algorithm performance and predictions.\n"
      ],
      "metadata": {
        "id": "iCoPY8qn3GW3"
      }
    },
    {
      "cell_type": "markdown",
      "source": [
        ""
      ],
      "metadata": {
        "id": "m80bCwbY3GbX"
      }
    }
  ]
}