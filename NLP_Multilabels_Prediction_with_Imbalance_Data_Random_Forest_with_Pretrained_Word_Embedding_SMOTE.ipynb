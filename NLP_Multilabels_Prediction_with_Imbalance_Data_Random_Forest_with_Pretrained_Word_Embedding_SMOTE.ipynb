{
  "nbformat": 4,
  "nbformat_minor": 0,
  "metadata": {
    "colab": {
      "name": "NLP_Multilabels Prediction with Imbalance Data_Random Forest with Pretrained Word Embedding_SMOTE.ipynb",
      "provenance": [],
      "collapsed_sections": []
    },
    "kernelspec": {
      "name": "python3",
      "display_name": "Python 3"
    },
    "language_info": {
      "name": "python"
    }
  },
  "cells": [
    {
      "cell_type": "markdown",
      "source": [
        "## This Notebook is to find solution for imbalanced NLP data.\n",
        "## Using pre-trained word embedding Word2Vec, apply the Ensemble Random Forest algorithm to fit the train data; then using validation data for prediction. Chosing Random Forest is because it can handle imbalanced data. The train accuracy reached 0.91, validation accuracy 0.77.\n",
        "\n",
        "## Applied SMOTE oversampling technique for minority classes, train acc reached 0.94, validation acc 0.75.\n",
        "\n",
        "## Applied Cost-Sensitive Learning for Multi-Class Classification. \n",
        "\n",
        "## Data is downloaded from this public GitHub repo:\n",
        "\n",
        "https://github.com/MarletteFunding/marlette-ds-challenge2"
      ],
      "metadata": {
        "id": "0OuTF4KbPXI-"
      }
    },
    {
      "cell_type": "code",
      "metadata": {
        "id": "eO1KVscn5KiC",
        "colab": {
          "base_uri": "https://localhost:8080/"
        },
        "outputId": "3ec62cf5-ce06-4308-d1fe-0f9904eb3f27"
      },
      "source": [
        "from google.colab import drive\n",
        "drive.mount('/content/drive')"
      ],
      "execution_count": 1,
      "outputs": [
        {
          "output_type": "stream",
          "name": "stdout",
          "text": [
            "Mounted at /content/drive\n"
          ]
        }
      ]
    },
    {
      "cell_type": "markdown",
      "source": [
        "## Upload data from Google Drive"
      ],
      "metadata": {
        "id": "7xyhuL5xu4hs"
      }
    },
    {
      "cell_type": "code",
      "metadata": {
        "id": "Mkn8XVG5loeW"
      },
      "source": [
        "import pandas as pd # data processing, CSV file I/O (e.g. pd.read_csv)\n",
        "path='/content/drive/My Drive/Data_Sets/'\n",
        "df_train = pd.read_csv(path+'NLP_task_train.csv.zip',header=0,index_col=0,compression='infer')\n",
        "df_validate = pd.read_csv(path+'NLP_task_validate.csv.zip',header=0,index_col=0,compression='infer')"
      ],
      "execution_count": 2,
      "outputs": []
    },
    {
      "cell_type": "markdown",
      "source": [
        "## Explore the data, Visulization target (Scores), handle missing data"
      ],
      "metadata": {
        "id": "cGfc8-9q1AOm"
      }
    },
    {
      "cell_type": "code",
      "source": [
        "df_train.head()"
      ],
      "metadata": {
        "colab": {
          "base_uri": "https://localhost:8080/",
          "height": 206
        },
        "id": "lipZTFMy3ocF",
        "outputId": "b7b58e64-a271-47d2-d5e3-e2d68e05d97d"
      },
      "execution_count": 3,
      "outputs": [
        {
          "output_type": "execute_result",
          "data": {
            "text/html": [
              "\n",
              "  <div id=\"df-3cd65313-11ca-4c89-b147-928d98297bd0\">\n",
              "    <div class=\"colab-df-container\">\n",
              "      <div>\n",
              "<style scoped>\n",
              "    .dataframe tbody tr th:only-of-type {\n",
              "        vertical-align: middle;\n",
              "    }\n",
              "\n",
              "    .dataframe tbody tr th {\n",
              "        vertical-align: top;\n",
              "    }\n",
              "\n",
              "    .dataframe thead th {\n",
              "        text-align: right;\n",
              "    }\n",
              "</style>\n",
              "<table border=\"1\" class=\"dataframe\">\n",
              "  <thead>\n",
              "    <tr style=\"text-align: right;\">\n",
              "      <th></th>\n",
              "      <th>DOCUMENT_ID</th>\n",
              "      <th>SENTENCE_ID</th>\n",
              "      <th>SENTENCE</th>\n",
              "      <th>SENTENCE_START_POS</th>\n",
              "      <th>SENTENCE_END_POS</th>\n",
              "      <th>SCORE</th>\n",
              "    </tr>\n",
              "  </thead>\n",
              "  <tbody>\n",
              "    <tr>\n",
              "      <th>0</th>\n",
              "      <td>583306034</td>\n",
              "      <td>1888104</td>\n",
              "      <td>The whole process went smooth and I am thankfu...</td>\n",
              "      <td>109</td>\n",
              "      <td>165</td>\n",
              "      <td>10.0</td>\n",
              "    </tr>\n",
              "    <tr>\n",
              "      <th>1</th>\n",
              "      <td>583306034</td>\n",
              "      <td>1888102</td>\n",
              "      <td>It was quick and easy to apply and got the app...</td>\n",
              "      <td>0</td>\n",
              "      <td>60</td>\n",
              "      <td>10.0</td>\n",
              "    </tr>\n",
              "    <tr>\n",
              "      <th>2</th>\n",
              "      <td>584193040</td>\n",
              "      <td>1909902</td>\n",
              "      <td>service</td>\n",
              "      <td>0</td>\n",
              "      <td>7</td>\n",
              "      <td>10.0</td>\n",
              "    </tr>\n",
              "    <tr>\n",
              "      <th>3</th>\n",
              "      <td>584203035</td>\n",
              "      <td>1910310</td>\n",
              "      <td>Thanks!</td>\n",
              "      <td>198</td>\n",
              "      <td>205</td>\n",
              "      <td>10.0</td>\n",
              "    </tr>\n",
              "    <tr>\n",
              "      <th>4</th>\n",
              "      <td>584200037</td>\n",
              "      <td>1910006</td>\n",
              "      <td>Thank you!</td>\n",
              "      <td>58</td>\n",
              "      <td>68</td>\n",
              "      <td>10.0</td>\n",
              "    </tr>\n",
              "  </tbody>\n",
              "</table>\n",
              "</div>\n",
              "      <button class=\"colab-df-convert\" onclick=\"convertToInteractive('df-3cd65313-11ca-4c89-b147-928d98297bd0')\"\n",
              "              title=\"Convert this dataframe to an interactive table.\"\n",
              "              style=\"display:none;\">\n",
              "        \n",
              "  <svg xmlns=\"http://www.w3.org/2000/svg\" height=\"24px\"viewBox=\"0 0 24 24\"\n",
              "       width=\"24px\">\n",
              "    <path d=\"M0 0h24v24H0V0z\" fill=\"none\"/>\n",
              "    <path d=\"M18.56 5.44l.94 2.06.94-2.06 2.06-.94-2.06-.94-.94-2.06-.94 2.06-2.06.94zm-11 1L8.5 8.5l.94-2.06 2.06-.94-2.06-.94L8.5 2.5l-.94 2.06-2.06.94zm10 10l.94 2.06.94-2.06 2.06-.94-2.06-.94-.94-2.06-.94 2.06-2.06.94z\"/><path d=\"M17.41 7.96l-1.37-1.37c-.4-.4-.92-.59-1.43-.59-.52 0-1.04.2-1.43.59L10.3 9.45l-7.72 7.72c-.78.78-.78 2.05 0 2.83L4 21.41c.39.39.9.59 1.41.59.51 0 1.02-.2 1.41-.59l7.78-7.78 2.81-2.81c.8-.78.8-2.07 0-2.86zM5.41 20L4 18.59l7.72-7.72 1.47 1.35L5.41 20z\"/>\n",
              "  </svg>\n",
              "      </button>\n",
              "      \n",
              "  <style>\n",
              "    .colab-df-container {\n",
              "      display:flex;\n",
              "      flex-wrap:wrap;\n",
              "      gap: 12px;\n",
              "    }\n",
              "\n",
              "    .colab-df-convert {\n",
              "      background-color: #E8F0FE;\n",
              "      border: none;\n",
              "      border-radius: 50%;\n",
              "      cursor: pointer;\n",
              "      display: none;\n",
              "      fill: #1967D2;\n",
              "      height: 32px;\n",
              "      padding: 0 0 0 0;\n",
              "      width: 32px;\n",
              "    }\n",
              "\n",
              "    .colab-df-convert:hover {\n",
              "      background-color: #E2EBFA;\n",
              "      box-shadow: 0px 1px 2px rgba(60, 64, 67, 0.3), 0px 1px 3px 1px rgba(60, 64, 67, 0.15);\n",
              "      fill: #174EA6;\n",
              "    }\n",
              "\n",
              "    [theme=dark] .colab-df-convert {\n",
              "      background-color: #3B4455;\n",
              "      fill: #D2E3FC;\n",
              "    }\n",
              "\n",
              "    [theme=dark] .colab-df-convert:hover {\n",
              "      background-color: #434B5C;\n",
              "      box-shadow: 0px 1px 3px 1px rgba(0, 0, 0, 0.15);\n",
              "      filter: drop-shadow(0px 1px 2px rgba(0, 0, 0, 0.3));\n",
              "      fill: #FFFFFF;\n",
              "    }\n",
              "  </style>\n",
              "\n",
              "      <script>\n",
              "        const buttonEl =\n",
              "          document.querySelector('#df-3cd65313-11ca-4c89-b147-928d98297bd0 button.colab-df-convert');\n",
              "        buttonEl.style.display =\n",
              "          google.colab.kernel.accessAllowed ? 'block' : 'none';\n",
              "\n",
              "        async function convertToInteractive(key) {\n",
              "          const element = document.querySelector('#df-3cd65313-11ca-4c89-b147-928d98297bd0');\n",
              "          const dataTable =\n",
              "            await google.colab.kernel.invokeFunction('convertToInteractive',\n",
              "                                                     [key], {});\n",
              "          if (!dataTable) return;\n",
              "\n",
              "          const docLinkHtml = 'Like what you see? Visit the ' +\n",
              "            '<a target=\"_blank\" href=https://colab.research.google.com/notebooks/data_table.ipynb>data table notebook</a>'\n",
              "            + ' to learn more about interactive tables.';\n",
              "          element.innerHTML = '';\n",
              "          dataTable['output_type'] = 'display_data';\n",
              "          await google.colab.output.renderOutput(dataTable, element);\n",
              "          const docLink = document.createElement('div');\n",
              "          docLink.innerHTML = docLinkHtml;\n",
              "          element.appendChild(docLink);\n",
              "        }\n",
              "      </script>\n",
              "    </div>\n",
              "  </div>\n",
              "  "
            ],
            "text/plain": [
              "   DOCUMENT_ID  SENTENCE_ID  ... SENTENCE_END_POS  SCORE\n",
              "0    583306034      1888104  ...              165   10.0\n",
              "1    583306034      1888102  ...               60   10.0\n",
              "2    584193040      1909902  ...                7   10.0\n",
              "3    584203035      1910310  ...              205   10.0\n",
              "4    584200037      1910006  ...               68   10.0\n",
              "\n",
              "[5 rows x 6 columns]"
            ]
          },
          "metadata": {},
          "execution_count": 3
        }
      ]
    },
    {
      "cell_type": "code",
      "source": [
        "df_train.tail()"
      ],
      "metadata": {
        "colab": {
          "base_uri": "https://localhost:8080/",
          "height": 206
        },
        "id": "spwyxq7q3_XZ",
        "outputId": "dde33c61-9de7-44f5-db68-896003621cec"
      },
      "execution_count": 4,
      "outputs": [
        {
          "output_type": "execute_result",
          "data": {
            "text/html": [
              "\n",
              "  <div id=\"df-4cfd0782-9092-48f4-b72a-9c6d338c2bd5\">\n",
              "    <div class=\"colab-df-container\">\n",
              "      <div>\n",
              "<style scoped>\n",
              "    .dataframe tbody tr th:only-of-type {\n",
              "        vertical-align: middle;\n",
              "    }\n",
              "\n",
              "    .dataframe tbody tr th {\n",
              "        vertical-align: top;\n",
              "    }\n",
              "\n",
              "    .dataframe thead th {\n",
              "        text-align: right;\n",
              "    }\n",
              "</style>\n",
              "<table border=\"1\" class=\"dataframe\">\n",
              "  <thead>\n",
              "    <tr style=\"text-align: right;\">\n",
              "      <th></th>\n",
              "      <th>DOCUMENT_ID</th>\n",
              "      <th>SENTENCE_ID</th>\n",
              "      <th>SENTENCE</th>\n",
              "      <th>SENTENCE_START_POS</th>\n",
              "      <th>SENTENCE_END_POS</th>\n",
              "      <th>SCORE</th>\n",
              "    </tr>\n",
              "  </thead>\n",
              "  <tbody>\n",
              "    <tr>\n",
              "      <th>70657</th>\n",
              "      <td>689569033</td>\n",
              "      <td>3973028</td>\n",
              "      <td>good communication on each step</td>\n",
              "      <td>25</td>\n",
              "      <td>56</td>\n",
              "      <td>8.0</td>\n",
              "    </tr>\n",
              "    <tr>\n",
              "      <th>70659</th>\n",
              "      <td>689548036</td>\n",
              "      <td>3972918</td>\n",
              "      <td>Applying for this loan was a very easy experience</td>\n",
              "      <td>0</td>\n",
              "      <td>49</td>\n",
              "      <td>10.0</td>\n",
              "    </tr>\n",
              "    <tr>\n",
              "      <th>70660</th>\n",
              "      <td>689549033</td>\n",
              "      <td>3973010</td>\n",
              "      <td>Was very helpful and stayed on phone to make s...</td>\n",
              "      <td>0</td>\n",
              "      <td>103</td>\n",
              "      <td>10.0</td>\n",
              "    </tr>\n",
              "    <tr>\n",
              "      <th>70661</th>\n",
              "      <td>689564034</td>\n",
              "      <td>3973230</td>\n",
              "      <td>High Interest Rates</td>\n",
              "      <td>0</td>\n",
              "      <td>19</td>\n",
              "      <td>8.0</td>\n",
              "    </tr>\n",
              "    <tr>\n",
              "      <th>70662</th>\n",
              "      <td>689550033</td>\n",
              "      <td>3973221</td>\n",
              "      <td>I appreciate this loan opportunity from Best E...</td>\n",
              "      <td>63</td>\n",
              "      <td>120</td>\n",
              "      <td>10.0</td>\n",
              "    </tr>\n",
              "  </tbody>\n",
              "</table>\n",
              "</div>\n",
              "      <button class=\"colab-df-convert\" onclick=\"convertToInteractive('df-4cfd0782-9092-48f4-b72a-9c6d338c2bd5')\"\n",
              "              title=\"Convert this dataframe to an interactive table.\"\n",
              "              style=\"display:none;\">\n",
              "        \n",
              "  <svg xmlns=\"http://www.w3.org/2000/svg\" height=\"24px\"viewBox=\"0 0 24 24\"\n",
              "       width=\"24px\">\n",
              "    <path d=\"M0 0h24v24H0V0z\" fill=\"none\"/>\n",
              "    <path d=\"M18.56 5.44l.94 2.06.94-2.06 2.06-.94-2.06-.94-.94-2.06-.94 2.06-2.06.94zm-11 1L8.5 8.5l.94-2.06 2.06-.94-2.06-.94L8.5 2.5l-.94 2.06-2.06.94zm10 10l.94 2.06.94-2.06 2.06-.94-2.06-.94-.94-2.06-.94 2.06-2.06.94z\"/><path d=\"M17.41 7.96l-1.37-1.37c-.4-.4-.92-.59-1.43-.59-.52 0-1.04.2-1.43.59L10.3 9.45l-7.72 7.72c-.78.78-.78 2.05 0 2.83L4 21.41c.39.39.9.59 1.41.59.51 0 1.02-.2 1.41-.59l7.78-7.78 2.81-2.81c.8-.78.8-2.07 0-2.86zM5.41 20L4 18.59l7.72-7.72 1.47 1.35L5.41 20z\"/>\n",
              "  </svg>\n",
              "      </button>\n",
              "      \n",
              "  <style>\n",
              "    .colab-df-container {\n",
              "      display:flex;\n",
              "      flex-wrap:wrap;\n",
              "      gap: 12px;\n",
              "    }\n",
              "\n",
              "    .colab-df-convert {\n",
              "      background-color: #E8F0FE;\n",
              "      border: none;\n",
              "      border-radius: 50%;\n",
              "      cursor: pointer;\n",
              "      display: none;\n",
              "      fill: #1967D2;\n",
              "      height: 32px;\n",
              "      padding: 0 0 0 0;\n",
              "      width: 32px;\n",
              "    }\n",
              "\n",
              "    .colab-df-convert:hover {\n",
              "      background-color: #E2EBFA;\n",
              "      box-shadow: 0px 1px 2px rgba(60, 64, 67, 0.3), 0px 1px 3px 1px rgba(60, 64, 67, 0.15);\n",
              "      fill: #174EA6;\n",
              "    }\n",
              "\n",
              "    [theme=dark] .colab-df-convert {\n",
              "      background-color: #3B4455;\n",
              "      fill: #D2E3FC;\n",
              "    }\n",
              "\n",
              "    [theme=dark] .colab-df-convert:hover {\n",
              "      background-color: #434B5C;\n",
              "      box-shadow: 0px 1px 3px 1px rgba(0, 0, 0, 0.15);\n",
              "      filter: drop-shadow(0px 1px 2px rgba(0, 0, 0, 0.3));\n",
              "      fill: #FFFFFF;\n",
              "    }\n",
              "  </style>\n",
              "\n",
              "      <script>\n",
              "        const buttonEl =\n",
              "          document.querySelector('#df-4cfd0782-9092-48f4-b72a-9c6d338c2bd5 button.colab-df-convert');\n",
              "        buttonEl.style.display =\n",
              "          google.colab.kernel.accessAllowed ? 'block' : 'none';\n",
              "\n",
              "        async function convertToInteractive(key) {\n",
              "          const element = document.querySelector('#df-4cfd0782-9092-48f4-b72a-9c6d338c2bd5');\n",
              "          const dataTable =\n",
              "            await google.colab.kernel.invokeFunction('convertToInteractive',\n",
              "                                                     [key], {});\n",
              "          if (!dataTable) return;\n",
              "\n",
              "          const docLinkHtml = 'Like what you see? Visit the ' +\n",
              "            '<a target=\"_blank\" href=https://colab.research.google.com/notebooks/data_table.ipynb>data table notebook</a>'\n",
              "            + ' to learn more about interactive tables.';\n",
              "          element.innerHTML = '';\n",
              "          dataTable['output_type'] = 'display_data';\n",
              "          await google.colab.output.renderOutput(dataTable, element);\n",
              "          const docLink = document.createElement('div');\n",
              "          docLink.innerHTML = docLinkHtml;\n",
              "          element.appendChild(docLink);\n",
              "        }\n",
              "      </script>\n",
              "    </div>\n",
              "  </div>\n",
              "  "
            ],
            "text/plain": [
              "       DOCUMENT_ID  SENTENCE_ID  ... SENTENCE_END_POS  SCORE\n",
              "70657    689569033      3973028  ...               56    8.0\n",
              "70659    689548036      3972918  ...               49   10.0\n",
              "70660    689549033      3973010  ...              103   10.0\n",
              "70661    689564034      3973230  ...               19    8.0\n",
              "70662    689550033      3973221  ...              120   10.0\n",
              "\n",
              "[5 rows x 6 columns]"
            ]
          },
          "metadata": {},
          "execution_count": 4
        }
      ]
    },
    {
      "cell_type": "code",
      "source": [
        "df_validate.head()"
      ],
      "metadata": {
        "colab": {
          "base_uri": "https://localhost:8080/",
          "height": 206
        },
        "id": "0rMNSz9eTPc0",
        "outputId": "8f9ee92b-b122-40b7-ac64-443d824b51cd"
      },
      "execution_count": 5,
      "outputs": [
        {
          "output_type": "execute_result",
          "data": {
            "text/html": [
              "\n",
              "  <div id=\"df-324c36d5-10ac-48e1-93d8-5ffd801550d6\">\n",
              "    <div class=\"colab-df-container\">\n",
              "      <div>\n",
              "<style scoped>\n",
              "    .dataframe tbody tr th:only-of-type {\n",
              "        vertical-align: middle;\n",
              "    }\n",
              "\n",
              "    .dataframe tbody tr th {\n",
              "        vertical-align: top;\n",
              "    }\n",
              "\n",
              "    .dataframe thead th {\n",
              "        text-align: right;\n",
              "    }\n",
              "</style>\n",
              "<table border=\"1\" class=\"dataframe\">\n",
              "  <thead>\n",
              "    <tr style=\"text-align: right;\">\n",
              "      <th></th>\n",
              "      <th>DOCUMENT_ID</th>\n",
              "      <th>SENTENCE_ID</th>\n",
              "      <th>SENTENCE</th>\n",
              "      <th>SENTENCE_START_POS</th>\n",
              "      <th>SENTENCE_END_POS</th>\n",
              "      <th>SCORE</th>\n",
              "    </tr>\n",
              "  </thead>\n",
              "  <tbody>\n",
              "    <tr>\n",
              "      <th>7</th>\n",
              "      <td>584207033</td>\n",
              "      <td>1910601</td>\n",
              "      <td>The loan process was super easy</td>\n",
              "      <td>0</td>\n",
              "      <td>31</td>\n",
              "      <td>10.0</td>\n",
              "    </tr>\n",
              "    <tr>\n",
              "      <th>10</th>\n",
              "      <td>584199033</td>\n",
              "      <td>1909801</td>\n",
              "      <td>The process was quick and easy!</td>\n",
              "      <td>0</td>\n",
              "      <td>31</td>\n",
              "      <td>9.0</td>\n",
              "    </tr>\n",
              "    <tr>\n",
              "      <th>13</th>\n",
              "      <td>591377035</td>\n",
              "      <td>2116637</td>\n",
              "      <td>were in my bank within just a few days from th...</td>\n",
              "      <td>178</td>\n",
              "      <td>252</td>\n",
              "      <td>10.0</td>\n",
              "    </tr>\n",
              "    <tr>\n",
              "      <th>14</th>\n",
              "      <td>591377035</td>\n",
              "      <td>2116635</td>\n",
              "      <td>I do not know what you mean by \"my score\", but...</td>\n",
              "      <td>0</td>\n",
              "      <td>131</td>\n",
              "      <td>10.0</td>\n",
              "    </tr>\n",
              "    <tr>\n",
              "      <th>25</th>\n",
              "      <td>34211545</td>\n",
              "      <td>359794</td>\n",
              "      <td>Very expensive dental work and debt consolidat...</td>\n",
              "      <td>0</td>\n",
              "      <td>50</td>\n",
              "      <td>10.0</td>\n",
              "    </tr>\n",
              "  </tbody>\n",
              "</table>\n",
              "</div>\n",
              "      <button class=\"colab-df-convert\" onclick=\"convertToInteractive('df-324c36d5-10ac-48e1-93d8-5ffd801550d6')\"\n",
              "              title=\"Convert this dataframe to an interactive table.\"\n",
              "              style=\"display:none;\">\n",
              "        \n",
              "  <svg xmlns=\"http://www.w3.org/2000/svg\" height=\"24px\"viewBox=\"0 0 24 24\"\n",
              "       width=\"24px\">\n",
              "    <path d=\"M0 0h24v24H0V0z\" fill=\"none\"/>\n",
              "    <path d=\"M18.56 5.44l.94 2.06.94-2.06 2.06-.94-2.06-.94-.94-2.06-.94 2.06-2.06.94zm-11 1L8.5 8.5l.94-2.06 2.06-.94-2.06-.94L8.5 2.5l-.94 2.06-2.06.94zm10 10l.94 2.06.94-2.06 2.06-.94-2.06-.94-.94-2.06-.94 2.06-2.06.94z\"/><path d=\"M17.41 7.96l-1.37-1.37c-.4-.4-.92-.59-1.43-.59-.52 0-1.04.2-1.43.59L10.3 9.45l-7.72 7.72c-.78.78-.78 2.05 0 2.83L4 21.41c.39.39.9.59 1.41.59.51 0 1.02-.2 1.41-.59l7.78-7.78 2.81-2.81c.8-.78.8-2.07 0-2.86zM5.41 20L4 18.59l7.72-7.72 1.47 1.35L5.41 20z\"/>\n",
              "  </svg>\n",
              "      </button>\n",
              "      \n",
              "  <style>\n",
              "    .colab-df-container {\n",
              "      display:flex;\n",
              "      flex-wrap:wrap;\n",
              "      gap: 12px;\n",
              "    }\n",
              "\n",
              "    .colab-df-convert {\n",
              "      background-color: #E8F0FE;\n",
              "      border: none;\n",
              "      border-radius: 50%;\n",
              "      cursor: pointer;\n",
              "      display: none;\n",
              "      fill: #1967D2;\n",
              "      height: 32px;\n",
              "      padding: 0 0 0 0;\n",
              "      width: 32px;\n",
              "    }\n",
              "\n",
              "    .colab-df-convert:hover {\n",
              "      background-color: #E2EBFA;\n",
              "      box-shadow: 0px 1px 2px rgba(60, 64, 67, 0.3), 0px 1px 3px 1px rgba(60, 64, 67, 0.15);\n",
              "      fill: #174EA6;\n",
              "    }\n",
              "\n",
              "    [theme=dark] .colab-df-convert {\n",
              "      background-color: #3B4455;\n",
              "      fill: #D2E3FC;\n",
              "    }\n",
              "\n",
              "    [theme=dark] .colab-df-convert:hover {\n",
              "      background-color: #434B5C;\n",
              "      box-shadow: 0px 1px 3px 1px rgba(0, 0, 0, 0.15);\n",
              "      filter: drop-shadow(0px 1px 2px rgba(0, 0, 0, 0.3));\n",
              "      fill: #FFFFFF;\n",
              "    }\n",
              "  </style>\n",
              "\n",
              "      <script>\n",
              "        const buttonEl =\n",
              "          document.querySelector('#df-324c36d5-10ac-48e1-93d8-5ffd801550d6 button.colab-df-convert');\n",
              "        buttonEl.style.display =\n",
              "          google.colab.kernel.accessAllowed ? 'block' : 'none';\n",
              "\n",
              "        async function convertToInteractive(key) {\n",
              "          const element = document.querySelector('#df-324c36d5-10ac-48e1-93d8-5ffd801550d6');\n",
              "          const dataTable =\n",
              "            await google.colab.kernel.invokeFunction('convertToInteractive',\n",
              "                                                     [key], {});\n",
              "          if (!dataTable) return;\n",
              "\n",
              "          const docLinkHtml = 'Like what you see? Visit the ' +\n",
              "            '<a target=\"_blank\" href=https://colab.research.google.com/notebooks/data_table.ipynb>data table notebook</a>'\n",
              "            + ' to learn more about interactive tables.';\n",
              "          element.innerHTML = '';\n",
              "          dataTable['output_type'] = 'display_data';\n",
              "          await google.colab.output.renderOutput(dataTable, element);\n",
              "          const docLink = document.createElement('div');\n",
              "          docLink.innerHTML = docLinkHtml;\n",
              "          element.appendChild(docLink);\n",
              "        }\n",
              "      </script>\n",
              "    </div>\n",
              "  </div>\n",
              "  "
            ],
            "text/plain": [
              "    DOCUMENT_ID  SENTENCE_ID  ... SENTENCE_END_POS  SCORE\n",
              "7     584207033      1910601  ...               31   10.0\n",
              "10    584199033      1909801  ...               31    9.0\n",
              "13    591377035      2116637  ...              252   10.0\n",
              "14    591377035      2116635  ...              131   10.0\n",
              "25     34211545       359794  ...               50   10.0\n",
              "\n",
              "[5 rows x 6 columns]"
            ]
          },
          "metadata": {},
          "execution_count": 5
        }
      ]
    },
    {
      "cell_type": "code",
      "source": [
        "df_validate.tail()"
      ],
      "metadata": {
        "colab": {
          "base_uri": "https://localhost:8080/",
          "height": 206
        },
        "id": "NwU2ZlRSTMH4",
        "outputId": "086fdaa3-7c49-4e8d-b41f-6bef0d83ca51"
      },
      "execution_count": 6,
      "outputs": [
        {
          "output_type": "execute_result",
          "data": {
            "text/html": [
              "\n",
              "  <div id=\"df-a9e5d16b-2ff2-4407-bf8a-e93001d2a216\">\n",
              "    <div class=\"colab-df-container\">\n",
              "      <div>\n",
              "<style scoped>\n",
              "    .dataframe tbody tr th:only-of-type {\n",
              "        vertical-align: middle;\n",
              "    }\n",
              "\n",
              "    .dataframe tbody tr th {\n",
              "        vertical-align: top;\n",
              "    }\n",
              "\n",
              "    .dataframe thead th {\n",
              "        text-align: right;\n",
              "    }\n",
              "</style>\n",
              "<table border=\"1\" class=\"dataframe\">\n",
              "  <thead>\n",
              "    <tr style=\"text-align: right;\">\n",
              "      <th></th>\n",
              "      <th>DOCUMENT_ID</th>\n",
              "      <th>SENTENCE_ID</th>\n",
              "      <th>SENTENCE</th>\n",
              "      <th>SENTENCE_START_POS</th>\n",
              "      <th>SENTENCE_END_POS</th>\n",
              "      <th>SCORE</th>\n",
              "    </tr>\n",
              "  </thead>\n",
              "  <tbody>\n",
              "    <tr>\n",
              "      <th>70650</th>\n",
              "      <td>689544034</td>\n",
              "      <td>3973218</td>\n",
              "      <td>Also many options to choose from to fit my bud...</td>\n",
              "      <td>28</td>\n",
              "      <td>78</td>\n",
              "      <td>10.0</td>\n",
              "    </tr>\n",
              "    <tr>\n",
              "      <th>70652</th>\n",
              "      <td>689568034</td>\n",
              "      <td>3972921</td>\n",
              "      <td>paying bills</td>\n",
              "      <td>0</td>\n",
              "      <td>12</td>\n",
              "      <td>10.0</td>\n",
              "    </tr>\n",
              "    <tr>\n",
              "      <th>70655</th>\n",
              "      <td>689550034</td>\n",
              "      <td>3973223</td>\n",
              "      <td>It was quick and easy process</td>\n",
              "      <td>0</td>\n",
              "      <td>29</td>\n",
              "      <td>10.0</td>\n",
              "    </tr>\n",
              "    <tr>\n",
              "      <th>70656</th>\n",
              "      <td>689559033</td>\n",
              "      <td>3973021</td>\n",
              "      <td>Best Egg helped me to consolidate my high inte...</td>\n",
              "      <td>40</td>\n",
              "      <td>136</td>\n",
              "      <td>10.0</td>\n",
              "    </tr>\n",
              "    <tr>\n",
              "      <th>70658</th>\n",
              "      <td>689559033</td>\n",
              "      <td>3973023</td>\n",
              "      <td>Having paid off those loans and now needing an...</td>\n",
              "      <td>188</td>\n",
              "      <td>300</td>\n",
              "      <td>10.0</td>\n",
              "    </tr>\n",
              "  </tbody>\n",
              "</table>\n",
              "</div>\n",
              "      <button class=\"colab-df-convert\" onclick=\"convertToInteractive('df-a9e5d16b-2ff2-4407-bf8a-e93001d2a216')\"\n",
              "              title=\"Convert this dataframe to an interactive table.\"\n",
              "              style=\"display:none;\">\n",
              "        \n",
              "  <svg xmlns=\"http://www.w3.org/2000/svg\" height=\"24px\"viewBox=\"0 0 24 24\"\n",
              "       width=\"24px\">\n",
              "    <path d=\"M0 0h24v24H0V0z\" fill=\"none\"/>\n",
              "    <path d=\"M18.56 5.44l.94 2.06.94-2.06 2.06-.94-2.06-.94-.94-2.06-.94 2.06-2.06.94zm-11 1L8.5 8.5l.94-2.06 2.06-.94-2.06-.94L8.5 2.5l-.94 2.06-2.06.94zm10 10l.94 2.06.94-2.06 2.06-.94-2.06-.94-.94-2.06-.94 2.06-2.06.94z\"/><path d=\"M17.41 7.96l-1.37-1.37c-.4-.4-.92-.59-1.43-.59-.52 0-1.04.2-1.43.59L10.3 9.45l-7.72 7.72c-.78.78-.78 2.05 0 2.83L4 21.41c.39.39.9.59 1.41.59.51 0 1.02-.2 1.41-.59l7.78-7.78 2.81-2.81c.8-.78.8-2.07 0-2.86zM5.41 20L4 18.59l7.72-7.72 1.47 1.35L5.41 20z\"/>\n",
              "  </svg>\n",
              "      </button>\n",
              "      \n",
              "  <style>\n",
              "    .colab-df-container {\n",
              "      display:flex;\n",
              "      flex-wrap:wrap;\n",
              "      gap: 12px;\n",
              "    }\n",
              "\n",
              "    .colab-df-convert {\n",
              "      background-color: #E8F0FE;\n",
              "      border: none;\n",
              "      border-radius: 50%;\n",
              "      cursor: pointer;\n",
              "      display: none;\n",
              "      fill: #1967D2;\n",
              "      height: 32px;\n",
              "      padding: 0 0 0 0;\n",
              "      width: 32px;\n",
              "    }\n",
              "\n",
              "    .colab-df-convert:hover {\n",
              "      background-color: #E2EBFA;\n",
              "      box-shadow: 0px 1px 2px rgba(60, 64, 67, 0.3), 0px 1px 3px 1px rgba(60, 64, 67, 0.15);\n",
              "      fill: #174EA6;\n",
              "    }\n",
              "\n",
              "    [theme=dark] .colab-df-convert {\n",
              "      background-color: #3B4455;\n",
              "      fill: #D2E3FC;\n",
              "    }\n",
              "\n",
              "    [theme=dark] .colab-df-convert:hover {\n",
              "      background-color: #434B5C;\n",
              "      box-shadow: 0px 1px 3px 1px rgba(0, 0, 0, 0.15);\n",
              "      filter: drop-shadow(0px 1px 2px rgba(0, 0, 0, 0.3));\n",
              "      fill: #FFFFFF;\n",
              "    }\n",
              "  </style>\n",
              "\n",
              "      <script>\n",
              "        const buttonEl =\n",
              "          document.querySelector('#df-a9e5d16b-2ff2-4407-bf8a-e93001d2a216 button.colab-df-convert');\n",
              "        buttonEl.style.display =\n",
              "          google.colab.kernel.accessAllowed ? 'block' : 'none';\n",
              "\n",
              "        async function convertToInteractive(key) {\n",
              "          const element = document.querySelector('#df-a9e5d16b-2ff2-4407-bf8a-e93001d2a216');\n",
              "          const dataTable =\n",
              "            await google.colab.kernel.invokeFunction('convertToInteractive',\n",
              "                                                     [key], {});\n",
              "          if (!dataTable) return;\n",
              "\n",
              "          const docLinkHtml = 'Like what you see? Visit the ' +\n",
              "            '<a target=\"_blank\" href=https://colab.research.google.com/notebooks/data_table.ipynb>data table notebook</a>'\n",
              "            + ' to learn more about interactive tables.';\n",
              "          element.innerHTML = '';\n",
              "          dataTable['output_type'] = 'display_data';\n",
              "          await google.colab.output.renderOutput(dataTable, element);\n",
              "          const docLink = document.createElement('div');\n",
              "          docLink.innerHTML = docLinkHtml;\n",
              "          element.appendChild(docLink);\n",
              "        }\n",
              "      </script>\n",
              "    </div>\n",
              "  </div>\n",
              "  "
            ],
            "text/plain": [
              "       DOCUMENT_ID  SENTENCE_ID  ... SENTENCE_END_POS  SCORE\n",
              "70650    689544034      3973218  ...               78   10.0\n",
              "70652    689568034      3972921  ...               12   10.0\n",
              "70655    689550034      3973223  ...               29   10.0\n",
              "70656    689559033      3973021  ...              136   10.0\n",
              "70658    689559033      3973023  ...              300   10.0\n",
              "\n",
              "[5 rows x 6 columns]"
            ]
          },
          "metadata": {},
          "execution_count": 6
        }
      ]
    },
    {
      "cell_type": "code",
      "source": [
        "df_train.shape"
      ],
      "metadata": {
        "colab": {
          "base_uri": "https://localhost:8080/"
        },
        "id": "yzzvAcVgTg3r",
        "outputId": "07ac9637-cd7a-4c37-d174-29498107d4ff"
      },
      "execution_count": 7,
      "outputs": [
        {
          "output_type": "execute_result",
          "data": {
            "text/plain": [
              "(56644, 6)"
            ]
          },
          "metadata": {},
          "execution_count": 7
        }
      ]
    },
    {
      "cell_type": "code",
      "source": [
        "df_validate.shape"
      ],
      "metadata": {
        "colab": {
          "base_uri": "https://localhost:8080/"
        },
        "id": "s9XWHGOITlW0",
        "outputId": "0c2c6e92-b9cf-4986-9d3b-b0a00b8d02ef"
      },
      "execution_count": 8,
      "outputs": [
        {
          "output_type": "execute_result",
          "data": {
            "text/plain": [
              "(14019, 6)"
            ]
          },
          "metadata": {},
          "execution_count": 8
        }
      ]
    },
    {
      "cell_type": "code",
      "source": [
        "df_train.info()"
      ],
      "metadata": {
        "colab": {
          "base_uri": "https://localhost:8080/"
        },
        "id": "OU3VVrPnT-FM",
        "outputId": "547ded5d-dd4c-482c-939d-5a882ace8949"
      },
      "execution_count": 9,
      "outputs": [
        {
          "output_type": "stream",
          "name": "stdout",
          "text": [
            "<class 'pandas.core.frame.DataFrame'>\n",
            "Int64Index: 56644 entries, 0 to 70662\n",
            "Data columns (total 6 columns):\n",
            " #   Column              Non-Null Count  Dtype  \n",
            "---  ------              --------------  -----  \n",
            " 0   DOCUMENT_ID         56644 non-null  int64  \n",
            " 1   SENTENCE_ID         56644 non-null  int64  \n",
            " 2   SENTENCE            56623 non-null  object \n",
            " 3   SENTENCE_START_POS  56644 non-null  int64  \n",
            " 4   SENTENCE_END_POS    56644 non-null  int64  \n",
            " 5   SCORE               56644 non-null  float64\n",
            "dtypes: float64(1), int64(4), object(1)\n",
            "memory usage: 3.0+ MB\n"
          ]
        }
      ]
    },
    {
      "cell_type": "code",
      "metadata": {
        "_uuid": "f84cbf8133b6e3769d9cb5c005cec743b132d5c9",
        "id": "qLAPh0ks4SkJ",
        "outputId": "17d12e04-6b84-47f8-dc00-8645758dd433",
        "colab": {
          "base_uri": "https://localhost:8080/",
          "height": 293
        }
      },
      "source": [
        "# Visualize SCORE distribution, total 11 scores, majority SCORE = 10\n",
        "df_train['SCORE'].value_counts().plot(kind = 'bar')"
      ],
      "execution_count": 10,
      "outputs": [
        {
          "output_type": "execute_result",
          "data": {
            "text/plain": [
              "<matplotlib.axes._subplots.AxesSubplot at 0x7fc852cd3c90>"
            ]
          },
          "metadata": {},
          "execution_count": 10
        },
        {
          "output_type": "display_data",
          "data": {
            "image/png": "[encoded data removed]",
            "text/plain": [
              "<Figure size 432x288 with 1 Axes>"
            ]
          },
          "metadata": {
            "needs_background": "light"
          }
        }
      ]
    },
    {
      "cell_type": "code",
      "source": [
        "df_validate['SCORE'].value_counts().plot(kind = 'bar')"
      ],
      "metadata": {
        "colab": {
          "base_uri": "https://localhost:8080/",
          "height": 293
        },
        "id": "vS5hd2MGVTE0",
        "outputId": "7278bb5e-9e12-44c1-98f0-480012a1c937"
      },
      "execution_count": 11,
      "outputs": [
        {
          "output_type": "execute_result",
          "data": {
            "text/plain": [
              "<matplotlib.axes._subplots.AxesSubplot at 0x7fc852d7ebd0>"
            ]
          },
          "metadata": {},
          "execution_count": 11
        },
        {
          "output_type": "display_data",
          "data": {
            "image/png": "[encoded data removed]",
            "text/plain": [
              "<Figure size 432x288 with 1 Axes>"
            ]
          },
          "metadata": {
            "needs_background": "light"
          }
        }
      ]
    },
    {
      "cell_type": "code",
      "source": [
        "df_train.isnull().sum()"
      ],
      "metadata": {
        "colab": {
          "base_uri": "https://localhost:8080/"
        },
        "id": "mg6_K0iEVivN",
        "outputId": "1af7d3a2-a432-4dfd-8b00-95d1c2c9c642"
      },
      "execution_count": 12,
      "outputs": [
        {
          "output_type": "execute_result",
          "data": {
            "text/plain": [
              "DOCUMENT_ID            0\n",
              "SENTENCE_ID            0\n",
              "SENTENCE              21\n",
              "SENTENCE_START_POS     0\n",
              "SENTENCE_END_POS       0\n",
              "SCORE                  0\n",
              "dtype: int64"
            ]
          },
          "metadata": {},
          "execution_count": 12
        }
      ]
    },
    {
      "cell_type": "code",
      "source": [
        "#Remove the missing data \n",
        "df_train = df_train.dropna()"
      ],
      "metadata": {
        "id": "ik6I8ZCUYe1v"
      },
      "execution_count": 13,
      "outputs": []
    },
    {
      "cell_type": "code",
      "source": [
        "df_train.isnull().sum()"
      ],
      "metadata": {
        "colab": {
          "base_uri": "https://localhost:8080/"
        },
        "id": "d0aSUIz5Y5gu",
        "outputId": "20d0dc6d-904c-42fe-89be-bc8dc70b1023"
      },
      "execution_count": 14,
      "outputs": [
        {
          "output_type": "execute_result",
          "data": {
            "text/plain": [
              "DOCUMENT_ID           0\n",
              "SENTENCE_ID           0\n",
              "SENTENCE              0\n",
              "SENTENCE_START_POS    0\n",
              "SENTENCE_END_POS      0\n",
              "SCORE                 0\n",
              "dtype: int64"
            ]
          },
          "metadata": {},
          "execution_count": 14
        }
      ]
    },
    {
      "cell_type": "code",
      "source": [
        "df_train.shape"
      ],
      "metadata": {
        "colab": {
          "base_uri": "https://localhost:8080/"
        },
        "id": "7BUDtlV9Z0Fa",
        "outputId": "ac3643ae-dd2a-44bd-b814-fba96e6d884b"
      },
      "execution_count": 15,
      "outputs": [
        {
          "output_type": "execute_result",
          "data": {
            "text/plain": [
              "(56623, 6)"
            ]
          },
          "metadata": {},
          "execution_count": 15
        }
      ]
    },
    {
      "cell_type": "code",
      "source": [
        "df_validate.isnull().sum()"
      ],
      "metadata": {
        "id": "PVNYFHVqY3QE",
        "colab": {
          "base_uri": "https://localhost:8080/"
        },
        "outputId": "3dbea1f9-e43c-4e4f-fa44-fd540abfe351"
      },
      "execution_count": 16,
      "outputs": [
        {
          "output_type": "execute_result",
          "data": {
            "text/plain": [
              "DOCUMENT_ID           0\n",
              "SENTENCE_ID           0\n",
              "SENTENCE              4\n",
              "SENTENCE_START_POS    0\n",
              "SENTENCE_END_POS      0\n",
              "SCORE                 1\n",
              "dtype: int64"
            ]
          },
          "metadata": {},
          "execution_count": 16
        }
      ]
    },
    {
      "cell_type": "code",
      "source": [
        "df_validate = df_validate.dropna()"
      ],
      "metadata": {
        "id": "yr7kg246ZRVx"
      },
      "execution_count": 17,
      "outputs": []
    },
    {
      "cell_type": "code",
      "source": [
        "df_validate.isnull().sum()"
      ],
      "metadata": {
        "colab": {
          "base_uri": "https://localhost:8080/"
        },
        "id": "QJuYi7WGZMFl",
        "outputId": "26eeb0a5-e32c-436d-edbc-bba8761762b8"
      },
      "execution_count": 18,
      "outputs": [
        {
          "output_type": "execute_result",
          "data": {
            "text/plain": [
              "DOCUMENT_ID           0\n",
              "SENTENCE_ID           0\n",
              "SENTENCE              0\n",
              "SENTENCE_START_POS    0\n",
              "SENTENCE_END_POS      0\n",
              "SCORE                 0\n",
              "dtype: int64"
            ]
          },
          "metadata": {},
          "execution_count": 18
        }
      ]
    },
    {
      "cell_type": "code",
      "source": [
        "df_validate.shape"
      ],
      "metadata": {
        "colab": {
          "base_uri": "https://localhost:8080/"
        },
        "id": "5d9kpERQZ-uk",
        "outputId": "b501e0bd-5e7c-4411-cd36-e5c6d841ee2c"
      },
      "execution_count": 19,
      "outputs": [
        {
          "output_type": "execute_result",
          "data": {
            "text/plain": [
              "(14014, 6)"
            ]
          },
          "metadata": {},
          "execution_count": 19
        }
      ]
    },
    {
      "cell_type": "markdown",
      "source": [
        "## Preprocess Sentences"
      ],
      "metadata": {
        "id": "t2nJo5klt1QO"
      }
    },
    {
      "cell_type": "code",
      "metadata": {
        "id": "nDqyyZ-7KiEA",
        "colab": {
          "base_uri": "https://localhost:8080/"
        },
        "outputId": "2f7278b0-94d3-4a22-9589-97bbd345c450"
      },
      "source": [
        "import nltk\n",
        "nltk.download('stopwords')\n",
        "nltk.download('wordnet')"
      ],
      "execution_count": 20,
      "outputs": [
        {
          "output_type": "stream",
          "name": "stdout",
          "text": [
            "[nltk_data] Downloading package stopwords to /root/nltk_data...\n",
            "[nltk_data]   Unzipping corpora/stopwords.zip.\n",
            "[nltk_data] Downloading package wordnet to /root/nltk_data...\n",
            "[nltk_data]   Unzipping corpora/wordnet.zip.\n"
          ]
        },
        {
          "output_type": "execute_result",
          "data": {
            "text/plain": [
              "True"
            ]
          },
          "metadata": {},
          "execution_count": 20
        }
      ]
    },
    {
      "cell_type": "code",
      "metadata": {
        "id": "WIOokTGkKiEC",
        "colab": {
          "base_uri": "https://localhost:8080/",
          "height": 36
        },
        "outputId": "eb47fb44-5fea-45ac-e4d2-c7e19f64bdd6"
      },
      "source": [
        "# Define preprocess function, remove stop words and punctuations etc.\n",
        "from nltk.stem.wordnet import WordNetLemmatizer\n",
        "from nltk.corpus import stopwords\n",
        "import string\n",
        "stop = set(stopwords.words('english'))\n",
        "punc = set(string.punctuation)\n",
        "lemma = WordNetLemmatizer()\n",
        "def clean_text(text):\n",
        "    text = text.lower()\n",
        "    wordList = text.split()\n",
        "    wordList = [\"\".join(x for x in word if (x==\"'\")|(x not in punc)) for word in wordList]\n",
        "    wordList = [word for word in wordList if word not in stop]\n",
        "    wordList = [lemma.lemmatize(word) for word in wordList]\n",
        "    return \" \".join(wordList)\n",
        "clean_text(\"I Thank you!\")"
      ],
      "execution_count": 21,
      "outputs": [
        {
          "output_type": "execute_result",
          "data": {
            "application/vnd.google.colaboratory.intrinsic+json": {
              "type": "string"
            },
            "text/plain": [
              "'thank'"
            ]
          },
          "metadata": {},
          "execution_count": 21
        }
      ]
    },
    {
      "cell_type": "code",
      "metadata": {
        "id": "c0a1jRZMKiEF"
      },
      "source": [
        "# Clean train dataset\n",
        "df_train[\"SENTENCE\"] = df_train[\"SENTENCE\"].astype(\"str\")\n",
        "df_train[\"clean_text\"] = df_train[\"SENTENCE\"].apply(clean_text)"
      ],
      "execution_count": 22,
      "outputs": []
    },
    {
      "cell_type": "code",
      "metadata": {
        "id": "g4jIR9bM26aF"
      },
      "source": [
        "# Clean validate dataset\n",
        "df_validate[\"SENTENCE\"] = df_validate[\"SENTENCE\"].astype(\"str\")\n",
        "df_validate[\"clean_text\"] = df_validate[\"SENTENCE\"].apply(clean_text)"
      ],
      "execution_count": 23,
      "outputs": []
    },
    {
      "cell_type": "code",
      "source": [
        "df_train.head()"
      ],
      "metadata": {
        "colab": {
          "base_uri": "https://localhost:8080/",
          "height": 206
        },
        "id": "oItULbW03Qon",
        "outputId": "53db1b6d-b3c8-4ad3-c1cf-8a845b008180"
      },
      "execution_count": 24,
      "outputs": [
        {
          "output_type": "execute_result",
          "data": {
            "text/html": [
              "\n",
              "  <div id=\"df-9c0c2cd7-35fc-40d1-a901-cf853ec71fe0\">\n",
              "    <div class=\"colab-df-container\">\n",
              "      <div>\n",
              "<style scoped>\n",
              "    .dataframe tbody tr th:only-of-type {\n",
              "        vertical-align: middle;\n",
              "    }\n",
              "\n",
              "    .dataframe tbody tr th {\n",
              "        vertical-align: top;\n",
              "    }\n",
              "\n",
              "    .dataframe thead th {\n",
              "        text-align: right;\n",
              "    }\n",
              "</style>\n",
              "<table border=\"1\" class=\"dataframe\">\n",
              "  <thead>\n",
              "    <tr style=\"text-align: right;\">\n",
              "      <th></th>\n",
              "      <th>DOCUMENT_ID</th>\n",
              "      <th>SENTENCE_ID</th>\n",
              "      <th>SENTENCE</th>\n",
              "      <th>SENTENCE_START_POS</th>\n",
              "      <th>SENTENCE_END_POS</th>\n",
              "      <th>SCORE</th>\n",
              "      <th>clean_text</th>\n",
              "    </tr>\n",
              "  </thead>\n",
              "  <tbody>\n",
              "    <tr>\n",
              "      <th>0</th>\n",
              "      <td>583306034</td>\n",
              "      <td>1888104</td>\n",
              "      <td>The whole process went smooth and I am thankfu...</td>\n",
              "      <td>109</td>\n",
              "      <td>165</td>\n",
              "      <td>10.0</td>\n",
              "      <td>whole process went smooth thankful</td>\n",
              "    </tr>\n",
              "    <tr>\n",
              "      <th>1</th>\n",
              "      <td>583306034</td>\n",
              "      <td>1888102</td>\n",
              "      <td>It was quick and easy to apply and got the app...</td>\n",
              "      <td>0</td>\n",
              "      <td>60</td>\n",
              "      <td>10.0</td>\n",
              "      <td>quick easy apply got approval quickly</td>\n",
              "    </tr>\n",
              "    <tr>\n",
              "      <th>2</th>\n",
              "      <td>584193040</td>\n",
              "      <td>1909902</td>\n",
              "      <td>service</td>\n",
              "      <td>0</td>\n",
              "      <td>7</td>\n",
              "      <td>10.0</td>\n",
              "      <td>service</td>\n",
              "    </tr>\n",
              "    <tr>\n",
              "      <th>3</th>\n",
              "      <td>584203035</td>\n",
              "      <td>1910310</td>\n",
              "      <td>Thanks!</td>\n",
              "      <td>198</td>\n",
              "      <td>205</td>\n",
              "      <td>10.0</td>\n",
              "      <td>thanks</td>\n",
              "    </tr>\n",
              "    <tr>\n",
              "      <th>4</th>\n",
              "      <td>584200037</td>\n",
              "      <td>1910006</td>\n",
              "      <td>Thank you!</td>\n",
              "      <td>58</td>\n",
              "      <td>68</td>\n",
              "      <td>10.0</td>\n",
              "      <td>thank</td>\n",
              "    </tr>\n",
              "  </tbody>\n",
              "</table>\n",
              "</div>\n",
              "      <button class=\"colab-df-convert\" onclick=\"convertToInteractive('df-9c0c2cd7-35fc-40d1-a901-cf853ec71fe0')\"\n",
              "              title=\"Convert this dataframe to an interactive table.\"\n",
              "              style=\"display:none;\">\n",
              "        \n",
              "  <svg xmlns=\"http://www.w3.org/2000/svg\" height=\"24px\"viewBox=\"0 0 24 24\"\n",
              "       width=\"24px\">\n",
              "    <path d=\"M0 0h24v24H0V0z\" fill=\"none\"/>\n",
              "    <path d=\"M18.56 5.44l.94 2.06.94-2.06 2.06-.94-2.06-.94-.94-2.06-.94 2.06-2.06.94zm-11 1L8.5 8.5l.94-2.06 2.06-.94-2.06-.94L8.5 2.5l-.94 2.06-2.06.94zm10 10l.94 2.06.94-2.06 2.06-.94-2.06-.94-.94-2.06-.94 2.06-2.06.94z\"/><path d=\"M17.41 7.96l-1.37-1.37c-.4-.4-.92-.59-1.43-.59-.52 0-1.04.2-1.43.59L10.3 9.45l-7.72 7.72c-.78.78-.78 2.05 0 2.83L4 21.41c.39.39.9.59 1.41.59.51 0 1.02-.2 1.41-.59l7.78-7.78 2.81-2.81c.8-.78.8-2.07 0-2.86zM5.41 20L4 18.59l7.72-7.72 1.47 1.35L5.41 20z\"/>\n",
              "  </svg>\n",
              "      </button>\n",
              "      \n",
              "  <style>\n",
              "    .colab-df-container {\n",
              "      display:flex;\n",
              "      flex-wrap:wrap;\n",
              "      gap: 12px;\n",
              "    }\n",
              "\n",
              "    .colab-df-convert {\n",
              "      background-color: #E8F0FE;\n",
              "      border: none;\n",
              "      border-radius: 50%;\n",
              "      cursor: pointer;\n",
              "      display: none;\n",
              "      fill: #1967D2;\n",
              "      height: 32px;\n",
              "      padding: 0 0 0 0;\n",
              "      width: 32px;\n",
              "    }\n",
              "\n",
              "    .colab-df-convert:hover {\n",
              "      background-color: #E2EBFA;\n",
              "      box-shadow: 0px 1px 2px rgba(60, 64, 67, 0.3), 0px 1px 3px 1px rgba(60, 64, 67, 0.15);\n",
              "      fill: #174EA6;\n",
              "    }\n",
              "\n",
              "    [theme=dark] .colab-df-convert {\n",
              "      background-color: #3B4455;\n",
              "      fill: #D2E3FC;\n",
              "    }\n",
              "\n",
              "    [theme=dark] .colab-df-convert:hover {\n",
              "      background-color: #434B5C;\n",
              "      box-shadow: 0px 1px 3px 1px rgba(0, 0, 0, 0.15);\n",
              "      filter: drop-shadow(0px 1px 2px rgba(0, 0, 0, 0.3));\n",
              "      fill: #FFFFFF;\n",
              "    }\n",
              "  </style>\n",
              "\n",
              "      <script>\n",
              "        const buttonEl =\n",
              "          document.querySelector('#df-9c0c2cd7-35fc-40d1-a901-cf853ec71fe0 button.colab-df-convert');\n",
              "        buttonEl.style.display =\n",
              "          google.colab.kernel.accessAllowed ? 'block' : 'none';\n",
              "\n",
              "        async function convertToInteractive(key) {\n",
              "          const element = document.querySelector('#df-9c0c2cd7-35fc-40d1-a901-cf853ec71fe0');\n",
              "          const dataTable =\n",
              "            await google.colab.kernel.invokeFunction('convertToInteractive',\n",
              "                                                     [key], {});\n",
              "          if (!dataTable) return;\n",
              "\n",
              "          const docLinkHtml = 'Like what you see? Visit the ' +\n",
              "            '<a target=\"_blank\" href=https://colab.research.google.com/notebooks/data_table.ipynb>data table notebook</a>'\n",
              "            + ' to learn more about interactive tables.';\n",
              "          element.innerHTML = '';\n",
              "          dataTable['output_type'] = 'display_data';\n",
              "          await google.colab.output.renderOutput(dataTable, element);\n",
              "          const docLink = document.createElement('div');\n",
              "          docLink.innerHTML = docLinkHtml;\n",
              "          element.appendChild(docLink);\n",
              "        }\n",
              "      </script>\n",
              "    </div>\n",
              "  </div>\n",
              "  "
            ],
            "text/plain": [
              "   DOCUMENT_ID  SENTENCE_ID  ... SCORE                             clean_text\n",
              "0    583306034      1888104  ...  10.0     whole process went smooth thankful\n",
              "1    583306034      1888102  ...  10.0  quick easy apply got approval quickly\n",
              "2    584193040      1909902  ...  10.0                                service\n",
              "3    584203035      1910310  ...  10.0                                 thanks\n",
              "4    584200037      1910006  ...  10.0                                  thank\n",
              "\n",
              "[5 rows x 7 columns]"
            ]
          },
          "metadata": {},
          "execution_count": 24
        }
      ]
    },
    {
      "cell_type": "code",
      "source": [
        "#save cleaned data to Google drive\n",
        "#df_train.to_csv(path_or_buf='/content/drive/My Drive/Data_Sets/NLP_train.csv')\n",
        "#df_validate.to_csv(path_or_buf='/content/drive/My Drive/Data_Sets/NLP_validate.csv')"
      ],
      "metadata": {
        "id": "UEWoojxUlfbY"
      },
      "execution_count": null,
      "outputs": []
    },
    {
      "cell_type": "code",
      "source": [
        "#upload the cleaned data\n",
        "#df_train = pd.read_csv('/content/drive/My Drive/Data_Sets/NLP_train.csv')\n",
        "#df_validation = pd.read_csv('/content/drive/My Drive/Data_Sets/NLP_validate.csv')"
      ],
      "metadata": {
        "id": "rfv4QmILCLrD"
      },
      "execution_count": null,
      "outputs": []
    },
    {
      "cell_type": "markdown",
      "source": [
        "## Random Forest Prediction\n",
        "### Using word2vec embedding Vectorizer\n",
        "### Training accuracy much improved than Neural Network LSTM/GRU; Validation accuracy is similar."
      ],
      "metadata": {
        "id": "M6TycvRft-9i"
      }
    },
    {
      "cell_type": "code",
      "metadata": {
        "id": "CoswBSWouwdw"
      },
      "source": [
        "xtrain = df_train['clean_text']\n",
        "ytrain = df_train['SCORE']\n",
        "xtest = df_validate['clean_text']\n",
        "ytest = df_validate['SCORE']"
      ],
      "execution_count": 25,
      "outputs": []
    },
    {
      "cell_type": "code",
      "source": [
        "!pip install -U zeugma "
      ],
      "metadata": {
        "colab": {
          "base_uri": "https://localhost:8080/"
        },
        "id": "XXhm-gbh8Vq9",
        "outputId": "c5dc54dd-b29e-4942-d1af-e8c980b26eb7"
      },
      "execution_count": 26,
      "outputs": [
        {
          "output_type": "stream",
          "name": "stdout",
          "text": [
            "Collecting zeugma\n",
            "  Downloading zeugma-0.49.tar.gz (9.9 kB)\n",
            "Requirement already satisfied: numpy>=1.13.3 in /usr/local/lib/python3.7/dist-packages (from zeugma) (1.19.5)\n",
            "Requirement already satisfied: Cython>=0.27.3 in /usr/local/lib/python3.7/dist-packages (from zeugma) (0.29.24)\n",
            "Requirement already satisfied: pandas>=0.20.3 in /usr/local/lib/python3.7/dist-packages (from zeugma) (1.1.5)\n",
            "Requirement already satisfied: gensim>=3.5.0 in /usr/local/lib/python3.7/dist-packages (from zeugma) (3.6.0)\n",
            "Requirement already satisfied: scikit_learn>=0.19.1 in /usr/local/lib/python3.7/dist-packages (from zeugma) (1.0.1)\n",
            "Requirement already satisfied: tensorflow>=1.5.0 in /usr/local/lib/python3.7/dist-packages (from zeugma) (2.7.0)\n",
            "Requirement already satisfied: keras>=2.1.3 in /usr/local/lib/python3.7/dist-packages (from zeugma) (2.7.0)\n",
            "Requirement already satisfied: scipy>=0.18.1 in /usr/local/lib/python3.7/dist-packages (from gensim>=3.5.0->zeugma) (1.4.1)\n",
            "Requirement already satisfied: smart-open>=1.2.1 in /usr/local/lib/python3.7/dist-packages (from gensim>=3.5.0->zeugma) (5.2.1)\n",
            "Requirement already satisfied: six>=1.5.0 in /usr/local/lib/python3.7/dist-packages (from gensim>=3.5.0->zeugma) (1.15.0)\n",
            "Requirement already satisfied: pytz>=2017.2 in /usr/local/lib/python3.7/dist-packages (from pandas>=0.20.3->zeugma) (2018.9)\n",
            "Requirement already satisfied: python-dateutil>=2.7.3 in /usr/local/lib/python3.7/dist-packages (from pandas>=0.20.3->zeugma) (2.8.2)\n",
            "Requirement already satisfied: joblib>=0.11 in /usr/local/lib/python3.7/dist-packages (from scikit_learn>=0.19.1->zeugma) (1.1.0)\n",
            "Requirement already satisfied: threadpoolctl>=2.0.0 in /usr/local/lib/python3.7/dist-packages (from scikit_learn>=0.19.1->zeugma) (3.0.0)\n",
            "Requirement already satisfied: tensorflow-estimator<2.8,~=2.7.0rc0 in /usr/local/lib/python3.7/dist-packages (from tensorflow>=1.5.0->zeugma) (2.7.0)\n",
            "Requirement already satisfied: opt-einsum>=2.3.2 in /usr/local/lib/python3.7/dist-packages (from tensorflow>=1.5.0->zeugma) (3.3.0)\n",
            "Requirement already satisfied: wheel<1.0,>=0.32.0 in /usr/local/lib/python3.7/dist-packages (from tensorflow>=1.5.0->zeugma) (0.37.0)\n",
            "Requirement already satisfied: libclang>=9.0.1 in /usr/local/lib/python3.7/dist-packages (from tensorflow>=1.5.0->zeugma) (12.0.0)\n",
            "Requirement already satisfied: gast<0.5.0,>=0.2.1 in /usr/local/lib/python3.7/dist-packages (from tensorflow>=1.5.0->zeugma) (0.4.0)\n",
            "Requirement already satisfied: google-pasta>=0.1.1 in /usr/local/lib/python3.7/dist-packages (from tensorflow>=1.5.0->zeugma) (0.2.0)\n",
            "Requirement already satisfied: typing-extensions>=3.6.6 in /usr/local/lib/python3.7/dist-packages (from tensorflow>=1.5.0->zeugma) (3.10.0.2)\n",
            "Requirement already satisfied: flatbuffers<3.0,>=1.12 in /usr/local/lib/python3.7/dist-packages (from tensorflow>=1.5.0->zeugma) (2.0)\n",
            "Requirement already satisfied: keras-preprocessing>=1.1.1 in /usr/local/lib/python3.7/dist-packages (from tensorflow>=1.5.0->zeugma) (1.1.2)\n",
            "Requirement already satisfied: h5py>=2.9.0 in /usr/local/lib/python3.7/dist-packages (from tensorflow>=1.5.0->zeugma) (3.1.0)\n",
            "Requirement already satisfied: termcolor>=1.1.0 in /usr/local/lib/python3.7/dist-packages (from tensorflow>=1.5.0->zeugma) (1.1.0)\n",
            "Requirement already satisfied: protobuf>=3.9.2 in /usr/local/lib/python3.7/dist-packages (from tensorflow>=1.5.0->zeugma) (3.17.3)\n",
            "Requirement already satisfied: wrapt>=1.11.0 in /usr/local/lib/python3.7/dist-packages (from tensorflow>=1.5.0->zeugma) (1.13.3)\n",
            "Requirement already satisfied: astunparse>=1.6.0 in /usr/local/lib/python3.7/dist-packages (from tensorflow>=1.5.0->zeugma) (1.6.3)\n",
            "Requirement already satisfied: tensorflow-io-gcs-filesystem>=0.21.0 in /usr/local/lib/python3.7/dist-packages (from tensorflow>=1.5.0->zeugma) (0.22.0)\n",
            "Requirement already satisfied: grpcio<2.0,>=1.24.3 in /usr/local/lib/python3.7/dist-packages (from tensorflow>=1.5.0->zeugma) (1.42.0)\n",
            "Requirement already satisfied: absl-py>=0.4.0 in /usr/local/lib/python3.7/dist-packages (from tensorflow>=1.5.0->zeugma) (0.12.0)\n",
            "Requirement already satisfied: tensorboard~=2.6 in /usr/local/lib/python3.7/dist-packages (from tensorflow>=1.5.0->zeugma) (2.7.0)\n",
            "Requirement already satisfied: cached-property in /usr/local/lib/python3.7/dist-packages (from h5py>=2.9.0->tensorflow>=1.5.0->zeugma) (1.5.2)\n",
            "Requirement already satisfied: requests<3,>=2.21.0 in /usr/local/lib/python3.7/dist-packages (from tensorboard~=2.6->tensorflow>=1.5.0->zeugma) (2.23.0)\n",
            "Requirement already satisfied: setuptools>=41.0.0 in /usr/local/lib/python3.7/dist-packages (from tensorboard~=2.6->tensorflow>=1.5.0->zeugma) (57.4.0)\n",
            "Requirement already satisfied: google-auth<3,>=1.6.3 in /usr/local/lib/python3.7/dist-packages (from tensorboard~=2.6->tensorflow>=1.5.0->zeugma) (1.35.0)\n",
            "Requirement already satisfied: tensorboard-plugin-wit>=1.6.0 in /usr/local/lib/python3.7/dist-packages (from tensorboard~=2.6->tensorflow>=1.5.0->zeugma) (1.8.0)\n",
            "Requirement already satisfied: tensorboard-data-server<0.7.0,>=0.6.0 in /usr/local/lib/python3.7/dist-packages (from tensorboard~=2.6->tensorflow>=1.5.0->zeugma) (0.6.1)\n",
            "Requirement already satisfied: markdown>=2.6.8 in /usr/local/lib/python3.7/dist-packages (from tensorboard~=2.6->tensorflow>=1.5.0->zeugma) (3.3.6)\n",
            "Requirement already satisfied: google-auth-oauthlib<0.5,>=0.4.1 in /usr/local/lib/python3.7/dist-packages (from tensorboard~=2.6->tensorflow>=1.5.0->zeugma) (0.4.6)\n",
            "Requirement already satisfied: werkzeug>=0.11.15 in /usr/local/lib/python3.7/dist-packages (from tensorboard~=2.6->tensorflow>=1.5.0->zeugma) (1.0.1)\n",
            "Requirement already satisfied: rsa<5,>=3.1.4 in /usr/local/lib/python3.7/dist-packages (from google-auth<3,>=1.6.3->tensorboard~=2.6->tensorflow>=1.5.0->zeugma) (4.8)\n",
            "Requirement already satisfied: cachetools<5.0,>=2.0.0 in /usr/local/lib/python3.7/dist-packages (from google-auth<3,>=1.6.3->tensorboard~=2.6->tensorflow>=1.5.0->zeugma) (4.2.4)\n",
            "Requirement already satisfied: pyasn1-modules>=0.2.1 in /usr/local/lib/python3.7/dist-packages (from google-auth<3,>=1.6.3->tensorboard~=2.6->tensorflow>=1.5.0->zeugma) (0.2.8)\n",
            "Requirement already satisfied: requests-oauthlib>=0.7.0 in /usr/local/lib/python3.7/dist-packages (from google-auth-oauthlib<0.5,>=0.4.1->tensorboard~=2.6->tensorflow>=1.5.0->zeugma) (1.3.0)\n",
            "Requirement already satisfied: importlib-metadata>=4.4 in /usr/local/lib/python3.7/dist-packages (from markdown>=2.6.8->tensorboard~=2.6->tensorflow>=1.5.0->zeugma) (4.8.2)\n",
            "Requirement already satisfied: zipp>=0.5 in /usr/local/lib/python3.7/dist-packages (from importlib-metadata>=4.4->markdown>=2.6.8->tensorboard~=2.6->tensorflow>=1.5.0->zeugma) (3.6.0)\n",
            "Requirement already satisfied: pyasn1<0.5.0,>=0.4.6 in /usr/local/lib/python3.7/dist-packages (from pyasn1-modules>=0.2.1->google-auth<3,>=1.6.3->tensorboard~=2.6->tensorflow>=1.5.0->zeugma) (0.4.8)\n",
            "Requirement already satisfied: certifi>=2017.4.17 in /usr/local/lib/python3.7/dist-packages (from requests<3,>=2.21.0->tensorboard~=2.6->tensorflow>=1.5.0->zeugma) (2021.10.8)\n",
            "Requirement already satisfied: idna<3,>=2.5 in /usr/local/lib/python3.7/dist-packages (from requests<3,>=2.21.0->tensorboard~=2.6->tensorflow>=1.5.0->zeugma) (2.10)\n",
            "Requirement already satisfied: urllib3!=1.25.0,!=1.25.1,<1.26,>=1.21.1 in /usr/local/lib/python3.7/dist-packages (from requests<3,>=2.21.0->tensorboard~=2.6->tensorflow>=1.5.0->zeugma) (1.24.3)\n",
            "Requirement already satisfied: chardet<4,>=3.0.2 in /usr/local/lib/python3.7/dist-packages (from requests<3,>=2.21.0->tensorboard~=2.6->tensorflow>=1.5.0->zeugma) (3.0.4)\n",
            "Requirement already satisfied: oauthlib>=3.0.0 in /usr/local/lib/python3.7/dist-packages (from requests-oauthlib>=0.7.0->google-auth-oauthlib<0.5,>=0.4.1->tensorboard~=2.6->tensorflow>=1.5.0->zeugma) (3.1.1)\n",
            "Building wheels for collected packages: zeugma\n",
            "  Building wheel for zeugma (setup.py) ... \u001b[?25l\u001b[?25hdone\n",
            "  Created wheel for zeugma: filename=zeugma-0.49-py3-none-any.whl size=8821 sha256=d98a38e3381e890ed98807f2200f2f3b37f0433e0cf17ca85a3b5b499f0b1305\n",
            "  Stored in directory: /root/.cache/pip/wheels/1d/47/5b/2a59a79706cc9340c72fd6a7bfc20e7ebcab849c88c38fdfa0\n",
            "Successfully built zeugma\n",
            "Installing collected packages: zeugma\n",
            "Successfully installed zeugma-0.49\n"
          ]
        }
      ]
    },
    {
      "cell_type": "code",
      "source": [
        "from zeugma.embeddings import EmbeddingTransformer"
      ],
      "metadata": {
        "id": "7QOS8ntR8V5y"
      },
      "execution_count": 28,
      "outputs": []
    },
    {
      "cell_type": "markdown",
      "source": [
        "## Available models are fasttext-wiki-news-subwords-300, conceptnet-numberbatch-17-06-300, word2vec-ruscorpora-300, word2vec-google-news-300, glove-wiki-gigaword-50, glove-wiki-gigaword-100, glove-wiki-gigaword-200, glove-wiki-gigaword-300, glove-twitter-25, glove-twitter-50, glove-twitter-100, glove-twitter-200, __testing_word2vec-matrix-synopsis'"
      ],
      "metadata": {
        "id": "3qnWifvrF0tp"
      }
    },
    {
      "cell_type": "code",
      "source": [
        "#from gensim.models.word2vec import Word2Vec\n",
        "#import gensim.downloader as api"
      ],
      "metadata": {
        "id": "SSq2nG-uIBgj"
      },
      "execution_count": 30,
      "outputs": []
    },
    {
      "cell_type": "code",
      "source": [
        "from gensim.models.word2vec import Word2Vec\n",
        "#model = Word2Vec(corpus)"
      ],
      "metadata": {
        "id": "4eZMnV2pZqtJ"
      },
      "execution_count": 38,
      "outputs": []
    },
    {
      "cell_type": "code",
      "source": [
        "word2vec = EmbeddingTransformer('Word2vec')"
      ],
      "metadata": {
        "colab": {
          "base_uri": "https://localhost:8080/"
        },
        "id": "_45UrkqRbzae",
        "outputId": "66572e2b-c9a4-4802-bd3e-8e2a6acba6b8"
      },
      "execution_count": 40,
      "outputs": [
        {
          "output_type": "stream",
          "name": "stdout",
          "text": [
            "[==================================================] 100.0% 1662.8/1662.8MB downloaded\n"
          ]
        }
      ]
    },
    {
      "cell_type": "code",
      "source": [
        "# download the model and return as object ready for use\n",
        "#glove_twitter_50 = api.load(\"glove-twitter-50\")"
      ],
      "metadata": {
        "id": "EXB_tfN4H-EK"
      },
      "execution_count": null,
      "outputs": []
    },
    {
      "cell_type": "code",
      "source": [
        "#glove = EmbeddingTransformer('glove')\n",
        "#glove = EmbeddingTransformer('glove_twitter_50')"
      ],
      "metadata": {
        "id": "OghqyMMS80N8"
      },
      "execution_count": null,
      "outputs": []
    },
    {
      "cell_type": "code",
      "source": [
        "xtrain = word2vec.transform(xtrain)"
      ],
      "metadata": {
        "id": "LzFIt6neI-9a"
      },
      "execution_count": 41,
      "outputs": []
    },
    {
      "cell_type": "code",
      "source": [
        "xtest = word2vec.transform(xtest)"
      ],
      "metadata": {
        "id": "s-cism22Jd-8"
      },
      "execution_count": 42,
      "outputs": []
    },
    {
      "cell_type": "code",
      "metadata": {
        "colab": {
          "base_uri": "https://localhost:8080/"
        },
        "outputId": "45d0b345-9ded-44a5-eef2-75e0e968e0e2",
        "id": "1P9ybRYDJlfp"
      },
      "source": [
        "from sklearn.ensemble import RandomForestClassifier\n",
        "\n",
        "rf=RandomForestClassifier(n_estimators=50)\n",
        "\n",
        "rf.fit(xtrain,ytrain)"
      ],
      "execution_count": 43,
      "outputs": [
        {
          "output_type": "execute_result",
          "data": {
            "text/plain": [
              "RandomForestClassifier(n_estimators=50)"
            ]
          },
          "metadata": {},
          "execution_count": 43
        }
      ]
    },
    {
      "cell_type": "markdown",
      "source": [
        "### Training Classification_report, Accuracy, "
      ],
      "metadata": {
        "id": "oHTBdEwUxARu"
      }
    },
    {
      "cell_type": "code",
      "metadata": {
        "colab": {
          "base_uri": "https://localhost:8080/"
        },
        "id": "v2YVPQ2Y-l9Z",
        "outputId": "82cb35ff-15d5-4a25-b4e1-3459ba89a0f5"
      },
      "source": [
        "from sklearn.metrics import classification_report, confusion_matrix, accuracy_score\n",
        "\n",
        "ytrain_pred=rf.predict(xtrain)\n",
        "\n",
        "print(classification_report(ytrain,ytrain_pred))\n",
        "print(accuracy_score(ytrain, ytrain_pred))"
      ],
      "execution_count": 44,
      "outputs": [
        {
          "output_type": "stream",
          "name": "stdout",
          "text": [
            "              precision    recall  f1-score   support\n",
            "\n",
            "         0.0       0.97      0.91      0.94       227\n",
            "         1.0       0.96      0.90      0.93        83\n",
            "         2.0       1.00      0.82      0.90        79\n",
            "         3.0       0.97      0.89      0.93       127\n",
            "         4.0       0.97      0.91      0.94       192\n",
            "         5.0       0.96      0.84      0.90       516\n",
            "         6.0       0.96      0.80      0.88       433\n",
            "         7.0       0.93      0.71      0.80      1297\n",
            "         8.0       0.92      0.62      0.74      3625\n",
            "         9.0       0.96      0.55      0.70      6212\n",
            "        10.0       0.91      1.00      0.95     43832\n",
            "\n",
            "    accuracy                           0.91     56623\n",
            "   macro avg       0.96      0.81      0.87     56623\n",
            "weighted avg       0.91      0.91      0.90     56623\n",
            "\n",
            "0.9121381770658566\n"
          ]
        }
      ]
    },
    {
      "cell_type": "code",
      "source": [
        "cm1 = (confusion_matrix(ytrain,ytrain_pred))\n",
        "print(cm1)"
      ],
      "metadata": {
        "colab": {
          "base_uri": "https://localhost:8080/"
        },
        "id": "IrnTyOB70leo",
        "outputId": "567f6509-12e4-4db8-9c4a-3b8cb5188b2d"
      },
      "execution_count": 46,
      "outputs": [
        {
          "output_type": "stream",
          "name": "stdout",
          "text": [
            "[[  207     0     0     0     0     0     1     2     8     0     9]\n",
            " [    0    75     0     1     0     0     0     0     1     1     5]\n",
            " [    0     1    65     1     1     0     0     0     4     2     5]\n",
            " [    2     1     0   113     0     0     0     0     6     0     5]\n",
            " [    0     0     0     0   174     0     0     1     6     1    10]\n",
            " [    2     0     0     0     1   433     2     5    31     3    39]\n",
            " [    1     0     0     1     1     1   348     4    20     4    53]\n",
            " [    1     0     0     0     1     6     2   918    51     8   310]\n",
            " [    0     0     0     0     0     3     3    23  2255    23  1318]\n",
            " [    0     1     0     0     0     4     1    13    32  3425  2736]\n",
            " [    0     0     0     0     1     3     4    22    49   118 43635]]\n"
          ]
        }
      ]
    },
    {
      "cell_type": "markdown",
      "source": [
        "### Validation Classification Report, Accuracy"
      ],
      "metadata": {
        "id": "kPF7wFgv60wg"
      }
    },
    {
      "cell_type": "code",
      "metadata": {
        "colab": {
          "base_uri": "https://localhost:8080/"
        },
        "id": "YQJzVSl0-tXv",
        "outputId": "dbcb032e-142a-4879-a35b-8ba290749903"
      },
      "source": [
        "ypred=rf.predict(xtest)\n",
        "print(classification_report(ytest,ypred))\n",
        "print(accuracy_score(ytest, ypred))"
      ],
      "execution_count": 47,
      "outputs": [
        {
          "output_type": "stream",
          "name": "stdout",
          "text": [
            "              precision    recall  f1-score   support\n",
            "\n",
            "         0.0       0.00      0.00      0.00        35\n",
            "         1.0       0.00      0.00      0.00        17\n",
            "         2.0       0.00      0.00      0.00        20\n",
            "         3.0       0.00      0.00      0.00        26\n",
            "         4.0       0.00      0.00      0.00        46\n",
            "         5.0       0.14      0.01      0.02       111\n",
            "         6.0       0.00      0.00      0.00        97\n",
            "         7.0       0.28      0.04      0.06       332\n",
            "         8.0       0.25      0.04      0.07       904\n",
            "         9.0       0.19      0.02      0.04      1562\n",
            "        10.0       0.78      0.98      0.87     10864\n",
            "\n",
            "    accuracy                           0.77     14014\n",
            "   macro avg       0.15      0.10      0.10     14014\n",
            "weighted avg       0.65      0.77      0.69     14014\n",
            "\n",
            "0.7684458398744113\n"
          ]
        }
      ]
    },
    {
      "cell_type": "code",
      "source": [
        "cm = confusion_matrix(ytest,ypred)\n",
        "print(cm)"
      ],
      "metadata": {
        "colab": {
          "base_uri": "https://localhost:8080/"
        },
        "id": "hiWU54lK1mDa",
        "outputId": "3835f0d6-4c10-4177-e5c5-d4a6173288f9"
      },
      "execution_count": 48,
      "outputs": [
        {
          "output_type": "stream",
          "name": "stdout",
          "text": [
            "[[    0     0     0     0     0     0     0     0     8     0    27]\n",
            " [    0     0     0     0     0     0     0     0     2     0    15]\n",
            " [    0     0     0     0     0     0     0     0     1     0    19]\n",
            " [    0     0     0     0     1     0     0     0     1     0    24]\n",
            " [    0     0     0     0     0     0     0     0     0     0    46]\n",
            " [    0     0     0     0     1     1     1     1    12     0    95]\n",
            " [    2     0     0     0     0     0     0     4    16     2    73]\n",
            " [    1     0     0     0     0     1     0    12    14     1   303]\n",
            " [    0     0     0     1     0     1     1     9    37    20   835]\n",
            " [    0     1     0     0     0     2     0     4    13    31  1511]\n",
            " [    0     1     1     0     0     2     2    13    46   111 10688]]\n"
          ]
        }
      ]
    },
    {
      "cell_type": "code",
      "source": [
        ""
      ],
      "metadata": {
        "id": "OpaTQPtr67Pd"
      },
      "execution_count": null,
      "outputs": []
    },
    {
      "cell_type": "code",
      "source": [
        ""
      ],
      "metadata": {
        "id": "kLL5wFkH8iXp"
      },
      "execution_count": null,
      "outputs": []
    },
    {
      "cell_type": "markdown",
      "source": [
        "## Classify SCOREs to 3 Classes\n",
        "### Not improve the performance"
      ],
      "metadata": {
        "id": "cGKXF1Xh8vcI"
      }
    },
    {
      "cell_type": "code",
      "source": [
        "#upload the cleaned data\n",
        "import pandas as pd\n",
        "df_train = pd.read_csv('/content/drive/My Drive/Data_Sets/NLP_train.csv')\n",
        "df_validate = pd.read_csv('/content/drive/My Drive/Data_Sets/NLP_validate.csv')"
      ],
      "metadata": {
        "id": "V1-Ahzqu8uO4"
      },
      "execution_count": 3,
      "outputs": []
    },
    {
      "cell_type": "code",
      "source": [
        "df_train['class'] = df_train['SCORE'].apply(lambda x: 0.0 if x<9.0 else(1.0 if x==9.0 else 2.0))\n",
        "df_validate['class'] = df_train['SCORE'].apply(lambda x: 0.0 if x<9.0 else(1.0 if x==9.0 else 2.0))"
      ],
      "metadata": {
        "id": "YdnND7dI8ieS"
      },
      "execution_count": 13,
      "outputs": []
    },
    {
      "cell_type": "code",
      "source": [
        "df_train.head()"
      ],
      "metadata": {
        "colab": {
          "base_uri": "https://localhost:8080/",
          "height": 250
        },
        "id": "AKdZ4wh6_1oQ",
        "outputId": "62e74d5c-bb3b-49e1-e2fc-7614eff51a38"
      },
      "execution_count": 14,
      "outputs": [
        {
          "output_type": "execute_result",
          "data": {
            "text/html": [
              "\n",
              "  <div id=\"df-f2377bf3-383a-4e08-926a-c9301acb5bea\">\n",
              "    <div class=\"colab-df-container\">\n",
              "      <div>\n",
              "<style scoped>\n",
              "    .dataframe tbody tr th:only-of-type {\n",
              "        vertical-align: middle;\n",
              "    }\n",
              "\n",
              "    .dataframe tbody tr th {\n",
              "        vertical-align: top;\n",
              "    }\n",
              "\n",
              "    .dataframe thead th {\n",
              "        text-align: right;\n",
              "    }\n",
              "</style>\n",
              "<table border=\"1\" class=\"dataframe\">\n",
              "  <thead>\n",
              "    <tr style=\"text-align: right;\">\n",
              "      <th></th>\n",
              "      <th>Unnamed: 0</th>\n",
              "      <th>DOCUMENT_ID</th>\n",
              "      <th>SENTENCE_ID</th>\n",
              "      <th>SENTENCE</th>\n",
              "      <th>SENTENCE_START_POS</th>\n",
              "      <th>SENTENCE_END_POS</th>\n",
              "      <th>SCORE</th>\n",
              "      <th>clean_text</th>\n",
              "      <th>class</th>\n",
              "    </tr>\n",
              "  </thead>\n",
              "  <tbody>\n",
              "    <tr>\n",
              "      <th>0</th>\n",
              "      <td>0</td>\n",
              "      <td>583306034</td>\n",
              "      <td>1888104</td>\n",
              "      <td>The whole process went smooth and I am thankfu...</td>\n",
              "      <td>109</td>\n",
              "      <td>165</td>\n",
              "      <td>10.0</td>\n",
              "      <td>whole process went smooth thankful</td>\n",
              "      <td>2.0</td>\n",
              "    </tr>\n",
              "    <tr>\n",
              "      <th>1</th>\n",
              "      <td>1</td>\n",
              "      <td>583306034</td>\n",
              "      <td>1888102</td>\n",
              "      <td>It was quick and easy to apply and got the app...</td>\n",
              "      <td>0</td>\n",
              "      <td>60</td>\n",
              "      <td>10.0</td>\n",
              "      <td>quick easy apply got approval quickly</td>\n",
              "      <td>2.0</td>\n",
              "    </tr>\n",
              "    <tr>\n",
              "      <th>2</th>\n",
              "      <td>2</td>\n",
              "      <td>584193040</td>\n",
              "      <td>1909902</td>\n",
              "      <td>service</td>\n",
              "      <td>0</td>\n",
              "      <td>7</td>\n",
              "      <td>10.0</td>\n",
              "      <td>service</td>\n",
              "      <td>2.0</td>\n",
              "    </tr>\n",
              "    <tr>\n",
              "      <th>3</th>\n",
              "      <td>3</td>\n",
              "      <td>584203035</td>\n",
              "      <td>1910310</td>\n",
              "      <td>Thanks!</td>\n",
              "      <td>198</td>\n",
              "      <td>205</td>\n",
              "      <td>10.0</td>\n",
              "      <td>thanks</td>\n",
              "      <td>2.0</td>\n",
              "    </tr>\n",
              "    <tr>\n",
              "      <th>4</th>\n",
              "      <td>4</td>\n",
              "      <td>584200037</td>\n",
              "      <td>1910006</td>\n",
              "      <td>Thank you!</td>\n",
              "      <td>58</td>\n",
              "      <td>68</td>\n",
              "      <td>10.0</td>\n",
              "      <td>thank</td>\n",
              "      <td>2.0</td>\n",
              "    </tr>\n",
              "  </tbody>\n",
              "</table>\n",
              "</div>\n",
              "      <button class=\"colab-df-convert\" onclick=\"convertToInteractive('df-f2377bf3-383a-4e08-926a-c9301acb5bea')\"\n",
              "              title=\"Convert this dataframe to an interactive table.\"\n",
              "              style=\"display:none;\">\n",
              "        \n",
              "  <svg xmlns=\"http://www.w3.org/2000/svg\" height=\"24px\"viewBox=\"0 0 24 24\"\n",
              "       width=\"24px\">\n",
              "    <path d=\"M0 0h24v24H0V0z\" fill=\"none\"/>\n",
              "    <path d=\"M18.56 5.44l.94 2.06.94-2.06 2.06-.94-2.06-.94-.94-2.06-.94 2.06-2.06.94zm-11 1L8.5 8.5l.94-2.06 2.06-.94-2.06-.94L8.5 2.5l-.94 2.06-2.06.94zm10 10l.94 2.06.94-2.06 2.06-.94-2.06-.94-.94-2.06-.94 2.06-2.06.94z\"/><path d=\"M17.41 7.96l-1.37-1.37c-.4-.4-.92-.59-1.43-.59-.52 0-1.04.2-1.43.59L10.3 9.45l-7.72 7.72c-.78.78-.78 2.05 0 2.83L4 21.41c.39.39.9.59 1.41.59.51 0 1.02-.2 1.41-.59l7.78-7.78 2.81-2.81c.8-.78.8-2.07 0-2.86zM5.41 20L4 18.59l7.72-7.72 1.47 1.35L5.41 20z\"/>\n",
              "  </svg>\n",
              "      </button>\n",
              "      \n",
              "  <style>\n",
              "    .colab-df-container {\n",
              "      display:flex;\n",
              "      flex-wrap:wrap;\n",
              "      gap: 12px;\n",
              "    }\n",
              "\n",
              "    .colab-df-convert {\n",
              "      background-color: #E8F0FE;\n",
              "      border: none;\n",
              "      border-radius: 50%;\n",
              "      cursor: pointer;\n",
              "      display: none;\n",
              "      fill: #1967D2;\n",
              "      height: 32px;\n",
              "      padding: 0 0 0 0;\n",
              "      width: 32px;\n",
              "    }\n",
              "\n",
              "    .colab-df-convert:hover {\n",
              "      background-color: #E2EBFA;\n",
              "      box-shadow: 0px 1px 2px rgba(60, 64, 67, 0.3), 0px 1px 3px 1px rgba(60, 64, 67, 0.15);\n",
              "      fill: #174EA6;\n",
              "    }\n",
              "\n",
              "    [theme=dark] .colab-df-convert {\n",
              "      background-color: #3B4455;\n",
              "      fill: #D2E3FC;\n",
              "    }\n",
              "\n",
              "    [theme=dark] .colab-df-convert:hover {\n",
              "      background-color: #434B5C;\n",
              "      box-shadow: 0px 1px 3px 1px rgba(0, 0, 0, 0.15);\n",
              "      filter: drop-shadow(0px 1px 2px rgba(0, 0, 0, 0.3));\n",
              "      fill: #FFFFFF;\n",
              "    }\n",
              "  </style>\n",
              "\n",
              "      <script>\n",
              "        const buttonEl =\n",
              "          document.querySelector('#df-f2377bf3-383a-4e08-926a-c9301acb5bea button.colab-df-convert');\n",
              "        buttonEl.style.display =\n",
              "          google.colab.kernel.accessAllowed ? 'block' : 'none';\n",
              "\n",
              "        async function convertToInteractive(key) {\n",
              "          const element = document.querySelector('#df-f2377bf3-383a-4e08-926a-c9301acb5bea');\n",
              "          const dataTable =\n",
              "            await google.colab.kernel.invokeFunction('convertToInteractive',\n",
              "                                                     [key], {});\n",
              "          if (!dataTable) return;\n",
              "\n",
              "          const docLinkHtml = 'Like what you see? Visit the ' +\n",
              "            '<a target=\"_blank\" href=https://colab.research.google.com/notebooks/data_table.ipynb>data table notebook</a>'\n",
              "            + ' to learn more about interactive tables.';\n",
              "          element.innerHTML = '';\n",
              "          dataTable['output_type'] = 'display_data';\n",
              "          await google.colab.output.renderOutput(dataTable, element);\n",
              "          const docLink = document.createElement('div');\n",
              "          docLink.innerHTML = docLinkHtml;\n",
              "          element.appendChild(docLink);\n",
              "        }\n",
              "      </script>\n",
              "    </div>\n",
              "  </div>\n",
              "  "
            ],
            "text/plain": [
              "   Unnamed: 0  DOCUMENT_ID  ...                             clean_text class\n",
              "0           0    583306034  ...     whole process went smooth thankful   2.0\n",
              "1           1    583306034  ...  quick easy apply got approval quickly   2.0\n",
              "2           2    584193040  ...                                service   2.0\n",
              "3           3    584203035  ...                                 thanks   2.0\n",
              "4           4    584200037  ...                                  thank   2.0\n",
              "\n",
              "[5 rows x 9 columns]"
            ]
          },
          "metadata": {},
          "execution_count": 14
        }
      ]
    },
    {
      "cell_type": "code",
      "source": [
        "df_train['class'].value_counts()"
      ],
      "metadata": {
        "colab": {
          "base_uri": "https://localhost:8080/"
        },
        "id": "FFrBcoNhDPUZ",
        "outputId": "c93ce430-50ba-4b5e-994b-d7c5b6299519"
      },
      "execution_count": 15,
      "outputs": [
        {
          "output_type": "execute_result",
          "data": {
            "text/plain": [
              "2.0    43832\n",
              "0.0     6579\n",
              "1.0     6212\n",
              "Name: class, dtype: int64"
            ]
          },
          "metadata": {},
          "execution_count": 15
        }
      ]
    },
    {
      "cell_type": "code",
      "source": [
        "df_validate['class'].value_counts()"
      ],
      "metadata": {
        "colab": {
          "base_uri": "https://localhost:8080/"
        },
        "id": "popJkBjMDmyf",
        "outputId": "d881fba8-e2c2-454c-dd8c-a067e9c7fcbc"
      },
      "execution_count": 16,
      "outputs": [
        {
          "output_type": "execute_result",
          "data": {
            "text/plain": [
              "2.0    10693\n",
              "0.0     1769\n",
              "1.0     1552\n",
              "Name: class, dtype: int64"
            ]
          },
          "metadata": {},
          "execution_count": 16
        }
      ]
    },
    {
      "cell_type": "code",
      "source": [
        "df_train.isnull().sum()"
      ],
      "metadata": {
        "colab": {
          "base_uri": "https://localhost:8080/"
        },
        "id": "ihqF_xiWFueW",
        "outputId": "377e3d62-0852-46d2-f2b8-564d88105be6"
      },
      "execution_count": 21,
      "outputs": [
        {
          "output_type": "execute_result",
          "data": {
            "text/plain": [
              "Unnamed: 0             0\n",
              "DOCUMENT_ID            0\n",
              "SENTENCE_ID            0\n",
              "SENTENCE               0\n",
              "SENTENCE_START_POS     0\n",
              "SENTENCE_END_POS       0\n",
              "SCORE                  0\n",
              "clean_text            85\n",
              "class                  0\n",
              "dtype: int64"
            ]
          },
          "metadata": {},
          "execution_count": 21
        }
      ]
    },
    {
      "cell_type": "code",
      "source": [
        "df_train = df_train.dropna()"
      ],
      "metadata": {
        "id": "KDJPD7_fGCtk"
      },
      "execution_count": 22,
      "outputs": []
    },
    {
      "cell_type": "code",
      "source": [
        "df_validate.isnull().sum()"
      ],
      "metadata": {
        "colab": {
          "base_uri": "https://localhost:8080/"
        },
        "id": "zBjtnPbbGGYn",
        "outputId": "a41f987a-74ec-41ae-dab0-17be99bd7d9b"
      },
      "execution_count": 23,
      "outputs": [
        {
          "output_type": "execute_result",
          "data": {
            "text/plain": [
              "Unnamed: 0             0\n",
              "DOCUMENT_ID            0\n",
              "SENTENCE_ID            0\n",
              "SENTENCE               0\n",
              "SENTENCE_START_POS     0\n",
              "SENTENCE_END_POS       0\n",
              "SCORE                  0\n",
              "clean_text            25\n",
              "class                  0\n",
              "dtype: int64"
            ]
          },
          "metadata": {},
          "execution_count": 23
        }
      ]
    },
    {
      "cell_type": "code",
      "source": [
        "df_validate = df_validate.dropna()"
      ],
      "metadata": {
        "id": "HI_hCX9RGP0o"
      },
      "execution_count": 24,
      "outputs": []
    },
    {
      "cell_type": "code",
      "metadata": {
        "id": "pjZIPw9BAeIT"
      },
      "source": [
        "xtrain = df_train['clean_text']\n",
        "ytrain = df_train['class']\n",
        "xtest = df_validate['clean_text']\n",
        "ytest = df_validate['class']"
      ],
      "execution_count": 25,
      "outputs": []
    },
    {
      "cell_type": "code",
      "metadata": {
        "id": "NYwdPVBxBzf4"
      },
      "source": [
        "from sklearn.feature_extraction.text import TfidfVectorizer\n",
        "from sklearn.feature_selection import SelectKBest, chi2,f_classif, mutual_info_classif"
      ],
      "execution_count": 18,
      "outputs": []
    },
    {
      "cell_type": "code",
      "source": [
        "vectorizer = TfidfVectorizer(min_df=3,analyzer='word',max_features=3000)\n",
        "xtrain_vectorized = vectorizer.fit_transform(xtrain)\n",
        "xtest_vectorized=vectorizer.transform(xtest)"
      ],
      "metadata": {
        "id": "i1DI6BE3zKwc"
      },
      "execution_count": 26,
      "outputs": []
    },
    {
      "cell_type": "code",
      "metadata": {
        "colab": {
          "base_uri": "https://localhost:8080/"
        },
        "id": "F9RXek3896Eq",
        "outputId": "ecbf26a8-f93a-4fc3-df19-d0ee03e28177"
      },
      "source": [
        "from sklearn.ensemble import RandomForestClassifier\n",
        "\n",
        "rf=RandomForestClassifier(n_estimators=50)\n",
        "\n",
        "rf.fit(xtrain_vectorized,ytrain)"
      ],
      "execution_count": 27,
      "outputs": [
        {
          "output_type": "execute_result",
          "data": {
            "text/plain": [
              "RandomForestClassifier(n_estimators=50)"
            ]
          },
          "metadata": {},
          "execution_count": 27
        }
      ]
    },
    {
      "cell_type": "code",
      "metadata": {
        "colab": {
          "base_uri": "https://localhost:8080/"
        },
        "outputId": "2a5a8023-d2f6-4a43-da8e-257a0426262b",
        "id": "BdVJvxCHCeQN"
      },
      "source": [
        "from sklearn.metrics import classification_report, confusion_matrix, accuracy_score\n",
        "\n",
        "ytrain_pred=rf.predict(xtrain_vectorized)\n",
        "\n",
        "print(classification_report(ytrain,ytrain_pred))\n",
        "print(accuracy_score(ytrain, ytrain_pred))"
      ],
      "execution_count": 28,
      "outputs": [
        {
          "output_type": "stream",
          "name": "stdout",
          "text": [
            "              precision    recall  f1-score   support\n",
            "\n",
            "         0.0       0.96      0.73      0.83      6564\n",
            "         1.0       0.96      0.54      0.69      6204\n",
            "         2.0       0.91      1.00      0.95     43770\n",
            "\n",
            "    accuracy                           0.91     56538\n",
            "   macro avg       0.94      0.75      0.82     56538\n",
            "weighted avg       0.92      0.91      0.91     56538\n",
            "\n",
            "0.9139870529555343\n"
          ]
        }
      ]
    },
    {
      "cell_type": "code",
      "source": [
        "cm1 = (confusion_matrix(ytrain,ytrain_pred))\n",
        "print(cm1)"
      ],
      "metadata": {
        "colab": {
          "base_uri": "https://localhost:8080/"
        },
        "outputId": "18e81605-fbf7-4ce2-d8b1-6111c403b065",
        "id": "GNaTiiy7CkcB"
      },
      "execution_count": 29,
      "outputs": [
        {
          "output_type": "stream",
          "name": "stdout",
          "text": [
            "[[ 4779    34  1751]\n",
            " [   64  3342  2798]\n",
            " [  113   103 43554]]\n"
          ]
        }
      ]
    },
    {
      "cell_type": "code",
      "metadata": {
        "colab": {
          "base_uri": "https://localhost:8080/"
        },
        "outputId": "375a0152-b23b-4a3b-a9d8-46fd4d2a9393",
        "id": "wLE_LPB2CM59"
      },
      "source": [
        "ypred=rf.predict(xtest_vectorized)\n",
        "print(classification_report(ytest,ypred))\n",
        "print(accuracy_score(ytest, ypred))"
      ],
      "execution_count": 30,
      "outputs": [
        {
          "output_type": "stream",
          "name": "stdout",
          "text": [
            "              precision    recall  f1-score   support\n",
            "\n",
            "         0.0       0.10      0.04      0.05      1765\n",
            "         1.0       0.11      0.01      0.03      1550\n",
            "         2.0       0.76      0.94      0.84     10674\n",
            "\n",
            "    accuracy                           0.72     13989\n",
            "   macro avg       0.33      0.33      0.31     13989\n",
            "weighted avg       0.61      0.72      0.65     13989\n",
            "\n",
            "0.7220673386232039\n"
          ]
        }
      ]
    },
    {
      "cell_type": "code",
      "source": [
        "cm = confusion_matrix(ytest,ypred)\n",
        "print(cm)"
      ],
      "metadata": {
        "colab": {
          "base_uri": "https://localhost:8080/"
        },
        "outputId": "833bf17e-cf79-4fe0-abd7-b7feb21cbea2",
        "id": "9R6007bRCWl7"
      },
      "execution_count": 31,
      "outputs": [
        {
          "output_type": "stream",
          "name": "stdout",
          "text": [
            "[[   66    16  1683]\n",
            " [   66    22  1462]\n",
            " [  503   158 10013]]\n"
          ]
        }
      ]
    },
    {
      "cell_type": "code",
      "source": [
        ""
      ],
      "metadata": {
        "id": "35iIhcPZ67TG"
      },
      "execution_count": null,
      "outputs": []
    },
    {
      "cell_type": "code",
      "source": [
        ""
      ],
      "metadata": {
        "id": "hI5LybDBAKM2"
      },
      "execution_count": null,
      "outputs": []
    },
    {
      "cell_type": "markdown",
      "source": [
        "## With SMOTE technique for minority classes\n",
        "### Default strategy of SMOTE to oversample all classes to the number of examples in the majority class"
      ],
      "metadata": {
        "id": "wv3kU7RC_S5M"
      }
    },
    {
      "cell_type": "code",
      "source": [
        "#upload the cleaned data\n",
        "import pandas as pd\n",
        "df_train = pd.read_csv('/content/drive/My Drive/Data_Sets/NLP_train.csv')\n",
        "df_validate = pd.read_csv('/content/drive/My Drive/Data_Sets/NLP_validate.csv')"
      ],
      "metadata": {
        "id": "n6o3Gfg_IWnt"
      },
      "execution_count": 2,
      "outputs": []
    },
    {
      "cell_type": "code",
      "source": [
        "df_train.isnull().sum()"
      ],
      "metadata": {
        "colab": {
          "base_uri": "https://localhost:8080/"
        },
        "id": "6UDUybbHLgRZ",
        "outputId": "e8d9579a-c897-419f-b4ed-1cc5086b8804"
      },
      "execution_count": 3,
      "outputs": [
        {
          "output_type": "execute_result",
          "data": {
            "text/plain": [
              "Unnamed: 0             0\n",
              "DOCUMENT_ID            0\n",
              "SENTENCE_ID            0\n",
              "SENTENCE               0\n",
              "SENTENCE_START_POS     0\n",
              "SENTENCE_END_POS       0\n",
              "SCORE                  0\n",
              "clean_text            85\n",
              "dtype: int64"
            ]
          },
          "metadata": {},
          "execution_count": 3
        }
      ]
    },
    {
      "cell_type": "code",
      "source": [
        "df_train = df_train.dropna()"
      ],
      "metadata": {
        "id": "zvELmUVUMs6h"
      },
      "execution_count": 4,
      "outputs": []
    },
    {
      "cell_type": "code",
      "source": [
        "df_validate.isnull().sum()"
      ],
      "metadata": {
        "colab": {
          "base_uri": "https://localhost:8080/"
        },
        "id": "6NH6jY5TLndL",
        "outputId": "b8450a22-21d6-4ea9-974c-2a3d30a6ee44"
      },
      "execution_count": 5,
      "outputs": [
        {
          "output_type": "execute_result",
          "data": {
            "text/plain": [
              "Unnamed: 0             0\n",
              "DOCUMENT_ID            0\n",
              "SENTENCE_ID            0\n",
              "SENTENCE               0\n",
              "SENTENCE_START_POS     0\n",
              "SENTENCE_END_POS       0\n",
              "SCORE                  0\n",
              "clean_text            25\n",
              "dtype: int64"
            ]
          },
          "metadata": {},
          "execution_count": 5
        }
      ]
    },
    {
      "cell_type": "code",
      "source": [
        "df_validate = df_validate.dropna()"
      ],
      "metadata": {
        "id": "aeyCNLVsM3Uk"
      },
      "execution_count": 6,
      "outputs": []
    },
    {
      "cell_type": "code",
      "metadata": {
        "id": "SJ4xxb88LXHD"
      },
      "source": [
        "xtrain = df_train['clean_text']\n",
        "ytrain = df_train['SCORE']\n",
        "xtest = df_validate['clean_text']\n",
        "ytest = df_validate['SCORE']"
      ],
      "execution_count": 7,
      "outputs": []
    },
    {
      "cell_type": "code",
      "source": [
        "from sklearn.feature_extraction.text import TfidfVectorizer"
      ],
      "metadata": {
        "id": "pqPJ2U2SKpEW"
      },
      "execution_count": 11,
      "outputs": []
    },
    {
      "cell_type": "code",
      "source": [
        "vectorizer = TfidfVectorizer(min_df=3,analyzer='word',max_features=3000)\n",
        "xtrain = vectorizer.fit_transform(xtrain)\n",
        "xtest=vectorizer.transform(xtest)"
      ],
      "metadata": {
        "id": "7hqZ_3PsNkWk"
      },
      "execution_count": 12,
      "outputs": []
    },
    {
      "cell_type": "code",
      "source": [
        "!pip install imbalanced-learn"
      ],
      "metadata": {
        "colab": {
          "base_uri": "https://localhost:8080/"
        },
        "id": "8xFqhvzlIA-J",
        "outputId": "cdd1941f-cd53-4cd1-f89c-10841f7ffc89"
      },
      "execution_count": 8,
      "outputs": [
        {
          "output_type": "stream",
          "name": "stdout",
          "text": [
            "Requirement already satisfied: imbalanced-learn in /usr/local/lib/python3.7/dist-packages (0.8.1)\n",
            "Requirement already satisfied: scikit-learn>=0.24 in /usr/local/lib/python3.7/dist-packages (from imbalanced-learn) (1.0.1)\n",
            "Requirement already satisfied: joblib>=0.11 in /usr/local/lib/python3.7/dist-packages (from imbalanced-learn) (1.1.0)\n",
            "Requirement already satisfied: scipy>=0.19.1 in /usr/local/lib/python3.7/dist-packages (from imbalanced-learn) (1.4.1)\n",
            "Requirement already satisfied: numpy>=1.13.3 in /usr/local/lib/python3.7/dist-packages (from imbalanced-learn) (1.19.5)\n",
            "Requirement already satisfied: threadpoolctl>=2.0.0 in /usr/local/lib/python3.7/dist-packages (from scikit-learn>=0.24->imbalanced-learn) (3.0.0)\n"
          ]
        }
      ]
    },
    {
      "cell_type": "code",
      "source": [
        "from imblearn.over_sampling import SMOTE"
      ],
      "metadata": {
        "id": "3uh2NNr-JMTy"
      },
      "execution_count": 9,
      "outputs": []
    },
    {
      "cell_type": "code",
      "source": [
        "oversample = SMOTE()\n",
        "xtrain, ytrain = oversample.fit_resample(xtrain, ytrain)\n"
      ],
      "metadata": {
        "id": "BsyeoG1uJc0f"
      },
      "execution_count": 13,
      "outputs": []
    },
    {
      "cell_type": "code",
      "metadata": {
        "colab": {
          "base_uri": "https://localhost:8080/"
        },
        "outputId": "3af3bf62-851d-4f34-cb9c-78cf051c9ae6",
        "id": "L7an3o4wKrf4"
      },
      "source": [
        "from sklearn.ensemble import RandomForestClassifier\n",
        "\n",
        "rf=RandomForestClassifier(n_estimators=50)\n",
        "\n",
        "rf.fit(xtrain,ytrain)"
      ],
      "execution_count": 14,
      "outputs": [
        {
          "output_type": "execute_result",
          "data": {
            "text/plain": [
              "RandomForestClassifier(n_estimators=50)"
            ]
          },
          "metadata": {},
          "execution_count": 14
        }
      ]
    },
    {
      "cell_type": "code",
      "metadata": {
        "colab": {
          "base_uri": "https://localhost:8080/"
        },
        "outputId": "750a21e7-acf5-4be5-d7cb-4ecd77e19313",
        "id": "Lmz67pJJKzsu"
      },
      "source": [
        "from sklearn.metrics import classification_report, confusion_matrix, accuracy_score\n",
        "\n",
        "ytrain_pred=rf.predict(xtrain)\n",
        "\n",
        "print(classification_report(ytrain,ytrain_pred))\n",
        "print(accuracy_score(ytrain, ytrain_pred))"
      ],
      "execution_count": 15,
      "outputs": [
        {
          "output_type": "stream",
          "name": "stdout",
          "text": [
            "              precision    recall  f1-score   support\n",
            "\n",
            "         0.0       1.00      0.99      1.00     43770\n",
            "         1.0       1.00      1.00      1.00     43770\n",
            "         2.0       1.00      1.00      1.00     43770\n",
            "         3.0       1.00      0.98      0.99     43770\n",
            "         4.0       1.00      0.99      0.99     43770\n",
            "         5.0       0.93      0.97      0.95     43770\n",
            "         6.0       0.92      0.97      0.95     43770\n",
            "         7.0       0.94      0.89      0.92     43770\n",
            "         8.0       0.88      0.83      0.85     43770\n",
            "         9.0       0.76      0.87      0.81     43770\n",
            "        10.0       0.87      0.80      0.84     43770\n",
            "\n",
            "    accuracy                           0.94    481470\n",
            "   macro avg       0.94      0.94      0.94    481470\n",
            "weighted avg       0.94      0.94      0.94    481470\n",
            "\n",
            "0.9352732257461525\n"
          ]
        }
      ]
    },
    {
      "cell_type": "code",
      "source": [
        "cm1 = (confusion_matrix(ytrain,ytrain_pred))\n",
        "print(cm1)"
      ],
      "metadata": {
        "colab": {
          "base_uri": "https://localhost:8080/"
        },
        "outputId": "6fecdef0-b009-44d8-a398-55e194e9b1ed",
        "id": "6bIr0Hd0LCth"
      },
      "execution_count": 16,
      "outputs": [
        {
          "output_type": "stream",
          "name": "stdout",
          "text": [
            "[[43499     0     0     1     0     3   258     2     1     1     5]\n",
            " [    1 43764     0     1     0     0     1     0     0     0     3]\n",
            " [    0     1 43754     0     1     3     3     1     4     1     2]\n",
            " [    5     3     1 42965     0   790     2     0     1     1     2]\n",
            " [    0     0     4     0 43131    90   533     3     4     0     5]\n",
            " [   34     0     1     0     1 42631  1008    37    35     6    17]\n",
            " [    3     0     0     2     3  1131 42467    43    93    12    16]\n",
            " [    3     0     0     0     4   838   793 39078   633  1758   663]\n",
            " [   32     0     0     0     2   311   546   911 36116  4319  1533]\n",
            " [   13     1     1     0     1    11   238   661  2127 37884  2833]\n",
            " [    4     1     1     0     0    23   208   683  1892  5941 35017]]\n"
          ]
        }
      ]
    },
    {
      "cell_type": "code",
      "metadata": {
        "colab": {
          "base_uri": "https://localhost:8080/"
        },
        "outputId": "2ed4715b-3842-427d-884c-870ff1299b08",
        "id": "kyAAgrNvLLUl"
      },
      "source": [
        "ypred=rf.predict(xtest)\n",
        "print(classification_report(ytest,ypred))\n",
        "print(accuracy_score(ytest, ypred))"
      ],
      "execution_count": 17,
      "outputs": [
        {
          "output_type": "stream",
          "name": "stdout",
          "text": [
            "              precision    recall  f1-score   support\n",
            "\n",
            "         0.0       0.03      0.06      0.04        35\n",
            "         1.0       0.00      0.00      0.00        17\n",
            "         2.0       0.29      0.10      0.15        20\n",
            "         3.0       0.04      0.08      0.05        26\n",
            "         4.0       0.00      0.00      0.00        46\n",
            "         5.0       0.06      0.11      0.07       111\n",
            "         6.0       0.02      0.07      0.03        96\n",
            "         7.0       0.06      0.10      0.08       331\n",
            "         8.0       0.13      0.15      0.14       900\n",
            "         9.0       0.13      0.21      0.16      1560\n",
            "        10.0       0.82      0.68      0.74     10847\n",
            "\n",
            "    accuracy                           0.57     13989\n",
            "   macro avg       0.14      0.14      0.13     13989\n",
            "weighted avg       0.66      0.57      0.61     13989\n",
            "\n",
            "0.5673743655729502\n"
          ]
        }
      ]
    },
    {
      "cell_type": "code",
      "source": [
        "cm = confusion_matrix(ytest,ypred)\n",
        "print(cm)"
      ],
      "metadata": {
        "colab": {
          "base_uri": "https://localhost:8080/"
        },
        "outputId": "b5489a3a-11d0-4afc-e1fb-f07a1cc38281",
        "id": "Iz0M2aaRLVkl"
      },
      "execution_count": 18,
      "outputs": [
        {
          "output_type": "stream",
          "name": "stdout",
          "text": [
            "[[   2    0    0    1    2    5    3    4    1    1   16]\n",
            " [   0    0    0    0    2    1    0    1    5    1    7]\n",
            " [   1    0    2    0    0    2    2    2    1    2    8]\n",
            " [   0    0    0    2    2    2    1    3    2    0   14]\n",
            " [   5    0    1    1    0    1    1    8    4    3   22]\n",
            " [   7    0    0    5    5   12    6    5   12    4   55]\n",
            " [   3    0    0    2    5   16    7    8   16    8   31]\n",
            " [   4    1    1    1    4   28   19   33   50   36  154]\n",
            " [  11    1    0    7   12   31   38   72  138  185  405]\n",
            " [  10    1    1    4   13   20   37   60  151  326  937]\n",
            " [  35    2    2   25   82   97  231  337  685 1936 7415]]\n"
          ]
        }
      ]
    },
    {
      "cell_type": "code",
      "source": [
        ""
      ],
      "metadata": {
        "id": "Bv1vNBQzJNYp"
      },
      "execution_count": null,
      "outputs": []
    },
    {
      "cell_type": "markdown",
      "source": [
        "## SMOTE technique for minority classes\n",
        "### With custom oversample strategy: SCORE 0-8: oversample to 5000."
      ],
      "metadata": {
        "id": "365usgTWR6eb"
      }
    },
    {
      "cell_type": "code",
      "metadata": {
        "id": "MEVx5Q7HTVcN"
      },
      "source": [
        "xtrain = df_train['clean_text']\n",
        "ytrain = df_train['SCORE']\n",
        "xtest = df_validate['clean_text']\n",
        "ytest = df_validate['SCORE']"
      ],
      "execution_count": 19,
      "outputs": []
    },
    {
      "cell_type": "code",
      "source": [
        "from sklearn.feature_extraction.text import TfidfVectorizer"
      ],
      "metadata": {
        "id": "6so3AO99TdUW"
      },
      "execution_count": 20,
      "outputs": []
    },
    {
      "cell_type": "code",
      "source": [
        "vectorizer = TfidfVectorizer(min_df=3,analyzer='word',max_features=3000)\n",
        "xtrain1 = vectorizer.fit_transform(xtrain)\n",
        "xtest1=vectorizer.transform(xtest)"
      ],
      "metadata": {
        "id": "GiFfFxeuTpIT"
      },
      "execution_count": 21,
      "outputs": []
    },
    {
      "cell_type": "code",
      "source": [
        "strategy = {0.0:5000, 1.0:5000, 2.0:5000, 3.0:5000, 4.0:5000, 5.0:5000, 6.0:5000, 7.0:5000, 8.0:5000}"
      ],
      "metadata": {
        "id": "0uyygRsdVxOp"
      },
      "execution_count": 22,
      "outputs": []
    },
    {
      "cell_type": "code",
      "source": [
        "oversample = SMOTE(sampling_strategy=strategy)\n",
        "xtrain1, ytrain = oversample.fit_resample(xtrain1, ytrain)\n"
      ],
      "metadata": {
        "id": "0smikFyaT2tt"
      },
      "execution_count": 23,
      "outputs": []
    },
    {
      "cell_type": "code",
      "metadata": {
        "colab": {
          "base_uri": "https://localhost:8080/"
        },
        "outputId": "432f0984-3863-473f-847f-a9bb390952f2",
        "id": "JUcZogDnUKz7"
      },
      "source": [
        "from sklearn.ensemble import RandomForestClassifier\n",
        "\n",
        "rf=RandomForestClassifier(n_estimators=50)\n",
        "\n",
        "rf.fit(xtrain1,ytrain)"
      ],
      "execution_count": 24,
      "outputs": [
        {
          "output_type": "execute_result",
          "data": {
            "text/plain": [
              "RandomForestClassifier(n_estimators=50)"
            ]
          },
          "metadata": {},
          "execution_count": 24
        }
      ]
    },
    {
      "cell_type": "code",
      "metadata": {
        "colab": {
          "base_uri": "https://localhost:8080/"
        },
        "outputId": "04f36908-cf90-408e-e94b-6f12043af9c9",
        "id": "EvTpAbnbURSp"
      },
      "source": [
        "from sklearn.metrics import classification_report, confusion_matrix, accuracy_score\n",
        "\n",
        "ytrain_pred=rf.predict(xtrain1)\n",
        "\n",
        "print(classification_report(ytrain,ytrain_pred))\n",
        "print(accuracy_score(ytrain, ytrain_pred))"
      ],
      "execution_count": 25,
      "outputs": [
        {
          "output_type": "stream",
          "name": "stdout",
          "text": [
            "              precision    recall  f1-score   support\n",
            "\n",
            "         0.0       0.99      0.99      0.99      5000\n",
            "         1.0       1.00      1.00      1.00      5000\n",
            "         2.0       1.00      1.00      1.00      5000\n",
            "         3.0       1.00      0.98      0.99      5000\n",
            "         4.0       1.00      0.98      0.99      5000\n",
            "         5.0       0.92      0.96      0.94      5000\n",
            "         6.0       0.95      0.95      0.95      5000\n",
            "         7.0       0.97      0.84      0.90      5000\n",
            "         8.0       0.97      0.64      0.77      5000\n",
            "         9.0       0.96      0.54      0.69      6204\n",
            "        10.0       0.89      0.99      0.94     43770\n",
            "\n",
            "    accuracy                           0.93     94974\n",
            "   macro avg       0.97      0.90      0.92     94974\n",
            "weighted avg       0.94      0.93      0.93     94974\n",
            "\n",
            "0.9323499062901426\n"
          ]
        }
      ]
    },
    {
      "cell_type": "code",
      "source": [
        "cm1 = (confusion_matrix(ytrain,ytrain_pred))\n",
        "print(cm1)"
      ],
      "metadata": {
        "colab": {
          "base_uri": "https://localhost:8080/"
        },
        "outputId": "d4e9a253-ebae-446c-fdb7-6b034802b552",
        "id": "beNvDfzjUYH8"
      },
      "execution_count": 26,
      "outputs": [
        {
          "output_type": "stream",
          "name": "stdout",
          "text": [
            "[[ 4955     0     0     0     0     4     2     1     1     0    37]\n",
            " [    1  4992     0     2     0     0     0     0     0     1     4]\n",
            " [    0     1  4986     1     0     3     1     2     1     0     5]\n",
            " [    3     0     0  4876     0   114     2     0     1     0     4]\n",
            " [    0     0     1     0  4891    27     2     1     1     0    77]\n",
            " [    4     0     0     0     1  4822   100    14     5     1    53]\n",
            " [    1     0     0     0     0   137  4737     9     9     2   105]\n",
            " [    4     0     0     0     1    82    63  4211    10     4   625]\n",
            " [    9     0     0     0     1    39    31    55  3211    20  1634]\n",
            " [    4     0     1     0     1     7    12    21    28  3369  2761]\n",
            " [    3     1     0     0     1     9    31    43    58   125 43499]]\n"
          ]
        }
      ]
    },
    {
      "cell_type": "code",
      "metadata": {
        "colab": {
          "base_uri": "https://localhost:8080/"
        },
        "outputId": "e30352e0-3d5f-45e9-f2cc-7bed4cb13177",
        "id": "iGyQLM1aUeMw"
      },
      "source": [
        "ypred=rf.predict(xtest1)\n",
        "print(classification_report(ytest,ypred))\n",
        "print(accuracy_score(ytest, ypred))"
      ],
      "execution_count": 27,
      "outputs": [
        {
          "output_type": "stream",
          "name": "stdout",
          "text": [
            "              precision    recall  f1-score   support\n",
            "\n",
            "         0.0       0.03      0.06      0.04        35\n",
            "         1.0       0.17      0.06      0.09        17\n",
            "         2.0       0.22      0.10      0.14        20\n",
            "         3.0       0.00      0.00      0.00        26\n",
            "         4.0       0.00      0.00      0.00        46\n",
            "         5.0       0.08      0.10      0.09       111\n",
            "         6.0       0.05      0.05      0.05        96\n",
            "         7.0       0.14      0.08      0.10       331\n",
            "         8.0       0.25      0.05      0.08       900\n",
            "         9.0       0.17      0.02      0.04      1560\n",
            "        10.0       0.80      0.96      0.87     10847\n",
            "\n",
            "    accuracy                           0.75     13989\n",
            "   macro avg       0.17      0.13      0.14     13989\n",
            "weighted avg       0.66      0.75      0.69     13989\n",
            "\n",
            "0.7527342912288226\n"
          ]
        }
      ]
    },
    {
      "cell_type": "code",
      "source": [
        "cm = confusion_matrix(ytest,ypred)\n",
        "print(cm)"
      ],
      "metadata": {
        "colab": {
          "base_uri": "https://localhost:8080/"
        },
        "outputId": "fde22ff9-68e0-41de-ec8b-a2175af91a37",
        "id": "khvaNur7UqV3"
      },
      "execution_count": 28,
      "outputs": [
        {
          "output_type": "stream",
          "name": "stdout",
          "text": [
            "[[    2     0     0     0     1     5     0     6     2     0    19]\n",
            " [    0     1     0     1     1     1     0     1     1     0    11]\n",
            " [    1     0     2     1     1     2     0     2     1     0    10]\n",
            " [    0     0     1     0     1     2     2     1     0     1    18]\n",
            " [    5     0     1     0     0     3     1     1     2     0    33]\n",
            " [    8     0     0     4     3    11     5     7     5     0    68]\n",
            " [    4     0     0     2     5    14     5     8     6     1    51]\n",
            " [    5     2     2     3     5    18    13    26    13     5   239]\n",
            " [    7     1     1     6     9    19    20    37    44    25   731]\n",
            " [    8     1     1     2     4    12     8    20    15    35  1454]\n",
            " [   20     1     1    10    25    50    45    72    85   134 10404]]\n"
          ]
        }
      ]
    },
    {
      "cell_type": "code",
      "source": [
        ""
      ],
      "metadata": {
        "id": "1y7FMHPJTNTP"
      },
      "execution_count": null,
      "outputs": []
    },
    {
      "cell_type": "code",
      "source": [
        ""
      ],
      "metadata": {
        "id": "lB45lZQRTNZn"
      },
      "execution_count": null,
      "outputs": []
    },
    {
      "cell_type": "markdown",
      "source": [
        "## Cost-Sensitive Learning for Multi-Class Classification\n",
        "### The RandomForestClassifier in scikit-learn supports cost-sensitive learning via the “class_weight” argument.\n",
        "### By default, the random forest class assigns equal weight to each class.\n"
      ],
      "metadata": {
        "id": "QGIqdzT2YGHr"
      }
    },
    {
      "cell_type": "code",
      "metadata": {
        "id": "-xbtr5mkgOz4"
      },
      "source": [
        "xtrain = df_train['clean_text']\n",
        "ytrain = df_train['SCORE']\n",
        "xtest = df_validate['clean_text']\n",
        "ytest = df_validate['SCORE']"
      ],
      "execution_count": 30,
      "outputs": []
    },
    {
      "cell_type": "code",
      "source": [
        "vectorizer = TfidfVectorizer(min_df=3,analyzer='word',max_features=3000)\n",
        "xtrain = vectorizer.fit_transform(xtrain)\n",
        "xtest=vectorizer.transform(xtest)"
      ],
      "metadata": {
        "id": "nAOrk4tcgChS"
      },
      "execution_count": 31,
      "outputs": []
    },
    {
      "cell_type": "code",
      "source": [
        "from sklearn.ensemble import RandomForestClassifier"
      ],
      "metadata": {
        "id": "8R6Ka4M0fBjv"
      },
      "execution_count": 32,
      "outputs": []
    },
    {
      "cell_type": "code",
      "source": [
        "weights = {0.0:2.0, 1.0:2.0, 2.0:2.0, 3.0:2.0, 4.0:2.0, 5.0:2.0, 6.0:2.0, 7.0:2.0, 8.0:2.0, 9.0:2.0, 10.0:1.0}\n",
        "rf = RandomForestClassifier(n_estimators=50, class_weight=weights)\n"
      ],
      "metadata": {
        "id": "4-J740AlfBo5"
      },
      "execution_count": 33,
      "outputs": []
    },
    {
      "cell_type": "code",
      "metadata": {
        "colab": {
          "base_uri": "https://localhost:8080/"
        },
        "outputId": "e33cc297-3c56-4dba-b0b2-22cbcb0c7bec",
        "id": "_ZILI32DggHk"
      },
      "source": [
        "rf.fit(xtrain,ytrain)"
      ],
      "execution_count": 34,
      "outputs": [
        {
          "output_type": "execute_result",
          "data": {
            "text/plain": [
              "RandomForestClassifier(class_weight={0.0: 2.0, 1.0: 2.0, 2.0: 2.0, 3.0: 2.0,\n",
              "                                     4.0: 2.0, 5.0: 2.0, 6.0: 2.0, 7.0: 2.0,\n",
              "                                     8.0: 2.0, 9.0: 2.0, 10.0: 1.0},\n",
              "                       n_estimators=50)"
            ]
          },
          "metadata": {},
          "execution_count": 34
        }
      ]
    },
    {
      "cell_type": "code",
      "metadata": {
        "colab": {
          "base_uri": "https://localhost:8080/"
        },
        "outputId": "6c5b705d-f583-4922-bd20-47af44ef8948",
        "id": "fIm2XRi_h0yu"
      },
      "source": [
        "from sklearn.metrics import classification_report, confusion_matrix, accuracy_score\n",
        "\n",
        "ytrain_pred=rf.predict(xtrain)\n",
        "\n",
        "print(classification_report(ytrain,ytrain_pred))\n",
        "print(accuracy_score(ytrain, ytrain_pred))"
      ],
      "execution_count": 35,
      "outputs": [
        {
          "output_type": "stream",
          "name": "stdout",
          "text": [
            "              precision    recall  f1-score   support\n",
            "\n",
            "         0.0       0.98      0.90      0.94       226\n",
            "         1.0       0.99      0.89      0.94        82\n",
            "         2.0       0.97      0.84      0.90        79\n",
            "         3.0       0.97      0.89      0.93       126\n",
            "         4.0       0.99      0.87      0.93       191\n",
            "         5.0       0.95      0.83      0.88       513\n",
            "         6.0       0.93      0.81      0.87       433\n",
            "         7.0       0.90      0.71      0.79      1295\n",
            "         8.0       0.86      0.63      0.73      3619\n",
            "         9.0       0.90      0.57      0.70      6204\n",
            "        10.0       0.91      0.99      0.95     43770\n",
            "\n",
            "    accuracy                           0.91     56538\n",
            "   macro avg       0.94      0.81      0.87     56538\n",
            "weighted avg       0.91      0.91      0.90     56538\n",
            "\n",
            "0.9088577593830698\n"
          ]
        }
      ]
    },
    {
      "cell_type": "code",
      "source": [
        "cm1 = (confusion_matrix(ytrain,ytrain_pred))\n",
        "print(cm1)"
      ],
      "metadata": {
        "colab": {
          "base_uri": "https://localhost:8080/"
        },
        "outputId": "77852dce-8afe-4a20-ebb7-bdd5da890e40",
        "id": "sc2SDmiSiA8V"
      },
      "execution_count": 36,
      "outputs": [
        {
          "output_type": "stream",
          "name": "stdout",
          "text": [
            "[[  204     0     0     0     0     2     1     3     7     0     9]\n",
            " [    0    73     0     2     0     0     1     0     1     1     4]\n",
            " [    0     1    66     0     0     1     0     2     4     0     5]\n",
            " [    2     0     1   112     0     0     0     0     7     0     4]\n",
            " [    0     0     0     0   166     3     1     3     4     2    12]\n",
            " [    0     0     0     0     0   425     2    11    35     5    35]\n",
            " [    1     0     0     1     0     1   352     5    32     3    38]\n",
            " [    1     0     0     0     0     4     4   923    60    12   291]\n",
            " [    0     0     0     0     0     6     3    28  2297    31  1254]\n",
            " [    1     0     1     0     0     2     3    17    51  3536  2593]\n",
            " [    0     0     0     0     1     5    11    39   158   325 43231]]\n"
          ]
        }
      ]
    },
    {
      "cell_type": "code",
      "metadata": {
        "colab": {
          "base_uri": "https://localhost:8080/"
        },
        "outputId": "c2aa0558-f13c-42ea-b0e8-fb0c82b97dd7",
        "id": "N5QQ7YwPiIBm"
      },
      "source": [
        "ypred=rf.predict(xtest)\n",
        "print(classification_report(ytest,ypred))\n",
        "print(accuracy_score(ytest, ypred))"
      ],
      "execution_count": 37,
      "outputs": [
        {
          "output_type": "stream",
          "name": "stdout",
          "text": [
            "              precision    recall  f1-score   support\n",
            "\n",
            "         0.0       0.12      0.03      0.05        35\n",
            "         1.0       0.00      0.00      0.00        17\n",
            "         2.0       0.17      0.05      0.08        20\n",
            "         3.0       0.00      0.00      0.00        26\n",
            "         4.0       0.00      0.00      0.00        46\n",
            "         5.0       0.10      0.02      0.03       111\n",
            "         6.0       0.07      0.01      0.02        96\n",
            "         7.0       0.18      0.04      0.06       331\n",
            "         8.0       0.25      0.08      0.12       900\n",
            "         9.0       0.17      0.03      0.05      1560\n",
            "        10.0       0.79      0.97      0.87     10847\n",
            "\n",
            "    accuracy                           0.76     13989\n",
            "   macro avg       0.17      0.11      0.12     13989\n",
            "weighted avg       0.65      0.76      0.69     13989\n",
            "\n",
            "0.7621702766459361\n"
          ]
        }
      ]
    },
    {
      "cell_type": "code",
      "source": [
        "cm = confusion_matrix(ytest,ypred)\n",
        "print(cm)"
      ],
      "metadata": {
        "colab": {
          "base_uri": "https://localhost:8080/"
        },
        "outputId": "73d00344-bc55-4475-834b-aa123bd68aaf",
        "id": "8FQkSzAKiY8H"
      },
      "execution_count": 38,
      "outputs": [
        {
          "output_type": "stream",
          "name": "stdout",
          "text": [
            "[[    1     0     0     0     0     0     0     3     6     0    25]\n",
            " [    0     0     0     0     0     0     1     0     3     0    13]\n",
            " [    1     0     1     0     0     0     0     2     1     0    15]\n",
            " [    0     0     0     0     0     2     0     1     1     0    22]\n",
            " [    1     0     0     0     0     0     0     0     2     0    43]\n",
            " [    1     0     0     1     0     2     0     2    16     1    88]\n",
            " [    2     0     0     1     1     1     1     7    21     3    59]\n",
            " [    1     1     1     1     0     5     2    13    28     8   271]\n",
            " [    0     1     1     1     0     5     3    16    68    40   765]\n",
            " [    0     0     1     1     0     2     0    11    25    48  1472]\n",
            " [    1     1     2     0     1     3     7    16    98   190 10528]]\n"
          ]
        }
      ]
    },
    {
      "cell_type": "code",
      "source": [
        ""
      ],
      "metadata": {
        "id": "48cQriGKhmZc"
      },
      "execution_count": null,
      "outputs": []
    },
    {
      "cell_type": "code",
      "source": [
        ""
      ],
      "metadata": {
        "id": "aSlTFJpKfAo6"
      },
      "execution_count": null,
      "outputs": []
    },
    {
      "cell_type": "markdown",
      "source": [
        "## Undersampling by Using NearMiss Algorithm\n"
      ],
      "metadata": {
        "id": "jjzPcMllBOFI"
      }
    },
    {
      "cell_type": "code",
      "metadata": {
        "id": "ipQw1gxBB1SD"
      },
      "source": [
        "xtrain = df_balance['clean_text']\n",
        "ytrain = df_balance['SCORE']\n",
        "xtest = df_validate['clean_text']\n",
        "ytest = df_validate['SCORE']"
      ],
      "execution_count": null,
      "outputs": []
    },
    {
      "cell_type": "code",
      "metadata": {
        "id": "2JzPQWPrCB19"
      },
      "source": [
        "from sklearn.feature_extraction.text import TfidfVectorizer"
      ],
      "execution_count": null,
      "outputs": []
    },
    {
      "cell_type": "code",
      "source": [
        "vectorizer = TfidfVectorizer(min_df=3,analyzer='word',max_features=3000)\n",
        "xtrain_vectorized = vectorizer.fit_transform(xtrain)\n",
        "xtest_vectorized=vectorizer.transform(xtest)"
      ],
      "metadata": {
        "id": "y0ngwt1qCM3E"
      },
      "execution_count": null,
      "outputs": []
    },
    {
      "cell_type": "markdown",
      "source": [
        "### Evaluation the Train dataset"
      ],
      "metadata": {
        "id": "sqqhd0s-u_XD"
      }
    },
    {
      "cell_type": "code",
      "metadata": {
        "id": "ERPNVZ-ECgn2"
      },
      "source": [
        "from sklearn.metrics import classification_report, confusion_matrix, accuracy_score\n",
        "\n",
        "ytrain_pred=rf.predict(xtrain_vectorized)\n",
        "\n",
        "print(classification_report(ytrain,ytrain_pred))\n",
        "print(accuracy_score(ytrain, ytrain_pred))"
      ],
      "execution_count": null,
      "outputs": []
    },
    {
      "cell_type": "code",
      "source": [
        "cm1 = (confusion_matrix(ytrain,ytrain_pred))\n",
        "print(cm1)"
      ],
      "metadata": {
        "id": "IGURzVbpDK5L"
      },
      "execution_count": null,
      "outputs": []
    },
    {
      "cell_type": "code",
      "source": [
        ""
      ],
      "metadata": {
        "id": "z1BBg7zpBehl"
      },
      "execution_count": null,
      "outputs": []
    },
    {
      "cell_type": "code",
      "metadata": {
        "id": "xHw7HfcjCqfU"
      },
      "source": [
        "ypred=rf.predict(xtest_vectorized)\n",
        "print(classification_report(ytest,ypred))\n",
        "print(accuracy_score(ytest, ypred))"
      ],
      "execution_count": null,
      "outputs": []
    },
    {
      "cell_type": "code",
      "source": [
        "cm1 = (confusion_matrix(ytest,ypred))\n",
        "print(cm1)"
      ],
      "metadata": {
        "id": "WmkcGVq0CyGl"
      },
      "execution_count": null,
      "outputs": []
    },
    {
      "cell_type": "code",
      "source": [
        ""
      ],
      "metadata": {
        "id": "MhiQEam3CiVN"
      },
      "execution_count": null,
      "outputs": []
    },
    {
      "cell_type": "code",
      "source": [
        ""
      ],
      "metadata": {
        "id": "BRLfbLX6kWNj"
      },
      "execution_count": null,
      "outputs": []
    },
    {
      "cell_type": "code",
      "source": [
        ""
      ],
      "metadata": {
        "id": "7tAEyz8NBet0"
      },
      "execution_count": null,
      "outputs": []
    },
    {
      "cell_type": "markdown",
      "source": [
        "# Summary and Improvement:\n",
        "\n",
        "## 1. Using Random Forest with pre-trained word2vec embedding vectorizer, the train acc reached 0.91 and test acc reached 0.77.\n",
        "## 2. Using SMOTE oversampling with custom strategy, train acc increased to 0.94, validation acc 0.75.\n",
        "## 3. Cost-Sensitive Learning for Multi-Class Classification didn't improve the performance: train acc 0.91, validation acc 0.76.\n",
        "## Improvement:      \n",
        "## 1. Undersampling: Try NearMiss technique, which remove majority samples near to minority samples.\n",
        "## 2. Understand the domain knowledge of dataset, which may help the data preprocessing.\n"
      ],
      "metadata": {
        "id": "iCoPY8qn3GW3"
      }
    },
    {
      "cell_type": "markdown",
      "source": [
        ""
      ],
      "metadata": {
        "id": "m80bCwbY3GbX"
      }
    }
  ]
}